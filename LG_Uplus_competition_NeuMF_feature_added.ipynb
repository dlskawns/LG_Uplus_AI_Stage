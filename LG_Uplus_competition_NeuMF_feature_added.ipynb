{
  "cells": [
    {
      "cell_type": "markdown",
      "metadata": {
        "id": "view-in-github",
        "colab_type": "text"
      },
      "source": [
        "<a href=\"https://colab.research.google.com/github/dlskawns/LG_Uplus_AI_Stage/blob/main/LG_Uplus_competition_NeuMF_feature_added.ipynb\" target=\"_parent\"><img src=\"https://colab.research.google.com/assets/colab-badge.svg\" alt=\"Open In Colab\"/></a>"
      ]
    },
    {
      "cell_type": "code",
      "execution_count": 1,
      "metadata": {
        "colab": {
          "base_uri": "https://localhost:8080/"
        },
        "id": "5Cnh08QRbbjS",
        "outputId": "2af533fe-3962-4228-d2f3-eacb24f8ed92"
      },
      "outputs": [
        {
          "output_type": "stream",
          "name": "stdout",
          "text": [
            "Mounted at /content/drive\n"
          ]
        }
      ],
      "source": [
        "from google.colab import drive\n",
        "\n",
        "drive.mount('/content/drive')"
      ]
    },
    {
      "cell_type": "code",
      "execution_count": null,
      "metadata": {
        "id": "YksFDKhck8Ad"
      },
      "outputs": [],
      "source": [
        "!pip install -r \"/content/drive/MyDrive/code/requirements.txt\""
      ]
    },
    {
      "cell_type": "code",
      "execution_count": 2,
      "metadata": {
        "id": "iHstgRfiYU1G"
      },
      "outputs": [],
      "source": [
        "# 패키지 로드\n",
        "import warnings\n",
        "warnings.filterwarnings('ignore')\n",
        "\n",
        "import numpy as np\n",
        "import pandas as pd\n",
        "from tqdm.notebook import tqdm\n",
        "from sklearn.model_selection import train_test_split\n",
        "from collections import defaultdict\n",
        "import os, random\n",
        "\n",
        "from scipy import sparse\n",
        "from sklearn.preprocessing import LabelEncoder\n",
        "import matplotlib.pyplot as plt\n",
        "%matplotlib inline\n",
        "\n",
        "import torch\n",
        "import torch.nn as nn\n",
        "from torch.nn.init import normal_\n",
        "from torch.utils.data import TensorDataset, DataLoader\n",
        "import torch.nn.functional as F\n",
        "\n",
        "import plotnine\n",
        "from plotnine import *"
      ]
    },
    {
      "cell_type": "code",
      "execution_count": 3,
      "metadata": {
        "id": "baB7-MKBpIf_"
      },
      "outputs": [],
      "source": [
        "# 경로 설정\n",
        "data_path = '../data'\n",
        "saved_path = './saved'\n",
        "output_path = './submission'"
      ]
    },
    {
      "cell_type": "markdown",
      "metadata": {
        "id": "huw6BwpTYU1J"
      },
      "source": [
        "### 데이터 불러오기\n",
        "- history_data : 시청 시작 데이터\n",
        "- profile_data : 프로필 정보 \n",
        "- meta_data : 콘텐츠 일반 메타 정보"
      ]
    },
    {
      "cell_type": "markdown",
      "metadata": {
        "id": "cRnh1wEiYU1M"
      },
      "source": [
        "# 오리지날 학습 및 검증 데이터 생성 \n",
        "- train : 시청 이력의 80%를 사용 \n",
        "- valid : 시청 이력의 20%를 사용 "
      ]
    },
    {
      "cell_type": "code",
      "execution_count": 4,
      "metadata": {
        "id": "b50RWotWxW6U"
      },
      "outputs": [],
      "source": [
        "history_df = pd.read_csv(os.path.join(data_path, '/content/drive/MyDrive/data/history_data.csv'), encoding='utf-8')\n",
        "profile_df = pd.read_csv(os.path.join(data_path, '/content/drive/MyDrive/data/profile_data.csv'), encoding='utf-8')\n",
        "meta_df = pd.read_csv(os.path.join(data_path, '/content/drive/MyDrive/data/meta_data.csv'), encoding='utf-8')\n",
        "buy_df = pd.read_csv(os.path.join(data_path, '/content/drive/MyDrive/data/buy_data.csv'), encoding='utf-8')\n",
        "watch_df = pd.read_csv(os.path.join(data_path, '/content/drive/MyDrive/data/watch_e_data.csv'), encoding='utf-8')\n",
        "search_df = pd.read_csv(os.path.join(data_path, '/content/drive/MyDrive/data/search_data.csv'), encoding='utf-8')\n",
        "metap_df = pd.read_csv(os.path.join(data_path, '/content/drive/MyDrive/data/meta_data_plus.csv'), encoding='utf-8')"
      ]
    },
    {
      "cell_type": "code",
      "execution_count": null,
      "metadata": {
        "colab": {
          "base_uri": "https://localhost:8080/",
          "height": 112
        },
        "id": "NdvlERrhRRjI",
        "outputId": "1b667dc7-2e56-4563-bc0a-124d2ad132d0"
      },
      "outputs": [
        {
          "data": {
            "text/html": [
              "\n",
              "  <div id=\"df-02ac9d79-fd5c-4a63-a155-80fa39560285\">\n",
              "    <div class=\"colab-df-container\">\n",
              "      <div>\n",
              "<style scoped>\n",
              "    .dataframe tbody tr th:only-of-type {\n",
              "        vertical-align: middle;\n",
              "    }\n",
              "\n",
              "    .dataframe tbody tr th {\n",
              "        vertical-align: top;\n",
              "    }\n",
              "\n",
              "    .dataframe thead th {\n",
              "        text-align: right;\n",
              "    }\n",
              "</style>\n",
              "<table border=\"1\" class=\"dataframe\">\n",
              "  <thead>\n",
              "    <tr style=\"text-align: right;\">\n",
              "      <th></th>\n",
              "      <th>profile_id</th>\n",
              "      <th>ss_id</th>\n",
              "      <th>log_time</th>\n",
              "      <th>act_target_dtl</th>\n",
              "      <th>album_id</th>\n",
              "      <th>payment</th>\n",
              "    </tr>\n",
              "  </thead>\n",
              "  <tbody>\n",
              "    <tr>\n",
              "      <th>0</th>\n",
              "      <td>255</td>\n",
              "      <td>20220426153942</td>\n",
              "      <td>20220426154128</td>\n",
              "      <td>MKID004</td>\n",
              "      <td>3767</td>\n",
              "      <td>500</td>\n",
              "    </tr>\n",
              "    <tr>\n",
              "      <th>1</th>\n",
              "      <td>1603</td>\n",
              "      <td>20220309163919</td>\n",
              "      <td>20220309164043</td>\n",
              "      <td>MKID004</td>\n",
              "      <td>1640</td>\n",
              "      <td>300</td>\n",
              "    </tr>\n",
              "  </tbody>\n",
              "</table>\n",
              "</div>\n",
              "      <button class=\"colab-df-convert\" onclick=\"convertToInteractive('df-02ac9d79-fd5c-4a63-a155-80fa39560285')\"\n",
              "              title=\"Convert this dataframe to an interactive table.\"\n",
              "              style=\"display:none;\">\n",
              "        \n",
              "  <svg xmlns=\"http://www.w3.org/2000/svg\" height=\"24px\"viewBox=\"0 0 24 24\"\n",
              "       width=\"24px\">\n",
              "    <path d=\"M0 0h24v24H0V0z\" fill=\"none\"/>\n",
              "    <path d=\"M18.56 5.44l.94 2.06.94-2.06 2.06-.94-2.06-.94-.94-2.06-.94 2.06-2.06.94zm-11 1L8.5 8.5l.94-2.06 2.06-.94-2.06-.94L8.5 2.5l-.94 2.06-2.06.94zm10 10l.94 2.06.94-2.06 2.06-.94-2.06-.94-.94-2.06-.94 2.06-2.06.94z\"/><path d=\"M17.41 7.96l-1.37-1.37c-.4-.4-.92-.59-1.43-.59-.52 0-1.04.2-1.43.59L10.3 9.45l-7.72 7.72c-.78.78-.78 2.05 0 2.83L4 21.41c.39.39.9.59 1.41.59.51 0 1.02-.2 1.41-.59l7.78-7.78 2.81-2.81c.8-.78.8-2.07 0-2.86zM5.41 20L4 18.59l7.72-7.72 1.47 1.35L5.41 20z\"/>\n",
              "  </svg>\n",
              "      </button>\n",
              "      \n",
              "  <style>\n",
              "    .colab-df-container {\n",
              "      display:flex;\n",
              "      flex-wrap:wrap;\n",
              "      gap: 12px;\n",
              "    }\n",
              "\n",
              "    .colab-df-convert {\n",
              "      background-color: #E8F0FE;\n",
              "      border: none;\n",
              "      border-radius: 50%;\n",
              "      cursor: pointer;\n",
              "      display: none;\n",
              "      fill: #1967D2;\n",
              "      height: 32px;\n",
              "      padding: 0 0 0 0;\n",
              "      width: 32px;\n",
              "    }\n",
              "\n",
              "    .colab-df-convert:hover {\n",
              "      background-color: #E2EBFA;\n",
              "      box-shadow: 0px 1px 2px rgba(60, 64, 67, 0.3), 0px 1px 3px 1px rgba(60, 64, 67, 0.15);\n",
              "      fill: #174EA6;\n",
              "    }\n",
              "\n",
              "    [theme=dark] .colab-df-convert {\n",
              "      background-color: #3B4455;\n",
              "      fill: #D2E3FC;\n",
              "    }\n",
              "\n",
              "    [theme=dark] .colab-df-convert:hover {\n",
              "      background-color: #434B5C;\n",
              "      box-shadow: 0px 1px 3px 1px rgba(0, 0, 0, 0.15);\n",
              "      filter: drop-shadow(0px 1px 2px rgba(0, 0, 0, 0.3));\n",
              "      fill: #FFFFFF;\n",
              "    }\n",
              "  </style>\n",
              "\n",
              "      <script>\n",
              "        const buttonEl =\n",
              "          document.querySelector('#df-02ac9d79-fd5c-4a63-a155-80fa39560285 button.colab-df-convert');\n",
              "        buttonEl.style.display =\n",
              "          google.colab.kernel.accessAllowed ? 'block' : 'none';\n",
              "\n",
              "        async function convertToInteractive(key) {\n",
              "          const element = document.querySelector('#df-02ac9d79-fd5c-4a63-a155-80fa39560285');\n",
              "          const dataTable =\n",
              "            await google.colab.kernel.invokeFunction('convertToInteractive',\n",
              "                                                     [key], {});\n",
              "          if (!dataTable) return;\n",
              "\n",
              "          const docLinkHtml = 'Like what you see? Visit the ' +\n",
              "            '<a target=\"_blank\" href=https://colab.research.google.com/notebooks/data_table.ipynb>data table notebook</a>'\n",
              "            + ' to learn more about interactive tables.';\n",
              "          element.innerHTML = '';\n",
              "          dataTable['output_type'] = 'display_data';\n",
              "          await google.colab.output.renderOutput(dataTable, element);\n",
              "          const docLink = document.createElement('div');\n",
              "          docLink.innerHTML = docLinkHtml;\n",
              "          element.appendChild(docLink);\n",
              "        }\n",
              "      </script>\n",
              "    </div>\n",
              "  </div>\n",
              "  "
            ],
            "text/plain": [
              "   profile_id           ss_id        log_time act_target_dtl  album_id  \\\n",
              "0         255  20220426153942  20220426154128        MKID004      3767   \n",
              "1        1603  20220309163919  20220309164043        MKID004      1640   \n",
              "\n",
              "   payment  \n",
              "0      500  \n",
              "1      300  "
            ]
          },
          "execution_count": 5,
          "metadata": {},
          "output_type": "execute_result"
        }
      ],
      "source": [
        "buy_df.head(2)\n"
      ]
    },
    {
      "cell_type": "code",
      "execution_count": null,
      "metadata": {
        "colab": {
          "base_uri": "https://localhost:8080/"
        },
        "id": "jlPpTY1rs9nZ",
        "outputId": "7d839aad-e2bb-48da-8b9d-fc4258806f9b"
      },
      "outputs": [
        {
          "name": "stdout",
          "output_type": "stream",
          "text": [
            "(6474, 5)\n",
            "644\n"
          ]
        },
        {
          "data": {
            "text/plain": [
              "5825"
            ]
          },
          "execution_count": 12,
          "metadata": {},
          "output_type": "execute_result"
        }
      ],
      "source": [
        "print(search_df.shape)\n",
        "print(search_df.profile_id.nunique())\n",
        "len(search_df.drop_duplicates())"
      ]
    },
    {
      "cell_type": "code",
      "execution_count": null,
      "metadata": {
        "colab": {
          "base_uri": "https://localhost:8080/"
        },
        "id": "mLuFXXrds9iO",
        "outputId": "bf0ab774-93f0-4af6-a126-bb84544c18e1"
      },
      "outputs": [
        {
          "data": {
            "text/plain": [
              "8311"
            ]
          },
          "execution_count": 13,
          "metadata": {},
          "output_type": "execute_result"
        }
      ],
      "source": [
        "profile_df.profile_id.nunique()"
      ]
    },
    {
      "cell_type": "code",
      "execution_count": null,
      "metadata": {
        "id": "9eFz1l23s9Gj"
      },
      "outputs": [],
      "source": []
    },
    {
      "cell_type": "code",
      "execution_count": null,
      "metadata": {
        "id": "XcqA4Z4qSRdS"
      },
      "outputs": [],
      "source": [
        "metap_df.keyword"
      ]
    },
    {
      "cell_type": "code",
      "execution_count": 5,
      "metadata": {
        "id": "XGj24fDnFpoO"
      },
      "outputs": [],
      "source": [
        "# 하이퍼파라미터 \n",
        "class cfg: \n",
        "    gpu_idx = 0\n",
        "    device = torch.device(\"cuda:{}\".format(gpu_idx) if torch.cuda.is_available() else \"cpu\")\n",
        "    top_k = 25\n",
        "    seed = 42\n",
        "    neg_ratio = 100\n",
        "    test_size = 0.2"
      ]
    },
    {
      "cell_type": "code",
      "execution_count": 6,
      "metadata": {
        "id": "_6OeItMmFpoP"
      },
      "outputs": [],
      "source": [
        "# 시드 고정 \n",
        "def seed_everything(random_seed):\n",
        "    torch.manual_seed(random_seed)\n",
        "    torch.cuda.manual_seed(random_seed)\n",
        "    torch.cuda.manual_seed_all(random_seed)\n",
        "    torch.backends.cudnn.deterministic = True\n",
        "    torch.backends.cudnn.benchmark = False\n",
        "    np.random.seed(random_seed)\n",
        "    random.seed(random_seed)\n",
        "    \n",
        "seed_everything(cfg.seed)"
      ]
    },
    {
      "cell_type": "code",
      "execution_count": 7,
      "metadata": {
        "id": "qb4Zg1uMDx6R"
      },
      "outputs": [],
      "source": [
        "# 초기 데이터 처리\n",
        "h_df = history_df[['profile_id','log_time','album_id']]\n",
        "# meta = meta_df[['album_id','genre_mid','run_time']].drop_duplicates()\n",
        "df = pd.merge(h_df, profile_df[['profile_id','sex','age']], 'left', on = 'profile_id')\n",
        "df = pd.merge(df, meta_df, 'left', on = 'album_id')\n",
        "view_cnts = df.groupby('profile_id')['album_id'].count()\n",
        "df['views'] = df['profile_id'].map(lambda x: view_cnts[x])"
      ]
    },
    {
      "cell_type": "code",
      "execution_count": 8,
      "metadata": {
        "id": "mRsbdxgFpzpw"
      },
      "outputs": [],
      "source": [
        "search = search_df[['profile_id','album_id']].drop_duplicates()\n",
        "search['search'] = 1"
      ]
    },
    {
      "cell_type": "code",
      "execution_count": 9,
      "metadata": {
        "colab": {
          "base_uri": "https://localhost:8080/",
          "height": 173
        },
        "id": "H-_PRvQ0vnek",
        "outputId": "e34389a2-fa47-4d4b-af90-4251bb64606e"
      },
      "outputs": [
        {
          "output_type": "execute_result",
          "data": {
            "text/plain": [
              "   profile_id        log_time  album_id sex  age  title   sub_title  \\\n",
              "0           3  20220301115719        15   F    5     거미  핑크퐁 3D율동동요   \n",
              "1           3  20220301115809        16   F    5  상어 가족        노래율동   \n",
              "2           3  20220301115809        16   F    5  상어 가족  핑크퐁 3D율동동요   \n",
              "\n",
              "  genre_large genre_mid genre_small  ... cast_1  cast_2  cast_3 cast_4 cast_5  \\\n",
              "0          키즈      노래율동         NaN  ...    NaN     NaN     NaN    NaN    NaN   \n",
              "1          키즈      노래율동         NaN  ...    NaN     NaN     NaN    NaN    NaN   \n",
              "2          키즈      노래율동         NaN  ...    NaN     NaN     NaN    NaN    NaN   \n",
              "\n",
              "  cast_6 cast_7 views payment search  \n",
              "0    NaN    NaN    23     NaN    NaN  \n",
              "1    NaN    NaN    23     NaN    NaN  \n",
              "2    NaN    NaN    23     NaN    NaN  \n",
              "\n",
              "[3 rows x 23 columns]"
            ],
            "text/html": [
              "\n",
              "  <div id=\"df-f258ae0c-1cf8-4a08-b5bd-4be602163963\">\n",
              "    <div class=\"colab-df-container\">\n",
              "      <div>\n",
              "<style scoped>\n",
              "    .dataframe tbody tr th:only-of-type {\n",
              "        vertical-align: middle;\n",
              "    }\n",
              "\n",
              "    .dataframe tbody tr th {\n",
              "        vertical-align: top;\n",
              "    }\n",
              "\n",
              "    .dataframe thead th {\n",
              "        text-align: right;\n",
              "    }\n",
              "</style>\n",
              "<table border=\"1\" class=\"dataframe\">\n",
              "  <thead>\n",
              "    <tr style=\"text-align: right;\">\n",
              "      <th></th>\n",
              "      <th>profile_id</th>\n",
              "      <th>log_time</th>\n",
              "      <th>album_id</th>\n",
              "      <th>sex</th>\n",
              "      <th>age</th>\n",
              "      <th>title</th>\n",
              "      <th>sub_title</th>\n",
              "      <th>genre_large</th>\n",
              "      <th>genre_mid</th>\n",
              "      <th>genre_small</th>\n",
              "      <th>...</th>\n",
              "      <th>cast_1</th>\n",
              "      <th>cast_2</th>\n",
              "      <th>cast_3</th>\n",
              "      <th>cast_4</th>\n",
              "      <th>cast_5</th>\n",
              "      <th>cast_6</th>\n",
              "      <th>cast_7</th>\n",
              "      <th>views</th>\n",
              "      <th>payment</th>\n",
              "      <th>search</th>\n",
              "    </tr>\n",
              "  </thead>\n",
              "  <tbody>\n",
              "    <tr>\n",
              "      <th>0</th>\n",
              "      <td>3</td>\n",
              "      <td>20220301115719</td>\n",
              "      <td>15</td>\n",
              "      <td>F</td>\n",
              "      <td>5</td>\n",
              "      <td>거미</td>\n",
              "      <td>핑크퐁 3D율동동요</td>\n",
              "      <td>키즈</td>\n",
              "      <td>노래율동</td>\n",
              "      <td>NaN</td>\n",
              "      <td>...</td>\n",
              "      <td>NaN</td>\n",
              "      <td>NaN</td>\n",
              "      <td>NaN</td>\n",
              "      <td>NaN</td>\n",
              "      <td>NaN</td>\n",
              "      <td>NaN</td>\n",
              "      <td>NaN</td>\n",
              "      <td>23</td>\n",
              "      <td>NaN</td>\n",
              "      <td>NaN</td>\n",
              "    </tr>\n",
              "    <tr>\n",
              "      <th>1</th>\n",
              "      <td>3</td>\n",
              "      <td>20220301115809</td>\n",
              "      <td>16</td>\n",
              "      <td>F</td>\n",
              "      <td>5</td>\n",
              "      <td>상어 가족</td>\n",
              "      <td>노래율동</td>\n",
              "      <td>키즈</td>\n",
              "      <td>노래율동</td>\n",
              "      <td>NaN</td>\n",
              "      <td>...</td>\n",
              "      <td>NaN</td>\n",
              "      <td>NaN</td>\n",
              "      <td>NaN</td>\n",
              "      <td>NaN</td>\n",
              "      <td>NaN</td>\n",
              "      <td>NaN</td>\n",
              "      <td>NaN</td>\n",
              "      <td>23</td>\n",
              "      <td>NaN</td>\n",
              "      <td>NaN</td>\n",
              "    </tr>\n",
              "    <tr>\n",
              "      <th>2</th>\n",
              "      <td>3</td>\n",
              "      <td>20220301115809</td>\n",
              "      <td>16</td>\n",
              "      <td>F</td>\n",
              "      <td>5</td>\n",
              "      <td>상어 가족</td>\n",
              "      <td>핑크퐁 3D율동동요</td>\n",
              "      <td>키즈</td>\n",
              "      <td>노래율동</td>\n",
              "      <td>NaN</td>\n",
              "      <td>...</td>\n",
              "      <td>NaN</td>\n",
              "      <td>NaN</td>\n",
              "      <td>NaN</td>\n",
              "      <td>NaN</td>\n",
              "      <td>NaN</td>\n",
              "      <td>NaN</td>\n",
              "      <td>NaN</td>\n",
              "      <td>23</td>\n",
              "      <td>NaN</td>\n",
              "      <td>NaN</td>\n",
              "    </tr>\n",
              "  </tbody>\n",
              "</table>\n",
              "<p>3 rows × 23 columns</p>\n",
              "</div>\n",
              "      <button class=\"colab-df-convert\" onclick=\"convertToInteractive('df-f258ae0c-1cf8-4a08-b5bd-4be602163963')\"\n",
              "              title=\"Convert this dataframe to an interactive table.\"\n",
              "              style=\"display:none;\">\n",
              "        \n",
              "  <svg xmlns=\"http://www.w3.org/2000/svg\" height=\"24px\"viewBox=\"0 0 24 24\"\n",
              "       width=\"24px\">\n",
              "    <path d=\"M0 0h24v24H0V0z\" fill=\"none\"/>\n",
              "    <path d=\"M18.56 5.44l.94 2.06.94-2.06 2.06-.94-2.06-.94-.94-2.06-.94 2.06-2.06.94zm-11 1L8.5 8.5l.94-2.06 2.06-.94-2.06-.94L8.5 2.5l-.94 2.06-2.06.94zm10 10l.94 2.06.94-2.06 2.06-.94-2.06-.94-.94-2.06-.94 2.06-2.06.94z\"/><path d=\"M17.41 7.96l-1.37-1.37c-.4-.4-.92-.59-1.43-.59-.52 0-1.04.2-1.43.59L10.3 9.45l-7.72 7.72c-.78.78-.78 2.05 0 2.83L4 21.41c.39.39.9.59 1.41.59.51 0 1.02-.2 1.41-.59l7.78-7.78 2.81-2.81c.8-.78.8-2.07 0-2.86zM5.41 20L4 18.59l7.72-7.72 1.47 1.35L5.41 20z\"/>\n",
              "  </svg>\n",
              "      </button>\n",
              "      \n",
              "  <style>\n",
              "    .colab-df-container {\n",
              "      display:flex;\n",
              "      flex-wrap:wrap;\n",
              "      gap: 12px;\n",
              "    }\n",
              "\n",
              "    .colab-df-convert {\n",
              "      background-color: #E8F0FE;\n",
              "      border: none;\n",
              "      border-radius: 50%;\n",
              "      cursor: pointer;\n",
              "      display: none;\n",
              "      fill: #1967D2;\n",
              "      height: 32px;\n",
              "      padding: 0 0 0 0;\n",
              "      width: 32px;\n",
              "    }\n",
              "\n",
              "    .colab-df-convert:hover {\n",
              "      background-color: #E2EBFA;\n",
              "      box-shadow: 0px 1px 2px rgba(60, 64, 67, 0.3), 0px 1px 3px 1px rgba(60, 64, 67, 0.15);\n",
              "      fill: #174EA6;\n",
              "    }\n",
              "\n",
              "    [theme=dark] .colab-df-convert {\n",
              "      background-color: #3B4455;\n",
              "      fill: #D2E3FC;\n",
              "    }\n",
              "\n",
              "    [theme=dark] .colab-df-convert:hover {\n",
              "      background-color: #434B5C;\n",
              "      box-shadow: 0px 1px 3px 1px rgba(0, 0, 0, 0.15);\n",
              "      filter: drop-shadow(0px 1px 2px rgba(0, 0, 0, 0.3));\n",
              "      fill: #FFFFFF;\n",
              "    }\n",
              "  </style>\n",
              "\n",
              "      <script>\n",
              "        const buttonEl =\n",
              "          document.querySelector('#df-f258ae0c-1cf8-4a08-b5bd-4be602163963 button.colab-df-convert');\n",
              "        buttonEl.style.display =\n",
              "          google.colab.kernel.accessAllowed ? 'block' : 'none';\n",
              "\n",
              "        async function convertToInteractive(key) {\n",
              "          const element = document.querySelector('#df-f258ae0c-1cf8-4a08-b5bd-4be602163963');\n",
              "          const dataTable =\n",
              "            await google.colab.kernel.invokeFunction('convertToInteractive',\n",
              "                                                     [key], {});\n",
              "          if (!dataTable) return;\n",
              "\n",
              "          const docLinkHtml = 'Like what you see? Visit the ' +\n",
              "            '<a target=\"_blank\" href=https://colab.research.google.com/notebooks/data_table.ipynb>data table notebook</a>'\n",
              "            + ' to learn more about interactive tables.';\n",
              "          element.innerHTML = '';\n",
              "          dataTable['output_type'] = 'display_data';\n",
              "          await google.colab.output.renderOutput(dataTable, element);\n",
              "          const docLink = document.createElement('div');\n",
              "          docLink.innerHTML = docLinkHtml;\n",
              "          element.appendChild(docLink);\n",
              "        }\n",
              "      </script>\n",
              "    </div>\n",
              "  </div>\n",
              "  "
            ]
          },
          "metadata": {},
          "execution_count": 9
        }
      ],
      "source": [
        "df = pd.merge(df,buy_df[['profile_id','album_id','payment']].drop_duplicates(), 'left', on = ['profile_id','album_id'])\n",
        "df = pd.merge(df, search[['profile_id','album_id','search']], 'left', on=['profile_id','album_id'])\n",
        "df.head(3)"
      ]
    },
    {
      "cell_type": "code",
      "execution_count": 10,
      "metadata": {
        "id": "GoMfVHkJrZFK"
      },
      "outputs": [],
      "source": [
        "df['payment'] = df['payment'].fillna(0)\n",
        "df['payment'] = df['payment'].map(lambda x: 0 if x == 0 else 1)"
      ]
    },
    {
      "cell_type": "code",
      "execution_count": 11,
      "metadata": {
        "colab": {
          "base_uri": "https://localhost:8080/"
        },
        "id": "BIc_yPgYoJVJ",
        "outputId": "4836c1c7-e307-4533-967f-b1ec640fa724"
      },
      "outputs": [
        {
          "output_type": "execute_result",
          "data": {
            "text/plain": [
              "(899252, 5)"
            ]
          },
          "metadata": {},
          "execution_count": 11
        }
      ],
      "source": [
        "data = df[['profile_id','log_time','album_id','views']].drop_duplicates(subset=['profile_id', 'album_id', 'log_time']).sort_values(by = ['profile_id', 'log_time']).reset_index(drop = True)\n",
        "data['rating'] = 1\n",
        "data.shape"
      ]
    },
    {
      "cell_type": "code",
      "execution_count": null,
      "metadata": {
        "colab": {
          "base_uri": "https://localhost:8080/"
        },
        "id": "J6dPtYS1pIgD",
        "outputId": "4fcb72b7-ff77-4d96-a15d-69e418333eb4"
      },
      "outputs": [
        {
          "data": {
            "text/plain": [
              "(899252, 4)"
            ]
          },
          "execution_count": 32,
          "metadata": {},
          "output_type": "execute_result"
        }
      ],
      "source": [
        "# 데이터 전처리 (중복제거) \n",
        "# 참고 : drop_duplicates의 subset을 무엇으로 구성하냐에 따라서 제거되는 항목들이 다름 \n",
        "# ex) 'profile_id', 'album_id' : 중복된 시청이력 모두 제거 / 'profile_id', 'album_id', 'log_time' : 같은 시간에 시청한 이력만 제거 \n",
        "# data = df[['profile_id','log_time','album_id']].drop_duplicates(subset=['profile_id', 'album_id', 'log_time']).sort_values(by = ['profile_id', 'log_time']).reset_index(drop = True)\n",
        "# data['rating'] = 1\n",
        "# data.shape"
      ]
    },
    {
      "cell_type": "code",
      "execution_count": null,
      "metadata": {
        "id": "8rWXN_UntZr7"
      },
      "outputs": [],
      "source": []
    },
    {
      "cell_type": "code",
      "execution_count": 12,
      "metadata": {
        "id": "H6p_k2If5uky"
      },
      "outputs": [],
      "source": [
        "cfg.n_users = data.profile_id.max()+1\n",
        "cfg.n_items = data.album_id.max()+1"
      ]
    },
    {
      "cell_type": "code",
      "execution_count": 13,
      "metadata": {
        "colab": {
          "base_uri": "https://localhost:8080/"
        },
        "id": "k-loxhyJpIgD",
        "outputId": "0e70811b-1b51-45ff-ee90-c8c911f08650"
      },
      "outputs": [
        {
          "output_type": "stream",
          "name": "stdout",
          "text": [
            "학습 데이터 크기: (719401, 5)\n",
            "검증 데이터 크기: (179851, 5)\n"
          ]
        }
      ],
      "source": [
        "# 학습 및 검증 데이터 분리\n",
        "train, valid = train_test_split(\n",
        "    data, test_size=cfg.test_size, random_state=cfg.seed,\n",
        ")\n",
        "print('학습 데이터 크기:', train.shape)\n",
        "print('검증 데이터 크기:', valid.shape)"
      ]
    },
    {
      "cell_type": "code",
      "execution_count": 14,
      "metadata": {
        "colab": {
          "base_uri": "https://localhost:8080/"
        },
        "id": "orTiuPRV6d2X",
        "outputId": "18ed8429-18b7-46f0-f55d-46f558ccf25e"
      },
      "outputs": [
        {
          "output_type": "execute_result",
          "data": {
            "text/plain": [
              "<33033x25917 sparse matrix of type '<class 'numpy.float64'>'\n",
              "\twith 0 stored elements in List of Lists format>"
            ]
          },
          "metadata": {},
          "execution_count": 14
        }
      ],
      "source": [
        "sparse.lil_matrix((cfg.n_users, cfg.n_items))"
      ]
    },
    {
      "cell_type": "code",
      "execution_count": 15,
      "metadata": {
        "colab": {
          "base_uri": "https://localhost:8080/",
          "height": 196,
          "referenced_widgets": [
            "81302b7b5ad544cbb9a5f89850cc135c",
            "0ba5fd15183443eca9590949b957c0d0",
            "de486044a7e945b8a32d60e40aff22a3",
            "a3f30c41eb2c46298dbf4f4e42cb1230",
            "59fd5fc3e3124c59a1d3f08700eff7c3",
            "52d3221e01c84026971280a093c05e89",
            "ccbe259357f4445f9479eeed46989fcd",
            "02db36b5ca34450c8a9e4e7263cf79c3",
            "3b3431204d5144de8399ccd675a16cae",
            "2009af848634498fb01746239e64dbd0",
            "0b57008604644ac6b8a2d26ef7962094"
          ]
        },
        "id": "ilrvAmwbpIgE",
        "outputId": "2f8a3957-1d2e-48f4-afcd-7b0ae6b27bb9"
      },
      "outputs": [
        {
          "output_type": "display_data",
          "data": {
            "text/plain": [
              "  0%|          | 0/719401 [00:00<?, ?it/s]"
            ],
            "application/vnd.jupyter.widget-view+json": {
              "version_major": 2,
              "version_minor": 0,
              "model_id": "81302b7b5ad544cbb9a5f89850cc135c"
            }
          },
          "metadata": {}
        },
        {
          "output_type": "stream",
          "name": "stdout",
          "text": [
            "train 형태: \n",
            " [[0. 0. 0. ... 0. 0. 0.]\n",
            " [0. 0. 0. ... 0. 0. 0.]\n",
            " [0. 0. 0. ... 0. 0. 0.]\n",
            " ...\n",
            " [0. 0. 0. ... 0. 0. 0.]\n",
            " [0. 0. 0. ... 0. 0. 0.]\n",
            " [0. 0. 0. ... 0. 0. 0.]]\n"
          ]
        }
      ],
      "source": [
        "# Matrix 형태로 변환 \n",
        "train = train.to_numpy()\n",
        "matrix = sparse.lil_matrix((cfg.n_users, cfg.n_items))\n",
        "for (p, _, i, r, view) in tqdm(train):\n",
        "    matrix[p, i] = r\n",
        "    \n",
        "train = sparse.csr_matrix(matrix)\n",
        "train = train.toarray()\n",
        "print(\"train 형태: \\n\", train)"
      ]
    },
    {
      "cell_type": "code",
      "execution_count": 16,
      "metadata": {
        "colab": {
          "base_uri": "https://localhost:8080/"
        },
        "id": "hbqEp8hHpIgE",
        "outputId": "9288ce0f-779f-4b74-b403-643fc05d46bf"
      },
      "outputs": [
        {
          "output_type": "stream",
          "name": "stdout",
          "text": [
            "user_id 3의 age 정보 : 5\n",
            "user_id 3의 age 정보 : 0\n",
            "user_id 3의 age 정보 : 23\n"
          ]
        }
      ],
      "source": [
        "# 유저 특징 정보 추출 \n",
        "df = df.set_index('profile_id')\n",
        "user_features = df[['age']].to_dict()\n",
        "# # 성별, view, continuous 추가\n",
        "df['sex'] = df['sex'].map(lambda x: 1 if x == 'M' else 0)\n",
        "user_features_sex = df[['sex']].to_dict()\n",
        "user_features_views = df[['views']].to_dict()\n",
        "print(\"user_id 3의 age 정보 :\", user_features['age'][3])\n",
        "print(\"user_id 3의 age 정보 :\", user_features_sex['sex'][3])\n",
        "print(\"user_id 3의 age 정보 :\", user_features_views['views'][3])"
      ]
    },
    {
      "cell_type": "code",
      "execution_count": 17,
      "metadata": {
        "colab": {
          "base_uri": "https://localhost:8080/"
        },
        "id": "34oqD1VUpIgF",
        "outputId": "48bca520-f9b2-4f81-97cf-91bcf46733e4"
      },
      "outputs": [
        {
          "output_type": "stream",
          "name": "stdout",
          "text": [
            "album_id 749의 genre_mid 정보 : 5\n",
            "album_id 749의 run_time 정보 : 539\n"
          ]
        }
      ],
      "source": [
        "# 아이템 특징 정보 추출 \n",
        "# meta_df = meta_df.set_index('album_id')\n",
        "\n",
        "# 범주형 데이터를 수치형 데이터로 변경 \n",
        "le = LabelEncoder()\n",
        "meta_df['genre_mid'] = le.fit_transform(meta_df['genre_mid'])\n",
        "# meta['run_time']= meta['run_time'].map(lambda x: np.log10(x)+1)\n",
        "item_features = meta_df[['genre_mid']].to_dict()\n",
        "item_features_run = meta_df[['run_time']].to_dict()\n",
        "print(\"album_id 749의 genre_mid 정보 :\", item_features['genre_mid'][749])\n",
        "print(\"album_id 749의 run_time 정보 :\", item_features_run['run_time'][749])"
      ]
    },
    {
      "cell_type": "code",
      "execution_count": 18,
      "metadata": {
        "colab": {
          "base_uri": "https://localhost:8080/",
          "height": 49,
          "referenced_widgets": [
            "c89f0f46aba54a5b8bb18bcb1e8c571e",
            "33a5f5e1bc0144d59c1df1fabca0fa85",
            "7a4aee63ed804d8fb68f9ca332e32b63",
            "5e1265ddb7714fdea53b03d7b4e95866",
            "598ad0f7e6974ab091fb85cddf3144a9",
            "7fcfc144976b406f93f63b04402923ab",
            "3e1ca3b82013479982890878e1fcf01b",
            "17b697825d8d4190aa8dde71549177b2",
            "ac28ed6d820643fba154b080b0eba506",
            "8afb1af823174542b4d0a4e9f5e7eeb4",
            "7f6e6a5fe1764c71996872f46094f259"
          ]
        },
        "id": "60gM856o3yzw",
        "outputId": "d7a87a51-3da0-442b-b6a3-46d4b9ac99b7"
      },
      "outputs": [
        {
          "output_type": "display_data",
          "data": {
            "text/plain": [
              "  0%|          | 0/644 [00:00<?, ?it/s]"
            ],
            "application/vnd.jupyter.widget-view+json": {
              "version_major": 2,
              "version_minor": 0,
              "model_id": "c89f0f46aba54a5b8bb18bcb1e8c571e"
            }
          },
          "metadata": {}
        }
      ],
      "source": [
        "# 검색 상호작용 딕셔너리 생성\n",
        "search = search[search['album_id']<cfg.n_items]\n",
        "search_dict = {}\n",
        "for i in tqdm(search['profile_id'].unique()):\n",
        "  search_dict[i] = list(search[search['profile_id']== i]['album_id'].values)"
      ]
    },
    {
      "cell_type": "code",
      "source": [
        "cfg.n_items"
      ],
      "metadata": {
        "colab": {
          "base_uri": "https://localhost:8080/"
        },
        "id": "zRkp754YuEKp",
        "outputId": "6bfb2188-4c72-431f-8494-1e294ba2c8b2"
      },
      "execution_count": null,
      "outputs": [
        {
          "output_type": "execute_result",
          "data": {
            "text/plain": [
              "25917"
            ]
          },
          "metadata": {},
          "execution_count": 195
        }
      ]
    },
    {
      "cell_type": "code",
      "source": [
        "search_df[search_df['album_id']<cfg.n_items]['album_id'].nunique()"
      ],
      "metadata": {
        "colab": {
          "base_uri": "https://localhost:8080/"
        },
        "id": "vklVMKKytJHm",
        "outputId": "1d6c3845-8eb2-4ec3-b4ee-ef97addcf00a"
      },
      "execution_count": null,
      "outputs": [
        {
          "output_type": "execute_result",
          "data": {
            "text/plain": [
              "1970"
            ]
          },
          "metadata": {},
          "execution_count": 200
        }
      ]
    },
    {
      "cell_type": "code",
      "source": [
        "search_df['album_id'].nunique()"
      ],
      "metadata": {
        "colab": {
          "base_uri": "https://localhost:8080/"
        },
        "id": "0Vj7b_1xLsNG",
        "outputId": "cfe362d1-0fd1-4855-f02e-c0905db5d630"
      },
      "execution_count": null,
      "outputs": [
        {
          "output_type": "execute_result",
          "data": {
            "text/plain": [
              "1977"
            ]
          },
          "metadata": {},
          "execution_count": 201
        }
      ]
    },
    {
      "cell_type": "code",
      "execution_count": 19,
      "metadata": {
        "colab": {
          "base_uri": "https://localhost:8080/"
        },
        "id": "EXnNXoUE6QW-",
        "outputId": "1057dfc3-bc61-4941-d71a-30cdec8e9068"
      },
      "outputs": [
        {
          "output_type": "execute_result",
          "data": {
            "text/plain": [
              "500     63\n",
              "300     52\n",
              "1200    16\n",
              "700      6\n",
              "1400     4\n",
              "2500     4\n",
              "6300     2\n",
              "1500     2\n",
              "4200     1\n",
              "Name: payment, dtype: int64"
            ]
          },
          "metadata": {},
          "execution_count": 19
        }
      ],
      "source": [
        "buy = buy_df[['profile_id','album_id','payment']]\n",
        "buy['payment'].value_counts()"
      ]
    },
    {
      "cell_type": "code",
      "execution_count": 20,
      "metadata": {
        "colab": {
          "base_uri": "https://localhost:8080/",
          "height": 49,
          "referenced_widgets": [
            "97a2dd93807546249467b4bb447231f3",
            "04f7b0a9d073487fb70c100c2b6cb87e",
            "a171835cf08541d49bcd257d5d28a83c",
            "2d710ba04d424317818c72aa2b019e7a",
            "7795ef19ec344a74a76e21cda594d734",
            "04bf7439667d440fa0bdc13baa08e516",
            "928fe93536074897bdaa8093c60b0e43",
            "7eb2240ee18a47c8821e61040b70a5a9",
            "6f2901b1f5374a8389a52e70db6209c0",
            "c11b633ed96742b6b25454b020a8bfd1",
            "82f337a57315491ba4a529563889742a"
          ]
        },
        "id": "qG8UkV2u6JeT",
        "outputId": "38b66568-5400-4652-fb3c-4bf4c1a83bcd"
      },
      "outputs": [
        {
          "output_type": "display_data",
          "data": {
            "text/plain": [
              "  0%|          | 0/17 [00:00<?, ?it/s]"
            ],
            "application/vnd.jupyter.widget-view+json": {
              "version_major": 2,
              "version_minor": 0,
              "model_id": "97a2dd93807546249467b4bb447231f3"
            }
          },
          "metadata": {}
        }
      ],
      "source": [
        "# 구매 상호작용 딕셔너리 생성\n",
        "buy_dict = {}\n",
        "for i in tqdm(buy['profile_id'].unique()):\n",
        "  buy_dict[i] = list(buy[buy['profile_id']== i]['album_id'].values)"
      ]
    },
    {
      "cell_type": "code",
      "source": [
        "# 구매 정보 상에서 album_id에 다른 가격이 책정된 경우는 없음을 확인\n",
        "buy[['album_id','payment']].drop_duplicates().groupby('album_id').count().value_counts()"
      ],
      "metadata": {
        "colab": {
          "base_uri": "https://localhost:8080/"
        },
        "outputId": "6678d5f6-e965-4e54-be85-7e549563614f",
        "id": "-S7PMNaMZV2_"
      },
      "execution_count": null,
      "outputs": [
        {
          "output_type": "execute_result",
          "data": {
            "text/plain": [
              "payment\n",
              "1          126\n",
              "dtype: int64"
            ]
          },
          "metadata": {},
          "execution_count": 113
        }
      ]
    },
    {
      "cell_type": "code",
      "execution_count": null,
      "metadata": {
        "id": "BTLgrC8n1YT5"
      },
      "outputs": [],
      "source": [
        "# 상호작용 특징 정보 추출\n",
        "\n",
        "ui = df[]\n",
        "\n",
        "# ui_features_pay = df[['payment']].to_dict()\n",
        "# ui_features_sear = df[['sear']].to_dict()\n"
      ]
    },
    {
      "cell_type": "code",
      "execution_count": 21,
      "metadata": {
        "id": "4aSyvncgpIgF"
      },
      "outputs": [],
      "source": [
        "# 추출한 특징 정보의 속성을 저장 \n",
        "cfg.n_genres = meta_df['genre_mid'].nunique()\n",
        "cfg.n_sex = df['sex'].nunique()\n",
        "cfg.n_search = 2\n",
        "cfg.n_continuous_feats = 4 "
      ]
    },
    {
      "cell_type": "markdown",
      "metadata": {
        "id": "REzvMyWZYU1S"
      },
      "source": [
        "## NeuMF 구현\n",
        "\n",
        "\n",
        "### 모델 구현 \n",
        "- [Neural Collaborative Filtering(NCF)](https://arxiv.org/pdf/1708.05031.pdf) 논문의 NeuMF를 참고하여 side-information을 결합한 모델을 PyTorch로 구현\n",
        "    - continuous feature (age)와 categorical feature (genre_mid)를 같이 학습할 수 있도록 결합"
      ]
    },
    {
      "cell_type": "markdown",
      "metadata": {
        "id": "l246btDqpIgG"
      },
      "source": [
        "![](http://drive.google.com/uc?export=view&id=1tpajTLipLoFdvLICO-alAxeoKAE8-k61)"
      ]
    },
    {
      "cell_type": "code",
      "execution_count": null,
      "metadata": {
        "colab": {
          "base_uri": "https://localhost:8080/"
        },
        "id": "GEk4VKs4WuEH",
        "outputId": "ec5ef101-8358-470b-d7a6-ceb278e46dd8"
      },
      "outputs": [
        {
          "data": {
            "text/plain": [
              "Index(['log_time', 'album_id', 'sex', 'age', 'genre_mid', 'run_time', 'views'], dtype='object')"
            ]
          },
          "execution_count": 28,
          "metadata": {},
          "output_type": "execute_result"
        }
      ],
      "source": [
        "df.columns"
      ]
    },
    {
      "cell_type": "code",
      "execution_count": 22,
      "metadata": {
        "id": "hWOt2J5nYU1U"
      },
      "outputs": [],
      "source": [
        "class NeuMF(nn.Module):\n",
        "    \"\"\"Neural Matrix Factorization Model\n",
        "        참고 문헌 : https://arxiv.org/abs/1708.05031\n",
        "\n",
        "    예시 :\n",
        "        model = NeuMF(cfg) \n",
        "        output = model.forward(user_ids, item_ids, [feat0, feat1]) \n",
        "    \"\"\"\n",
        "    def __init__(self, cfg):\n",
        "        \"\"\" \n",
        "        Args:\n",
        "            cfg : config 파일로 네트워크 생성에 필요한 정보들을 담고 있음 \n",
        "        \"\"\"\n",
        "        super(NeuMF, self).__init__()\n",
        "        self.n_users = cfg.n_users\n",
        "        self.n_items = cfg.n_items\n",
        "        self.emb_dim = cfg.emb_dim\n",
        "        self.layer_dim = cfg.layer_dim\n",
        "        self.n_continuous_feats = cfg.n_continuous_feats\n",
        "        self.n_genres = cfg.n_genres\n",
        "        self.n_sex = cfg.n_sex\n",
        "        self.n_search = cfg.n_search\n",
        "        self.dropout = cfg.dropout\n",
        "        self.build_graph()\n",
        "\n",
        "    def build_graph(self):\n",
        "        \"\"\"Neural Matrix Factorization Model 생성\n",
        "            구현된 모습은 위의 그림을 참고 \n",
        "        \"\"\"\n",
        "        # mf용 유저임베딩 - 유저 임베딩 수 == 유저 cfg 수, 임베딩 차원 수 == 256 \n",
        "        self.user_embedding_mf = nn.Embedding(num_embeddings=self.n_users, embedding_dim=self.emb_dim)\n",
        "        self.item_embedding_mf = nn.Embedding(num_embeddings=self.n_items, embedding_dim=self.emb_dim)\n",
        "        \n",
        "        # mlp 용 유저 임베딩, 차원 수도 동일한 방법\n",
        "        self.user_embedding_mlp = nn.Embedding(num_embeddings=self.n_users, embedding_dim=self.emb_dim)\n",
        "        self.item_embedding_mlp = nn.Embedding(num_embeddings=self.n_items, embedding_dim=self.emb_dim)\n",
        "                \n",
        "        # mlp 용 특성 장르 임베딩도 설정\n",
        "        self.genre_embeddig = nn.Embedding(num_embeddings=self.n_genres, embedding_dim=self.n_genres//2)\n",
        "        # mlp 용 특성 성별 임베딩도 설정\n",
        "        self.sex_embeddig = nn.Embedding(num_embeddings=self.n_sex, embedding_dim=self.n_sex//2)\n",
        "        # mlp 용 특성 search 임베딩 설정\n",
        "        self.search_embedding = nn.Embedding(num_embeddings=self.n_search, embedding_dim=self.n_search//2)\n",
        "        \n",
        "        # mlp 레이어 - 시퀜셜 모델로 생성\n",
        "        self.mlp_layers = nn.Sequential(\n",
        "            # 첫번째 인자값은 input size, 두번째 인자값은 output size이다\n",
        "            nn.Linear(2*self.emb_dim + self.n_genres//2 + self.n_sex//2 + self.n_search//2 + self.n_continuous_feats, self.layer_dim), \n",
        "            nn.ReLU(), \n",
        "            nn.Dropout(p=self.dropout), \n",
        "            nn.Linear(self.layer_dim, self.layer_dim//2), \n",
        "            nn.ReLU(), \n",
        "            nn.Dropout(p=self.dropout)\n",
        "        )\n",
        "        \n",
        "        self.affine_output = nn.Linear(self.layer_dim//2 + self.emb_dim, 1)\n",
        "        self.apply(self._init_weights)\n",
        "        \n",
        "\n",
        "    def _init_weights(self, module):\n",
        "        if isinstance(module, nn.Embedding):\n",
        "            normal_(module.weight.data, mean=0.0, std=0.01)\n",
        "        elif isinstance(module, nn.Linear):\n",
        "            normal_(module.weight.data, 0, 0.01)\n",
        "            if module.bias is not None:\n",
        "                module.bias.data.fill_(0.0)\n",
        "    \n",
        "    def forward(self, user_indices, item_indices, feats):\n",
        "        \"\"\" \n",
        "        Args:\n",
        "            user_indices : 유저의 인덱스 정보 \n",
        "                ex) tensor([ 3100,  3100,  ..., 14195, 14195])\n",
        "            item_indices : 아이템의 인덱스 정보\n",
        "                ex) tensor([   50,    65,   ..., 14960, 11527])\n",
        "            feats : 특징 정보 \n",
        "        Returns: \n",
        "            output : 유저-아이템 쌍에 대한 추천 결과 \n",
        "                ex) tensor([  9.4966,  22.0261, ..., -19.3535, -23.0212])\n",
        "        \"\"\"\n",
        "        # 임베딩 진행\n",
        "        user_embedding_mf = self.user_embedding_mf(user_indices)\n",
        "        item_embedding_mf = self.item_embedding_mf(item_indices)\n",
        "        mf_output = torch.mul(user_embedding_mf, item_embedding_mf)\n",
        "        \n",
        "        user_embedding_mlp = self.user_embedding_mlp(user_indices)\n",
        "        item_embedding_mlp = self.item_embedding_mlp(item_indices)\n",
        "        genre_embedding_mlp = self.genre_embeddig(feats[3])\n",
        "\n",
        "        \n",
        "        #성별 임베딩 추가\n",
        "        sex_embedding_mlp = self.sex_embeddig(feats[2])\n",
        "\n",
        "        #검색여부 임베딩 추가\n",
        "        search_embedding_mlp = self.search_embedding(feats[5])\n",
        "        input_feature = torch.cat((user_embedding_mlp, item_embedding_mlp, genre_embedding_mlp, sex_embedding_mlp, search_embedding_mlp, feats[0].unsqueeze(1), feats[1].unsqueeze(1),feats[4].unsqueeze(1), feats[6].unsqueeze(1)), -1)\n",
        "        mlp_output = self.mlp_layers(input_feature)\n",
        "        \n",
        "        output = torch.cat([mlp_output, mf_output], dim=-1)\n",
        "        output = self.affine_output(output).squeeze(-1)\n",
        "        return output"
      ]
    },
    {
      "cell_type": "markdown",
      "metadata": {
        "id": "hE7ZtudJYU1V"
      },
      "source": [
        "### 학습 및 추론 코드 구현\n",
        "\n",
        "- 학습 : Negative sampling을 활용하여 Binary Classification 진행 \n",
        "    - history 에 있는 album_id는 positive label로 그렇지 않은 album_id는 nagative label로 활용  \n",
        "    - 단, 이때 모든 album_id를 negative label로 활용하는 것이 아닌 일부만 사용 (neg_ratio 값에 따라서 개수 조정)\n",
        "- 추론 : 일부 데이터에 대해 recall, ndcg, coverage 성능 확인"
      ]
    },
    {
      "cell_type": "markdown",
      "metadata": {
        "id": "RGTiX3PsYU1V"
      },
      "source": [
        "#### 학습 및 추론에 필요한 데이터 셋 생성 코드 구현"
      ]
    },
    {
      "cell_type": "code",
      "execution_count": null,
      "metadata": {
        "id": "7VH8C2vpBvQN",
        "colab": {
          "base_uri": "https://localhost:8080/"
        },
        "outputId": "86f5d26f-f1e3-45f6-b7da-74fdb92da12e"
      },
      "outputs": [
        {
          "output_type": "execute_result",
          "data": {
            "text/plain": [
              "660"
            ]
          },
          "metadata": {},
          "execution_count": 98
        }
      ],
      "source": [
        "item_features_run['run_time'][0]"
      ]
    },
    {
      "cell_type": "code",
      "source": [
        "buy.head(3)"
      ],
      "metadata": {
        "colab": {
          "base_uri": "https://localhost:8080/",
          "height": 143
        },
        "id": "L7GEz6C-az_X",
        "outputId": "94effda3-6ac7-47b2-bbe1-4995ecdb1e7f"
      },
      "execution_count": null,
      "outputs": [
        {
          "output_type": "execute_result",
          "data": {
            "text/plain": [
              "   profile_id  album_id  payment\n",
              "0         255      3767      500\n",
              "1        1603      1640      300\n",
              "2        5303      3821      500"
            ],
            "text/html": [
              "\n",
              "  <div id=\"df-2552fc3f-e258-4713-8368-658150a961c1\">\n",
              "    <div class=\"colab-df-container\">\n",
              "      <div>\n",
              "<style scoped>\n",
              "    .dataframe tbody tr th:only-of-type {\n",
              "        vertical-align: middle;\n",
              "    }\n",
              "\n",
              "    .dataframe tbody tr th {\n",
              "        vertical-align: top;\n",
              "    }\n",
              "\n",
              "    .dataframe thead th {\n",
              "        text-align: right;\n",
              "    }\n",
              "</style>\n",
              "<table border=\"1\" class=\"dataframe\">\n",
              "  <thead>\n",
              "    <tr style=\"text-align: right;\">\n",
              "      <th></th>\n",
              "      <th>profile_id</th>\n",
              "      <th>album_id</th>\n",
              "      <th>payment</th>\n",
              "    </tr>\n",
              "  </thead>\n",
              "  <tbody>\n",
              "    <tr>\n",
              "      <th>0</th>\n",
              "      <td>255</td>\n",
              "      <td>3767</td>\n",
              "      <td>500</td>\n",
              "    </tr>\n",
              "    <tr>\n",
              "      <th>1</th>\n",
              "      <td>1603</td>\n",
              "      <td>1640</td>\n",
              "      <td>300</td>\n",
              "    </tr>\n",
              "    <tr>\n",
              "      <th>2</th>\n",
              "      <td>5303</td>\n",
              "      <td>3821</td>\n",
              "      <td>500</td>\n",
              "    </tr>\n",
              "  </tbody>\n",
              "</table>\n",
              "</div>\n",
              "      <button class=\"colab-df-convert\" onclick=\"convertToInteractive('df-2552fc3f-e258-4713-8368-658150a961c1')\"\n",
              "              title=\"Convert this dataframe to an interactive table.\"\n",
              "              style=\"display:none;\">\n",
              "        \n",
              "  <svg xmlns=\"http://www.w3.org/2000/svg\" height=\"24px\"viewBox=\"0 0 24 24\"\n",
              "       width=\"24px\">\n",
              "    <path d=\"M0 0h24v24H0V0z\" fill=\"none\"/>\n",
              "    <path d=\"M18.56 5.44l.94 2.06.94-2.06 2.06-.94-2.06-.94-.94-2.06-.94 2.06-2.06.94zm-11 1L8.5 8.5l.94-2.06 2.06-.94-2.06-.94L8.5 2.5l-.94 2.06-2.06.94zm10 10l.94 2.06.94-2.06 2.06-.94-2.06-.94-.94-2.06-.94 2.06-2.06.94z\"/><path d=\"M17.41 7.96l-1.37-1.37c-.4-.4-.92-.59-1.43-.59-.52 0-1.04.2-1.43.59L10.3 9.45l-7.72 7.72c-.78.78-.78 2.05 0 2.83L4 21.41c.39.39.9.59 1.41.59.51 0 1.02-.2 1.41-.59l7.78-7.78 2.81-2.81c.8-.78.8-2.07 0-2.86zM5.41 20L4 18.59l7.72-7.72 1.47 1.35L5.41 20z\"/>\n",
              "  </svg>\n",
              "      </button>\n",
              "      \n",
              "  <style>\n",
              "    .colab-df-container {\n",
              "      display:flex;\n",
              "      flex-wrap:wrap;\n",
              "      gap: 12px;\n",
              "    }\n",
              "\n",
              "    .colab-df-convert {\n",
              "      background-color: #E8F0FE;\n",
              "      border: none;\n",
              "      border-radius: 50%;\n",
              "      cursor: pointer;\n",
              "      display: none;\n",
              "      fill: #1967D2;\n",
              "      height: 32px;\n",
              "      padding: 0 0 0 0;\n",
              "      width: 32px;\n",
              "    }\n",
              "\n",
              "    .colab-df-convert:hover {\n",
              "      background-color: #E2EBFA;\n",
              "      box-shadow: 0px 1px 2px rgba(60, 64, 67, 0.3), 0px 1px 3px 1px rgba(60, 64, 67, 0.15);\n",
              "      fill: #174EA6;\n",
              "    }\n",
              "\n",
              "    [theme=dark] .colab-df-convert {\n",
              "      background-color: #3B4455;\n",
              "      fill: #D2E3FC;\n",
              "    }\n",
              "\n",
              "    [theme=dark] .colab-df-convert:hover {\n",
              "      background-color: #434B5C;\n",
              "      box-shadow: 0px 1px 3px 1px rgba(0, 0, 0, 0.15);\n",
              "      filter: drop-shadow(0px 1px 2px rgba(0, 0, 0, 0.3));\n",
              "      fill: #FFFFFF;\n",
              "    }\n",
              "  </style>\n",
              "\n",
              "      <script>\n",
              "        const buttonEl =\n",
              "          document.querySelector('#df-2552fc3f-e258-4713-8368-658150a961c1 button.colab-df-convert');\n",
              "        buttonEl.style.display =\n",
              "          google.colab.kernel.accessAllowed ? 'block' : 'none';\n",
              "\n",
              "        async function convertToInteractive(key) {\n",
              "          const element = document.querySelector('#df-2552fc3f-e258-4713-8368-658150a961c1');\n",
              "          const dataTable =\n",
              "            await google.colab.kernel.invokeFunction('convertToInteractive',\n",
              "                                                     [key], {});\n",
              "          if (!dataTable) return;\n",
              "\n",
              "          const docLinkHtml = 'Like what you see? Visit the ' +\n",
              "            '<a target=\"_blank\" href=https://colab.research.google.com/notebooks/data_table.ipynb>data table notebook</a>'\n",
              "            + ' to learn more about interactive tables.';\n",
              "          element.innerHTML = '';\n",
              "          dataTable['output_type'] = 'display_data';\n",
              "          await google.colab.output.renderOutput(dataTable, element);\n",
              "          const docLink = document.createElement('div');\n",
              "          docLink.innerHTML = docLinkHtml;\n",
              "          element.appendChild(docLink);\n",
              "        }\n",
              "      </script>\n",
              "    </div>\n",
              "  </div>\n",
              "  "
            ]
          },
          "metadata": {},
          "execution_count": 115
        }
      ]
    },
    {
      "cell_type": "code",
      "source": [
        "buy[(buy['profile_id']==255)&(buy['album_id']==3767)]['payment'].values[0]"
      ],
      "metadata": {
        "colab": {
          "base_uri": "https://localhost:8080/"
        },
        "id": "W5J_ewQPa11U",
        "outputId": "2543b814-e724-45f0-a690-07915c36321e"
      },
      "execution_count": null,
      "outputs": [
        {
          "output_type": "execute_result",
          "data": {
            "text/plain": [
              "500"
            ]
          },
          "metadata": {},
          "execution_count": 119
        }
      ]
    },
    {
      "cell_type": "code",
      "execution_count": 23,
      "metadata": {
        "id": "umvMsViZpIgI"
      },
      "outputs": [],
      "source": [
        "def make_UIdataset(train, neg_ratio):\n",
        "    \"\"\" 유저별 학습에 필요한 딕셔너리 데이터 생성 \n",
        "    Args:\n",
        "        train : 유저-아이템의 상호작용을 담은 행렬 \n",
        "            ex) \n",
        "                array([[0., 0., 0., ..., 0., 0., 0.],\n",
        "                        [0., 0., 0., ..., 0., 0., 0.],\n",
        "                        [0., 0., 0., ..., 0., 0., 0.],\n",
        "                        ...,\n",
        "                        [0., 0., 0., ..., 0., 0., 0.],\n",
        "                        [0., 0., 0., ..., 0., 0., 0.],\n",
        "                        [0., 0., 0., ..., 0., 0., 0.]])\n",
        "        neg_ratio : negative sampling 활용할 비율 \n",
        "            ex) 3 (positive label 1개당 negative label 3개)\n",
        "    Returns: \n",
        "        UIdataset : 유저별 학습에 필요한 정보를 담은 딕셔너리 \n",
        "            ex) {'사용자 ID': [[positive 샘플, negative 샘플], ... , [1, 1, 1, ..., 0, 0]]}\n",
        "                >>> UIdataset[3]\n",
        "                    [array([   16,    17,    18, ...,  9586, 18991,  9442]),\n",
        "                    array([5, 5, 5, ..., 5, 5, 5]),\n",
        "                    array([4, 4, 4, ..., 5, 1, 1]),\n",
        "                    array([1., 1., 1., ..., 0., 0., 0.])]\n",
        "    \"\"\"\n",
        "    UIdataset = {}\n",
        "    for user_id, items_by_user in enumerate(train):\n",
        "        UIdataset[user_id] = []\n",
        "        # positive 샘플 계산 \n",
        "        # pos item은 0.5 이상인 것들의 index를 찾아 출력\n",
        "        pos_item_ids = np.where(items_by_user > 0.5)[0]\n",
        "        # pos 샘플 개수\n",
        "        num_pos_samples = len(pos_item_ids)\n",
        "\n",
        "        # negative 샘플 계산 (random negative sampling)\n",
        "        # neg 샘플 개수 \n",
        "        num_neg_samples = neg_ratio * num_pos_samples\n",
        "        neg_items = np.where(items_by_user < 0.5)[0]\n",
        "        # neg 샘플 중 랜덤 초이스\n",
        "        neg_item_ids = np.random.choice(neg_items, min(num_neg_samples, len(neg_items)), replace=False)\n",
        "        # pos, neg 샘플 짝지어서 UIdataset에 넣기\n",
        "        UIdataset[user_id].append(np.concatenate([pos_item_ids, neg_item_ids]))\n",
        "        \n",
        "        # feature 추출 \n",
        "        features_age = []\n",
        "        features_views = []\n",
        "        features_sex = []\n",
        "\n",
        "        # pos, neg 쌍을 하나씩 뽑고,\n",
        "        for item_id in np.concatenate([pos_item_ids, neg_item_ids]): \n",
        "            # user_features의 user에 따른 나이를 features에 넣기\n",
        "            features_age.append(user_features['age'][user_id])  # float\n",
        "            features_views.append(user_features_views['views'][user_id])  # float\n",
        "            features_sex.append(user_features_sex['sex'][user_id])  # long\n",
        "        #나이 정보 순서를 append해서 모든 쌍에 추가해주기\n",
        "        UIdataset[user_id].append(np.array(features_age))\n",
        "        UIdataset[user_id].append(np.array(features_views))\n",
        "        UIdataset[user_id].append(np.array(features_sex))\n",
        "\n",
        "        features_genre = []\n",
        "        features_run = []\n",
        "        features_search = []\n",
        "        features_payment = []\n",
        "        # pos와 neg 일렬 리스트로 변환\n",
        "        for item_id in np.concatenate([pos_item_ids, neg_item_ids]): \n",
        "            # item_features의 item에 따른 장르를 features에 넣기\n",
        "            features_genre.append(item_features['genre_mid'][item_id])  # long\n",
        "            features_run.append(item_features_run['run_time'][item_id]) # float\n",
        "\n",
        "            if user_id in search_dict.keys():\n",
        "              if item_id in search_dict[user_id]:\n",
        "                features_search.append(1)\n",
        "              else:\n",
        "                features_search.append(0)\n",
        "            else:\n",
        "              features_search.append(0)\n",
        "            if user_id in buy_dict.keys():\n",
        "              if item_id in buy_dict[user_id]:\n",
        "                features_payment.append(int(buy[(buy['profile_id']==user_id)&(buy['album_id']==item_id)]['payment'].values[0]))\n",
        "              else:\n",
        "                features_payment.append(0)\n",
        "            else: \n",
        "              features_payment.append(0)\n",
        "        #장르 정보를 append해서 모든 쌍에 추가해주기 -> 상호작용에 feature가 추가된것임\n",
        "        UIdataset[user_id].append(np.array(features_genre))\n",
        "        UIdataset[user_id].append(np.array(features_run))\n",
        "        UIdataset[user_id].append(np.array(features_search))\n",
        "        UIdataset[user_id].append(np.array(features_payment))\n",
        "\n",
        "        # label 저장  \n",
        "        pos_labels = np.ones(len(pos_item_ids))\n",
        "        neg_labels = np.zeros(len(neg_item_ids))\n",
        "        UIdataset[user_id].append(np.concatenate([pos_labels, neg_labels]))\n",
        "\n",
        "    return UIdataset"
      ]
    },
    {
      "cell_type": "code",
      "source": [
        "# 구매 정보 상에서 album_id에 다른 가격이 책정된 경우는 없음을 확인\n",
        "buy[['album_id','payment']].drop_duplicates().groupby('album_id').count().value_counts()"
      ],
      "metadata": {
        "colab": {
          "base_uri": "https://localhost:8080/"
        },
        "id": "iR5XGMXoXqnZ",
        "outputId": "6678d5f6-e965-4e54-be85-7e549563614f"
      },
      "execution_count": null,
      "outputs": [
        {
          "output_type": "execute_result",
          "data": {
            "text/plain": [
              "payment\n",
              "1          126\n",
              "dtype: int64"
            ]
          },
          "metadata": {},
          "execution_count": 113
        }
      ]
    },
    {
      "cell_type": "code",
      "execution_count": 24,
      "metadata": {
        "id": "MjnyPZqYpIgI"
      },
      "outputs": [],
      "source": [
        "UIdataset = make_UIdataset(train, neg_ratio=cfg.neg_ratio)"
      ]
    },
    {
      "cell_type": "code",
      "execution_count": null,
      "metadata": {
        "colab": {
          "base_uri": "https://localhost:8080/"
        },
        "id": "nrpgaM0NC896",
        "outputId": "e80c91ae-097f-4610-f330-2cd9e6711b6a"
      },
      "outputs": [
        {
          "data": {
            "text/plain": [
              "[array([   16,    17,    18, ...,  7343,  8615, 22028]),\n",
              " array([5, 5, 5, ..., 5, 5, 5]),\n",
              " array([23, 23, 23, ..., 23, 23, 23]),\n",
              " array([0, 0, 0, ..., 0, 0, 0]),\n",
              " array([ 1,  1,  1, ..., 10,  5, 17]),\n",
              " array([ 660,  660,  660, ...,  731,  463, 1004]),\n",
              " array([0, 0, 0, ..., 0, 0, 0]),\n",
              " array([0, 0, 0, ..., 0, 0, 0]),\n",
              " array([1., 1., 1., ..., 0., 0., 0.])]"
            ]
          },
          "execution_count": 88,
          "metadata": {},
          "output_type": "execute_result"
        }
      ],
      "source": [
        "UIdataset[3]"
      ]
    },
    {
      "cell_type": "code",
      "execution_count": 25,
      "metadata": {
        "id": "tP1N8nYrpIgJ"
      },
      "outputs": [],
      "source": [
        "def make_batchdata(user_indices, batch_idx, batch_size):\n",
        "    \"\"\" 배치 데이터로 변환 \n",
        "    Args:\n",
        "        user_indices : 전체 유저의 인덱스 정보 \n",
        "            ex) array([ 3100,  1800, 30098, ...,  2177, 11749, 20962])\n",
        "        batch_idx : 배치 인덱스 (몇번째 배치인지)\n",
        "            ex) 0 \n",
        "        batch_size : 배치 크기 \n",
        "            ex) 256 \n",
        "    Returns \n",
        "        batch_user_ids : 배치내의 유저 인덱스 정보 \n",
        "            ex) [22194, 22194, 22194, 22194, 22194, ...]\n",
        "        batch_item_ids : 배치내의 아이템 인덱스 정보 \n",
        "            ex) [36, 407, 612, 801, 1404, ...]\n",
        "        batch_feat0 : 배치내의 유저-아이템 인덱스 정보에 해당하는 feature0 정보 \n",
        "            ex) [6, 6, 6, 6, 6, ...]\n",
        "        batch_feat1 : 배치내의 유저-아이템 인덱스 정보에 해당하는 feature1 정보 \n",
        "            ex) [4,  4,  4, 23,  4, ...]\n",
        "        batch_labels : 배치내의 유저-아이템 인덱스 정보에 해당하는 label 정보 \n",
        "            ex) [1.0, 1.0, 1.0, 1.0, 1.0, ...]\n",
        "    \"\"\"\n",
        "    batch_user_indices = user_indices[batch_idx*batch_size : (batch_idx+1)*batch_size]\n",
        "    batch_user_ids = []\n",
        "    batch_item_ids = []\n",
        "    batch_feat0 = []  # age\n",
        "    batch_feat1 = []  # views\n",
        "    batch_feat2 = []  # sex \n",
        "    batch_feat3 = []  # genre\n",
        "    batch_feat4 = []  # runtime\n",
        "    batch_feat5 = []  # runtime\n",
        "    batch_feat6 = []  # runtime\n",
        "    batch_labels = [] # label\n",
        "    for user_id in batch_user_indices:\n",
        "        item_ids = UIdataset[user_id][0]\n",
        "        feat0 = UIdataset[user_id][1]\n",
        "        feat1 = UIdataset[user_id][2]\n",
        "        feat2 = UIdataset[user_id][3]\n",
        "        feat3 = UIdataset[user_id][4]\n",
        "        feat4 = UIdataset[user_id][5]\n",
        "        feat5 = UIdataset[user_id][6]\n",
        "        feat6 = UIdataset[user_id][7]                \n",
        "        labels = UIdataset[user_id][8]\n",
        "        user_ids = np.full(len(item_ids), user_id)  # 모든 값을 user_id로 통일\n",
        "        batch_user_ids.extend(user_ids.tolist())\n",
        "        batch_item_ids.extend(item_ids.tolist())\n",
        "        batch_feat0.extend(feat0.tolist())\n",
        "        batch_feat1.extend(feat1.tolist())\n",
        "        batch_feat2.extend(feat2.tolist())\n",
        "        batch_feat3.extend(feat3.tolist())\n",
        "        batch_feat4.extend(feat4.tolist())      \n",
        "        batch_feat5.extend(feat5.tolist())   \n",
        "        batch_feat6.extend(feat6.tolist())   \n",
        "        batch_labels.extend(labels.tolist())\n",
        "    return batch_user_ids, batch_item_ids, batch_feat0, batch_feat1, batch_feat2, batch_feat3, batch_feat4,batch_feat5, batch_feat6, batch_labels\n",
        "\n",
        "def update_avg(curr_avg, val, idx):\n",
        "    \"\"\" 현재 epoch 까지의 평균 값을 계산 \n",
        "    \"\"\"\n",
        "    return (curr_avg * idx + val) / (idx + 1)"
      ]
    },
    {
      "cell_type": "markdown",
      "metadata": {
        "id": "WOTiWFV-pIgJ"
      },
      "source": [
        "#### 학습 및 검증 코드 생성"
      ]
    },
    {
      "cell_type": "code",
      "source": [
        "profile_df['profile_id'].unique()"
      ],
      "metadata": {
        "colab": {
          "base_uri": "https://localhost:8080/"
        },
        "id": "xDhQDKfdOzw3",
        "outputId": "2ab644f1-da65-41a9-a38c-a277ae82e7ff"
      },
      "execution_count": null,
      "outputs": [
        {
          "output_type": "execute_result",
          "data": {
            "text/plain": [
              "array([    3,     5,     7, ..., 33026, 33027, 33032])"
            ]
          },
          "metadata": {},
          "execution_count": 73
        }
      ]
    },
    {
      "cell_type": "code",
      "source": [
        "int(len(np.arange(cfg.n_users)) / 256) + 1"
      ],
      "metadata": {
        "colab": {
          "base_uri": "https://localhost:8080/"
        },
        "id": "egi3ZN7yO-wj",
        "outputId": "ada99af2-51db-491f-ba76-3f7a43e765ba"
      },
      "execution_count": null,
      "outputs": [
        {
          "output_type": "execute_result",
          "data": {
            "text/plain": [
              "130"
            ]
          },
          "metadata": {},
          "execution_count": 76
        }
      ]
    },
    {
      "cell_type": "code",
      "execution_count": 26,
      "metadata": {
        "id": "dS1EPRpeYU1W"
      },
      "outputs": [],
      "source": [
        "def train_epoch(cfg, model, optimizer, criterion): \n",
        "    model.train()\n",
        "    curr_loss_avg = 0.0\n",
        "\n",
        "    user_indices = np.arange(cfg.n_users)\n",
        "    np.random.RandomState(cfg.epoch).shuffle(user_indices)\n",
        "    \n",
        "    batch_num = int(len(user_indices) / cfg.batch_size) + 1\n",
        "    bar = tqdm(range(batch_num), leave=False)\n",
        "    for step, batch_idx in enumerate(bar):\n",
        "        user_ids, item_ids, feat0, feat1,feat2, feat3, feat4,feat5, feat6, labels = make_batchdata(user_indices, batch_idx, cfg.batch_size)\n",
        "        # 배치 사용자 단위로 학습\n",
        "        user_ids = torch.LongTensor(user_ids).to(cfg.device)\n",
        "        item_ids = torch.LongTensor(item_ids).to(cfg.device)\n",
        "        feat0 = torch.FloatTensor(feat0).to(cfg.device)\n",
        "        feat1 = torch.FloatTensor(feat1).to(cfg.device)\n",
        "        feat2 = torch.LongTensor(feat2).to(cfg.device)\n",
        "        feat3 = torch.LongTensor(feat3).to(cfg.device)\n",
        "        feat4 = torch.FloatTensor(feat4).to(cfg.device)\n",
        "        feat5 = torch.LongTensor(feat5).to(cfg.device)\n",
        "        feat6 = torch.FloatTensor(feat6).to(cfg.device)\n",
        "        labels = torch.FloatTensor(labels).to(cfg.device)\n",
        "        labels = labels.view(-1, 1)\n",
        "\n",
        "        # grad 초기화\n",
        "        optimizer.zero_grad()\n",
        "\n",
        "        # 모델 forward\n",
        "        output = model.forward(user_ids, item_ids, [feat0, feat1, feat2, feat3, feat4, feat5, feat6])\n",
        "        output = output.view(-1, 1)\n",
        "\n",
        "        loss = criterion(output, labels)\n",
        "\n",
        "        # 역전파\n",
        "        loss.backward()\n",
        "\n",
        "        # 최적화\n",
        "        optimizer.step()    \n",
        "        if torch.isnan(loss):\n",
        "            print('Loss NAN. Train finish.')\n",
        "            break\n",
        "        curr_loss_avg = update_avg(curr_loss_avg, loss, step)\n",
        "        \n",
        "        msg = f\"epoch: {cfg.epoch}, \"\n",
        "        msg += f\"loss: {curr_loss_avg.item():.5f}, \"\n",
        "        msg += f\"lr: {optimizer.param_groups[0]['lr']:.6f}\"\n",
        "        bar.set_description(msg)\n",
        "    rets = {'losses': np.around(curr_loss_avg.item(), 5)}\n",
        "    return rets"
      ]
    },
    {
      "cell_type": "code",
      "execution_count": 27,
      "metadata": {
        "id": "HS86whCspIgK"
      },
      "outputs": [],
      "source": [
        "def recallk(actual, predicted, k = 25):\n",
        "    \"\"\" label과 prediction 사이의 recall 평가 함수 \n",
        "    Args:\n",
        "        actual : 실제로 본 상품 리스트\n",
        "        pred : 예측한 상품 리스트\n",
        "        k : 상위 몇개의 데이터를 볼지 (ex : k=5 상위 5개의 상품만 봄)\n",
        "    Returns: \n",
        "        recall_k : recall@k \n",
        "    \"\"\" \n",
        "    set_actual = set(actual)\n",
        "    recall_k = len(set_actual & set(predicted[:k])) / min(k, len(set_actual))\n",
        "    return recall_k\n",
        "\n",
        "def unique(sequence):\n",
        "    # preserves order\n",
        "    seen = set()\n",
        "    return [x for x in sequence if not (x in seen or seen.add(x))]\n",
        "\n",
        "def ndcgk(actual, predicted, k = 25):\n",
        "    set_actual = set(actual)\n",
        "    idcg = sum([1.0 / np.log(i + 2) for i in range(min(k, len(set_actual)))])\n",
        "    dcg = 0.0\n",
        "    unique_predicted = unique(predicted[:k])\n",
        "    for i, r in enumerate(unique_predicted):\n",
        "        if r in set_actual:\n",
        "            dcg += 1.0 / np.log(i + 2)\n",
        "    ndcg_k = dcg / idcg\n",
        "    return ndcg_k\n",
        "\n",
        "def evaluation(gt, pred):\n",
        "    \"\"\" label과 prediction 사이의 recall, coverage, competition metric 평가 함수 \n",
        "    Args:\n",
        "        gt : 데이터 프레임 형태의 정답 데이터 \n",
        "        pred : 데이터 프레임 형태의 예측 데이터 \n",
        "    Returns: \n",
        "        rets : recall, ndcg, coverage, competition metric 결과 \n",
        "            ex) {'recall': 0.123024, 'ndcg': 056809, 'coverage': 0.017455, 'score': 0.106470}\n",
        "    \"\"\"    \n",
        "    gt = gt.groupby('profile_id')['album_id'].unique().to_frame().reset_index()\n",
        "    gt.columns = ['profile_id', 'actual_list']\n",
        "\n",
        "    evaluated_data = pd.merge(pred, gt, how = 'left', on = 'profile_id')\n",
        "\n",
        "    evaluated_data['Recall@25'] = evaluated_data.apply(lambda x: recallk(x.actual_list, x.predicted_list), axis=1)\n",
        "    evaluated_data['NDCG@25'] = evaluated_data.apply(lambda x: ndcgk(x.actual_list, x.predicted_list), axis=1)\n",
        "\n",
        "    recall = evaluated_data['Recall@25'].mean()\n",
        "    ndcg = evaluated_data['NDCG@25'] .mean()\n",
        "    coverage = (evaluated_data['predicted_list'].apply(lambda x: x[:cfg.top_k]).explode().nunique())/meta_df.index.nunique()\n",
        "\n",
        "    score = 0.75*recall + 0.25*ndcg\n",
        "    rets = {\"recall\" :recall, \n",
        "            \"ndcg\" :ndcg, \n",
        "            \"coverage\" :coverage, \n",
        "            \"score\" :score}\n",
        "    return rets"
      ]
    },
    {
      "cell_type": "code",
      "execution_count": null,
      "metadata": {
        "id": "0VtryMV2CO_y"
      },
      "outputs": [],
      "source": [
        "query_user_ids = df.reset_index()['profile_id'].unique()"
      ]
    },
    {
      "cell_type": "code",
      "execution_count": null,
      "metadata": {
        "id": "QvloQnZVCSki"
      },
      "outputs": [],
      "source": [
        "full_item_ids = np.array([c for c in range(cfg.n_items)])\n",
        "full_item_ids_feat3 = [item_features['genre_mid'][c] for c in full_item_ids]\n",
        "full_item_ids_feat4 = [item_features_run['run_time'][c] for c in full_item_ids]"
      ]
    },
    {
      "cell_type": "code",
      "source": [
        "f = np.zeros(10)\n",
        "np.put(f, [6,2,1,0], [1,2,6,7, 7])"
      ],
      "metadata": {
        "id": "Zl7FyZLrVb31"
      },
      "execution_count": null,
      "outputs": []
    },
    {
      "cell_type": "code",
      "source": [
        "buy_dict[1603]"
      ],
      "metadata": {
        "colab": {
          "base_uri": "https://localhost:8080/"
        },
        "id": "hVuhO0P_WO4w",
        "outputId": "0bfb128b-c0f0-4161-cadf-f48f7bba4634"
      },
      "execution_count": null,
      "outputs": [
        {
          "output_type": "execute_result",
          "data": {
            "text/plain": [
              "[1640]"
            ]
          },
          "metadata": {},
          "execution_count": 109
        }
      ]
    },
    {
      "cell_type": "code",
      "source": [
        "buy_dict[user_id][0]"
      ],
      "metadata": {
        "colab": {
          "base_uri": "https://localhost:8080/"
        },
        "id": "oqJh-Z2chyg1",
        "outputId": "5ed41dcb-e513-4699-e4a9-01f55b2b4f62"
      },
      "execution_count": null,
      "outputs": [
        {
          "output_type": "execute_result",
          "data": {
            "text/plain": [
              "3767"
            ]
          },
          "metadata": {},
          "execution_count": 149
        }
      ]
    },
    {
      "cell_type": "code",
      "source": [
        "buy[(buy['profile_id']==user_id)&(buy['album_id']==buy_dict[user_id])]"
      ],
      "metadata": {
        "id": "TveTq94NhzRt"
      },
      "execution_count": null,
      "outputs": []
    },
    {
      "cell_type": "code",
      "source": [
        "\n",
        "for user_id in data['profile_id'].unique():\n",
        "  print(user_id)\n",
        "  f = np.zeros(cfg.n_items)\n",
        "  if user_id in search_dict.keys():\n",
        "    print(len(f), search_dict[user_id])\n",
        "    np.put(f, search_dict[user_id], 1)\n",
        "  if user_id ==17128:\n",
        "    break"
      ],
      "metadata": {
        "id": "cn2D06KxVqLN"
      },
      "execution_count": null,
      "outputs": []
    },
    {
      "cell_type": "code",
      "source": [],
      "metadata": {
        "id": "s2oXU9xNhf4M"
      },
      "execution_count": null,
      "outputs": []
    },
    {
      "cell_type": "code",
      "execution_count": 28,
      "metadata": {
        "id": "FQgUJbTOYU1X"
      },
      "outputs": [],
      "source": [
        "def valid_epoch(cfg, model, data, mode='valid'):\n",
        "    pred_list = []\n",
        "    model.eval()\n",
        "    \n",
        "    query_user_ids = data['profile_id'].unique() # 추론할 모든 user array 집합\n",
        "    full_item_ids = np.array([c for c in range(cfg.n_items)]) # 추론할 모든 item array 집합 \n",
        "    # full_item_ids_feat1 = [item_features['genre_mid'][c] for c in full_item_ids]\n",
        "    full_item_ids_feat3 = [item_features['genre_mid'][c] for c in full_item_ids]\n",
        "    full_item_ids_feat4 = [item_features_run['run_time'][c] for c in full_item_ids]\n",
        "    for user_id in query_user_ids:\n",
        "        # 텐서에 연산 기록을 중지하고, 학습된 모델로 inference하는 과정\n",
        "        with torch.no_grad():\n",
        "\n",
        "            user_ids = np.full(cfg.n_items, user_id)\n",
        "            \n",
        "            user_ids = torch.LongTensor(user_ids).to(cfg.device)\n",
        "            item_ids = torch.LongTensor(full_item_ids).to(cfg.device)\n",
        "            \n",
        "            feat0 = np.full(cfg.n_items, user_features['age'][user_id])\n",
        "            feat0 = torch.FloatTensor(feat0).to(cfg.device)\n",
        "            feat1 = np.full(cfg.n_items, user_features_views['views'][user_id])\n",
        "            feat1 = torch.FloatTensor(feat1).to(cfg.device)\n",
        "            feat2 = np.full(cfg.n_items, user_features_sex['sex'][user_id])\n",
        "            feat2 = torch.LongTensor(feat2).to(cfg.device)\n",
        "            feat3 = torch.LongTensor(full_item_ids_feat3).to(cfg.device)\n",
        "            feat4 = torch.FloatTensor(full_item_ids_feat4).to(cfg.device)\n",
        "            # detach로 validation set에 대한 그래프 history 차단 후 inference\n",
        "            feat5 = np.zeros(cfg.n_items)\n",
        "            if user_id in search_dict.keys():\n",
        "              np.put(feat5, search_dict[user_id], 1)\n",
        "            feat5 = torch.LongTensor(feat5).to(cfg.device)           \n",
        "            feat6 = np.zeros(cfg.n_items)\n",
        "            if user_id in buy_dict.keys():\n",
        "              np.put(feat6, buy_dict[user_id], buy[(buy['profile_id']==user_id)&(buy['album_id']==buy_dict[user_id][0])]['payment'].values[0])\n",
        "            feat6 = torch.FloatTensor(feat6).to(cfg.device)\n",
        "            eval_output = model.forward(user_ids, item_ids, [feat0, feat1, feat2, feat3, feat4, feat5, feat6]).detach().cpu().numpy()\n",
        "            pred_u_score = eval_output.reshape(-1)   \n",
        "        \n",
        "\n",
        "        pred_u_idx = np.argsort(pred_u_score)[::-1]         # 최종 스코어 높은 순서대로 인덱스 뽑기\n",
        "\n",
        "        pred_u = full_item_ids[pred_u_idx]                  # 전체 아이템 중에서 스코어가 높은 인덱스들 뽑아 리스트 가져오기\n",
        "\n",
        "        pred_list.append(list(pred_u[:cfg.top_k]))          # top_k개 만큼을 pred_list에 넣기\n",
        "\n",
        "    pred = pd.DataFrame()\n",
        "    pred['profile_id'] = query_user_ids\n",
        "    pred['predicted_list'] = pred_list\n",
        "    \n",
        "    # 모델 성능 확인 \n",
        "    if mode == 'valid':\n",
        "        rets = evaluation(data, pred)\n",
        "        return rets, pred\n",
        "    return pred"
      ]
    },
    {
      "cell_type": "markdown",
      "metadata": {
        "id": "CDrQisYVpIgM"
      },
      "source": [
        "## 모델 학습"
      ]
    },
    {
      "cell_type": "markdown",
      "metadata": {
        "id": "n-D5bJx7YU1X"
      },
      "source": [
        "### 하이퍼파라미터 설정 & 최적화 기법 설정"
      ]
    },
    {
      "cell_type": "code",
      "execution_count": 36,
      "metadata": {
        "id": "FIoMO8VmpIgM"
      },
      "outputs": [],
      "source": [
        "# 하이퍼 파라미터 설정 \n",
        "cfg.batch_size = 256\n",
        "cfg.emb_dim = 256\n",
        "cfg.layer_dim = 256\n",
        "cfg.dropout = 0.05\n",
        "cfg.epochs = 10\n",
        "cfg.learning_rate = 0.0025\n",
        "cfg.reg_lambda = 0\n",
        "cfg.check_epoch = 1"
      ]
    },
    {
      "cell_type": "code",
      "execution_count": 30,
      "metadata": {
        "id": "qM_eRn4TpIgM"
      },
      "outputs": [],
      "source": [
        "# model 생성 및 optimizer, loss 함수 설정 \n",
        "model2 = NeuMF(cfg).to(cfg.device)\n",
        "optimizer = torch.optim.Adam(model2.parameters(), lr=cfg.learning_rate, weight_decay=cfg.reg_lambda)\n",
        "criterion = torch.nn.BCEWithLogitsLoss(reduction='sum')"
      ]
    },
    {
      "cell_type": "markdown",
      "metadata": {
        "id": "Eze0e7vtYU1Y"
      },
      "source": [
        "### 학습 진행"
      ]
    },
    {
      "cell_type": "code",
      "execution_count": 31,
      "metadata": {
        "colab": {
          "base_uri": "https://localhost:8080/",
          "height": 237,
          "referenced_widgets": [
            "07c454ab2e8b4eb2ab5a46d649bd01f0",
            "c9b05a6f267c4e42bd9d594603a48a45",
            "1f0ff66a893f40f69070727609d29fb2",
            "3d8b4b36085f447b9f98c297b1b16545",
            "2083e2c0a7a44d27aaa0a74eaee7180b",
            "29c9cd4ad82a4d70afcd751a0e257c60",
            "7461f2a583a149e194615fcf61a0da92",
            "630dbe65ef61448983321cca5deb49a6",
            "379c37830f514a6dbe5f0a15aac8a5fe",
            "6c4e1b5ca1ad4e22977cac1cc1659e34",
            "e17015afb4434ac5ab4a59c56f714238",
            "f5a038d87c6a49a6a2611631517d605f",
            "bc2656888738495894bb4c127c901e5f",
            "d291336e4c1d42b5b06490b9ef803162",
            "434d5aeb410f4560a3d3f27b609755f5",
            "bb0a868e3c50442da46e01410e7786e3",
            "4667dcfad8984454a64ea77bc574ae5c",
            "8578772c251f403d96deea5f4f0d07e6",
            "88d0234115a34a95b451cfe908bcdae8",
            "4c170dc4e13341a79fcf58fb8179710a",
            "285f0df994434a46bffef8ffb344e468",
            "4c5de2f2100b48afb800eee060d0a0d7",
            "4a2821fbc164411bb3331e061bf5739d",
            "61f77fc528ea48d392222e56b0b03f7c",
            "c0295c4425f243a193a4831ea57fe0a5",
            "f97688be03a848298a8239450e401955",
            "d2b003ada6674df6a4d30001434f3f98",
            "09e08ba45a524d9b9bc52006ff2fc634",
            "8dd7ebaf00874335b368f97e72141775",
            "53907413d3c44fad80f871adf802efc0",
            "6b58437120884fa0912990b5df5ff61e",
            "09cc942057d745bebb3a124652270b21",
            "fd8f03c40bc6485993528092ac40eb0e",
            "c37de7c271ea4493a80f6c4a2fb20abc",
            "fafefce289a649dab9e45bf905130a44",
            "58b34750317e4edeb7031bb4f6c7b2f0",
            "7c42bfd9115c4b85a023a24462bcc61b",
            "2ea9ca59dd5f497ba34c14bf043ede98",
            "0d8b937666d14f37a66ad57dee2656ba",
            "9d31454e6791489dbd4aedc9ff786ab5",
            "4c4a2e5385ab4b33a714461d93646b66",
            "1e2e4f419da645f89635a3793431839a",
            "bc697c3005ff4cc3ac6e690e0489d7e7",
            "09e58a206575438c8c33ab42d800f2d8",
            "d66566470fbc4e3899c2bbfc4cec1b11",
            "43d38ea9c5ba4eb5a642ca334e9dc70b",
            "fb9775d62b694159ad0a9fe5c12287b1",
            "0d7e552b91cf469697d9427ba0ec76ea",
            "911c6411a80a4bc1a64eef590008c67d",
            "7feba62cd3784936acd9f16a3a13a596",
            "6ebdc59fc4484310959193b405769845",
            "0cae6ef6307c468c9cc27cecf017329b",
            "d846f0e69dfc45d3a47524c50fcd0892",
            "fb4ad60155c84fcf88aaa938deb4476d",
            "025d9d06dea34323a2ac5caff18df7e5",
            "69d0651ae267466ca4b1320df712669b",
            "99db2239d5fc44fbbdf30bee10f59aad",
            "ec76cca2385e4096a0f74e79ab4e4609",
            "6e9ec2793d3d4bf0934ee513adf060f5",
            "c44da0fab14744a6ae14c473a7599a79",
            "9d4fb58abaeb49d79f54a8ae8e533061",
            "c29168c61e3344b9aad593ac65d84624",
            "f0cda1c3c82949cb947a6cb0604375d5",
            "54d6b4c76f7d4f9aadf8561b90354cc3",
            "560cd9280709474db28114ee3b813988",
            "ea1321ab797047b7bcca5a2ad300d279",
            "7823736b8bfe47c2b133d61879d4e22a",
            "bc1d20c7bdf844a5886a70197070bcbd",
            "5030b1d125ea4247835d5b84da88272d",
            "d50f9d3881534f0cbdb4f69a0e05818b",
            "9516f7a375b8498c8b04db391f05c1cb",
            "93c2582b1b924cfcaf73dd1b2ca60d88",
            "f697b90784d4416194631a660e83a31a",
            "92dd0500a0f04beda2b46b3ce149cff7",
            "02bbede63a584d65a0c03445c00cbf43",
            "30100ba1bcbe418996c107b31e2091ed",
            "1cf0ffac7ae04532a38817cdd2bbf067",
            "ece8eb4b1e04468c82342cb7e5e50a79",
            "f06543ade6b24bf29f4c9a2465f6cc92",
            "63da91d8f0db41bcbcee6c2af73893e7",
            "7bd5b779158146f39674dbbe80cb0650",
            "f5e6502dc371447a9dc631df8b68f285",
            "6441845696ff4a0ebf7616d6d58bb26e",
            "7ce5e599e5184fca853b2df6cb045867",
            "dc459592d20249de8f45d81bf6953d49",
            "469e226f749e40958153fa0812f5929e",
            "5ae18e48670941f2b23d0bff16cb7eee",
            "67b2dc620dfe42a58cc8b380c0bc46a7",
            "1b04617ae8b94ca8b30cd1c275587913",
            "3dd8f9d13bd249c785de27e8a2730fb7",
            "d51768da9f494f0fbbb8e9b76837c0a5",
            "c42b706f89944f4aa000e009417d27af",
            "0938824ac96645e788b70308ca922cef",
            "8f0265e1b11b405da0c97bed4af26293",
            "6c3756010eda42e5a85ea29e60cacdf7",
            "0b3ae3d4923f4e49a1016885a04ce5fd",
            "97b6bd33ec424849b8df80796c168afa",
            "9e3f0d35e5f8482d9105322bbeb63927",
            "074db2880fda4147a44c919cfd8cd597",
            "e6b178409ffc4107bf205c80890af43f",
            "8bd7b98b1bd1403bb535dedb96b99627",
            "5d551b4d20bb41baaffcba0d1d167cf7",
            "88d82076db9245728e67a375659775b9",
            "d49e246b63a24f9f9c8c958d3170c218",
            "268a02dbd6d342339335252f04313e4c",
            "79cb2b0f03b44ca0b3831c78e356b6c2",
            "1130c76ee55b4eacbf1ba5dfa6347d50",
            "c6a3caad4a014ebf8a69ff3617e6de30",
            "5d3496bee2074ddc87f19d61694664c2",
            "2ff46a0d316a46369f7eabb8ff3e3ae9",
            "bee0fd50fdd8433bb201af684523223e",
            "21936e5863dd400ebfb79fb7d570e7fa",
            "f35c38b828db4428b00d31b5d51c8256",
            "aabfe378a221417486a3497e9a2a2133",
            "990327ed60ef49ff9349d47f651cf56b",
            "bb8374d5e8564c8cb4a863aed8f661a6",
            "1d72270b8b924a15ae6b2921b9b5be00",
            "d9f8539de6cf4bb89499cebaf92fb5b2",
            "fa832dc3c12b43a799081aa412211ae4",
            "fca4b85c1eb641ea9185445e893a57cd",
            "fc020006411340a085c6d81c8fa5db66"
          ]
        },
        "id": "cvhj3hD7YU1Y",
        "scrolled": true,
        "outputId": "e2c2de7a-ebf6-4372-f1e1-d4c03d16d971"
      },
      "outputs": [
        {
          "output_type": "display_data",
          "data": {
            "text/plain": [
              "  0%|          | 0/130 [00:00<?, ?it/s]"
            ],
            "application/vnd.jupyter.widget-view+json": {
              "version_major": 2,
              "version_minor": 0,
              "model_id": "07c454ab2e8b4eb2ab5a46d649bd01f0"
            }
          },
          "metadata": {}
        },
        {
          "output_type": "stream",
          "name": "stdout",
          "text": [
            "Epoch,Train Loss,Valid Recall@25,Valid NDCG@25,Valid Coverage,Valid Score\n",
            "00  18771.078120  0.149688  0.109441  0.003286  0.139626\n"
          ]
        },
        {
          "output_type": "display_data",
          "data": {
            "text/plain": [
              "  0%|          | 0/130 [00:00<?, ?it/s]"
            ],
            "application/vnd.jupyter.widget-view+json": {
              "version_major": 2,
              "version_minor": 0,
              "model_id": "f5a038d87c6a49a6a2611631517d605f"
            }
          },
          "metadata": {}
        },
        {
          "output_type": "stream",
          "name": "stdout",
          "text": [
            "01  10369.666990  0.216447  0.171918  0.005868  0.205314\n"
          ]
        },
        {
          "output_type": "display_data",
          "data": {
            "text/plain": [
              "  0%|          | 0/130 [00:00<?, ?it/s]"
            ],
            "application/vnd.jupyter.widget-view+json": {
              "version_major": 2,
              "version_minor": 0,
              "model_id": "4a2821fbc164411bb3331e061bf5739d"
            }
          },
          "metadata": {}
        },
        {
          "output_type": "stream",
          "name": "stdout",
          "text": [
            "02  8539.911130  0.353885  0.264283  0.055396  0.331485\n"
          ]
        },
        {
          "output_type": "display_data",
          "data": {
            "text/plain": [
              "  0%|          | 0/130 [00:00<?, ?it/s]"
            ],
            "application/vnd.jupyter.widget-view+json": {
              "version_major": 2,
              "version_minor": 0,
              "model_id": "c37de7c271ea4493a80f6c4a2fb20abc"
            }
          },
          "metadata": {}
        },
        {
          "output_type": "stream",
          "name": "stdout",
          "text": [
            "03  6473.331050  0.446617  0.328723  0.124947  0.417144\n"
          ]
        },
        {
          "output_type": "display_data",
          "data": {
            "text/plain": [
              "  0%|          | 0/130 [00:00<?, ?it/s]"
            ],
            "application/vnd.jupyter.widget-view+json": {
              "version_major": 2,
              "version_minor": 0,
              "model_id": "d66566470fbc4e3899c2bbfc4cec1b11"
            }
          },
          "metadata": {}
        },
        {
          "output_type": "stream",
          "name": "stdout",
          "text": [
            "04  4493.409180  0.481393  0.351133  0.189639  0.448828\n"
          ]
        },
        {
          "output_type": "display_data",
          "data": {
            "text/plain": [
              "  0%|          | 0/130 [00:00<?, ?it/s]"
            ],
            "application/vnd.jupyter.widget-view+json": {
              "version_major": 2,
              "version_minor": 0,
              "model_id": "69d0651ae267466ca4b1320df712669b"
            }
          },
          "metadata": {}
        },
        {
          "output_type": "stream",
          "name": "stdout",
          "text": [
            "05  2917.175050  0.494643  0.359352  0.254824  0.460820\n"
          ]
        },
        {
          "output_type": "display_data",
          "data": {
            "text/plain": [
              "  0%|          | 0/130 [00:00<?, ?it/s]"
            ],
            "application/vnd.jupyter.widget-view+json": {
              "version_major": 2,
              "version_minor": 0,
              "model_id": "7823736b8bfe47c2b133d61879d4e22a"
            }
          },
          "metadata": {}
        },
        {
          "output_type": "stream",
          "name": "stdout",
          "text": [
            "06  2149.114500  0.499118  0.359699  0.300432  0.464263\n"
          ]
        },
        {
          "output_type": "display_data",
          "data": {
            "text/plain": [
              "  0%|          | 0/130 [00:00<?, ?it/s]"
            ],
            "application/vnd.jupyter.widget-view+json": {
              "version_major": 2,
              "version_minor": 0,
              "model_id": "ece8eb4b1e04468c82342cb7e5e50a79"
            }
          },
          "metadata": {}
        },
        {
          "output_type": "stream",
          "name": "stdout",
          "text": [
            "07  1442.527340  0.499353  0.361463  0.303507  0.464881\n"
          ]
        },
        {
          "output_type": "display_data",
          "data": {
            "text/plain": [
              "  0%|          | 0/130 [00:00<?, ?it/s]"
            ],
            "application/vnd.jupyter.widget-view+json": {
              "version_major": 2,
              "version_minor": 0,
              "model_id": "1b04617ae8b94ca8b30cd1c275587913"
            }
          },
          "metadata": {}
        },
        {
          "output_type": "stream",
          "name": "stdout",
          "text": [
            "08  1007.359130  0.500229  0.358569  0.341745  0.464814\n"
          ]
        },
        {
          "output_type": "display_data",
          "data": {
            "text/plain": [
              "  0%|          | 0/130 [00:00<?, ?it/s]"
            ],
            "application/vnd.jupyter.widget-view+json": {
              "version_major": 2,
              "version_minor": 0,
              "model_id": "e6b178409ffc4107bf205c80890af43f"
            }
          },
          "metadata": {}
        },
        {
          "output_type": "stream",
          "name": "stdout",
          "text": [
            "09  688.583010  0.499689  0.360723  0.324492  0.464948\n"
          ]
        },
        {
          "output_type": "display_data",
          "data": {
            "text/plain": [
              "  0%|          | 0/130 [00:00<?, ?it/s]"
            ],
            "application/vnd.jupyter.widget-view+json": {
              "version_major": 2,
              "version_minor": 0,
              "model_id": "bee0fd50fdd8433bb201af684523223e"
            }
          },
          "metadata": {}
        },
        {
          "output_type": "stream",
          "name": "stdout",
          "text": [
            "10  494.310970  0.499844  0.359196  0.341721  0.464682\n"
          ]
        }
      ],
      "source": [
        "total_logs = defaultdict(list)\n",
        "best_scores  = 0\n",
        "for epoch in range(cfg.epochs+1):\n",
        "    cfg.epoch = epoch\n",
        "    train_results = train_epoch(cfg, model2, optimizer, criterion)\n",
        "    \n",
        "    # cfg.check_epoch 번의 epoch 마다 성능 확인 \n",
        "    if epoch % cfg.check_epoch == 0: \n",
        "        valid_results, _ = valid_epoch(cfg, model2, valid)\n",
        "\n",
        "        logs = {\n",
        "            'Train Loss': train_results['losses'],\n",
        "            f'Valid Recall@{cfg.top_k}': valid_results['recall'],\n",
        "            f'Valid NDCG@{cfg.top_k}': valid_results['ndcg'],\n",
        "            'Valid Coverage': valid_results['coverage'],\n",
        "            'Valid Score': valid_results['score'],\n",
        "            }\n",
        "\n",
        "        # 검증 성능 확인 \n",
        "        for key, value in logs.items():\n",
        "            total_logs[key].append(value)\n",
        "\n",
        "        if epoch == 0:\n",
        "            print(\"Epoch\", end=\",\")\n",
        "            print(\",\".join(logs.keys()))\n",
        "\n",
        "        print(f\"{epoch:02d}  \", end=\"\")\n",
        "        print(\"  \".join([f\"{v:0.6f}\" for v in logs.values()]))\n",
        "        \n",
        "        # 가장 성능이 좋은 가중치 파일을 저장 \n",
        "        if best_scores <= valid_results['score']: \n",
        "            best_scores = valid_results['score']\n",
        "            torch.save(model2.state_dict(), os.path.join('/content/drive/MyDrive/code/saved', 'model2(best_scores).pth'))"
      ]
    },
    {
      "cell_type": "code",
      "source": [
        "total_logs = defaultdict(list)\n",
        "best_scores  = 0\n",
        "for epoch in range(cfg.epochs+1):\n",
        "    cfg.epoch = epoch\n",
        "    train_results = train_epoch(cfg, model2, optimizer, criterion)\n",
        "    \n",
        "    # cfg.check_epoch 번의 epoch 마다 성능 확인 \n",
        "    if epoch % cfg.check_epoch == 0: \n",
        "        valid_results, _ = valid_epoch(cfg, model2, valid)\n",
        "\n",
        "        logs = {\n",
        "            'Train Loss': train_results['losses'],\n",
        "            f'Valid Recall@{cfg.top_k}': valid_results['recall'],\n",
        "            f'Valid NDCG@{cfg.top_k}': valid_results['ndcg'],\n",
        "            'Valid Coverage': valid_results['coverage'],\n",
        "            'Valid Score': valid_results['score'],\n",
        "            }\n",
        "\n",
        "        # 검증 성능 확인 \n",
        "        for key, value in logs.items():\n",
        "            total_logs[key].append(value)\n",
        "\n",
        "        if epoch == 0:\n",
        "            print(\"Epoch\", end=\",\")\n",
        "            print(\",\".join(logs.keys()))\n",
        "\n",
        "        print(f\"{epoch:02d}  \", end=\"\")\n",
        "        print(\"  \".join([f\"{v:0.6f}\" for v in logs.values()]))\n",
        "        \n",
        "        # 가장 성능이 좋은 가중치 파일을 저장 \n",
        "        if best_scores <= valid_results['score']: \n",
        "            best_scores = valid_results['score']\n",
        "            torch.save(model2.state_dict(), os.path.join('/content/drive/MyDrive/code/saved', 'model2(best_scores).pth'))"
      ],
      "metadata": {
        "id": "cEJNEMpkcPof"
      },
      "execution_count": null,
      "outputs": []
    },
    {
      "cell_type": "markdown",
      "metadata": {
        "id": "UNVpn37RYU1Z"
      },
      "source": [
        "### 학습 과정 시각화"
      ]
    },
    {
      "cell_type": "code",
      "execution_count": 37,
      "metadata": {
        "id": "BgMKJhFopIgO"
      },
      "outputs": [],
      "source": [
        "train_scores = pd.DataFrame({'Train loss': total_logs['Train Loss']})\n",
        "train_scores['Epoch'] = range(0, cfg.epochs+1, cfg.check_epoch)"
      ]
    },
    {
      "cell_type": "code",
      "execution_count": 38,
      "metadata": {
        "colab": {
          "base_uri": "https://localhost:8080/",
          "height": 465
        },
        "id": "pc38iyoQpIgO",
        "outputId": "c9c04c96-0c46-4def-8013-e8ff4fabbf11"
      },
      "outputs": [
        {
          "output_type": "display_data",
          "data": {
            "text/plain": [
              "<Figure size 640x480 with 1 Axes>"
            ],
            "image/png": "[encoded data removed]"
          },
          "metadata": {}
        },
        {
          "output_type": "execute_result",
          "data": {
            "text/plain": [
              "<ggplot: (8758663100657)>"
            ]
          },
          "metadata": {},
          "execution_count": 38
        }
      ],
      "source": [
        "(\n",
        "    ggplot(train_scores, aes(x='Epoch', y='Train loss'))+ geom_line(color='black') # line plot\n",
        "        + labs(x='Epoch', y='Train Loss')\n",
        "        + theme_light()\n",
        ")"
      ]
    },
    {
      "cell_type": "code",
      "execution_count": 39,
      "metadata": {
        "id": "Lt8WpRwqpIgO"
      },
      "outputs": [],
      "source": [
        "valid_scores = pd.DataFrame(np.hstack([(range(0, cfg.epochs+1, cfg.check_epoch), total_logs[score], [score for i in range(0, cfg.epochs+1, cfg.check_epoch)]) for score in ['Valid Recall@25', 'Valid NDCG@25', 'Valid Coverage', 'Valid Score']])).T\n",
        "valid_scores.columns = ['Epoch', 'Score', 'Metric']\n",
        "valid_scores['Epoch'] = valid_scores['Epoch'].astype(int)\n",
        "valid_scores['Score'] = valid_scores['Score'].astype(float)"
      ]
    },
    {
      "cell_type": "code",
      "execution_count": 40,
      "metadata": {
        "colab": {
          "base_uri": "https://localhost:8080/",
          "height": 465
        },
        "id": "xTh8QRBwpIgP",
        "outputId": "2a66b798-aa70-460c-d250-8a2f4e0934d6"
      },
      "outputs": [
        {
          "output_type": "display_data",
          "data": {
            "text/plain": [
              "<Figure size 640x480 with 1 Axes>"
            ],
            "image/png": "[encoded data removed]"
          },
          "metadata": {}
        },
        {
          "output_type": "execute_result",
          "data": {
            "text/plain": [
              "<ggplot: (8758671463925)>"
            ]
          },
          "metadata": {},
          "execution_count": 40
        }
      ],
      "source": [
        "(\n",
        "ggplot(valid_scores)  # here\n",
        "    + aes(\"Epoch\", \"Score\", color='Metric', group='Metric')\n",
        "    + geom_line()\n",
        "    + scale_y_continuous(breaks=[0.1*c for c in range(1, 10, 1)])\n",
        "    + theme_light()\n",
        "    + labs(x='Epoch', y='Valid Metric')\n",
        ")  "
      ]
    },
    {
      "cell_type": "markdown",
      "metadata": {
        "id": "NWl3yvtlpIgP"
      },
      "source": [
        "## 제출 \n",
        "### 모든 유저에 대해 추천 결과 생성"
      ]
    },
    {
      "cell_type": "code",
      "execution_count": 41,
      "metadata": {
        "colab": {
          "base_uri": "https://localhost:8080/"
        },
        "id": "-JgaNDg6pIgP",
        "outputId": "be2d1b1a-e979-4bf2-b1d4-c8d28ae1521c",
        "scrolled": true
      },
      "outputs": [
        {
          "output_type": "execute_result",
          "data": {
            "text/plain": [
              "<All keys matched successfully>"
            ]
          },
          "metadata": {},
          "execution_count": 41
        }
      ],
      "source": [
        "model2.load_state_dict(torch.load(os.path.join('/content/drive/MyDrive/code/saved', 'model2(best_scores).pth')))"
      ]
    },
    {
      "cell_type": "code",
      "execution_count": 42,
      "metadata": {
        "id": "cN7aSROUpIgQ"
      },
      "outputs": [],
      "source": [
        "submission_path = os.path.join('/content/drive/MyDrive/data', 'sample_submission.csv')\n",
        "submission = pd.read_csv(submission_path)\n",
        "submission = valid_epoch(cfg, model2, submission, mode='test')"
      ]
    },
    {
      "cell_type": "markdown",
      "metadata": {
        "id": "nEBDKg9opIgQ"
      },
      "source": [
        "### 저장"
      ]
    },
    {
      "cell_type": "code",
      "execution_count": 43,
      "metadata": {
        "id": "6N2Gv9J6pIgQ"
      },
      "outputs": [],
      "source": [
        "submission.to_csv(os.path.join('/content/drive/MyDrive/data', 'submission2_changed.csv'), index = False)"
      ]
    },
    {
      "cell_type": "code",
      "execution_count": null,
      "metadata": {
        "colab": {
          "base_uri": "https://localhost:8080/"
        },
        "id": "IW0zWp9XvEqI",
        "outputId": "49f43289-6604-4174-d035-2c89feb3fe9a"
      },
      "outputs": [
        {
          "data": {
            "text/plain": [
              "(179851, 4)"
            ]
          },
          "execution_count": 191,
          "metadata": {},
          "output_type": "execute_result"
        }
      ],
      "source": [
        "valid.shape"
      ]
    },
    {
      "cell_type": "code",
      "execution_count": null,
      "metadata": {
        "id": "gZgpZEZmvULd"
      },
      "outputs": [],
      "source": []
    },
    {
      "cell_type": "code",
      "execution_count": null,
      "metadata": {
        "colab": {
          "base_uri": "https://localhost:8080/"
        },
        "id": "_flkPMnvvUKJ",
        "outputId": "1e0bcc3d-9d49-4cbe-9045-ba1378d88cfc"
      },
      "outputs": [
        {
          "data": {
            "text/plain": [
              "Index(['log_time', 'album_id', 'sex', 'age', 'title', 'sub_title',\n",
              "       'genre_large', 'genre_mid', 'genre_small', 'country', 'run_time',\n",
              "       'onair_date', 'cast_1', 'cast_2', 'cast_3', 'cast_4', 'cast_5',\n",
              "       'cast_6', 'cast_7', 'views'],\n",
              "      dtype='object')"
            ]
          },
          "execution_count": 193,
          "metadata": {},
          "output_type": "execute_result"
        }
      ],
      "source": [
        "df.columns"
      ]
    },
    {
      "cell_type": "code",
      "execution_count": null,
      "metadata": {
        "id": "CUW1e7D6uWLM"
      },
      "outputs": [],
      "source": [
        "valid_df = pd.merge(valid, df[['profile_id','views']], \"left\", on = 'profile_id')\n",
        "valid_df.shape"
      ]
    },
    {
      "cell_type": "code",
      "execution_count": null,
      "metadata": {
        "id": "1UO3lk2kqZPs"
      },
      "outputs": [],
      "source": [
        "val_pred = valid_epoch(cfg, model, valid)"
      ]
    },
    {
      "cell_type": "code",
      "execution_count": null,
      "metadata": {
        "id": "NEghtperue6d"
      },
      "outputs": [],
      "source": [
        "from sklearn.metrics import classification_report, confusion_matrix\n",
        "\n",
        "classification_report(val_pred)"
      ]
    }
  ],
  "metadata": {
    "colab": {
      "provenance": [],
      "machine_shape": "hm",
      "authorship_tag": "ABX9TyPrbv+kw+Q6tAPhP3Fza3Qq",
      "include_colab_link": true
    },
    "gpuClass": "standard",
    "kernelspec": {
      "display_name": "Python 3",
      "name": "python3"
    },
    "language_info": {
      "name": "python"
    },
    "widgets": {
      "application/vnd.jupyter.widget-state+json": {
        "81302b7b5ad544cbb9a5f89850cc135c": {
          "model_module": "@jupyter-widgets/controls",
          "model_name": "HBoxModel",
          "model_module_version": "1.5.0",
          "state": {
            "_dom_classes": [],
            "_model_module": "@jupyter-widgets/controls",
            "_model_module_version": "1.5.0",
            "_model_name": "HBoxModel",
            "_view_count": null,
            "_view_module": "@jupyter-widgets/controls",
            "_view_module_version": "1.5.0",
            "_view_name": "HBoxView",
            "box_style": "",
            "children": [
              "IPY_MODEL_0ba5fd15183443eca9590949b957c0d0",
              "IPY_MODEL_de486044a7e945b8a32d60e40aff22a3",
              "IPY_MODEL_a3f30c41eb2c46298dbf4f4e42cb1230"
            ],
            "layout": "IPY_MODEL_59fd5fc3e3124c59a1d3f08700eff7c3"
          }
        },
        "0ba5fd15183443eca9590949b957c0d0": {
          "model_module": "@jupyter-widgets/controls",
          "model_name": "HTMLModel",
          "model_module_version": "1.5.0",
          "state": {
            "_dom_classes": [],
            "_model_module": "@jupyter-widgets/controls",
            "_model_module_version": "1.5.0",
            "_model_name": "HTMLModel",
            "_view_count": null,
            "_view_module": "@jupyter-widgets/controls",
            "_view_module_version": "1.5.0",
            "_view_name": "HTMLView",
            "description": "",
            "description_tooltip": null,
            "layout": "IPY_MODEL_52d3221e01c84026971280a093c05e89",
            "placeholder": "​",
            "style": "IPY_MODEL_ccbe259357f4445f9479eeed46989fcd",
            "value": "100%"
          }
        },
        "de486044a7e945b8a32d60e40aff22a3": {
          "model_module": "@jupyter-widgets/controls",
          "model_name": "FloatProgressModel",
          "model_module_version": "1.5.0",
          "state": {
            "_dom_classes": [],
            "_model_module": "@jupyter-widgets/controls",
            "_model_module_version": "1.5.0",
            "_model_name": "FloatProgressModel",
            "_view_count": null,
            "_view_module": "@jupyter-widgets/controls",
            "_view_module_version": "1.5.0",
            "_view_name": "ProgressView",
            "bar_style": "success",
            "description": "",
            "description_tooltip": null,
            "layout": "IPY_MODEL_02db36b5ca34450c8a9e4e7263cf79c3",
            "max": 719401,
            "min": 0,
            "orientation": "horizontal",
            "style": "IPY_MODEL_3b3431204d5144de8399ccd675a16cae",
            "value": 719401
          }
        },
        "a3f30c41eb2c46298dbf4f4e42cb1230": {
          "model_module": "@jupyter-widgets/controls",
          "model_name": "HTMLModel",
          "model_module_version": "1.5.0",
          "state": {
            "_dom_classes": [],
            "_model_module": "@jupyter-widgets/controls",
            "_model_module_version": "1.5.0",
            "_model_name": "HTMLModel",
            "_view_count": null,
            "_view_module": "@jupyter-widgets/controls",
            "_view_module_version": "1.5.0",
            "_view_name": "HTMLView",
            "description": "",
            "description_tooltip": null,
            "layout": "IPY_MODEL_2009af848634498fb01746239e64dbd0",
            "placeholder": "​",
            "style": "IPY_MODEL_0b57008604644ac6b8a2d26ef7962094",
            "value": " 719401/719401 [00:03&lt;00:00, 197012.56it/s]"
          }
        },
        "59fd5fc3e3124c59a1d3f08700eff7c3": {
          "model_module": "@jupyter-widgets/base",
          "model_name": "LayoutModel",
          "model_module_version": "1.2.0",
          "state": {
            "_model_module": "@jupyter-widgets/base",
            "_model_module_version": "1.2.0",
            "_model_name": "LayoutModel",
            "_view_count": null,
            "_view_module": "@jupyter-widgets/base",
            "_view_module_version": "1.2.0",
            "_view_name": "LayoutView",
            "align_content": null,
            "align_items": null,
            "align_self": null,
            "border": null,
            "bottom": null,
            "display": null,
            "flex": null,
            "flex_flow": null,
            "grid_area": null,
            "grid_auto_columns": null,
            "grid_auto_flow": null,
            "grid_auto_rows": null,
            "grid_column": null,
            "grid_gap": null,
            "grid_row": null,
            "grid_template_areas": null,
            "grid_template_columns": null,
            "grid_template_rows": null,
            "height": null,
            "justify_content": null,
            "justify_items": null,
            "left": null,
            "margin": null,
            "max_height": null,
            "max_width": null,
            "min_height": null,
            "min_width": null,
            "object_fit": null,
            "object_position": null,
            "order": null,
            "overflow": null,
            "overflow_x": null,
            "overflow_y": null,
            "padding": null,
            "right": null,
            "top": null,
            "visibility": null,
            "width": null
          }
        },
        "52d3221e01c84026971280a093c05e89": {
          "model_module": "@jupyter-widgets/base",
          "model_name": "LayoutModel",
          "model_module_version": "1.2.0",
          "state": {
            "_model_module": "@jupyter-widgets/base",
            "_model_module_version": "1.2.0",
            "_model_name": "LayoutModel",
            "_view_count": null,
            "_view_module": "@jupyter-widgets/base",
            "_view_module_version": "1.2.0",
            "_view_name": "LayoutView",
            "align_content": null,
            "align_items": null,
            "align_self": null,
            "border": null,
            "bottom": null,
            "display": null,
            "flex": null,
            "flex_flow": null,
            "grid_area": null,
            "grid_auto_columns": null,
            "grid_auto_flow": null,
            "grid_auto_rows": null,
            "grid_column": null,
            "grid_gap": null,
            "grid_row": null,
            "grid_template_areas": null,
            "grid_template_columns": null,
            "grid_template_rows": null,
            "height": null,
            "justify_content": null,
            "justify_items": null,
            "left": null,
            "margin": null,
            "max_height": null,
            "max_width": null,
            "min_height": null,
            "min_width": null,
            "object_fit": null,
            "object_position": null,
            "order": null,
            "overflow": null,
            "overflow_x": null,
            "overflow_y": null,
            "padding": null,
            "right": null,
            "top": null,
            "visibility": null,
            "width": null
          }
        },
        "ccbe259357f4445f9479eeed46989fcd": {
          "model_module": "@jupyter-widgets/controls",
          "model_name": "DescriptionStyleModel",
          "model_module_version": "1.5.0",
          "state": {
            "_model_module": "@jupyter-widgets/controls",
            "_model_module_version": "1.5.0",
            "_model_name": "DescriptionStyleModel",
            "_view_count": null,
            "_view_module": "@jupyter-widgets/base",
            "_view_module_version": "1.2.0",
            "_view_name": "StyleView",
            "description_width": ""
          }
        },
        "02db36b5ca34450c8a9e4e7263cf79c3": {
          "model_module": "@jupyter-widgets/base",
          "model_name": "LayoutModel",
          "model_module_version": "1.2.0",
          "state": {
            "_model_module": "@jupyter-widgets/base",
            "_model_module_version": "1.2.0",
            "_model_name": "LayoutModel",
            "_view_count": null,
            "_view_module": "@jupyter-widgets/base",
            "_view_module_version": "1.2.0",
            "_view_name": "LayoutView",
            "align_content": null,
            "align_items": null,
            "align_self": null,
            "border": null,
            "bottom": null,
            "display": null,
            "flex": null,
            "flex_flow": null,
            "grid_area": null,
            "grid_auto_columns": null,
            "grid_auto_flow": null,
            "grid_auto_rows": null,
            "grid_column": null,
            "grid_gap": null,
            "grid_row": null,
            "grid_template_areas": null,
            "grid_template_columns": null,
            "grid_template_rows": null,
            "height": null,
            "justify_content": null,
            "justify_items": null,
            "left": null,
            "margin": null,
            "max_height": null,
            "max_width": null,
            "min_height": null,
            "min_width": null,
            "object_fit": null,
            "object_position": null,
            "order": null,
            "overflow": null,
            "overflow_x": null,
            "overflow_y": null,
            "padding": null,
            "right": null,
            "top": null,
            "visibility": null,
            "width": null
          }
        },
        "3b3431204d5144de8399ccd675a16cae": {
          "model_module": "@jupyter-widgets/controls",
          "model_name": "ProgressStyleModel",
          "model_module_version": "1.5.0",
          "state": {
            "_model_module": "@jupyter-widgets/controls",
            "_model_module_version": "1.5.0",
            "_model_name": "ProgressStyleModel",
            "_view_count": null,
            "_view_module": "@jupyter-widgets/base",
            "_view_module_version": "1.2.0",
            "_view_name": "StyleView",
            "bar_color": null,
            "description_width": ""
          }
        },
        "2009af848634498fb01746239e64dbd0": {
          "model_module": "@jupyter-widgets/base",
          "model_name": "LayoutModel",
          "model_module_version": "1.2.0",
          "state": {
            "_model_module": "@jupyter-widgets/base",
            "_model_module_version": "1.2.0",
            "_model_name": "LayoutModel",
            "_view_count": null,
            "_view_module": "@jupyter-widgets/base",
            "_view_module_version": "1.2.0",
            "_view_name": "LayoutView",
            "align_content": null,
            "align_items": null,
            "align_self": null,
            "border": null,
            "bottom": null,
            "display": null,
            "flex": null,
            "flex_flow": null,
            "grid_area": null,
            "grid_auto_columns": null,
            "grid_auto_flow": null,
            "grid_auto_rows": null,
            "grid_column": null,
            "grid_gap": null,
            "grid_row": null,
            "grid_template_areas": null,
            "grid_template_columns": null,
            "grid_template_rows": null,
            "height": null,
            "justify_content": null,
            "justify_items": null,
            "left": null,
            "margin": null,
            "max_height": null,
            "max_width": null,
            "min_height": null,
            "min_width": null,
            "object_fit": null,
            "object_position": null,
            "order": null,
            "overflow": null,
            "overflow_x": null,
            "overflow_y": null,
            "padding": null,
            "right": null,
            "top": null,
            "visibility": null,
            "width": null
          }
        },
        "0b57008604644ac6b8a2d26ef7962094": {
          "model_module": "@jupyter-widgets/controls",
          "model_name": "DescriptionStyleModel",
          "model_module_version": "1.5.0",
          "state": {
            "_model_module": "@jupyter-widgets/controls",
            "_model_module_version": "1.5.0",
            "_model_name": "DescriptionStyleModel",
            "_view_count": null,
            "_view_module": "@jupyter-widgets/base",
            "_view_module_version": "1.2.0",
            "_view_name": "StyleView",
            "description_width": ""
          }
        },
        "c89f0f46aba54a5b8bb18bcb1e8c571e": {
          "model_module": "@jupyter-widgets/controls",
          "model_name": "HBoxModel",
          "model_module_version": "1.5.0",
          "state": {
            "_dom_classes": [],
            "_model_module": "@jupyter-widgets/controls",
            "_model_module_version": "1.5.0",
            "_model_name": "HBoxModel",
            "_view_count": null,
            "_view_module": "@jupyter-widgets/controls",
            "_view_module_version": "1.5.0",
            "_view_name": "HBoxView",
            "box_style": "",
            "children": [
              "IPY_MODEL_33a5f5e1bc0144d59c1df1fabca0fa85",
              "IPY_MODEL_7a4aee63ed804d8fb68f9ca332e32b63",
              "IPY_MODEL_5e1265ddb7714fdea53b03d7b4e95866"
            ],
            "layout": "IPY_MODEL_598ad0f7e6974ab091fb85cddf3144a9"
          }
        },
        "33a5f5e1bc0144d59c1df1fabca0fa85": {
          "model_module": "@jupyter-widgets/controls",
          "model_name": "HTMLModel",
          "model_module_version": "1.5.0",
          "state": {
            "_dom_classes": [],
            "_model_module": "@jupyter-widgets/controls",
            "_model_module_version": "1.5.0",
            "_model_name": "HTMLModel",
            "_view_count": null,
            "_view_module": "@jupyter-widgets/controls",
            "_view_module_version": "1.5.0",
            "_view_name": "HTMLView",
            "description": "",
            "description_tooltip": null,
            "layout": "IPY_MODEL_7fcfc144976b406f93f63b04402923ab",
            "placeholder": "​",
            "style": "IPY_MODEL_3e1ca3b82013479982890878e1fcf01b",
            "value": "100%"
          }
        },
        "7a4aee63ed804d8fb68f9ca332e32b63": {
          "model_module": "@jupyter-widgets/controls",
          "model_name": "FloatProgressModel",
          "model_module_version": "1.5.0",
          "state": {
            "_dom_classes": [],
            "_model_module": "@jupyter-widgets/controls",
            "_model_module_version": "1.5.0",
            "_model_name": "FloatProgressModel",
            "_view_count": null,
            "_view_module": "@jupyter-widgets/controls",
            "_view_module_version": "1.5.0",
            "_view_name": "ProgressView",
            "bar_style": "success",
            "description": "",
            "description_tooltip": null,
            "layout": "IPY_MODEL_17b697825d8d4190aa8dde71549177b2",
            "max": 644,
            "min": 0,
            "orientation": "horizontal",
            "style": "IPY_MODEL_ac28ed6d820643fba154b080b0eba506",
            "value": 644
          }
        },
        "5e1265ddb7714fdea53b03d7b4e95866": {
          "model_module": "@jupyter-widgets/controls",
          "model_name": "HTMLModel",
          "model_module_version": "1.5.0",
          "state": {
            "_dom_classes": [],
            "_model_module": "@jupyter-widgets/controls",
            "_model_module_version": "1.5.0",
            "_model_name": "HTMLModel",
            "_view_count": null,
            "_view_module": "@jupyter-widgets/controls",
            "_view_module_version": "1.5.0",
            "_view_name": "HTMLView",
            "description": "",
            "description_tooltip": null,
            "layout": "IPY_MODEL_8afb1af823174542b4d0a4e9f5e7eeb4",
            "placeholder": "​",
            "style": "IPY_MODEL_7f6e6a5fe1764c71996872f46094f259",
            "value": " 644/644 [00:00&lt;00:00, 2655.55it/s]"
          }
        },
        "598ad0f7e6974ab091fb85cddf3144a9": {
          "model_module": "@jupyter-widgets/base",
          "model_name": "LayoutModel",
          "model_module_version": "1.2.0",
          "state": {
            "_model_module": "@jupyter-widgets/base",
            "_model_module_version": "1.2.0",
            "_model_name": "LayoutModel",
            "_view_count": null,
            "_view_module": "@jupyter-widgets/base",
            "_view_module_version": "1.2.0",
            "_view_name": "LayoutView",
            "align_content": null,
            "align_items": null,
            "align_self": null,
            "border": null,
            "bottom": null,
            "display": null,
            "flex": null,
            "flex_flow": null,
            "grid_area": null,
            "grid_auto_columns": null,
            "grid_auto_flow": null,
            "grid_auto_rows": null,
            "grid_column": null,
            "grid_gap": null,
            "grid_row": null,
            "grid_template_areas": null,
            "grid_template_columns": null,
            "grid_template_rows": null,
            "height": null,
            "justify_content": null,
            "justify_items": null,
            "left": null,
            "margin": null,
            "max_height": null,
            "max_width": null,
            "min_height": null,
            "min_width": null,
            "object_fit": null,
            "object_position": null,
            "order": null,
            "overflow": null,
            "overflow_x": null,
            "overflow_y": null,
            "padding": null,
            "right": null,
            "top": null,
            "visibility": null,
            "width": null
          }
        },
        "7fcfc144976b406f93f63b04402923ab": {
          "model_module": "@jupyter-widgets/base",
          "model_name": "LayoutModel",
          "model_module_version": "1.2.0",
          "state": {
            "_model_module": "@jupyter-widgets/base",
            "_model_module_version": "1.2.0",
            "_model_name": "LayoutModel",
            "_view_count": null,
            "_view_module": "@jupyter-widgets/base",
            "_view_module_version": "1.2.0",
            "_view_name": "LayoutView",
            "align_content": null,
            "align_items": null,
            "align_self": null,
            "border": null,
            "bottom": null,
            "display": null,
            "flex": null,
            "flex_flow": null,
            "grid_area": null,
            "grid_auto_columns": null,
            "grid_auto_flow": null,
            "grid_auto_rows": null,
            "grid_column": null,
            "grid_gap": null,
            "grid_row": null,
            "grid_template_areas": null,
            "grid_template_columns": null,
            "grid_template_rows": null,
            "height": null,
            "justify_content": null,
            "justify_items": null,
            "left": null,
            "margin": null,
            "max_height": null,
            "max_width": null,
            "min_height": null,
            "min_width": null,
            "object_fit": null,
            "object_position": null,
            "order": null,
            "overflow": null,
            "overflow_x": null,
            "overflow_y": null,
            "padding": null,
            "right": null,
            "top": null,
            "visibility": null,
            "width": null
          }
        },
        "3e1ca3b82013479982890878e1fcf01b": {
          "model_module": "@jupyter-widgets/controls",
          "model_name": "DescriptionStyleModel",
          "model_module_version": "1.5.0",
          "state": {
            "_model_module": "@jupyter-widgets/controls",
            "_model_module_version": "1.5.0",
            "_model_name": "DescriptionStyleModel",
            "_view_count": null,
            "_view_module": "@jupyter-widgets/base",
            "_view_module_version": "1.2.0",
            "_view_name": "StyleView",
            "description_width": ""
          }
        },
        "17b697825d8d4190aa8dde71549177b2": {
          "model_module": "@jupyter-widgets/base",
          "model_name": "LayoutModel",
          "model_module_version": "1.2.0",
          "state": {
            "_model_module": "@jupyter-widgets/base",
            "_model_module_version": "1.2.0",
            "_model_name": "LayoutModel",
            "_view_count": null,
            "_view_module": "@jupyter-widgets/base",
            "_view_module_version": "1.2.0",
            "_view_name": "LayoutView",
            "align_content": null,
            "align_items": null,
            "align_self": null,
            "border": null,
            "bottom": null,
            "display": null,
            "flex": null,
            "flex_flow": null,
            "grid_area": null,
            "grid_auto_columns": null,
            "grid_auto_flow": null,
            "grid_auto_rows": null,
            "grid_column": null,
            "grid_gap": null,
            "grid_row": null,
            "grid_template_areas": null,
            "grid_template_columns": null,
            "grid_template_rows": null,
            "height": null,
            "justify_content": null,
            "justify_items": null,
            "left": null,
            "margin": null,
            "max_height": null,
            "max_width": null,
            "min_height": null,
            "min_width": null,
            "object_fit": null,
            "object_position": null,
            "order": null,
            "overflow": null,
            "overflow_x": null,
            "overflow_y": null,
            "padding": null,
            "right": null,
            "top": null,
            "visibility": null,
            "width": null
          }
        },
        "ac28ed6d820643fba154b080b0eba506": {
          "model_module": "@jupyter-widgets/controls",
          "model_name": "ProgressStyleModel",
          "model_module_version": "1.5.0",
          "state": {
            "_model_module": "@jupyter-widgets/controls",
            "_model_module_version": "1.5.0",
            "_model_name": "ProgressStyleModel",
            "_view_count": null,
            "_view_module": "@jupyter-widgets/base",
            "_view_module_version": "1.2.0",
            "_view_name": "StyleView",
            "bar_color": null,
            "description_width": ""
          }
        },
        "8afb1af823174542b4d0a4e9f5e7eeb4": {
          "model_module": "@jupyter-widgets/base",
          "model_name": "LayoutModel",
          "model_module_version": "1.2.0",
          "state": {
            "_model_module": "@jupyter-widgets/base",
            "_model_module_version": "1.2.0",
            "_model_name": "LayoutModel",
            "_view_count": null,
            "_view_module": "@jupyter-widgets/base",
            "_view_module_version": "1.2.0",
            "_view_name": "LayoutView",
            "align_content": null,
            "align_items": null,
            "align_self": null,
            "border": null,
            "bottom": null,
            "display": null,
            "flex": null,
            "flex_flow": null,
            "grid_area": null,
            "grid_auto_columns": null,
            "grid_auto_flow": null,
            "grid_auto_rows": null,
            "grid_column": null,
            "grid_gap": null,
            "grid_row": null,
            "grid_template_areas": null,
            "grid_template_columns": null,
            "grid_template_rows": null,
            "height": null,
            "justify_content": null,
            "justify_items": null,
            "left": null,
            "margin": null,
            "max_height": null,
            "max_width": null,
            "min_height": null,
            "min_width": null,
            "object_fit": null,
            "object_position": null,
            "order": null,
            "overflow": null,
            "overflow_x": null,
            "overflow_y": null,
            "padding": null,
            "right": null,
            "top": null,
            "visibility": null,
            "width": null
          }
        },
        "7f6e6a5fe1764c71996872f46094f259": {
          "model_module": "@jupyter-widgets/controls",
          "model_name": "DescriptionStyleModel",
          "model_module_version": "1.5.0",
          "state": {
            "_model_module": "@jupyter-widgets/controls",
            "_model_module_version": "1.5.0",
            "_model_name": "DescriptionStyleModel",
            "_view_count": null,
            "_view_module": "@jupyter-widgets/base",
            "_view_module_version": "1.2.0",
            "_view_name": "StyleView",
            "description_width": ""
          }
        },
        "97a2dd93807546249467b4bb447231f3": {
          "model_module": "@jupyter-widgets/controls",
          "model_name": "HBoxModel",
          "model_module_version": "1.5.0",
          "state": {
            "_dom_classes": [],
            "_model_module": "@jupyter-widgets/controls",
            "_model_module_version": "1.5.0",
            "_model_name": "HBoxModel",
            "_view_count": null,
            "_view_module": "@jupyter-widgets/controls",
            "_view_module_version": "1.5.0",
            "_view_name": "HBoxView",
            "box_style": "",
            "children": [
              "IPY_MODEL_04f7b0a9d073487fb70c100c2b6cb87e",
              "IPY_MODEL_a171835cf08541d49bcd257d5d28a83c",
              "IPY_MODEL_2d710ba04d424317818c72aa2b019e7a"
            ],
            "layout": "IPY_MODEL_7795ef19ec344a74a76e21cda594d734"
          }
        },
        "04f7b0a9d073487fb70c100c2b6cb87e": {
          "model_module": "@jupyter-widgets/controls",
          "model_name": "HTMLModel",
          "model_module_version": "1.5.0",
          "state": {
            "_dom_classes": [],
            "_model_module": "@jupyter-widgets/controls",
            "_model_module_version": "1.5.0",
            "_model_name": "HTMLModel",
            "_view_count": null,
            "_view_module": "@jupyter-widgets/controls",
            "_view_module_version": "1.5.0",
            "_view_name": "HTMLView",
            "description": "",
            "description_tooltip": null,
            "layout": "IPY_MODEL_04bf7439667d440fa0bdc13baa08e516",
            "placeholder": "​",
            "style": "IPY_MODEL_928fe93536074897bdaa8093c60b0e43",
            "value": "100%"
          }
        },
        "a171835cf08541d49bcd257d5d28a83c": {
          "model_module": "@jupyter-widgets/controls",
          "model_name": "FloatProgressModel",
          "model_module_version": "1.5.0",
          "state": {
            "_dom_classes": [],
            "_model_module": "@jupyter-widgets/controls",
            "_model_module_version": "1.5.0",
            "_model_name": "FloatProgressModel",
            "_view_count": null,
            "_view_module": "@jupyter-widgets/controls",
            "_view_module_version": "1.5.0",
            "_view_name": "ProgressView",
            "bar_style": "success",
            "description": "",
            "description_tooltip": null,
            "layout": "IPY_MODEL_7eb2240ee18a47c8821e61040b70a5a9",
            "max": 17,
            "min": 0,
            "orientation": "horizontal",
            "style": "IPY_MODEL_6f2901b1f5374a8389a52e70db6209c0",
            "value": 17
          }
        },
        "2d710ba04d424317818c72aa2b019e7a": {
          "model_module": "@jupyter-widgets/controls",
          "model_name": "HTMLModel",
          "model_module_version": "1.5.0",
          "state": {
            "_dom_classes": [],
            "_model_module": "@jupyter-widgets/controls",
            "_model_module_version": "1.5.0",
            "_model_name": "HTMLModel",
            "_view_count": null,
            "_view_module": "@jupyter-widgets/controls",
            "_view_module_version": "1.5.0",
            "_view_name": "HTMLView",
            "description": "",
            "description_tooltip": null,
            "layout": "IPY_MODEL_c11b633ed96742b6b25454b020a8bfd1",
            "placeholder": "​",
            "style": "IPY_MODEL_82f337a57315491ba4a529563889742a",
            "value": " 17/17 [00:00&lt;00:00, 521.57it/s]"
          }
        },
        "7795ef19ec344a74a76e21cda594d734": {
          "model_module": "@jupyter-widgets/base",
          "model_name": "LayoutModel",
          "model_module_version": "1.2.0",
          "state": {
            "_model_module": "@jupyter-widgets/base",
            "_model_module_version": "1.2.0",
            "_model_name": "LayoutModel",
            "_view_count": null,
            "_view_module": "@jupyter-widgets/base",
            "_view_module_version": "1.2.0",
            "_view_name": "LayoutView",
            "align_content": null,
            "align_items": null,
            "align_self": null,
            "border": null,
            "bottom": null,
            "display": null,
            "flex": null,
            "flex_flow": null,
            "grid_area": null,
            "grid_auto_columns": null,
            "grid_auto_flow": null,
            "grid_auto_rows": null,
            "grid_column": null,
            "grid_gap": null,
            "grid_row": null,
            "grid_template_areas": null,
            "grid_template_columns": null,
            "grid_template_rows": null,
            "height": null,
            "justify_content": null,
            "justify_items": null,
            "left": null,
            "margin": null,
            "max_height": null,
            "max_width": null,
            "min_height": null,
            "min_width": null,
            "object_fit": null,
            "object_position": null,
            "order": null,
            "overflow": null,
            "overflow_x": null,
            "overflow_y": null,
            "padding": null,
            "right": null,
            "top": null,
            "visibility": null,
            "width": null
          }
        },
        "04bf7439667d440fa0bdc13baa08e516": {
          "model_module": "@jupyter-widgets/base",
          "model_name": "LayoutModel",
          "model_module_version": "1.2.0",
          "state": {
            "_model_module": "@jupyter-widgets/base",
            "_model_module_version": "1.2.0",
            "_model_name": "LayoutModel",
            "_view_count": null,
            "_view_module": "@jupyter-widgets/base",
            "_view_module_version": "1.2.0",
            "_view_name": "LayoutView",
            "align_content": null,
            "align_items": null,
            "align_self": null,
            "border": null,
            "bottom": null,
            "display": null,
            "flex": null,
            "flex_flow": null,
            "grid_area": null,
            "grid_auto_columns": null,
            "grid_auto_flow": null,
            "grid_auto_rows": null,
            "grid_column": null,
            "grid_gap": null,
            "grid_row": null,
            "grid_template_areas": null,
            "grid_template_columns": null,
            "grid_template_rows": null,
            "height": null,
            "justify_content": null,
            "justify_items": null,
            "left": null,
            "margin": null,
            "max_height": null,
            "max_width": null,
            "min_height": null,
            "min_width": null,
            "object_fit": null,
            "object_position": null,
            "order": null,
            "overflow": null,
            "overflow_x": null,
            "overflow_y": null,
            "padding": null,
            "right": null,
            "top": null,
            "visibility": null,
            "width": null
          }
        },
        "928fe93536074897bdaa8093c60b0e43": {
          "model_module": "@jupyter-widgets/controls",
          "model_name": "DescriptionStyleModel",
          "model_module_version": "1.5.0",
          "state": {
            "_model_module": "@jupyter-widgets/controls",
            "_model_module_version": "1.5.0",
            "_model_name": "DescriptionStyleModel",
            "_view_count": null,
            "_view_module": "@jupyter-widgets/base",
            "_view_module_version": "1.2.0",
            "_view_name": "StyleView",
            "description_width": ""
          }
        },
        "7eb2240ee18a47c8821e61040b70a5a9": {
          "model_module": "@jupyter-widgets/base",
          "model_name": "LayoutModel",
          "model_module_version": "1.2.0",
          "state": {
            "_model_module": "@jupyter-widgets/base",
            "_model_module_version": "1.2.0",
            "_model_name": "LayoutModel",
            "_view_count": null,
            "_view_module": "@jupyter-widgets/base",
            "_view_module_version": "1.2.0",
            "_view_name": "LayoutView",
            "align_content": null,
            "align_items": null,
            "align_self": null,
            "border": null,
            "bottom": null,
            "display": null,
            "flex": null,
            "flex_flow": null,
            "grid_area": null,
            "grid_auto_columns": null,
            "grid_auto_flow": null,
            "grid_auto_rows": null,
            "grid_column": null,
            "grid_gap": null,
            "grid_row": null,
            "grid_template_areas": null,
            "grid_template_columns": null,
            "grid_template_rows": null,
            "height": null,
            "justify_content": null,
            "justify_items": null,
            "left": null,
            "margin": null,
            "max_height": null,
            "max_width": null,
            "min_height": null,
            "min_width": null,
            "object_fit": null,
            "object_position": null,
            "order": null,
            "overflow": null,
            "overflow_x": null,
            "overflow_y": null,
            "padding": null,
            "right": null,
            "top": null,
            "visibility": null,
            "width": null
          }
        },
        "6f2901b1f5374a8389a52e70db6209c0": {
          "model_module": "@jupyter-widgets/controls",
          "model_name": "ProgressStyleModel",
          "model_module_version": "1.5.0",
          "state": {
            "_model_module": "@jupyter-widgets/controls",
            "_model_module_version": "1.5.0",
            "_model_name": "ProgressStyleModel",
            "_view_count": null,
            "_view_module": "@jupyter-widgets/base",
            "_view_module_version": "1.2.0",
            "_view_name": "StyleView",
            "bar_color": null,
            "description_width": ""
          }
        },
        "c11b633ed96742b6b25454b020a8bfd1": {
          "model_module": "@jupyter-widgets/base",
          "model_name": "LayoutModel",
          "model_module_version": "1.2.0",
          "state": {
            "_model_module": "@jupyter-widgets/base",
            "_model_module_version": "1.2.0",
            "_model_name": "LayoutModel",
            "_view_count": null,
            "_view_module": "@jupyter-widgets/base",
            "_view_module_version": "1.2.0",
            "_view_name": "LayoutView",
            "align_content": null,
            "align_items": null,
            "align_self": null,
            "border": null,
            "bottom": null,
            "display": null,
            "flex": null,
            "flex_flow": null,
            "grid_area": null,
            "grid_auto_columns": null,
            "grid_auto_flow": null,
            "grid_auto_rows": null,
            "grid_column": null,
            "grid_gap": null,
            "grid_row": null,
            "grid_template_areas": null,
            "grid_template_columns": null,
            "grid_template_rows": null,
            "height": null,
            "justify_content": null,
            "justify_items": null,
            "left": null,
            "margin": null,
            "max_height": null,
            "max_width": null,
            "min_height": null,
            "min_width": null,
            "object_fit": null,
            "object_position": null,
            "order": null,
            "overflow": null,
            "overflow_x": null,
            "overflow_y": null,
            "padding": null,
            "right": null,
            "top": null,
            "visibility": null,
            "width": null
          }
        },
        "82f337a57315491ba4a529563889742a": {
          "model_module": "@jupyter-widgets/controls",
          "model_name": "DescriptionStyleModel",
          "model_module_version": "1.5.0",
          "state": {
            "_model_module": "@jupyter-widgets/controls",
            "_model_module_version": "1.5.0",
            "_model_name": "DescriptionStyleModel",
            "_view_count": null,
            "_view_module": "@jupyter-widgets/base",
            "_view_module_version": "1.2.0",
            "_view_name": "StyleView",
            "description_width": ""
          }
        },
        "07c454ab2e8b4eb2ab5a46d649bd01f0": {
          "model_module": "@jupyter-widgets/controls",
          "model_name": "HBoxModel",
          "model_module_version": "1.5.0",
          "state": {
            "_dom_classes": [],
            "_model_module": "@jupyter-widgets/controls",
            "_model_module_version": "1.5.0",
            "_model_name": "HBoxModel",
            "_view_count": null,
            "_view_module": "@jupyter-widgets/controls",
            "_view_module_version": "1.5.0",
            "_view_name": "HBoxView",
            "box_style": "",
            "children": [
              "IPY_MODEL_c9b05a6f267c4e42bd9d594603a48a45",
              "IPY_MODEL_1f0ff66a893f40f69070727609d29fb2",
              "IPY_MODEL_3d8b4b36085f447b9f98c297b1b16545"
            ],
            "layout": "IPY_MODEL_2083e2c0a7a44d27aaa0a74eaee7180b"
          }
        },
        "c9b05a6f267c4e42bd9d594603a48a45": {
          "model_module": "@jupyter-widgets/controls",
          "model_name": "HTMLModel",
          "model_module_version": "1.5.0",
          "state": {
            "_dom_classes": [],
            "_model_module": "@jupyter-widgets/controls",
            "_model_module_version": "1.5.0",
            "_model_name": "HTMLModel",
            "_view_count": null,
            "_view_module": "@jupyter-widgets/controls",
            "_view_module_version": "1.5.0",
            "_view_name": "HTMLView",
            "description": "",
            "description_tooltip": null,
            "layout": "IPY_MODEL_29c9cd4ad82a4d70afcd751a0e257c60",
            "placeholder": "​",
            "style": "IPY_MODEL_7461f2a583a149e194615fcf61a0da92",
            "value": "epoch: 0, loss: 18771.07812, lr: 0.002500:  99%"
          }
        },
        "1f0ff66a893f40f69070727609d29fb2": {
          "model_module": "@jupyter-widgets/controls",
          "model_name": "FloatProgressModel",
          "model_module_version": "1.5.0",
          "state": {
            "_dom_classes": [],
            "_model_module": "@jupyter-widgets/controls",
            "_model_module_version": "1.5.0",
            "_model_name": "FloatProgressModel",
            "_view_count": null,
            "_view_module": "@jupyter-widgets/controls",
            "_view_module_version": "1.5.0",
            "_view_name": "ProgressView",
            "bar_style": "",
            "description": "",
            "description_tooltip": null,
            "layout": "IPY_MODEL_630dbe65ef61448983321cca5deb49a6",
            "max": 130,
            "min": 0,
            "orientation": "horizontal",
            "style": "IPY_MODEL_379c37830f514a6dbe5f0a15aac8a5fe",
            "value": 130
          }
        },
        "3d8b4b36085f447b9f98c297b1b16545": {
          "model_module": "@jupyter-widgets/controls",
          "model_name": "HTMLModel",
          "model_module_version": "1.5.0",
          "state": {
            "_dom_classes": [],
            "_model_module": "@jupyter-widgets/controls",
            "_model_module_version": "1.5.0",
            "_model_name": "HTMLModel",
            "_view_count": null,
            "_view_module": "@jupyter-widgets/controls",
            "_view_module_version": "1.5.0",
            "_view_name": "HTMLView",
            "description": "",
            "description_tooltip": null,
            "layout": "IPY_MODEL_6c4e1b5ca1ad4e22977cac1cc1659e34",
            "placeholder": "​",
            "style": "IPY_MODEL_e17015afb4434ac5ab4a59c56f714238",
            "value": " 129/130 [00:38&lt;00:00,  3.32it/s]"
          }
        },
        "2083e2c0a7a44d27aaa0a74eaee7180b": {
          "model_module": "@jupyter-widgets/base",
          "model_name": "LayoutModel",
          "model_module_version": "1.2.0",
          "state": {
            "_model_module": "@jupyter-widgets/base",
            "_model_module_version": "1.2.0",
            "_model_name": "LayoutModel",
            "_view_count": null,
            "_view_module": "@jupyter-widgets/base",
            "_view_module_version": "1.2.0",
            "_view_name": "LayoutView",
            "align_content": null,
            "align_items": null,
            "align_self": null,
            "border": null,
            "bottom": null,
            "display": null,
            "flex": null,
            "flex_flow": null,
            "grid_area": null,
            "grid_auto_columns": null,
            "grid_auto_flow": null,
            "grid_auto_rows": null,
            "grid_column": null,
            "grid_gap": null,
            "grid_row": null,
            "grid_template_areas": null,
            "grid_template_columns": null,
            "grid_template_rows": null,
            "height": null,
            "justify_content": null,
            "justify_items": null,
            "left": null,
            "margin": null,
            "max_height": null,
            "max_width": null,
            "min_height": null,
            "min_width": null,
            "object_fit": null,
            "object_position": null,
            "order": null,
            "overflow": null,
            "overflow_x": null,
            "overflow_y": null,
            "padding": null,
            "right": null,
            "top": null,
            "visibility": "hidden",
            "width": null
          }
        },
        "29c9cd4ad82a4d70afcd751a0e257c60": {
          "model_module": "@jupyter-widgets/base",
          "model_name": "LayoutModel",
          "model_module_version": "1.2.0",
          "state": {
            "_model_module": "@jupyter-widgets/base",
            "_model_module_version": "1.2.0",
            "_model_name": "LayoutModel",
            "_view_count": null,
            "_view_module": "@jupyter-widgets/base",
            "_view_module_version": "1.2.0",
            "_view_name": "LayoutView",
            "align_content": null,
            "align_items": null,
            "align_self": null,
            "border": null,
            "bottom": null,
            "display": null,
            "flex": null,
            "flex_flow": null,
            "grid_area": null,
            "grid_auto_columns": null,
            "grid_auto_flow": null,
            "grid_auto_rows": null,
            "grid_column": null,
            "grid_gap": null,
            "grid_row": null,
            "grid_template_areas": null,
            "grid_template_columns": null,
            "grid_template_rows": null,
            "height": null,
            "justify_content": null,
            "justify_items": null,
            "left": null,
            "margin": null,
            "max_height": null,
            "max_width": null,
            "min_height": null,
            "min_width": null,
            "object_fit": null,
            "object_position": null,
            "order": null,
            "overflow": null,
            "overflow_x": null,
            "overflow_y": null,
            "padding": null,
            "right": null,
            "top": null,
            "visibility": null,
            "width": null
          }
        },
        "7461f2a583a149e194615fcf61a0da92": {
          "model_module": "@jupyter-widgets/controls",
          "model_name": "DescriptionStyleModel",
          "model_module_version": "1.5.0",
          "state": {
            "_model_module": "@jupyter-widgets/controls",
            "_model_module_version": "1.5.0",
            "_model_name": "DescriptionStyleModel",
            "_view_count": null,
            "_view_module": "@jupyter-widgets/base",
            "_view_module_version": "1.2.0",
            "_view_name": "StyleView",
            "description_width": ""
          }
        },
        "630dbe65ef61448983321cca5deb49a6": {
          "model_module": "@jupyter-widgets/base",
          "model_name": "LayoutModel",
          "model_module_version": "1.2.0",
          "state": {
            "_model_module": "@jupyter-widgets/base",
            "_model_module_version": "1.2.0",
            "_model_name": "LayoutModel",
            "_view_count": null,
            "_view_module": "@jupyter-widgets/base",
            "_view_module_version": "1.2.0",
            "_view_name": "LayoutView",
            "align_content": null,
            "align_items": null,
            "align_self": null,
            "border": null,
            "bottom": null,
            "display": null,
            "flex": null,
            "flex_flow": null,
            "grid_area": null,
            "grid_auto_columns": null,
            "grid_auto_flow": null,
            "grid_auto_rows": null,
            "grid_column": null,
            "grid_gap": null,
            "grid_row": null,
            "grid_template_areas": null,
            "grid_template_columns": null,
            "grid_template_rows": null,
            "height": null,
            "justify_content": null,
            "justify_items": null,
            "left": null,
            "margin": null,
            "max_height": null,
            "max_width": null,
            "min_height": null,
            "min_width": null,
            "object_fit": null,
            "object_position": null,
            "order": null,
            "overflow": null,
            "overflow_x": null,
            "overflow_y": null,
            "padding": null,
            "right": null,
            "top": null,
            "visibility": null,
            "width": null
          }
        },
        "379c37830f514a6dbe5f0a15aac8a5fe": {
          "model_module": "@jupyter-widgets/controls",
          "model_name": "ProgressStyleModel",
          "model_module_version": "1.5.0",
          "state": {
            "_model_module": "@jupyter-widgets/controls",
            "_model_module_version": "1.5.0",
            "_model_name": "ProgressStyleModel",
            "_view_count": null,
            "_view_module": "@jupyter-widgets/base",
            "_view_module_version": "1.2.0",
            "_view_name": "StyleView",
            "bar_color": null,
            "description_width": ""
          }
        },
        "6c4e1b5ca1ad4e22977cac1cc1659e34": {
          "model_module": "@jupyter-widgets/base",
          "model_name": "LayoutModel",
          "model_module_version": "1.2.0",
          "state": {
            "_model_module": "@jupyter-widgets/base",
            "_model_module_version": "1.2.0",
            "_model_name": "LayoutModel",
            "_view_count": null,
            "_view_module": "@jupyter-widgets/base",
            "_view_module_version": "1.2.0",
            "_view_name": "LayoutView",
            "align_content": null,
            "align_items": null,
            "align_self": null,
            "border": null,
            "bottom": null,
            "display": null,
            "flex": null,
            "flex_flow": null,
            "grid_area": null,
            "grid_auto_columns": null,
            "grid_auto_flow": null,
            "grid_auto_rows": null,
            "grid_column": null,
            "grid_gap": null,
            "grid_row": null,
            "grid_template_areas": null,
            "grid_template_columns": null,
            "grid_template_rows": null,
            "height": null,
            "justify_content": null,
            "justify_items": null,
            "left": null,
            "margin": null,
            "max_height": null,
            "max_width": null,
            "min_height": null,
            "min_width": null,
            "object_fit": null,
            "object_position": null,
            "order": null,
            "overflow": null,
            "overflow_x": null,
            "overflow_y": null,
            "padding": null,
            "right": null,
            "top": null,
            "visibility": null,
            "width": null
          }
        },
        "e17015afb4434ac5ab4a59c56f714238": {
          "model_module": "@jupyter-widgets/controls",
          "model_name": "DescriptionStyleModel",
          "model_module_version": "1.5.0",
          "state": {
            "_model_module": "@jupyter-widgets/controls",
            "_model_module_version": "1.5.0",
            "_model_name": "DescriptionStyleModel",
            "_view_count": null,
            "_view_module": "@jupyter-widgets/base",
            "_view_module_version": "1.2.0",
            "_view_name": "StyleView",
            "description_width": ""
          }
        },
        "f5a038d87c6a49a6a2611631517d605f": {
          "model_module": "@jupyter-widgets/controls",
          "model_name": "HBoxModel",
          "model_module_version": "1.5.0",
          "state": {
            "_dom_classes": [],
            "_model_module": "@jupyter-widgets/controls",
            "_model_module_version": "1.5.0",
            "_model_name": "HBoxModel",
            "_view_count": null,
            "_view_module": "@jupyter-widgets/controls",
            "_view_module_version": "1.5.0",
            "_view_name": "HBoxView",
            "box_style": "",
            "children": [
              "IPY_MODEL_bc2656888738495894bb4c127c901e5f",
              "IPY_MODEL_d291336e4c1d42b5b06490b9ef803162",
              "IPY_MODEL_434d5aeb410f4560a3d3f27b609755f5"
            ],
            "layout": "IPY_MODEL_bb0a868e3c50442da46e01410e7786e3"
          }
        },
        "bc2656888738495894bb4c127c901e5f": {
          "model_module": "@jupyter-widgets/controls",
          "model_name": "HTMLModel",
          "model_module_version": "1.5.0",
          "state": {
            "_dom_classes": [],
            "_model_module": "@jupyter-widgets/controls",
            "_model_module_version": "1.5.0",
            "_model_name": "HTMLModel",
            "_view_count": null,
            "_view_module": "@jupyter-widgets/controls",
            "_view_module_version": "1.5.0",
            "_view_name": "HTMLView",
            "description": "",
            "description_tooltip": null,
            "layout": "IPY_MODEL_4667dcfad8984454a64ea77bc574ae5c",
            "placeholder": "​",
            "style": "IPY_MODEL_8578772c251f403d96deea5f4f0d07e6",
            "value": "epoch: 1, loss: 10369.66699, lr: 0.002500:  99%"
          }
        },
        "d291336e4c1d42b5b06490b9ef803162": {
          "model_module": "@jupyter-widgets/controls",
          "model_name": "FloatProgressModel",
          "model_module_version": "1.5.0",
          "state": {
            "_dom_classes": [],
            "_model_module": "@jupyter-widgets/controls",
            "_model_module_version": "1.5.0",
            "_model_name": "FloatProgressModel",
            "_view_count": null,
            "_view_module": "@jupyter-widgets/controls",
            "_view_module_version": "1.5.0",
            "_view_name": "ProgressView",
            "bar_style": "",
            "description": "",
            "description_tooltip": null,
            "layout": "IPY_MODEL_88d0234115a34a95b451cfe908bcdae8",
            "max": 130,
            "min": 0,
            "orientation": "horizontal",
            "style": "IPY_MODEL_4c170dc4e13341a79fcf58fb8179710a",
            "value": 130
          }
        },
        "434d5aeb410f4560a3d3f27b609755f5": {
          "model_module": "@jupyter-widgets/controls",
          "model_name": "HTMLModel",
          "model_module_version": "1.5.0",
          "state": {
            "_dom_classes": [],
            "_model_module": "@jupyter-widgets/controls",
            "_model_module_version": "1.5.0",
            "_model_name": "HTMLModel",
            "_view_count": null,
            "_view_module": "@jupyter-widgets/controls",
            "_view_module_version": "1.5.0",
            "_view_name": "HTMLView",
            "description": "",
            "description_tooltip": null,
            "layout": "IPY_MODEL_285f0df994434a46bffef8ffb344e468",
            "placeholder": "​",
            "style": "IPY_MODEL_4c5de2f2100b48afb800eee060d0a0d7",
            "value": " 129/130 [00:37&lt;00:00,  3.44it/s]"
          }
        },
        "bb0a868e3c50442da46e01410e7786e3": {
          "model_module": "@jupyter-widgets/base",
          "model_name": "LayoutModel",
          "model_module_version": "1.2.0",
          "state": {
            "_model_module": "@jupyter-widgets/base",
            "_model_module_version": "1.2.0",
            "_model_name": "LayoutModel",
            "_view_count": null,
            "_view_module": "@jupyter-widgets/base",
            "_view_module_version": "1.2.0",
            "_view_name": "LayoutView",
            "align_content": null,
            "align_items": null,
            "align_self": null,
            "border": null,
            "bottom": null,
            "display": null,
            "flex": null,
            "flex_flow": null,
            "grid_area": null,
            "grid_auto_columns": null,
            "grid_auto_flow": null,
            "grid_auto_rows": null,
            "grid_column": null,
            "grid_gap": null,
            "grid_row": null,
            "grid_template_areas": null,
            "grid_template_columns": null,
            "grid_template_rows": null,
            "height": null,
            "justify_content": null,
            "justify_items": null,
            "left": null,
            "margin": null,
            "max_height": null,
            "max_width": null,
            "min_height": null,
            "min_width": null,
            "object_fit": null,
            "object_position": null,
            "order": null,
            "overflow": null,
            "overflow_x": null,
            "overflow_y": null,
            "padding": null,
            "right": null,
            "top": null,
            "visibility": "hidden",
            "width": null
          }
        },
        "4667dcfad8984454a64ea77bc574ae5c": {
          "model_module": "@jupyter-widgets/base",
          "model_name": "LayoutModel",
          "model_module_version": "1.2.0",
          "state": {
            "_model_module": "@jupyter-widgets/base",
            "_model_module_version": "1.2.0",
            "_model_name": "LayoutModel",
            "_view_count": null,
            "_view_module": "@jupyter-widgets/base",
            "_view_module_version": "1.2.0",
            "_view_name": "LayoutView",
            "align_content": null,
            "align_items": null,
            "align_self": null,
            "border": null,
            "bottom": null,
            "display": null,
            "flex": null,
            "flex_flow": null,
            "grid_area": null,
            "grid_auto_columns": null,
            "grid_auto_flow": null,
            "grid_auto_rows": null,
            "grid_column": null,
            "grid_gap": null,
            "grid_row": null,
            "grid_template_areas": null,
            "grid_template_columns": null,
            "grid_template_rows": null,
            "height": null,
            "justify_content": null,
            "justify_items": null,
            "left": null,
            "margin": null,
            "max_height": null,
            "max_width": null,
            "min_height": null,
            "min_width": null,
            "object_fit": null,
            "object_position": null,
            "order": null,
            "overflow": null,
            "overflow_x": null,
            "overflow_y": null,
            "padding": null,
            "right": null,
            "top": null,
            "visibility": null,
            "width": null
          }
        },
        "8578772c251f403d96deea5f4f0d07e6": {
          "model_module": "@jupyter-widgets/controls",
          "model_name": "DescriptionStyleModel",
          "model_module_version": "1.5.0",
          "state": {
            "_model_module": "@jupyter-widgets/controls",
            "_model_module_version": "1.5.0",
            "_model_name": "DescriptionStyleModel",
            "_view_count": null,
            "_view_module": "@jupyter-widgets/base",
            "_view_module_version": "1.2.0",
            "_view_name": "StyleView",
            "description_width": ""
          }
        },
        "88d0234115a34a95b451cfe908bcdae8": {
          "model_module": "@jupyter-widgets/base",
          "model_name": "LayoutModel",
          "model_module_version": "1.2.0",
          "state": {
            "_model_module": "@jupyter-widgets/base",
            "_model_module_version": "1.2.0",
            "_model_name": "LayoutModel",
            "_view_count": null,
            "_view_module": "@jupyter-widgets/base",
            "_view_module_version": "1.2.0",
            "_view_name": "LayoutView",
            "align_content": null,
            "align_items": null,
            "align_self": null,
            "border": null,
            "bottom": null,
            "display": null,
            "flex": null,
            "flex_flow": null,
            "grid_area": null,
            "grid_auto_columns": null,
            "grid_auto_flow": null,
            "grid_auto_rows": null,
            "grid_column": null,
            "grid_gap": null,
            "grid_row": null,
            "grid_template_areas": null,
            "grid_template_columns": null,
            "grid_template_rows": null,
            "height": null,
            "justify_content": null,
            "justify_items": null,
            "left": null,
            "margin": null,
            "max_height": null,
            "max_width": null,
            "min_height": null,
            "min_width": null,
            "object_fit": null,
            "object_position": null,
            "order": null,
            "overflow": null,
            "overflow_x": null,
            "overflow_y": null,
            "padding": null,
            "right": null,
            "top": null,
            "visibility": null,
            "width": null
          }
        },
        "4c170dc4e13341a79fcf58fb8179710a": {
          "model_module": "@jupyter-widgets/controls",
          "model_name": "ProgressStyleModel",
          "model_module_version": "1.5.0",
          "state": {
            "_model_module": "@jupyter-widgets/controls",
            "_model_module_version": "1.5.0",
            "_model_name": "ProgressStyleModel",
            "_view_count": null,
            "_view_module": "@jupyter-widgets/base",
            "_view_module_version": "1.2.0",
            "_view_name": "StyleView",
            "bar_color": null,
            "description_width": ""
          }
        },
        "285f0df994434a46bffef8ffb344e468": {
          "model_module": "@jupyter-widgets/base",
          "model_name": "LayoutModel",
          "model_module_version": "1.2.0",
          "state": {
            "_model_module": "@jupyter-widgets/base",
            "_model_module_version": "1.2.0",
            "_model_name": "LayoutModel",
            "_view_count": null,
            "_view_module": "@jupyter-widgets/base",
            "_view_module_version": "1.2.0",
            "_view_name": "LayoutView",
            "align_content": null,
            "align_items": null,
            "align_self": null,
            "border": null,
            "bottom": null,
            "display": null,
            "flex": null,
            "flex_flow": null,
            "grid_area": null,
            "grid_auto_columns": null,
            "grid_auto_flow": null,
            "grid_auto_rows": null,
            "grid_column": null,
            "grid_gap": null,
            "grid_row": null,
            "grid_template_areas": null,
            "grid_template_columns": null,
            "grid_template_rows": null,
            "height": null,
            "justify_content": null,
            "justify_items": null,
            "left": null,
            "margin": null,
            "max_height": null,
            "max_width": null,
            "min_height": null,
            "min_width": null,
            "object_fit": null,
            "object_position": null,
            "order": null,
            "overflow": null,
            "overflow_x": null,
            "overflow_y": null,
            "padding": null,
            "right": null,
            "top": null,
            "visibility": null,
            "width": null
          }
        },
        "4c5de2f2100b48afb800eee060d0a0d7": {
          "model_module": "@jupyter-widgets/controls",
          "model_name": "DescriptionStyleModel",
          "model_module_version": "1.5.0",
          "state": {
            "_model_module": "@jupyter-widgets/controls",
            "_model_module_version": "1.5.0",
            "_model_name": "DescriptionStyleModel",
            "_view_count": null,
            "_view_module": "@jupyter-widgets/base",
            "_view_module_version": "1.2.0",
            "_view_name": "StyleView",
            "description_width": ""
          }
        },
        "4a2821fbc164411bb3331e061bf5739d": {
          "model_module": "@jupyter-widgets/controls",
          "model_name": "HBoxModel",
          "model_module_version": "1.5.0",
          "state": {
            "_dom_classes": [],
            "_model_module": "@jupyter-widgets/controls",
            "_model_module_version": "1.5.0",
            "_model_name": "HBoxModel",
            "_view_count": null,
            "_view_module": "@jupyter-widgets/controls",
            "_view_module_version": "1.5.0",
            "_view_name": "HBoxView",
            "box_style": "",
            "children": [
              "IPY_MODEL_61f77fc528ea48d392222e56b0b03f7c",
              "IPY_MODEL_c0295c4425f243a193a4831ea57fe0a5",
              "IPY_MODEL_f97688be03a848298a8239450e401955"
            ],
            "layout": "IPY_MODEL_d2b003ada6674df6a4d30001434f3f98"
          }
        },
        "61f77fc528ea48d392222e56b0b03f7c": {
          "model_module": "@jupyter-widgets/controls",
          "model_name": "HTMLModel",
          "model_module_version": "1.5.0",
          "state": {
            "_dom_classes": [],
            "_model_module": "@jupyter-widgets/controls",
            "_model_module_version": "1.5.0",
            "_model_name": "HTMLModel",
            "_view_count": null,
            "_view_module": "@jupyter-widgets/controls",
            "_view_module_version": "1.5.0",
            "_view_name": "HTMLView",
            "description": "",
            "description_tooltip": null,
            "layout": "IPY_MODEL_09e08ba45a524d9b9bc52006ff2fc634",
            "placeholder": "​",
            "style": "IPY_MODEL_8dd7ebaf00874335b368f97e72141775",
            "value": "epoch: 2, loss: 8539.91113, lr: 0.002500:  99%"
          }
        },
        "c0295c4425f243a193a4831ea57fe0a5": {
          "model_module": "@jupyter-widgets/controls",
          "model_name": "FloatProgressModel",
          "model_module_version": "1.5.0",
          "state": {
            "_dom_classes": [],
            "_model_module": "@jupyter-widgets/controls",
            "_model_module_version": "1.5.0",
            "_model_name": "FloatProgressModel",
            "_view_count": null,
            "_view_module": "@jupyter-widgets/controls",
            "_view_module_version": "1.5.0",
            "_view_name": "ProgressView",
            "bar_style": "",
            "description": "",
            "description_tooltip": null,
            "layout": "IPY_MODEL_53907413d3c44fad80f871adf802efc0",
            "max": 130,
            "min": 0,
            "orientation": "horizontal",
            "style": "IPY_MODEL_6b58437120884fa0912990b5df5ff61e",
            "value": 130
          }
        },
        "f97688be03a848298a8239450e401955": {
          "model_module": "@jupyter-widgets/controls",
          "model_name": "HTMLModel",
          "model_module_version": "1.5.0",
          "state": {
            "_dom_classes": [],
            "_model_module": "@jupyter-widgets/controls",
            "_model_module_version": "1.5.0",
            "_model_name": "HTMLModel",
            "_view_count": null,
            "_view_module": "@jupyter-widgets/controls",
            "_view_module_version": "1.5.0",
            "_view_name": "HTMLView",
            "description": "",
            "description_tooltip": null,
            "layout": "IPY_MODEL_09cc942057d745bebb3a124652270b21",
            "placeholder": "​",
            "style": "IPY_MODEL_fd8f03c40bc6485993528092ac40eb0e",
            "value": " 129/130 [00:37&lt;00:00,  3.36it/s]"
          }
        },
        "d2b003ada6674df6a4d30001434f3f98": {
          "model_module": "@jupyter-widgets/base",
          "model_name": "LayoutModel",
          "model_module_version": "1.2.0",
          "state": {
            "_model_module": "@jupyter-widgets/base",
            "_model_module_version": "1.2.0",
            "_model_name": "LayoutModel",
            "_view_count": null,
            "_view_module": "@jupyter-widgets/base",
            "_view_module_version": "1.2.0",
            "_view_name": "LayoutView",
            "align_content": null,
            "align_items": null,
            "align_self": null,
            "border": null,
            "bottom": null,
            "display": null,
            "flex": null,
            "flex_flow": null,
            "grid_area": null,
            "grid_auto_columns": null,
            "grid_auto_flow": null,
            "grid_auto_rows": null,
            "grid_column": null,
            "grid_gap": null,
            "grid_row": null,
            "grid_template_areas": null,
            "grid_template_columns": null,
            "grid_template_rows": null,
            "height": null,
            "justify_content": null,
            "justify_items": null,
            "left": null,
            "margin": null,
            "max_height": null,
            "max_width": null,
            "min_height": null,
            "min_width": null,
            "object_fit": null,
            "object_position": null,
            "order": null,
            "overflow": null,
            "overflow_x": null,
            "overflow_y": null,
            "padding": null,
            "right": null,
            "top": null,
            "visibility": "hidden",
            "width": null
          }
        },
        "09e08ba45a524d9b9bc52006ff2fc634": {
          "model_module": "@jupyter-widgets/base",
          "model_name": "LayoutModel",
          "model_module_version": "1.2.0",
          "state": {
            "_model_module": "@jupyter-widgets/base",
            "_model_module_version": "1.2.0",
            "_model_name": "LayoutModel",
            "_view_count": null,
            "_view_module": "@jupyter-widgets/base",
            "_view_module_version": "1.2.0",
            "_view_name": "LayoutView",
            "align_content": null,
            "align_items": null,
            "align_self": null,
            "border": null,
            "bottom": null,
            "display": null,
            "flex": null,
            "flex_flow": null,
            "grid_area": null,
            "grid_auto_columns": null,
            "grid_auto_flow": null,
            "grid_auto_rows": null,
            "grid_column": null,
            "grid_gap": null,
            "grid_row": null,
            "grid_template_areas": null,
            "grid_template_columns": null,
            "grid_template_rows": null,
            "height": null,
            "justify_content": null,
            "justify_items": null,
            "left": null,
            "margin": null,
            "max_height": null,
            "max_width": null,
            "min_height": null,
            "min_width": null,
            "object_fit": null,
            "object_position": null,
            "order": null,
            "overflow": null,
            "overflow_x": null,
            "overflow_y": null,
            "padding": null,
            "right": null,
            "top": null,
            "visibility": null,
            "width": null
          }
        },
        "8dd7ebaf00874335b368f97e72141775": {
          "model_module": "@jupyter-widgets/controls",
          "model_name": "DescriptionStyleModel",
          "model_module_version": "1.5.0",
          "state": {
            "_model_module": "@jupyter-widgets/controls",
            "_model_module_version": "1.5.0",
            "_model_name": "DescriptionStyleModel",
            "_view_count": null,
            "_view_module": "@jupyter-widgets/base",
            "_view_module_version": "1.2.0",
            "_view_name": "StyleView",
            "description_width": ""
          }
        },
        "53907413d3c44fad80f871adf802efc0": {
          "model_module": "@jupyter-widgets/base",
          "model_name": "LayoutModel",
          "model_module_version": "1.2.0",
          "state": {
            "_model_module": "@jupyter-widgets/base",
            "_model_module_version": "1.2.0",
            "_model_name": "LayoutModel",
            "_view_count": null,
            "_view_module": "@jupyter-widgets/base",
            "_view_module_version": "1.2.0",
            "_view_name": "LayoutView",
            "align_content": null,
            "align_items": null,
            "align_self": null,
            "border": null,
            "bottom": null,
            "display": null,
            "flex": null,
            "flex_flow": null,
            "grid_area": null,
            "grid_auto_columns": null,
            "grid_auto_flow": null,
            "grid_auto_rows": null,
            "grid_column": null,
            "grid_gap": null,
            "grid_row": null,
            "grid_template_areas": null,
            "grid_template_columns": null,
            "grid_template_rows": null,
            "height": null,
            "justify_content": null,
            "justify_items": null,
            "left": null,
            "margin": null,
            "max_height": null,
            "max_width": null,
            "min_height": null,
            "min_width": null,
            "object_fit": null,
            "object_position": null,
            "order": null,
            "overflow": null,
            "overflow_x": null,
            "overflow_y": null,
            "padding": null,
            "right": null,
            "top": null,
            "visibility": null,
            "width": null
          }
        },
        "6b58437120884fa0912990b5df5ff61e": {
          "model_module": "@jupyter-widgets/controls",
          "model_name": "ProgressStyleModel",
          "model_module_version": "1.5.0",
          "state": {
            "_model_module": "@jupyter-widgets/controls",
            "_model_module_version": "1.5.0",
            "_model_name": "ProgressStyleModel",
            "_view_count": null,
            "_view_module": "@jupyter-widgets/base",
            "_view_module_version": "1.2.0",
            "_view_name": "StyleView",
            "bar_color": null,
            "description_width": ""
          }
        },
        "09cc942057d745bebb3a124652270b21": {
          "model_module": "@jupyter-widgets/base",
          "model_name": "LayoutModel",
          "model_module_version": "1.2.0",
          "state": {
            "_model_module": "@jupyter-widgets/base",
            "_model_module_version": "1.2.0",
            "_model_name": "LayoutModel",
            "_view_count": null,
            "_view_module": "@jupyter-widgets/base",
            "_view_module_version": "1.2.0",
            "_view_name": "LayoutView",
            "align_content": null,
            "align_items": null,
            "align_self": null,
            "border": null,
            "bottom": null,
            "display": null,
            "flex": null,
            "flex_flow": null,
            "grid_area": null,
            "grid_auto_columns": null,
            "grid_auto_flow": null,
            "grid_auto_rows": null,
            "grid_column": null,
            "grid_gap": null,
            "grid_row": null,
            "grid_template_areas": null,
            "grid_template_columns": null,
            "grid_template_rows": null,
            "height": null,
            "justify_content": null,
            "justify_items": null,
            "left": null,
            "margin": null,
            "max_height": null,
            "max_width": null,
            "min_height": null,
            "min_width": null,
            "object_fit": null,
            "object_position": null,
            "order": null,
            "overflow": null,
            "overflow_x": null,
            "overflow_y": null,
            "padding": null,
            "right": null,
            "top": null,
            "visibility": null,
            "width": null
          }
        },
        "fd8f03c40bc6485993528092ac40eb0e": {
          "model_module": "@jupyter-widgets/controls",
          "model_name": "DescriptionStyleModel",
          "model_module_version": "1.5.0",
          "state": {
            "_model_module": "@jupyter-widgets/controls",
            "_model_module_version": "1.5.0",
            "_model_name": "DescriptionStyleModel",
            "_view_count": null,
            "_view_module": "@jupyter-widgets/base",
            "_view_module_version": "1.2.0",
            "_view_name": "StyleView",
            "description_width": ""
          }
        },
        "c37de7c271ea4493a80f6c4a2fb20abc": {
          "model_module": "@jupyter-widgets/controls",
          "model_name": "HBoxModel",
          "model_module_version": "1.5.0",
          "state": {
            "_dom_classes": [],
            "_model_module": "@jupyter-widgets/controls",
            "_model_module_version": "1.5.0",
            "_model_name": "HBoxModel",
            "_view_count": null,
            "_view_module": "@jupyter-widgets/controls",
            "_view_module_version": "1.5.0",
            "_view_name": "HBoxView",
            "box_style": "",
            "children": [
              "IPY_MODEL_fafefce289a649dab9e45bf905130a44",
              "IPY_MODEL_58b34750317e4edeb7031bb4f6c7b2f0",
              "IPY_MODEL_7c42bfd9115c4b85a023a24462bcc61b"
            ],
            "layout": "IPY_MODEL_2ea9ca59dd5f497ba34c14bf043ede98"
          }
        },
        "fafefce289a649dab9e45bf905130a44": {
          "model_module": "@jupyter-widgets/controls",
          "model_name": "HTMLModel",
          "model_module_version": "1.5.0",
          "state": {
            "_dom_classes": [],
            "_model_module": "@jupyter-widgets/controls",
            "_model_module_version": "1.5.0",
            "_model_name": "HTMLModel",
            "_view_count": null,
            "_view_module": "@jupyter-widgets/controls",
            "_view_module_version": "1.5.0",
            "_view_name": "HTMLView",
            "description": "",
            "description_tooltip": null,
            "layout": "IPY_MODEL_0d8b937666d14f37a66ad57dee2656ba",
            "placeholder": "​",
            "style": "IPY_MODEL_9d31454e6791489dbd4aedc9ff786ab5",
            "value": "epoch: 3, loss: 6473.33105, lr: 0.002500:  99%"
          }
        },
        "58b34750317e4edeb7031bb4f6c7b2f0": {
          "model_module": "@jupyter-widgets/controls",
          "model_name": "FloatProgressModel",
          "model_module_version": "1.5.0",
          "state": {
            "_dom_classes": [],
            "_model_module": "@jupyter-widgets/controls",
            "_model_module_version": "1.5.0",
            "_model_name": "FloatProgressModel",
            "_view_count": null,
            "_view_module": "@jupyter-widgets/controls",
            "_view_module_version": "1.5.0",
            "_view_name": "ProgressView",
            "bar_style": "",
            "description": "",
            "description_tooltip": null,
            "layout": "IPY_MODEL_4c4a2e5385ab4b33a714461d93646b66",
            "max": 130,
            "min": 0,
            "orientation": "horizontal",
            "style": "IPY_MODEL_1e2e4f419da645f89635a3793431839a",
            "value": 130
          }
        },
        "7c42bfd9115c4b85a023a24462bcc61b": {
          "model_module": "@jupyter-widgets/controls",
          "model_name": "HTMLModel",
          "model_module_version": "1.5.0",
          "state": {
            "_dom_classes": [],
            "_model_module": "@jupyter-widgets/controls",
            "_model_module_version": "1.5.0",
            "_model_name": "HTMLModel",
            "_view_count": null,
            "_view_module": "@jupyter-widgets/controls",
            "_view_module_version": "1.5.0",
            "_view_name": "HTMLView",
            "description": "",
            "description_tooltip": null,
            "layout": "IPY_MODEL_bc697c3005ff4cc3ac6e690e0489d7e7",
            "placeholder": "​",
            "style": "IPY_MODEL_09e58a206575438c8c33ab42d800f2d8",
            "value": " 129/130 [00:37&lt;00:00,  3.76it/s]"
          }
        },
        "2ea9ca59dd5f497ba34c14bf043ede98": {
          "model_module": "@jupyter-widgets/base",
          "model_name": "LayoutModel",
          "model_module_version": "1.2.0",
          "state": {
            "_model_module": "@jupyter-widgets/base",
            "_model_module_version": "1.2.0",
            "_model_name": "LayoutModel",
            "_view_count": null,
            "_view_module": "@jupyter-widgets/base",
            "_view_module_version": "1.2.0",
            "_view_name": "LayoutView",
            "align_content": null,
            "align_items": null,
            "align_self": null,
            "border": null,
            "bottom": null,
            "display": null,
            "flex": null,
            "flex_flow": null,
            "grid_area": null,
            "grid_auto_columns": null,
            "grid_auto_flow": null,
            "grid_auto_rows": null,
            "grid_column": null,
            "grid_gap": null,
            "grid_row": null,
            "grid_template_areas": null,
            "grid_template_columns": null,
            "grid_template_rows": null,
            "height": null,
            "justify_content": null,
            "justify_items": null,
            "left": null,
            "margin": null,
            "max_height": null,
            "max_width": null,
            "min_height": null,
            "min_width": null,
            "object_fit": null,
            "object_position": null,
            "order": null,
            "overflow": null,
            "overflow_x": null,
            "overflow_y": null,
            "padding": null,
            "right": null,
            "top": null,
            "visibility": "hidden",
            "width": null
          }
        },
        "0d8b937666d14f37a66ad57dee2656ba": {
          "model_module": "@jupyter-widgets/base",
          "model_name": "LayoutModel",
          "model_module_version": "1.2.0",
          "state": {
            "_model_module": "@jupyter-widgets/base",
            "_model_module_version": "1.2.0",
            "_model_name": "LayoutModel",
            "_view_count": null,
            "_view_module": "@jupyter-widgets/base",
            "_view_module_version": "1.2.0",
            "_view_name": "LayoutView",
            "align_content": null,
            "align_items": null,
            "align_self": null,
            "border": null,
            "bottom": null,
            "display": null,
            "flex": null,
            "flex_flow": null,
            "grid_area": null,
            "grid_auto_columns": null,
            "grid_auto_flow": null,
            "grid_auto_rows": null,
            "grid_column": null,
            "grid_gap": null,
            "grid_row": null,
            "grid_template_areas": null,
            "grid_template_columns": null,
            "grid_template_rows": null,
            "height": null,
            "justify_content": null,
            "justify_items": null,
            "left": null,
            "margin": null,
            "max_height": null,
            "max_width": null,
            "min_height": null,
            "min_width": null,
            "object_fit": null,
            "object_position": null,
            "order": null,
            "overflow": null,
            "overflow_x": null,
            "overflow_y": null,
            "padding": null,
            "right": null,
            "top": null,
            "visibility": null,
            "width": null
          }
        },
        "9d31454e6791489dbd4aedc9ff786ab5": {
          "model_module": "@jupyter-widgets/controls",
          "model_name": "DescriptionStyleModel",
          "model_module_version": "1.5.0",
          "state": {
            "_model_module": "@jupyter-widgets/controls",
            "_model_module_version": "1.5.0",
            "_model_name": "DescriptionStyleModel",
            "_view_count": null,
            "_view_module": "@jupyter-widgets/base",
            "_view_module_version": "1.2.0",
            "_view_name": "StyleView",
            "description_width": ""
          }
        },
        "4c4a2e5385ab4b33a714461d93646b66": {
          "model_module": "@jupyter-widgets/base",
          "model_name": "LayoutModel",
          "model_module_version": "1.2.0",
          "state": {
            "_model_module": "@jupyter-widgets/base",
            "_model_module_version": "1.2.0",
            "_model_name": "LayoutModel",
            "_view_count": null,
            "_view_module": "@jupyter-widgets/base",
            "_view_module_version": "1.2.0",
            "_view_name": "LayoutView",
            "align_content": null,
            "align_items": null,
            "align_self": null,
            "border": null,
            "bottom": null,
            "display": null,
            "flex": null,
            "flex_flow": null,
            "grid_area": null,
            "grid_auto_columns": null,
            "grid_auto_flow": null,
            "grid_auto_rows": null,
            "grid_column": null,
            "grid_gap": null,
            "grid_row": null,
            "grid_template_areas": null,
            "grid_template_columns": null,
            "grid_template_rows": null,
            "height": null,
            "justify_content": null,
            "justify_items": null,
            "left": null,
            "margin": null,
            "max_height": null,
            "max_width": null,
            "min_height": null,
            "min_width": null,
            "object_fit": null,
            "object_position": null,
            "order": null,
            "overflow": null,
            "overflow_x": null,
            "overflow_y": null,
            "padding": null,
            "right": null,
            "top": null,
            "visibility": null,
            "width": null
          }
        },
        "1e2e4f419da645f89635a3793431839a": {
          "model_module": "@jupyter-widgets/controls",
          "model_name": "ProgressStyleModel",
          "model_module_version": "1.5.0",
          "state": {
            "_model_module": "@jupyter-widgets/controls",
            "_model_module_version": "1.5.0",
            "_model_name": "ProgressStyleModel",
            "_view_count": null,
            "_view_module": "@jupyter-widgets/base",
            "_view_module_version": "1.2.0",
            "_view_name": "StyleView",
            "bar_color": null,
            "description_width": ""
          }
        },
        "bc697c3005ff4cc3ac6e690e0489d7e7": {
          "model_module": "@jupyter-widgets/base",
          "model_name": "LayoutModel",
          "model_module_version": "1.2.0",
          "state": {
            "_model_module": "@jupyter-widgets/base",
            "_model_module_version": "1.2.0",
            "_model_name": "LayoutModel",
            "_view_count": null,
            "_view_module": "@jupyter-widgets/base",
            "_view_module_version": "1.2.0",
            "_view_name": "LayoutView",
            "align_content": null,
            "align_items": null,
            "align_self": null,
            "border": null,
            "bottom": null,
            "display": null,
            "flex": null,
            "flex_flow": null,
            "grid_area": null,
            "grid_auto_columns": null,
            "grid_auto_flow": null,
            "grid_auto_rows": null,
            "grid_column": null,
            "grid_gap": null,
            "grid_row": null,
            "grid_template_areas": null,
            "grid_template_columns": null,
            "grid_template_rows": null,
            "height": null,
            "justify_content": null,
            "justify_items": null,
            "left": null,
            "margin": null,
            "max_height": null,
            "max_width": null,
            "min_height": null,
            "min_width": null,
            "object_fit": null,
            "object_position": null,
            "order": null,
            "overflow": null,
            "overflow_x": null,
            "overflow_y": null,
            "padding": null,
            "right": null,
            "top": null,
            "visibility": null,
            "width": null
          }
        },
        "09e58a206575438c8c33ab42d800f2d8": {
          "model_module": "@jupyter-widgets/controls",
          "model_name": "DescriptionStyleModel",
          "model_module_version": "1.5.0",
          "state": {
            "_model_module": "@jupyter-widgets/controls",
            "_model_module_version": "1.5.0",
            "_model_name": "DescriptionStyleModel",
            "_view_count": null,
            "_view_module": "@jupyter-widgets/base",
            "_view_module_version": "1.2.0",
            "_view_name": "StyleView",
            "description_width": ""
          }
        },
        "d66566470fbc4e3899c2bbfc4cec1b11": {
          "model_module": "@jupyter-widgets/controls",
          "model_name": "HBoxModel",
          "model_module_version": "1.5.0",
          "state": {
            "_dom_classes": [],
            "_model_module": "@jupyter-widgets/controls",
            "_model_module_version": "1.5.0",
            "_model_name": "HBoxModel",
            "_view_count": null,
            "_view_module": "@jupyter-widgets/controls",
            "_view_module_version": "1.5.0",
            "_view_name": "HBoxView",
            "box_style": "",
            "children": [
              "IPY_MODEL_43d38ea9c5ba4eb5a642ca334e9dc70b",
              "IPY_MODEL_fb9775d62b694159ad0a9fe5c12287b1",
              "IPY_MODEL_0d7e552b91cf469697d9427ba0ec76ea"
            ],
            "layout": "IPY_MODEL_911c6411a80a4bc1a64eef590008c67d"
          }
        },
        "43d38ea9c5ba4eb5a642ca334e9dc70b": {
          "model_module": "@jupyter-widgets/controls",
          "model_name": "HTMLModel",
          "model_module_version": "1.5.0",
          "state": {
            "_dom_classes": [],
            "_model_module": "@jupyter-widgets/controls",
            "_model_module_version": "1.5.0",
            "_model_name": "HTMLModel",
            "_view_count": null,
            "_view_module": "@jupyter-widgets/controls",
            "_view_module_version": "1.5.0",
            "_view_name": "HTMLView",
            "description": "",
            "description_tooltip": null,
            "layout": "IPY_MODEL_7feba62cd3784936acd9f16a3a13a596",
            "placeholder": "​",
            "style": "IPY_MODEL_6ebdc59fc4484310959193b405769845",
            "value": "epoch: 4, loss: 4493.40918, lr: 0.002500:  99%"
          }
        },
        "fb9775d62b694159ad0a9fe5c12287b1": {
          "model_module": "@jupyter-widgets/controls",
          "model_name": "FloatProgressModel",
          "model_module_version": "1.5.0",
          "state": {
            "_dom_classes": [],
            "_model_module": "@jupyter-widgets/controls",
            "_model_module_version": "1.5.0",
            "_model_name": "FloatProgressModel",
            "_view_count": null,
            "_view_module": "@jupyter-widgets/controls",
            "_view_module_version": "1.5.0",
            "_view_name": "ProgressView",
            "bar_style": "",
            "description": "",
            "description_tooltip": null,
            "layout": "IPY_MODEL_0cae6ef6307c468c9cc27cecf017329b",
            "max": 130,
            "min": 0,
            "orientation": "horizontal",
            "style": "IPY_MODEL_d846f0e69dfc45d3a47524c50fcd0892",
            "value": 130
          }
        },
        "0d7e552b91cf469697d9427ba0ec76ea": {
          "model_module": "@jupyter-widgets/controls",
          "model_name": "HTMLModel",
          "model_module_version": "1.5.0",
          "state": {
            "_dom_classes": [],
            "_model_module": "@jupyter-widgets/controls",
            "_model_module_version": "1.5.0",
            "_model_name": "HTMLModel",
            "_view_count": null,
            "_view_module": "@jupyter-widgets/controls",
            "_view_module_version": "1.5.0",
            "_view_name": "HTMLView",
            "description": "",
            "description_tooltip": null,
            "layout": "IPY_MODEL_fb4ad60155c84fcf88aaa938deb4476d",
            "placeholder": "​",
            "style": "IPY_MODEL_025d9d06dea34323a2ac5caff18df7e5",
            "value": " 129/130 [00:37&lt;00:00,  3.43it/s]"
          }
        },
        "911c6411a80a4bc1a64eef590008c67d": {
          "model_module": "@jupyter-widgets/base",
          "model_name": "LayoutModel",
          "model_module_version": "1.2.0",
          "state": {
            "_model_module": "@jupyter-widgets/base",
            "_model_module_version": "1.2.0",
            "_model_name": "LayoutModel",
            "_view_count": null,
            "_view_module": "@jupyter-widgets/base",
            "_view_module_version": "1.2.0",
            "_view_name": "LayoutView",
            "align_content": null,
            "align_items": null,
            "align_self": null,
            "border": null,
            "bottom": null,
            "display": null,
            "flex": null,
            "flex_flow": null,
            "grid_area": null,
            "grid_auto_columns": null,
            "grid_auto_flow": null,
            "grid_auto_rows": null,
            "grid_column": null,
            "grid_gap": null,
            "grid_row": null,
            "grid_template_areas": null,
            "grid_template_columns": null,
            "grid_template_rows": null,
            "height": null,
            "justify_content": null,
            "justify_items": null,
            "left": null,
            "margin": null,
            "max_height": null,
            "max_width": null,
            "min_height": null,
            "min_width": null,
            "object_fit": null,
            "object_position": null,
            "order": null,
            "overflow": null,
            "overflow_x": null,
            "overflow_y": null,
            "padding": null,
            "right": null,
            "top": null,
            "visibility": "hidden",
            "width": null
          }
        },
        "7feba62cd3784936acd9f16a3a13a596": {
          "model_module": "@jupyter-widgets/base",
          "model_name": "LayoutModel",
          "model_module_version": "1.2.0",
          "state": {
            "_model_module": "@jupyter-widgets/base",
            "_model_module_version": "1.2.0",
            "_model_name": "LayoutModel",
            "_view_count": null,
            "_view_module": "@jupyter-widgets/base",
            "_view_module_version": "1.2.0",
            "_view_name": "LayoutView",
            "align_content": null,
            "align_items": null,
            "align_self": null,
            "border": null,
            "bottom": null,
            "display": null,
            "flex": null,
            "flex_flow": null,
            "grid_area": null,
            "grid_auto_columns": null,
            "grid_auto_flow": null,
            "grid_auto_rows": null,
            "grid_column": null,
            "grid_gap": null,
            "grid_row": null,
            "grid_template_areas": null,
            "grid_template_columns": null,
            "grid_template_rows": null,
            "height": null,
            "justify_content": null,
            "justify_items": null,
            "left": null,
            "margin": null,
            "max_height": null,
            "max_width": null,
            "min_height": null,
            "min_width": null,
            "object_fit": null,
            "object_position": null,
            "order": null,
            "overflow": null,
            "overflow_x": null,
            "overflow_y": null,
            "padding": null,
            "right": null,
            "top": null,
            "visibility": null,
            "width": null
          }
        },
        "6ebdc59fc4484310959193b405769845": {
          "model_module": "@jupyter-widgets/controls",
          "model_name": "DescriptionStyleModel",
          "model_module_version": "1.5.0",
          "state": {
            "_model_module": "@jupyter-widgets/controls",
            "_model_module_version": "1.5.0",
            "_model_name": "DescriptionStyleModel",
            "_view_count": null,
            "_view_module": "@jupyter-widgets/base",
            "_view_module_version": "1.2.0",
            "_view_name": "StyleView",
            "description_width": ""
          }
        },
        "0cae6ef6307c468c9cc27cecf017329b": {
          "model_module": "@jupyter-widgets/base",
          "model_name": "LayoutModel",
          "model_module_version": "1.2.0",
          "state": {
            "_model_module": "@jupyter-widgets/base",
            "_model_module_version": "1.2.0",
            "_model_name": "LayoutModel",
            "_view_count": null,
            "_view_module": "@jupyter-widgets/base",
            "_view_module_version": "1.2.0",
            "_view_name": "LayoutView",
            "align_content": null,
            "align_items": null,
            "align_self": null,
            "border": null,
            "bottom": null,
            "display": null,
            "flex": null,
            "flex_flow": null,
            "grid_area": null,
            "grid_auto_columns": null,
            "grid_auto_flow": null,
            "grid_auto_rows": null,
            "grid_column": null,
            "grid_gap": null,
            "grid_row": null,
            "grid_template_areas": null,
            "grid_template_columns": null,
            "grid_template_rows": null,
            "height": null,
            "justify_content": null,
            "justify_items": null,
            "left": null,
            "margin": null,
            "max_height": null,
            "max_width": null,
            "min_height": null,
            "min_width": null,
            "object_fit": null,
            "object_position": null,
            "order": null,
            "overflow": null,
            "overflow_x": null,
            "overflow_y": null,
            "padding": null,
            "right": null,
            "top": null,
            "visibility": null,
            "width": null
          }
        },
        "d846f0e69dfc45d3a47524c50fcd0892": {
          "model_module": "@jupyter-widgets/controls",
          "model_name": "ProgressStyleModel",
          "model_module_version": "1.5.0",
          "state": {
            "_model_module": "@jupyter-widgets/controls",
            "_model_module_version": "1.5.0",
            "_model_name": "ProgressStyleModel",
            "_view_count": null,
            "_view_module": "@jupyter-widgets/base",
            "_view_module_version": "1.2.0",
            "_view_name": "StyleView",
            "bar_color": null,
            "description_width": ""
          }
        },
        "fb4ad60155c84fcf88aaa938deb4476d": {
          "model_module": "@jupyter-widgets/base",
          "model_name": "LayoutModel",
          "model_module_version": "1.2.0",
          "state": {
            "_model_module": "@jupyter-widgets/base",
            "_model_module_version": "1.2.0",
            "_model_name": "LayoutModel",
            "_view_count": null,
            "_view_module": "@jupyter-widgets/base",
            "_view_module_version": "1.2.0",
            "_view_name": "LayoutView",
            "align_content": null,
            "align_items": null,
            "align_self": null,
            "border": null,
            "bottom": null,
            "display": null,
            "flex": null,
            "flex_flow": null,
            "grid_area": null,
            "grid_auto_columns": null,
            "grid_auto_flow": null,
            "grid_auto_rows": null,
            "grid_column": null,
            "grid_gap": null,
            "grid_row": null,
            "grid_template_areas": null,
            "grid_template_columns": null,
            "grid_template_rows": null,
            "height": null,
            "justify_content": null,
            "justify_items": null,
            "left": null,
            "margin": null,
            "max_height": null,
            "max_width": null,
            "min_height": null,
            "min_width": null,
            "object_fit": null,
            "object_position": null,
            "order": null,
            "overflow": null,
            "overflow_x": null,
            "overflow_y": null,
            "padding": null,
            "right": null,
            "top": null,
            "visibility": null,
            "width": null
          }
        },
        "025d9d06dea34323a2ac5caff18df7e5": {
          "model_module": "@jupyter-widgets/controls",
          "model_name": "DescriptionStyleModel",
          "model_module_version": "1.5.0",
          "state": {
            "_model_module": "@jupyter-widgets/controls",
            "_model_module_version": "1.5.0",
            "_model_name": "DescriptionStyleModel",
            "_view_count": null,
            "_view_module": "@jupyter-widgets/base",
            "_view_module_version": "1.2.0",
            "_view_name": "StyleView",
            "description_width": ""
          }
        },
        "69d0651ae267466ca4b1320df712669b": {
          "model_module": "@jupyter-widgets/controls",
          "model_name": "HBoxModel",
          "model_module_version": "1.5.0",
          "state": {
            "_dom_classes": [],
            "_model_module": "@jupyter-widgets/controls",
            "_model_module_version": "1.5.0",
            "_model_name": "HBoxModel",
            "_view_count": null,
            "_view_module": "@jupyter-widgets/controls",
            "_view_module_version": "1.5.0",
            "_view_name": "HBoxView",
            "box_style": "",
            "children": [
              "IPY_MODEL_99db2239d5fc44fbbdf30bee10f59aad",
              "IPY_MODEL_ec76cca2385e4096a0f74e79ab4e4609",
              "IPY_MODEL_6e9ec2793d3d4bf0934ee513adf060f5"
            ],
            "layout": "IPY_MODEL_c44da0fab14744a6ae14c473a7599a79"
          }
        },
        "99db2239d5fc44fbbdf30bee10f59aad": {
          "model_module": "@jupyter-widgets/controls",
          "model_name": "HTMLModel",
          "model_module_version": "1.5.0",
          "state": {
            "_dom_classes": [],
            "_model_module": "@jupyter-widgets/controls",
            "_model_module_version": "1.5.0",
            "_model_name": "HTMLModel",
            "_view_count": null,
            "_view_module": "@jupyter-widgets/controls",
            "_view_module_version": "1.5.0",
            "_view_name": "HTMLView",
            "description": "",
            "description_tooltip": null,
            "layout": "IPY_MODEL_9d4fb58abaeb49d79f54a8ae8e533061",
            "placeholder": "​",
            "style": "IPY_MODEL_c29168c61e3344b9aad593ac65d84624",
            "value": "epoch: 5, loss: 2917.17505, lr: 0.002500:  99%"
          }
        },
        "ec76cca2385e4096a0f74e79ab4e4609": {
          "model_module": "@jupyter-widgets/controls",
          "model_name": "FloatProgressModel",
          "model_module_version": "1.5.0",
          "state": {
            "_dom_classes": [],
            "_model_module": "@jupyter-widgets/controls",
            "_model_module_version": "1.5.0",
            "_model_name": "FloatProgressModel",
            "_view_count": null,
            "_view_module": "@jupyter-widgets/controls",
            "_view_module_version": "1.5.0",
            "_view_name": "ProgressView",
            "bar_style": "",
            "description": "",
            "description_tooltip": null,
            "layout": "IPY_MODEL_f0cda1c3c82949cb947a6cb0604375d5",
            "max": 130,
            "min": 0,
            "orientation": "horizontal",
            "style": "IPY_MODEL_54d6b4c76f7d4f9aadf8561b90354cc3",
            "value": 130
          }
        },
        "6e9ec2793d3d4bf0934ee513adf060f5": {
          "model_module": "@jupyter-widgets/controls",
          "model_name": "HTMLModel",
          "model_module_version": "1.5.0",
          "state": {
            "_dom_classes": [],
            "_model_module": "@jupyter-widgets/controls",
            "_model_module_version": "1.5.0",
            "_model_name": "HTMLModel",
            "_view_count": null,
            "_view_module": "@jupyter-widgets/controls",
            "_view_module_version": "1.5.0",
            "_view_name": "HTMLView",
            "description": "",
            "description_tooltip": null,
            "layout": "IPY_MODEL_560cd9280709474db28114ee3b813988",
            "placeholder": "​",
            "style": "IPY_MODEL_ea1321ab797047b7bcca5a2ad300d279",
            "value": " 129/130 [00:37&lt;00:00,  3.32it/s]"
          }
        },
        "c44da0fab14744a6ae14c473a7599a79": {
          "model_module": "@jupyter-widgets/base",
          "model_name": "LayoutModel",
          "model_module_version": "1.2.0",
          "state": {
            "_model_module": "@jupyter-widgets/base",
            "_model_module_version": "1.2.0",
            "_model_name": "LayoutModel",
            "_view_count": null,
            "_view_module": "@jupyter-widgets/base",
            "_view_module_version": "1.2.0",
            "_view_name": "LayoutView",
            "align_content": null,
            "align_items": null,
            "align_self": null,
            "border": null,
            "bottom": null,
            "display": null,
            "flex": null,
            "flex_flow": null,
            "grid_area": null,
            "grid_auto_columns": null,
            "grid_auto_flow": null,
            "grid_auto_rows": null,
            "grid_column": null,
            "grid_gap": null,
            "grid_row": null,
            "grid_template_areas": null,
            "grid_template_columns": null,
            "grid_template_rows": null,
            "height": null,
            "justify_content": null,
            "justify_items": null,
            "left": null,
            "margin": null,
            "max_height": null,
            "max_width": null,
            "min_height": null,
            "min_width": null,
            "object_fit": null,
            "object_position": null,
            "order": null,
            "overflow": null,
            "overflow_x": null,
            "overflow_y": null,
            "padding": null,
            "right": null,
            "top": null,
            "visibility": "hidden",
            "width": null
          }
        },
        "9d4fb58abaeb49d79f54a8ae8e533061": {
          "model_module": "@jupyter-widgets/base",
          "model_name": "LayoutModel",
          "model_module_version": "1.2.0",
          "state": {
            "_model_module": "@jupyter-widgets/base",
            "_model_module_version": "1.2.0",
            "_model_name": "LayoutModel",
            "_view_count": null,
            "_view_module": "@jupyter-widgets/base",
            "_view_module_version": "1.2.0",
            "_view_name": "LayoutView",
            "align_content": null,
            "align_items": null,
            "align_self": null,
            "border": null,
            "bottom": null,
            "display": null,
            "flex": null,
            "flex_flow": null,
            "grid_area": null,
            "grid_auto_columns": null,
            "grid_auto_flow": null,
            "grid_auto_rows": null,
            "grid_column": null,
            "grid_gap": null,
            "grid_row": null,
            "grid_template_areas": null,
            "grid_template_columns": null,
            "grid_template_rows": null,
            "height": null,
            "justify_content": null,
            "justify_items": null,
            "left": null,
            "margin": null,
            "max_height": null,
            "max_width": null,
            "min_height": null,
            "min_width": null,
            "object_fit": null,
            "object_position": null,
            "order": null,
            "overflow": null,
            "overflow_x": null,
            "overflow_y": null,
            "padding": null,
            "right": null,
            "top": null,
            "visibility": null,
            "width": null
          }
        },
        "c29168c61e3344b9aad593ac65d84624": {
          "model_module": "@jupyter-widgets/controls",
          "model_name": "DescriptionStyleModel",
          "model_module_version": "1.5.0",
          "state": {
            "_model_module": "@jupyter-widgets/controls",
            "_model_module_version": "1.5.0",
            "_model_name": "DescriptionStyleModel",
            "_view_count": null,
            "_view_module": "@jupyter-widgets/base",
            "_view_module_version": "1.2.0",
            "_view_name": "StyleView",
            "description_width": ""
          }
        },
        "f0cda1c3c82949cb947a6cb0604375d5": {
          "model_module": "@jupyter-widgets/base",
          "model_name": "LayoutModel",
          "model_module_version": "1.2.0",
          "state": {
            "_model_module": "@jupyter-widgets/base",
            "_model_module_version": "1.2.0",
            "_model_name": "LayoutModel",
            "_view_count": null,
            "_view_module": "@jupyter-widgets/base",
            "_view_module_version": "1.2.0",
            "_view_name": "LayoutView",
            "align_content": null,
            "align_items": null,
            "align_self": null,
            "border": null,
            "bottom": null,
            "display": null,
            "flex": null,
            "flex_flow": null,
            "grid_area": null,
            "grid_auto_columns": null,
            "grid_auto_flow": null,
            "grid_auto_rows": null,
            "grid_column": null,
            "grid_gap": null,
            "grid_row": null,
            "grid_template_areas": null,
            "grid_template_columns": null,
            "grid_template_rows": null,
            "height": null,
            "justify_content": null,
            "justify_items": null,
            "left": null,
            "margin": null,
            "max_height": null,
            "max_width": null,
            "min_height": null,
            "min_width": null,
            "object_fit": null,
            "object_position": null,
            "order": null,
            "overflow": null,
            "overflow_x": null,
            "overflow_y": null,
            "padding": null,
            "right": null,
            "top": null,
            "visibility": null,
            "width": null
          }
        },
        "54d6b4c76f7d4f9aadf8561b90354cc3": {
          "model_module": "@jupyter-widgets/controls",
          "model_name": "ProgressStyleModel",
          "model_module_version": "1.5.0",
          "state": {
            "_model_module": "@jupyter-widgets/controls",
            "_model_module_version": "1.5.0",
            "_model_name": "ProgressStyleModel",
            "_view_count": null,
            "_view_module": "@jupyter-widgets/base",
            "_view_module_version": "1.2.0",
            "_view_name": "StyleView",
            "bar_color": null,
            "description_width": ""
          }
        },
        "560cd9280709474db28114ee3b813988": {
          "model_module": "@jupyter-widgets/base",
          "model_name": "LayoutModel",
          "model_module_version": "1.2.0",
          "state": {
            "_model_module": "@jupyter-widgets/base",
            "_model_module_version": "1.2.0",
            "_model_name": "LayoutModel",
            "_view_count": null,
            "_view_module": "@jupyter-widgets/base",
            "_view_module_version": "1.2.0",
            "_view_name": "LayoutView",
            "align_content": null,
            "align_items": null,
            "align_self": null,
            "border": null,
            "bottom": null,
            "display": null,
            "flex": null,
            "flex_flow": null,
            "grid_area": null,
            "grid_auto_columns": null,
            "grid_auto_flow": null,
            "grid_auto_rows": null,
            "grid_column": null,
            "grid_gap": null,
            "grid_row": null,
            "grid_template_areas": null,
            "grid_template_columns": null,
            "grid_template_rows": null,
            "height": null,
            "justify_content": null,
            "justify_items": null,
            "left": null,
            "margin": null,
            "max_height": null,
            "max_width": null,
            "min_height": null,
            "min_width": null,
            "object_fit": null,
            "object_position": null,
            "order": null,
            "overflow": null,
            "overflow_x": null,
            "overflow_y": null,
            "padding": null,
            "right": null,
            "top": null,
            "visibility": null,
            "width": null
          }
        },
        "ea1321ab797047b7bcca5a2ad300d279": {
          "model_module": "@jupyter-widgets/controls",
          "model_name": "DescriptionStyleModel",
          "model_module_version": "1.5.0",
          "state": {
            "_model_module": "@jupyter-widgets/controls",
            "_model_module_version": "1.5.0",
            "_model_name": "DescriptionStyleModel",
            "_view_count": null,
            "_view_module": "@jupyter-widgets/base",
            "_view_module_version": "1.2.0",
            "_view_name": "StyleView",
            "description_width": ""
          }
        },
        "7823736b8bfe47c2b133d61879d4e22a": {
          "model_module": "@jupyter-widgets/controls",
          "model_name": "HBoxModel",
          "model_module_version": "1.5.0",
          "state": {
            "_dom_classes": [],
            "_model_module": "@jupyter-widgets/controls",
            "_model_module_version": "1.5.0",
            "_model_name": "HBoxModel",
            "_view_count": null,
            "_view_module": "@jupyter-widgets/controls",
            "_view_module_version": "1.5.0",
            "_view_name": "HBoxView",
            "box_style": "",
            "children": [
              "IPY_MODEL_bc1d20c7bdf844a5886a70197070bcbd",
              "IPY_MODEL_5030b1d125ea4247835d5b84da88272d",
              "IPY_MODEL_d50f9d3881534f0cbdb4f69a0e05818b"
            ],
            "layout": "IPY_MODEL_9516f7a375b8498c8b04db391f05c1cb"
          }
        },
        "bc1d20c7bdf844a5886a70197070bcbd": {
          "model_module": "@jupyter-widgets/controls",
          "model_name": "HTMLModel",
          "model_module_version": "1.5.0",
          "state": {
            "_dom_classes": [],
            "_model_module": "@jupyter-widgets/controls",
            "_model_module_version": "1.5.0",
            "_model_name": "HTMLModel",
            "_view_count": null,
            "_view_module": "@jupyter-widgets/controls",
            "_view_module_version": "1.5.0",
            "_view_name": "HTMLView",
            "description": "",
            "description_tooltip": null,
            "layout": "IPY_MODEL_93c2582b1b924cfcaf73dd1b2ca60d88",
            "placeholder": "​",
            "style": "IPY_MODEL_f697b90784d4416194631a660e83a31a",
            "value": "epoch: 6, loss: 2149.11450, lr: 0.002500:  99%"
          }
        },
        "5030b1d125ea4247835d5b84da88272d": {
          "model_module": "@jupyter-widgets/controls",
          "model_name": "FloatProgressModel",
          "model_module_version": "1.5.0",
          "state": {
            "_dom_classes": [],
            "_model_module": "@jupyter-widgets/controls",
            "_model_module_version": "1.5.0",
            "_model_name": "FloatProgressModel",
            "_view_count": null,
            "_view_module": "@jupyter-widgets/controls",
            "_view_module_version": "1.5.0",
            "_view_name": "ProgressView",
            "bar_style": "",
            "description": "",
            "description_tooltip": null,
            "layout": "IPY_MODEL_92dd0500a0f04beda2b46b3ce149cff7",
            "max": 130,
            "min": 0,
            "orientation": "horizontal",
            "style": "IPY_MODEL_02bbede63a584d65a0c03445c00cbf43",
            "value": 130
          }
        },
        "d50f9d3881534f0cbdb4f69a0e05818b": {
          "model_module": "@jupyter-widgets/controls",
          "model_name": "HTMLModel",
          "model_module_version": "1.5.0",
          "state": {
            "_dom_classes": [],
            "_model_module": "@jupyter-widgets/controls",
            "_model_module_version": "1.5.0",
            "_model_name": "HTMLModel",
            "_view_count": null,
            "_view_module": "@jupyter-widgets/controls",
            "_view_module_version": "1.5.0",
            "_view_name": "HTMLView",
            "description": "",
            "description_tooltip": null,
            "layout": "IPY_MODEL_30100ba1bcbe418996c107b31e2091ed",
            "placeholder": "​",
            "style": "IPY_MODEL_1cf0ffac7ae04532a38817cdd2bbf067",
            "value": " 129/130 [00:37&lt;00:00,  3.30it/s]"
          }
        },
        "9516f7a375b8498c8b04db391f05c1cb": {
          "model_module": "@jupyter-widgets/base",
          "model_name": "LayoutModel",
          "model_module_version": "1.2.0",
          "state": {
            "_model_module": "@jupyter-widgets/base",
            "_model_module_version": "1.2.0",
            "_model_name": "LayoutModel",
            "_view_count": null,
            "_view_module": "@jupyter-widgets/base",
            "_view_module_version": "1.2.0",
            "_view_name": "LayoutView",
            "align_content": null,
            "align_items": null,
            "align_self": null,
            "border": null,
            "bottom": null,
            "display": null,
            "flex": null,
            "flex_flow": null,
            "grid_area": null,
            "grid_auto_columns": null,
            "grid_auto_flow": null,
            "grid_auto_rows": null,
            "grid_column": null,
            "grid_gap": null,
            "grid_row": null,
            "grid_template_areas": null,
            "grid_template_columns": null,
            "grid_template_rows": null,
            "height": null,
            "justify_content": null,
            "justify_items": null,
            "left": null,
            "margin": null,
            "max_height": null,
            "max_width": null,
            "min_height": null,
            "min_width": null,
            "object_fit": null,
            "object_position": null,
            "order": null,
            "overflow": null,
            "overflow_x": null,
            "overflow_y": null,
            "padding": null,
            "right": null,
            "top": null,
            "visibility": "hidden",
            "width": null
          }
        },
        "93c2582b1b924cfcaf73dd1b2ca60d88": {
          "model_module": "@jupyter-widgets/base",
          "model_name": "LayoutModel",
          "model_module_version": "1.2.0",
          "state": {
            "_model_module": "@jupyter-widgets/base",
            "_model_module_version": "1.2.0",
            "_model_name": "LayoutModel",
            "_view_count": null,
            "_view_module": "@jupyter-widgets/base",
            "_view_module_version": "1.2.0",
            "_view_name": "LayoutView",
            "align_content": null,
            "align_items": null,
            "align_self": null,
            "border": null,
            "bottom": null,
            "display": null,
            "flex": null,
            "flex_flow": null,
            "grid_area": null,
            "grid_auto_columns": null,
            "grid_auto_flow": null,
            "grid_auto_rows": null,
            "grid_column": null,
            "grid_gap": null,
            "grid_row": null,
            "grid_template_areas": null,
            "grid_template_columns": null,
            "grid_template_rows": null,
            "height": null,
            "justify_content": null,
            "justify_items": null,
            "left": null,
            "margin": null,
            "max_height": null,
            "max_width": null,
            "min_height": null,
            "min_width": null,
            "object_fit": null,
            "object_position": null,
            "order": null,
            "overflow": null,
            "overflow_x": null,
            "overflow_y": null,
            "padding": null,
            "right": null,
            "top": null,
            "visibility": null,
            "width": null
          }
        },
        "f697b90784d4416194631a660e83a31a": {
          "model_module": "@jupyter-widgets/controls",
          "model_name": "DescriptionStyleModel",
          "model_module_version": "1.5.0",
          "state": {
            "_model_module": "@jupyter-widgets/controls",
            "_model_module_version": "1.5.0",
            "_model_name": "DescriptionStyleModel",
            "_view_count": null,
            "_view_module": "@jupyter-widgets/base",
            "_view_module_version": "1.2.0",
            "_view_name": "StyleView",
            "description_width": ""
          }
        },
        "92dd0500a0f04beda2b46b3ce149cff7": {
          "model_module": "@jupyter-widgets/base",
          "model_name": "LayoutModel",
          "model_module_version": "1.2.0",
          "state": {
            "_model_module": "@jupyter-widgets/base",
            "_model_module_version": "1.2.0",
            "_model_name": "LayoutModel",
            "_view_count": null,
            "_view_module": "@jupyter-widgets/base",
            "_view_module_version": "1.2.0",
            "_view_name": "LayoutView",
            "align_content": null,
            "align_items": null,
            "align_self": null,
            "border": null,
            "bottom": null,
            "display": null,
            "flex": null,
            "flex_flow": null,
            "grid_area": null,
            "grid_auto_columns": null,
            "grid_auto_flow": null,
            "grid_auto_rows": null,
            "grid_column": null,
            "grid_gap": null,
            "grid_row": null,
            "grid_template_areas": null,
            "grid_template_columns": null,
            "grid_template_rows": null,
            "height": null,
            "justify_content": null,
            "justify_items": null,
            "left": null,
            "margin": null,
            "max_height": null,
            "max_width": null,
            "min_height": null,
            "min_width": null,
            "object_fit": null,
            "object_position": null,
            "order": null,
            "overflow": null,
            "overflow_x": null,
            "overflow_y": null,
            "padding": null,
            "right": null,
            "top": null,
            "visibility": null,
            "width": null
          }
        },
        "02bbede63a584d65a0c03445c00cbf43": {
          "model_module": "@jupyter-widgets/controls",
          "model_name": "ProgressStyleModel",
          "model_module_version": "1.5.0",
          "state": {
            "_model_module": "@jupyter-widgets/controls",
            "_model_module_version": "1.5.0",
            "_model_name": "ProgressStyleModel",
            "_view_count": null,
            "_view_module": "@jupyter-widgets/base",
            "_view_module_version": "1.2.0",
            "_view_name": "StyleView",
            "bar_color": null,
            "description_width": ""
          }
        },
        "30100ba1bcbe418996c107b31e2091ed": {
          "model_module": "@jupyter-widgets/base",
          "model_name": "LayoutModel",
          "model_module_version": "1.2.0",
          "state": {
            "_model_module": "@jupyter-widgets/base",
            "_model_module_version": "1.2.0",
            "_model_name": "LayoutModel",
            "_view_count": null,
            "_view_module": "@jupyter-widgets/base",
            "_view_module_version": "1.2.0",
            "_view_name": "LayoutView",
            "align_content": null,
            "align_items": null,
            "align_self": null,
            "border": null,
            "bottom": null,
            "display": null,
            "flex": null,
            "flex_flow": null,
            "grid_area": null,
            "grid_auto_columns": null,
            "grid_auto_flow": null,
            "grid_auto_rows": null,
            "grid_column": null,
            "grid_gap": null,
            "grid_row": null,
            "grid_template_areas": null,
            "grid_template_columns": null,
            "grid_template_rows": null,
            "height": null,
            "justify_content": null,
            "justify_items": null,
            "left": null,
            "margin": null,
            "max_height": null,
            "max_width": null,
            "min_height": null,
            "min_width": null,
            "object_fit": null,
            "object_position": null,
            "order": null,
            "overflow": null,
            "overflow_x": null,
            "overflow_y": null,
            "padding": null,
            "right": null,
            "top": null,
            "visibility": null,
            "width": null
          }
        },
        "1cf0ffac7ae04532a38817cdd2bbf067": {
          "model_module": "@jupyter-widgets/controls",
          "model_name": "DescriptionStyleModel",
          "model_module_version": "1.5.0",
          "state": {
            "_model_module": "@jupyter-widgets/controls",
            "_model_module_version": "1.5.0",
            "_model_name": "DescriptionStyleModel",
            "_view_count": null,
            "_view_module": "@jupyter-widgets/base",
            "_view_module_version": "1.2.0",
            "_view_name": "StyleView",
            "description_width": ""
          }
        },
        "ece8eb4b1e04468c82342cb7e5e50a79": {
          "model_module": "@jupyter-widgets/controls",
          "model_name": "HBoxModel",
          "model_module_version": "1.5.0",
          "state": {
            "_dom_classes": [],
            "_model_module": "@jupyter-widgets/controls",
            "_model_module_version": "1.5.0",
            "_model_name": "HBoxModel",
            "_view_count": null,
            "_view_module": "@jupyter-widgets/controls",
            "_view_module_version": "1.5.0",
            "_view_name": "HBoxView",
            "box_style": "",
            "children": [
              "IPY_MODEL_f06543ade6b24bf29f4c9a2465f6cc92",
              "IPY_MODEL_63da91d8f0db41bcbcee6c2af73893e7",
              "IPY_MODEL_7bd5b779158146f39674dbbe80cb0650"
            ],
            "layout": "IPY_MODEL_f5e6502dc371447a9dc631df8b68f285"
          }
        },
        "f06543ade6b24bf29f4c9a2465f6cc92": {
          "model_module": "@jupyter-widgets/controls",
          "model_name": "HTMLModel",
          "model_module_version": "1.5.0",
          "state": {
            "_dom_classes": [],
            "_model_module": "@jupyter-widgets/controls",
            "_model_module_version": "1.5.0",
            "_model_name": "HTMLModel",
            "_view_count": null,
            "_view_module": "@jupyter-widgets/controls",
            "_view_module_version": "1.5.0",
            "_view_name": "HTMLView",
            "description": "",
            "description_tooltip": null,
            "layout": "IPY_MODEL_6441845696ff4a0ebf7616d6d58bb26e",
            "placeholder": "​",
            "style": "IPY_MODEL_7ce5e599e5184fca853b2df6cb045867",
            "value": "epoch: 7, loss: 1442.52734, lr: 0.002500:  99%"
          }
        },
        "63da91d8f0db41bcbcee6c2af73893e7": {
          "model_module": "@jupyter-widgets/controls",
          "model_name": "FloatProgressModel",
          "model_module_version": "1.5.0",
          "state": {
            "_dom_classes": [],
            "_model_module": "@jupyter-widgets/controls",
            "_model_module_version": "1.5.0",
            "_model_name": "FloatProgressModel",
            "_view_count": null,
            "_view_module": "@jupyter-widgets/controls",
            "_view_module_version": "1.5.0",
            "_view_name": "ProgressView",
            "bar_style": "",
            "description": "",
            "description_tooltip": null,
            "layout": "IPY_MODEL_dc459592d20249de8f45d81bf6953d49",
            "max": 130,
            "min": 0,
            "orientation": "horizontal",
            "style": "IPY_MODEL_469e226f749e40958153fa0812f5929e",
            "value": 130
          }
        },
        "7bd5b779158146f39674dbbe80cb0650": {
          "model_module": "@jupyter-widgets/controls",
          "model_name": "HTMLModel",
          "model_module_version": "1.5.0",
          "state": {
            "_dom_classes": [],
            "_model_module": "@jupyter-widgets/controls",
            "_model_module_version": "1.5.0",
            "_model_name": "HTMLModel",
            "_view_count": null,
            "_view_module": "@jupyter-widgets/controls",
            "_view_module_version": "1.5.0",
            "_view_name": "HTMLView",
            "description": "",
            "description_tooltip": null,
            "layout": "IPY_MODEL_5ae18e48670941f2b23d0bff16cb7eee",
            "placeholder": "​",
            "style": "IPY_MODEL_67b2dc620dfe42a58cc8b380c0bc46a7",
            "value": " 129/130 [00:37&lt;00:00,  3.96it/s]"
          }
        },
        "f5e6502dc371447a9dc631df8b68f285": {
          "model_module": "@jupyter-widgets/base",
          "model_name": "LayoutModel",
          "model_module_version": "1.2.0",
          "state": {
            "_model_module": "@jupyter-widgets/base",
            "_model_module_version": "1.2.0",
            "_model_name": "LayoutModel",
            "_view_count": null,
            "_view_module": "@jupyter-widgets/base",
            "_view_module_version": "1.2.0",
            "_view_name": "LayoutView",
            "align_content": null,
            "align_items": null,
            "align_self": null,
            "border": null,
            "bottom": null,
            "display": null,
            "flex": null,
            "flex_flow": null,
            "grid_area": null,
            "grid_auto_columns": null,
            "grid_auto_flow": null,
            "grid_auto_rows": null,
            "grid_column": null,
            "grid_gap": null,
            "grid_row": null,
            "grid_template_areas": null,
            "grid_template_columns": null,
            "grid_template_rows": null,
            "height": null,
            "justify_content": null,
            "justify_items": null,
            "left": null,
            "margin": null,
            "max_height": null,
            "max_width": null,
            "min_height": null,
            "min_width": null,
            "object_fit": null,
            "object_position": null,
            "order": null,
            "overflow": null,
            "overflow_x": null,
            "overflow_y": null,
            "padding": null,
            "right": null,
            "top": null,
            "visibility": "hidden",
            "width": null
          }
        },
        "6441845696ff4a0ebf7616d6d58bb26e": {
          "model_module": "@jupyter-widgets/base",
          "model_name": "LayoutModel",
          "model_module_version": "1.2.0",
          "state": {
            "_model_module": "@jupyter-widgets/base",
            "_model_module_version": "1.2.0",
            "_model_name": "LayoutModel",
            "_view_count": null,
            "_view_module": "@jupyter-widgets/base",
            "_view_module_version": "1.2.0",
            "_view_name": "LayoutView",
            "align_content": null,
            "align_items": null,
            "align_self": null,
            "border": null,
            "bottom": null,
            "display": null,
            "flex": null,
            "flex_flow": null,
            "grid_area": null,
            "grid_auto_columns": null,
            "grid_auto_flow": null,
            "grid_auto_rows": null,
            "grid_column": null,
            "grid_gap": null,
            "grid_row": null,
            "grid_template_areas": null,
            "grid_template_columns": null,
            "grid_template_rows": null,
            "height": null,
            "justify_content": null,
            "justify_items": null,
            "left": null,
            "margin": null,
            "max_height": null,
            "max_width": null,
            "min_height": null,
            "min_width": null,
            "object_fit": null,
            "object_position": null,
            "order": null,
            "overflow": null,
            "overflow_x": null,
            "overflow_y": null,
            "padding": null,
            "right": null,
            "top": null,
            "visibility": null,
            "width": null
          }
        },
        "7ce5e599e5184fca853b2df6cb045867": {
          "model_module": "@jupyter-widgets/controls",
          "model_name": "DescriptionStyleModel",
          "model_module_version": "1.5.0",
          "state": {
            "_model_module": "@jupyter-widgets/controls",
            "_model_module_version": "1.5.0",
            "_model_name": "DescriptionStyleModel",
            "_view_count": null,
            "_view_module": "@jupyter-widgets/base",
            "_view_module_version": "1.2.0",
            "_view_name": "StyleView",
            "description_width": ""
          }
        },
        "dc459592d20249de8f45d81bf6953d49": {
          "model_module": "@jupyter-widgets/base",
          "model_name": "LayoutModel",
          "model_module_version": "1.2.0",
          "state": {
            "_model_module": "@jupyter-widgets/base",
            "_model_module_version": "1.2.0",
            "_model_name": "LayoutModel",
            "_view_count": null,
            "_view_module": "@jupyter-widgets/base",
            "_view_module_version": "1.2.0",
            "_view_name": "LayoutView",
            "align_content": null,
            "align_items": null,
            "align_self": null,
            "border": null,
            "bottom": null,
            "display": null,
            "flex": null,
            "flex_flow": null,
            "grid_area": null,
            "grid_auto_columns": null,
            "grid_auto_flow": null,
            "grid_auto_rows": null,
            "grid_column": null,
            "grid_gap": null,
            "grid_row": null,
            "grid_template_areas": null,
            "grid_template_columns": null,
            "grid_template_rows": null,
            "height": null,
            "justify_content": null,
            "justify_items": null,
            "left": null,
            "margin": null,
            "max_height": null,
            "max_width": null,
            "min_height": null,
            "min_width": null,
            "object_fit": null,
            "object_position": null,
            "order": null,
            "overflow": null,
            "overflow_x": null,
            "overflow_y": null,
            "padding": null,
            "right": null,
            "top": null,
            "visibility": null,
            "width": null
          }
        },
        "469e226f749e40958153fa0812f5929e": {
          "model_module": "@jupyter-widgets/controls",
          "model_name": "ProgressStyleModel",
          "model_module_version": "1.5.0",
          "state": {
            "_model_module": "@jupyter-widgets/controls",
            "_model_module_version": "1.5.0",
            "_model_name": "ProgressStyleModel",
            "_view_count": null,
            "_view_module": "@jupyter-widgets/base",
            "_view_module_version": "1.2.0",
            "_view_name": "StyleView",
            "bar_color": null,
            "description_width": ""
          }
        },
        "5ae18e48670941f2b23d0bff16cb7eee": {
          "model_module": "@jupyter-widgets/base",
          "model_name": "LayoutModel",
          "model_module_version": "1.2.0",
          "state": {
            "_model_module": "@jupyter-widgets/base",
            "_model_module_version": "1.2.0",
            "_model_name": "LayoutModel",
            "_view_count": null,
            "_view_module": "@jupyter-widgets/base",
            "_view_module_version": "1.2.0",
            "_view_name": "LayoutView",
            "align_content": null,
            "align_items": null,
            "align_self": null,
            "border": null,
            "bottom": null,
            "display": null,
            "flex": null,
            "flex_flow": null,
            "grid_area": null,
            "grid_auto_columns": null,
            "grid_auto_flow": null,
            "grid_auto_rows": null,
            "grid_column": null,
            "grid_gap": null,
            "grid_row": null,
            "grid_template_areas": null,
            "grid_template_columns": null,
            "grid_template_rows": null,
            "height": null,
            "justify_content": null,
            "justify_items": null,
            "left": null,
            "margin": null,
            "max_height": null,
            "max_width": null,
            "min_height": null,
            "min_width": null,
            "object_fit": null,
            "object_position": null,
            "order": null,
            "overflow": null,
            "overflow_x": null,
            "overflow_y": null,
            "padding": null,
            "right": null,
            "top": null,
            "visibility": null,
            "width": null
          }
        },
        "67b2dc620dfe42a58cc8b380c0bc46a7": {
          "model_module": "@jupyter-widgets/controls",
          "model_name": "DescriptionStyleModel",
          "model_module_version": "1.5.0",
          "state": {
            "_model_module": "@jupyter-widgets/controls",
            "_model_module_version": "1.5.0",
            "_model_name": "DescriptionStyleModel",
            "_view_count": null,
            "_view_module": "@jupyter-widgets/base",
            "_view_module_version": "1.2.0",
            "_view_name": "StyleView",
            "description_width": ""
          }
        },
        "1b04617ae8b94ca8b30cd1c275587913": {
          "model_module": "@jupyter-widgets/controls",
          "model_name": "HBoxModel",
          "model_module_version": "1.5.0",
          "state": {
            "_dom_classes": [],
            "_model_module": "@jupyter-widgets/controls",
            "_model_module_version": "1.5.0",
            "_model_name": "HBoxModel",
            "_view_count": null,
            "_view_module": "@jupyter-widgets/controls",
            "_view_module_version": "1.5.0",
            "_view_name": "HBoxView",
            "box_style": "",
            "children": [
              "IPY_MODEL_3dd8f9d13bd249c785de27e8a2730fb7",
              "IPY_MODEL_d51768da9f494f0fbbb8e9b76837c0a5",
              "IPY_MODEL_c42b706f89944f4aa000e009417d27af"
            ],
            "layout": "IPY_MODEL_0938824ac96645e788b70308ca922cef"
          }
        },
        "3dd8f9d13bd249c785de27e8a2730fb7": {
          "model_module": "@jupyter-widgets/controls",
          "model_name": "HTMLModel",
          "model_module_version": "1.5.0",
          "state": {
            "_dom_classes": [],
            "_model_module": "@jupyter-widgets/controls",
            "_model_module_version": "1.5.0",
            "_model_name": "HTMLModel",
            "_view_count": null,
            "_view_module": "@jupyter-widgets/controls",
            "_view_module_version": "1.5.0",
            "_view_name": "HTMLView",
            "description": "",
            "description_tooltip": null,
            "layout": "IPY_MODEL_8f0265e1b11b405da0c97bed4af26293",
            "placeholder": "​",
            "style": "IPY_MODEL_6c3756010eda42e5a85ea29e60cacdf7",
            "value": "epoch: 8, loss: 1007.35913, lr: 0.002500:  99%"
          }
        },
        "d51768da9f494f0fbbb8e9b76837c0a5": {
          "model_module": "@jupyter-widgets/controls",
          "model_name": "FloatProgressModel",
          "model_module_version": "1.5.0",
          "state": {
            "_dom_classes": [],
            "_model_module": "@jupyter-widgets/controls",
            "_model_module_version": "1.5.0",
            "_model_name": "FloatProgressModel",
            "_view_count": null,
            "_view_module": "@jupyter-widgets/controls",
            "_view_module_version": "1.5.0",
            "_view_name": "ProgressView",
            "bar_style": "",
            "description": "",
            "description_tooltip": null,
            "layout": "IPY_MODEL_0b3ae3d4923f4e49a1016885a04ce5fd",
            "max": 130,
            "min": 0,
            "orientation": "horizontal",
            "style": "IPY_MODEL_97b6bd33ec424849b8df80796c168afa",
            "value": 130
          }
        },
        "c42b706f89944f4aa000e009417d27af": {
          "model_module": "@jupyter-widgets/controls",
          "model_name": "HTMLModel",
          "model_module_version": "1.5.0",
          "state": {
            "_dom_classes": [],
            "_model_module": "@jupyter-widgets/controls",
            "_model_module_version": "1.5.0",
            "_model_name": "HTMLModel",
            "_view_count": null,
            "_view_module": "@jupyter-widgets/controls",
            "_view_module_version": "1.5.0",
            "_view_name": "HTMLView",
            "description": "",
            "description_tooltip": null,
            "layout": "IPY_MODEL_9e3f0d35e5f8482d9105322bbeb63927",
            "placeholder": "​",
            "style": "IPY_MODEL_074db2880fda4147a44c919cfd8cd597",
            "value": " 129/130 [00:37&lt;00:00,  3.56it/s]"
          }
        },
        "0938824ac96645e788b70308ca922cef": {
          "model_module": "@jupyter-widgets/base",
          "model_name": "LayoutModel",
          "model_module_version": "1.2.0",
          "state": {
            "_model_module": "@jupyter-widgets/base",
            "_model_module_version": "1.2.0",
            "_model_name": "LayoutModel",
            "_view_count": null,
            "_view_module": "@jupyter-widgets/base",
            "_view_module_version": "1.2.0",
            "_view_name": "LayoutView",
            "align_content": null,
            "align_items": null,
            "align_self": null,
            "border": null,
            "bottom": null,
            "display": null,
            "flex": null,
            "flex_flow": null,
            "grid_area": null,
            "grid_auto_columns": null,
            "grid_auto_flow": null,
            "grid_auto_rows": null,
            "grid_column": null,
            "grid_gap": null,
            "grid_row": null,
            "grid_template_areas": null,
            "grid_template_columns": null,
            "grid_template_rows": null,
            "height": null,
            "justify_content": null,
            "justify_items": null,
            "left": null,
            "margin": null,
            "max_height": null,
            "max_width": null,
            "min_height": null,
            "min_width": null,
            "object_fit": null,
            "object_position": null,
            "order": null,
            "overflow": null,
            "overflow_x": null,
            "overflow_y": null,
            "padding": null,
            "right": null,
            "top": null,
            "visibility": "hidden",
            "width": null
          }
        },
        "8f0265e1b11b405da0c97bed4af26293": {
          "model_module": "@jupyter-widgets/base",
          "model_name": "LayoutModel",
          "model_module_version": "1.2.0",
          "state": {
            "_model_module": "@jupyter-widgets/base",
            "_model_module_version": "1.2.0",
            "_model_name": "LayoutModel",
            "_view_count": null,
            "_view_module": "@jupyter-widgets/base",
            "_view_module_version": "1.2.0",
            "_view_name": "LayoutView",
            "align_content": null,
            "align_items": null,
            "align_self": null,
            "border": null,
            "bottom": null,
            "display": null,
            "flex": null,
            "flex_flow": null,
            "grid_area": null,
            "grid_auto_columns": null,
            "grid_auto_flow": null,
            "grid_auto_rows": null,
            "grid_column": null,
            "grid_gap": null,
            "grid_row": null,
            "grid_template_areas": null,
            "grid_template_columns": null,
            "grid_template_rows": null,
            "height": null,
            "justify_content": null,
            "justify_items": null,
            "left": null,
            "margin": null,
            "max_height": null,
            "max_width": null,
            "min_height": null,
            "min_width": null,
            "object_fit": null,
            "object_position": null,
            "order": null,
            "overflow": null,
            "overflow_x": null,
            "overflow_y": null,
            "padding": null,
            "right": null,
            "top": null,
            "visibility": null,
            "width": null
          }
        },
        "6c3756010eda42e5a85ea29e60cacdf7": {
          "model_module": "@jupyter-widgets/controls",
          "model_name": "DescriptionStyleModel",
          "model_module_version": "1.5.0",
          "state": {
            "_model_module": "@jupyter-widgets/controls",
            "_model_module_version": "1.5.0",
            "_model_name": "DescriptionStyleModel",
            "_view_count": null,
            "_view_module": "@jupyter-widgets/base",
            "_view_module_version": "1.2.0",
            "_view_name": "StyleView",
            "description_width": ""
          }
        },
        "0b3ae3d4923f4e49a1016885a04ce5fd": {
          "model_module": "@jupyter-widgets/base",
          "model_name": "LayoutModel",
          "model_module_version": "1.2.0",
          "state": {
            "_model_module": "@jupyter-widgets/base",
            "_model_module_version": "1.2.0",
            "_model_name": "LayoutModel",
            "_view_count": null,
            "_view_module": "@jupyter-widgets/base",
            "_view_module_version": "1.2.0",
            "_view_name": "LayoutView",
            "align_content": null,
            "align_items": null,
            "align_self": null,
            "border": null,
            "bottom": null,
            "display": null,
            "flex": null,
            "flex_flow": null,
            "grid_area": null,
            "grid_auto_columns": null,
            "grid_auto_flow": null,
            "grid_auto_rows": null,
            "grid_column": null,
            "grid_gap": null,
            "grid_row": null,
            "grid_template_areas": null,
            "grid_template_columns": null,
            "grid_template_rows": null,
            "height": null,
            "justify_content": null,
            "justify_items": null,
            "left": null,
            "margin": null,
            "max_height": null,
            "max_width": null,
            "min_height": null,
            "min_width": null,
            "object_fit": null,
            "object_position": null,
            "order": null,
            "overflow": null,
            "overflow_x": null,
            "overflow_y": null,
            "padding": null,
            "right": null,
            "top": null,
            "visibility": null,
            "width": null
          }
        },
        "97b6bd33ec424849b8df80796c168afa": {
          "model_module": "@jupyter-widgets/controls",
          "model_name": "ProgressStyleModel",
          "model_module_version": "1.5.0",
          "state": {
            "_model_module": "@jupyter-widgets/controls",
            "_model_module_version": "1.5.0",
            "_model_name": "ProgressStyleModel",
            "_view_count": null,
            "_view_module": "@jupyter-widgets/base",
            "_view_module_version": "1.2.0",
            "_view_name": "StyleView",
            "bar_color": null,
            "description_width": ""
          }
        },
        "9e3f0d35e5f8482d9105322bbeb63927": {
          "model_module": "@jupyter-widgets/base",
          "model_name": "LayoutModel",
          "model_module_version": "1.2.0",
          "state": {
            "_model_module": "@jupyter-widgets/base",
            "_model_module_version": "1.2.0",
            "_model_name": "LayoutModel",
            "_view_count": null,
            "_view_module": "@jupyter-widgets/base",
            "_view_module_version": "1.2.0",
            "_view_name": "LayoutView",
            "align_content": null,
            "align_items": null,
            "align_self": null,
            "border": null,
            "bottom": null,
            "display": null,
            "flex": null,
            "flex_flow": null,
            "grid_area": null,
            "grid_auto_columns": null,
            "grid_auto_flow": null,
            "grid_auto_rows": null,
            "grid_column": null,
            "grid_gap": null,
            "grid_row": null,
            "grid_template_areas": null,
            "grid_template_columns": null,
            "grid_template_rows": null,
            "height": null,
            "justify_content": null,
            "justify_items": null,
            "left": null,
            "margin": null,
            "max_height": null,
            "max_width": null,
            "min_height": null,
            "min_width": null,
            "object_fit": null,
            "object_position": null,
            "order": null,
            "overflow": null,
            "overflow_x": null,
            "overflow_y": null,
            "padding": null,
            "right": null,
            "top": null,
            "visibility": null,
            "width": null
          }
        },
        "074db2880fda4147a44c919cfd8cd597": {
          "model_module": "@jupyter-widgets/controls",
          "model_name": "DescriptionStyleModel",
          "model_module_version": "1.5.0",
          "state": {
            "_model_module": "@jupyter-widgets/controls",
            "_model_module_version": "1.5.0",
            "_model_name": "DescriptionStyleModel",
            "_view_count": null,
            "_view_module": "@jupyter-widgets/base",
            "_view_module_version": "1.2.0",
            "_view_name": "StyleView",
            "description_width": ""
          }
        },
        "e6b178409ffc4107bf205c80890af43f": {
          "model_module": "@jupyter-widgets/controls",
          "model_name": "HBoxModel",
          "model_module_version": "1.5.0",
          "state": {
            "_dom_classes": [],
            "_model_module": "@jupyter-widgets/controls",
            "_model_module_version": "1.5.0",
            "_model_name": "HBoxModel",
            "_view_count": null,
            "_view_module": "@jupyter-widgets/controls",
            "_view_module_version": "1.5.0",
            "_view_name": "HBoxView",
            "box_style": "",
            "children": [
              "IPY_MODEL_8bd7b98b1bd1403bb535dedb96b99627",
              "IPY_MODEL_5d551b4d20bb41baaffcba0d1d167cf7",
              "IPY_MODEL_88d82076db9245728e67a375659775b9"
            ],
            "layout": "IPY_MODEL_d49e246b63a24f9f9c8c958d3170c218"
          }
        },
        "8bd7b98b1bd1403bb535dedb96b99627": {
          "model_module": "@jupyter-widgets/controls",
          "model_name": "HTMLModel",
          "model_module_version": "1.5.0",
          "state": {
            "_dom_classes": [],
            "_model_module": "@jupyter-widgets/controls",
            "_model_module_version": "1.5.0",
            "_model_name": "HTMLModel",
            "_view_count": null,
            "_view_module": "@jupyter-widgets/controls",
            "_view_module_version": "1.5.0",
            "_view_name": "HTMLView",
            "description": "",
            "description_tooltip": null,
            "layout": "IPY_MODEL_268a02dbd6d342339335252f04313e4c",
            "placeholder": "​",
            "style": "IPY_MODEL_79cb2b0f03b44ca0b3831c78e356b6c2",
            "value": "epoch: 9, loss: 688.58301, lr: 0.002500:  99%"
          }
        },
        "5d551b4d20bb41baaffcba0d1d167cf7": {
          "model_module": "@jupyter-widgets/controls",
          "model_name": "FloatProgressModel",
          "model_module_version": "1.5.0",
          "state": {
            "_dom_classes": [],
            "_model_module": "@jupyter-widgets/controls",
            "_model_module_version": "1.5.0",
            "_model_name": "FloatProgressModel",
            "_view_count": null,
            "_view_module": "@jupyter-widgets/controls",
            "_view_module_version": "1.5.0",
            "_view_name": "ProgressView",
            "bar_style": "",
            "description": "",
            "description_tooltip": null,
            "layout": "IPY_MODEL_1130c76ee55b4eacbf1ba5dfa6347d50",
            "max": 130,
            "min": 0,
            "orientation": "horizontal",
            "style": "IPY_MODEL_c6a3caad4a014ebf8a69ff3617e6de30",
            "value": 130
          }
        },
        "88d82076db9245728e67a375659775b9": {
          "model_module": "@jupyter-widgets/controls",
          "model_name": "HTMLModel",
          "model_module_version": "1.5.0",
          "state": {
            "_dom_classes": [],
            "_model_module": "@jupyter-widgets/controls",
            "_model_module_version": "1.5.0",
            "_model_name": "HTMLModel",
            "_view_count": null,
            "_view_module": "@jupyter-widgets/controls",
            "_view_module_version": "1.5.0",
            "_view_name": "HTMLView",
            "description": "",
            "description_tooltip": null,
            "layout": "IPY_MODEL_5d3496bee2074ddc87f19d61694664c2",
            "placeholder": "​",
            "style": "IPY_MODEL_2ff46a0d316a46369f7eabb8ff3e3ae9",
            "value": " 129/130 [00:37&lt;00:00,  3.47it/s]"
          }
        },
        "d49e246b63a24f9f9c8c958d3170c218": {
          "model_module": "@jupyter-widgets/base",
          "model_name": "LayoutModel",
          "model_module_version": "1.2.0",
          "state": {
            "_model_module": "@jupyter-widgets/base",
            "_model_module_version": "1.2.0",
            "_model_name": "LayoutModel",
            "_view_count": null,
            "_view_module": "@jupyter-widgets/base",
            "_view_module_version": "1.2.0",
            "_view_name": "LayoutView",
            "align_content": null,
            "align_items": null,
            "align_self": null,
            "border": null,
            "bottom": null,
            "display": null,
            "flex": null,
            "flex_flow": null,
            "grid_area": null,
            "grid_auto_columns": null,
            "grid_auto_flow": null,
            "grid_auto_rows": null,
            "grid_column": null,
            "grid_gap": null,
            "grid_row": null,
            "grid_template_areas": null,
            "grid_template_columns": null,
            "grid_template_rows": null,
            "height": null,
            "justify_content": null,
            "justify_items": null,
            "left": null,
            "margin": null,
            "max_height": null,
            "max_width": null,
            "min_height": null,
            "min_width": null,
            "object_fit": null,
            "object_position": null,
            "order": null,
            "overflow": null,
            "overflow_x": null,
            "overflow_y": null,
            "padding": null,
            "right": null,
            "top": null,
            "visibility": "hidden",
            "width": null
          }
        },
        "268a02dbd6d342339335252f04313e4c": {
          "model_module": "@jupyter-widgets/base",
          "model_name": "LayoutModel",
          "model_module_version": "1.2.0",
          "state": {
            "_model_module": "@jupyter-widgets/base",
            "_model_module_version": "1.2.0",
            "_model_name": "LayoutModel",
            "_view_count": null,
            "_view_module": "@jupyter-widgets/base",
            "_view_module_version": "1.2.0",
            "_view_name": "LayoutView",
            "align_content": null,
            "align_items": null,
            "align_self": null,
            "border": null,
            "bottom": null,
            "display": null,
            "flex": null,
            "flex_flow": null,
            "grid_area": null,
            "grid_auto_columns": null,
            "grid_auto_flow": null,
            "grid_auto_rows": null,
            "grid_column": null,
            "grid_gap": null,
            "grid_row": null,
            "grid_template_areas": null,
            "grid_template_columns": null,
            "grid_template_rows": null,
            "height": null,
            "justify_content": null,
            "justify_items": null,
            "left": null,
            "margin": null,
            "max_height": null,
            "max_width": null,
            "min_height": null,
            "min_width": null,
            "object_fit": null,
            "object_position": null,
            "order": null,
            "overflow": null,
            "overflow_x": null,
            "overflow_y": null,
            "padding": null,
            "right": null,
            "top": null,
            "visibility": null,
            "width": null
          }
        },
        "79cb2b0f03b44ca0b3831c78e356b6c2": {
          "model_module": "@jupyter-widgets/controls",
          "model_name": "DescriptionStyleModel",
          "model_module_version": "1.5.0",
          "state": {
            "_model_module": "@jupyter-widgets/controls",
            "_model_module_version": "1.5.0",
            "_model_name": "DescriptionStyleModel",
            "_view_count": null,
            "_view_module": "@jupyter-widgets/base",
            "_view_module_version": "1.2.0",
            "_view_name": "StyleView",
            "description_width": ""
          }
        },
        "1130c76ee55b4eacbf1ba5dfa6347d50": {
          "model_module": "@jupyter-widgets/base",
          "model_name": "LayoutModel",
          "model_module_version": "1.2.0",
          "state": {
            "_model_module": "@jupyter-widgets/base",
            "_model_module_version": "1.2.0",
            "_model_name": "LayoutModel",
            "_view_count": null,
            "_view_module": "@jupyter-widgets/base",
            "_view_module_version": "1.2.0",
            "_view_name": "LayoutView",
            "align_content": null,
            "align_items": null,
            "align_self": null,
            "border": null,
            "bottom": null,
            "display": null,
            "flex": null,
            "flex_flow": null,
            "grid_area": null,
            "grid_auto_columns": null,
            "grid_auto_flow": null,
            "grid_auto_rows": null,
            "grid_column": null,
            "grid_gap": null,
            "grid_row": null,
            "grid_template_areas": null,
            "grid_template_columns": null,
            "grid_template_rows": null,
            "height": null,
            "justify_content": null,
            "justify_items": null,
            "left": null,
            "margin": null,
            "max_height": null,
            "max_width": null,
            "min_height": null,
            "min_width": null,
            "object_fit": null,
            "object_position": null,
            "order": null,
            "overflow": null,
            "overflow_x": null,
            "overflow_y": null,
            "padding": null,
            "right": null,
            "top": null,
            "visibility": null,
            "width": null
          }
        },
        "c6a3caad4a014ebf8a69ff3617e6de30": {
          "model_module": "@jupyter-widgets/controls",
          "model_name": "ProgressStyleModel",
          "model_module_version": "1.5.0",
          "state": {
            "_model_module": "@jupyter-widgets/controls",
            "_model_module_version": "1.5.0",
            "_model_name": "ProgressStyleModel",
            "_view_count": null,
            "_view_module": "@jupyter-widgets/base",
            "_view_module_version": "1.2.0",
            "_view_name": "StyleView",
            "bar_color": null,
            "description_width": ""
          }
        },
        "5d3496bee2074ddc87f19d61694664c2": {
          "model_module": "@jupyter-widgets/base",
          "model_name": "LayoutModel",
          "model_module_version": "1.2.0",
          "state": {
            "_model_module": "@jupyter-widgets/base",
            "_model_module_version": "1.2.0",
            "_model_name": "LayoutModel",
            "_view_count": null,
            "_view_module": "@jupyter-widgets/base",
            "_view_module_version": "1.2.0",
            "_view_name": "LayoutView",
            "align_content": null,
            "align_items": null,
            "align_self": null,
            "border": null,
            "bottom": null,
            "display": null,
            "flex": null,
            "flex_flow": null,
            "grid_area": null,
            "grid_auto_columns": null,
            "grid_auto_flow": null,
            "grid_auto_rows": null,
            "grid_column": null,
            "grid_gap": null,
            "grid_row": null,
            "grid_template_areas": null,
            "grid_template_columns": null,
            "grid_template_rows": null,
            "height": null,
            "justify_content": null,
            "justify_items": null,
            "left": null,
            "margin": null,
            "max_height": null,
            "max_width": null,
            "min_height": null,
            "min_width": null,
            "object_fit": null,
            "object_position": null,
            "order": null,
            "overflow": null,
            "overflow_x": null,
            "overflow_y": null,
            "padding": null,
            "right": null,
            "top": null,
            "visibility": null,
            "width": null
          }
        },
        "2ff46a0d316a46369f7eabb8ff3e3ae9": {
          "model_module": "@jupyter-widgets/controls",
          "model_name": "DescriptionStyleModel",
          "model_module_version": "1.5.0",
          "state": {
            "_model_module": "@jupyter-widgets/controls",
            "_model_module_version": "1.5.0",
            "_model_name": "DescriptionStyleModel",
            "_view_count": null,
            "_view_module": "@jupyter-widgets/base",
            "_view_module_version": "1.2.0",
            "_view_name": "StyleView",
            "description_width": ""
          }
        },
        "bee0fd50fdd8433bb201af684523223e": {
          "model_module": "@jupyter-widgets/controls",
          "model_name": "HBoxModel",
          "model_module_version": "1.5.0",
          "state": {
            "_dom_classes": [],
            "_model_module": "@jupyter-widgets/controls",
            "_model_module_version": "1.5.0",
            "_model_name": "HBoxModel",
            "_view_count": null,
            "_view_module": "@jupyter-widgets/controls",
            "_view_module_version": "1.5.0",
            "_view_name": "HBoxView",
            "box_style": "",
            "children": [
              "IPY_MODEL_21936e5863dd400ebfb79fb7d570e7fa",
              "IPY_MODEL_f35c38b828db4428b00d31b5d51c8256",
              "IPY_MODEL_aabfe378a221417486a3497e9a2a2133"
            ],
            "layout": "IPY_MODEL_990327ed60ef49ff9349d47f651cf56b"
          }
        },
        "21936e5863dd400ebfb79fb7d570e7fa": {
          "model_module": "@jupyter-widgets/controls",
          "model_name": "HTMLModel",
          "model_module_version": "1.5.0",
          "state": {
            "_dom_classes": [],
            "_model_module": "@jupyter-widgets/controls",
            "_model_module_version": "1.5.0",
            "_model_name": "HTMLModel",
            "_view_count": null,
            "_view_module": "@jupyter-widgets/controls",
            "_view_module_version": "1.5.0",
            "_view_name": "HTMLView",
            "description": "",
            "description_tooltip": null,
            "layout": "IPY_MODEL_bb8374d5e8564c8cb4a863aed8f661a6",
            "placeholder": "​",
            "style": "IPY_MODEL_1d72270b8b924a15ae6b2921b9b5be00",
            "value": "epoch: 10, loss: 494.31097, lr: 0.002500:  99%"
          }
        },
        "f35c38b828db4428b00d31b5d51c8256": {
          "model_module": "@jupyter-widgets/controls",
          "model_name": "FloatProgressModel",
          "model_module_version": "1.5.0",
          "state": {
            "_dom_classes": [],
            "_model_module": "@jupyter-widgets/controls",
            "_model_module_version": "1.5.0",
            "_model_name": "FloatProgressModel",
            "_view_count": null,
            "_view_module": "@jupyter-widgets/controls",
            "_view_module_version": "1.5.0",
            "_view_name": "ProgressView",
            "bar_style": "",
            "description": "",
            "description_tooltip": null,
            "layout": "IPY_MODEL_d9f8539de6cf4bb89499cebaf92fb5b2",
            "max": 130,
            "min": 0,
            "orientation": "horizontal",
            "style": "IPY_MODEL_fa832dc3c12b43a799081aa412211ae4",
            "value": 130
          }
        },
        "aabfe378a221417486a3497e9a2a2133": {
          "model_module": "@jupyter-widgets/controls",
          "model_name": "HTMLModel",
          "model_module_version": "1.5.0",
          "state": {
            "_dom_classes": [],
            "_model_module": "@jupyter-widgets/controls",
            "_model_module_version": "1.5.0",
            "_model_name": "HTMLModel",
            "_view_count": null,
            "_view_module": "@jupyter-widgets/controls",
            "_view_module_version": "1.5.0",
            "_view_name": "HTMLView",
            "description": "",
            "description_tooltip": null,
            "layout": "IPY_MODEL_fca4b85c1eb641ea9185445e893a57cd",
            "placeholder": "​",
            "style": "IPY_MODEL_fc020006411340a085c6d81c8fa5db66",
            "value": " 129/130 [00:37&lt;00:00,  3.61it/s]"
          }
        },
        "990327ed60ef49ff9349d47f651cf56b": {
          "model_module": "@jupyter-widgets/base",
          "model_name": "LayoutModel",
          "model_module_version": "1.2.0",
          "state": {
            "_model_module": "@jupyter-widgets/base",
            "_model_module_version": "1.2.0",
            "_model_name": "LayoutModel",
            "_view_count": null,
            "_view_module": "@jupyter-widgets/base",
            "_view_module_version": "1.2.0",
            "_view_name": "LayoutView",
            "align_content": null,
            "align_items": null,
            "align_self": null,
            "border": null,
            "bottom": null,
            "display": null,
            "flex": null,
            "flex_flow": null,
            "grid_area": null,
            "grid_auto_columns": null,
            "grid_auto_flow": null,
            "grid_auto_rows": null,
            "grid_column": null,
            "grid_gap": null,
            "grid_row": null,
            "grid_template_areas": null,
            "grid_template_columns": null,
            "grid_template_rows": null,
            "height": null,
            "justify_content": null,
            "justify_items": null,
            "left": null,
            "margin": null,
            "max_height": null,
            "max_width": null,
            "min_height": null,
            "min_width": null,
            "object_fit": null,
            "object_position": null,
            "order": null,
            "overflow": null,
            "overflow_x": null,
            "overflow_y": null,
            "padding": null,
            "right": null,
            "top": null,
            "visibility": "hidden",
            "width": null
          }
        },
        "bb8374d5e8564c8cb4a863aed8f661a6": {
          "model_module": "@jupyter-widgets/base",
          "model_name": "LayoutModel",
          "model_module_version": "1.2.0",
          "state": {
            "_model_module": "@jupyter-widgets/base",
            "_model_module_version": "1.2.0",
            "_model_name": "LayoutModel",
            "_view_count": null,
            "_view_module": "@jupyter-widgets/base",
            "_view_module_version": "1.2.0",
            "_view_name": "LayoutView",
            "align_content": null,
            "align_items": null,
            "align_self": null,
            "border": null,
            "bottom": null,
            "display": null,
            "flex": null,
            "flex_flow": null,
            "grid_area": null,
            "grid_auto_columns": null,
            "grid_auto_flow": null,
            "grid_auto_rows": null,
            "grid_column": null,
            "grid_gap": null,
            "grid_row": null,
            "grid_template_areas": null,
            "grid_template_columns": null,
            "grid_template_rows": null,
            "height": null,
            "justify_content": null,
            "justify_items": null,
            "left": null,
            "margin": null,
            "max_height": null,
            "max_width": null,
            "min_height": null,
            "min_width": null,
            "object_fit": null,
            "object_position": null,
            "order": null,
            "overflow": null,
            "overflow_x": null,
            "overflow_y": null,
            "padding": null,
            "right": null,
            "top": null,
            "visibility": null,
            "width": null
          }
        },
        "1d72270b8b924a15ae6b2921b9b5be00": {
          "model_module": "@jupyter-widgets/controls",
          "model_name": "DescriptionStyleModel",
          "model_module_version": "1.5.0",
          "state": {
            "_model_module": "@jupyter-widgets/controls",
            "_model_module_version": "1.5.0",
            "_model_name": "DescriptionStyleModel",
            "_view_count": null,
            "_view_module": "@jupyter-widgets/base",
            "_view_module_version": "1.2.0",
            "_view_name": "StyleView",
            "description_width": ""
          }
        },
        "d9f8539de6cf4bb89499cebaf92fb5b2": {
          "model_module": "@jupyter-widgets/base",
          "model_name": "LayoutModel",
          "model_module_version": "1.2.0",
          "state": {
            "_model_module": "@jupyter-widgets/base",
            "_model_module_version": "1.2.0",
            "_model_name": "LayoutModel",
            "_view_count": null,
            "_view_module": "@jupyter-widgets/base",
            "_view_module_version": "1.2.0",
            "_view_name": "LayoutView",
            "align_content": null,
            "align_items": null,
            "align_self": null,
            "border": null,
            "bottom": null,
            "display": null,
            "flex": null,
            "flex_flow": null,
            "grid_area": null,
            "grid_auto_columns": null,
            "grid_auto_flow": null,
            "grid_auto_rows": null,
            "grid_column": null,
            "grid_gap": null,
            "grid_row": null,
            "grid_template_areas": null,
            "grid_template_columns": null,
            "grid_template_rows": null,
            "height": null,
            "justify_content": null,
            "justify_items": null,
            "left": null,
            "margin": null,
            "max_height": null,
            "max_width": null,
            "min_height": null,
            "min_width": null,
            "object_fit": null,
            "object_position": null,
            "order": null,
            "overflow": null,
            "overflow_x": null,
            "overflow_y": null,
            "padding": null,
            "right": null,
            "top": null,
            "visibility": null,
            "width": null
          }
        },
        "fa832dc3c12b43a799081aa412211ae4": {
          "model_module": "@jupyter-widgets/controls",
          "model_name": "ProgressStyleModel",
          "model_module_version": "1.5.0",
          "state": {
            "_model_module": "@jupyter-widgets/controls",
            "_model_module_version": "1.5.0",
            "_model_name": "ProgressStyleModel",
            "_view_count": null,
            "_view_module": "@jupyter-widgets/base",
            "_view_module_version": "1.2.0",
            "_view_name": "StyleView",
            "bar_color": null,
            "description_width": ""
          }
        },
        "fca4b85c1eb641ea9185445e893a57cd": {
          "model_module": "@jupyter-widgets/base",
          "model_name": "LayoutModel",
          "model_module_version": "1.2.0",
          "state": {
            "_model_module": "@jupyter-widgets/base",
            "_model_module_version": "1.2.0",
            "_model_name": "LayoutModel",
            "_view_count": null,
            "_view_module": "@jupyter-widgets/base",
            "_view_module_version": "1.2.0",
            "_view_name": "LayoutView",
            "align_content": null,
            "align_items": null,
            "align_self": null,
            "border": null,
            "bottom": null,
            "display": null,
            "flex": null,
            "flex_flow": null,
            "grid_area": null,
            "grid_auto_columns": null,
            "grid_auto_flow": null,
            "grid_auto_rows": null,
            "grid_column": null,
            "grid_gap": null,
            "grid_row": null,
            "grid_template_areas": null,
            "grid_template_columns": null,
            "grid_template_rows": null,
            "height": null,
            "justify_content": null,
            "justify_items": null,
            "left": null,
            "margin": null,
            "max_height": null,
            "max_width": null,
            "min_height": null,
            "min_width": null,
            "object_fit": null,
            "object_position": null,
            "order": null,
            "overflow": null,
            "overflow_x": null,
            "overflow_y": null,
            "padding": null,
            "right": null,
            "top": null,
            "visibility": null,
            "width": null
          }
        },
        "fc020006411340a085c6d81c8fa5db66": {
          "model_module": "@jupyter-widgets/controls",
          "model_name": "DescriptionStyleModel",
          "model_module_version": "1.5.0",
          "state": {
            "_model_module": "@jupyter-widgets/controls",
            "_model_module_version": "1.5.0",
            "_model_name": "DescriptionStyleModel",
            "_view_count": null,
            "_view_module": "@jupyter-widgets/base",
            "_view_module_version": "1.2.0",
            "_view_name": "StyleView",
            "description_width": ""
          }
        }
      }
    },
    "accelerator": "GPU"
  },
  "nbformat": 4,
  "nbformat_minor": 0
}