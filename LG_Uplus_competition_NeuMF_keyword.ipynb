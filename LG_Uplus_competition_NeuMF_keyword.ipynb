{
  "cells": [
    {
      "cell_type": "markdown",
      "metadata": {
        "id": "view-in-github",
        "colab_type": "text"
      },
      "source": [
        "<a href=\"https://colab.research.google.com/github/dlskawns/LG_Uplus_AI_Stage/blob/main/LG_Uplus_competition_NeuMF_keyword.ipynb\" target=\"_parent\"><img src=\"https://colab.research.google.com/assets/colab-badge.svg\" alt=\"Open In Colab\"/></a>"
      ]
    },
    {
      "cell_type": "code",
      "execution_count": 1,
      "metadata": {
        "colab": {
          "base_uri": "https://localhost:8080/"
        },
        "id": "5Cnh08QRbbjS",
        "outputId": "ad0f45c5-3620-4fe0-90f7-760dc1ce47b5"
      },
      "outputs": [
        {
          "output_type": "stream",
          "name": "stdout",
          "text": [
            "Drive already mounted at /content/drive; to attempt to forcibly remount, call drive.mount(\"/content/drive\", force_remount=True).\n"
          ]
        }
      ],
      "source": [
        "from google.colab import drive\n",
        "\n",
        "drive.mount('/content/drive')"
      ]
    },
    {
      "cell_type": "code",
      "execution_count": null,
      "metadata": {
        "id": "YksFDKhck8Ad"
      },
      "outputs": [],
      "source": [
        "!pip install -r \"/content/drive/MyDrive/code/requirements.txt\""
      ]
    },
    {
      "cell_type": "code",
      "execution_count": 2,
      "metadata": {
        "id": "iHstgRfiYU1G"
      },
      "outputs": [],
      "source": [
        "# 패키지 로드\n",
        "import warnings\n",
        "warnings.filterwarnings('ignore')\n",
        "\n",
        "import numpy as np\n",
        "import pandas as pd\n",
        "from tqdm.notebook import tqdm\n",
        "from sklearn.model_selection import train_test_split\n",
        "from collections import defaultdict\n",
        "import os, random\n",
        "\n",
        "from scipy import sparse\n",
        "from sklearn.preprocessing import LabelEncoder\n",
        "import matplotlib.pyplot as plt\n",
        "%matplotlib inline\n",
        "\n",
        "import torch\n",
        "import torch.nn as nn\n",
        "from torch.nn.init import normal_\n",
        "from torch.utils.data import TensorDataset, DataLoader\n",
        "import torch.nn.functional as F\n",
        "\n",
        "import plotnine\n",
        "from plotnine import *"
      ]
    },
    {
      "cell_type": "code",
      "execution_count": 3,
      "metadata": {
        "id": "baB7-MKBpIf_"
      },
      "outputs": [],
      "source": [
        "# 경로 설정\n",
        "data_path = '../data'\n",
        "saved_path = './saved'\n",
        "output_path = './submission'"
      ]
    },
    {
      "cell_type": "markdown",
      "metadata": {
        "id": "huw6BwpTYU1J"
      },
      "source": [
        "### 데이터 불러오기\n",
        "- history_data : 시청 시작 데이터\n",
        "- profile_data : 프로필 정보 \n",
        "- meta_data : 콘텐츠 일반 메타 정보"
      ]
    },
    {
      "cell_type": "markdown",
      "metadata": {
        "id": "cRnh1wEiYU1M"
      },
      "source": [
        "# 오리지날 학습 및 검증 데이터 생성 \n",
        "- train : 시청 이력의 80%를 사용 \n",
        "- valid : 시청 이력의 20%를 사용 "
      ]
    },
    {
      "cell_type": "code",
      "execution_count": 4,
      "metadata": {
        "id": "b50RWotWxW6U"
      },
      "outputs": [],
      "source": [
        "history_df = pd.read_csv(os.path.join(data_path, '/content/drive/MyDrive/data/history_data.csv'), encoding='utf-8')\n",
        "profile_df = pd.read_csv(os.path.join(data_path, '/content/drive/MyDrive/data/profile_data.csv'), encoding='utf-8')\n",
        "meta_df = pd.read_csv(os.path.join(data_path, '/content/drive/MyDrive/data/meta_data.csv'), encoding='utf-8')\n",
        "buy_df = pd.read_csv(os.path.join(data_path, '/content/drive/MyDrive/data/buy_data.csv'), encoding='utf-8')\n",
        "watch_df = pd.read_csv(os.path.join(data_path, '/content/drive/MyDrive/data/watch_e_data.csv'), encoding='utf-8')\n",
        "search_df = pd.read_csv(os.path.join(data_path, '/content/drive/MyDrive/data/search_data.csv'), encoding='utf-8')\n",
        "metap_df = pd.read_csv(os.path.join(data_path, '/content/drive/MyDrive/data/meta_data_plus.csv'), encoding='utf-8')"
      ]
    },
    {
      "cell_type": "code",
      "execution_count": 5,
      "metadata": {
        "id": "XGj24fDnFpoO"
      },
      "outputs": [],
      "source": [
        "# 하이퍼파라미터 \n",
        "class cfg: \n",
        "    gpu_idx = 0\n",
        "    device = torch.device(\"cuda:{}\".format(gpu_idx) if torch.cuda.is_available() else \"cpu\")\n",
        "    top_k = 25\n",
        "    seed = 42\n",
        "    neg_ratio = 100\n",
        "    test_size = 0.2"
      ]
    },
    {
      "cell_type": "code",
      "execution_count": 6,
      "metadata": {
        "id": "_6OeItMmFpoP"
      },
      "outputs": [],
      "source": [
        "# 시드 고정 \n",
        "def seed_everything(random_seed):\n",
        "    torch.manual_seed(random_seed)\n",
        "    torch.cuda.manual_seed(random_seed)\n",
        "    torch.cuda.manual_seed_all(random_seed)\n",
        "    torch.backends.cudnn.deterministic = True\n",
        "    torch.backends.cudnn.benchmark = False\n",
        "    np.random.seed(random_seed)\n",
        "    random.seed(random_seed)\n",
        "    \n",
        "seed_everything(cfg.seed)"
      ]
    },
    {
      "cell_type": "code",
      "execution_count": 7,
      "metadata": {
        "id": "qb4Zg1uMDx6R"
      },
      "outputs": [],
      "source": [
        "# 초기 데이터 처리\n",
        "h_df = history_df[['profile_id','log_time','album_id']]\n",
        "# meta = meta_df[['album_id','genre_mid','run_time']].drop_duplicates()\n",
        "df = pd.merge(h_df, profile_df[['profile_id','sex','age']], 'left', on = 'profile_id')\n",
        "df = pd.merge(df, meta_df, 'left', on = 'album_id')\n",
        "view_cnts = df.groupby('profile_id')['album_id'].count()\n",
        "df['views'] = df['profile_id'].map(lambda x: view_cnts[x])"
      ]
    },
    {
      "cell_type": "code",
      "execution_count": 8,
      "metadata": {
        "id": "mRsbdxgFpzpw"
      },
      "outputs": [],
      "source": [
        "search = search_df[['profile_id','album_id']].drop_duplicates()\n",
        "search['search'] = 1"
      ]
    },
    {
      "cell_type": "code",
      "execution_count": 9,
      "metadata": {
        "colab": {
          "base_uri": "https://localhost:8080/",
          "height": 173
        },
        "id": "H-_PRvQ0vnek",
        "outputId": "a6d29f25-0c36-4057-98b5-3277711c13d0"
      },
      "outputs": [
        {
          "output_type": "execute_result",
          "data": {
            "text/plain": [
              "   profile_id        log_time  album_id sex  age  title   sub_title  \\\n",
              "0           3  20220301115719        15   F    5     거미  핑크퐁 3D율동동요   \n",
              "1           3  20220301115809        16   F    5  상어 가족        노래율동   \n",
              "2           3  20220301115809        16   F    5  상어 가족  핑크퐁 3D율동동요   \n",
              "\n",
              "  genre_large genre_mid genre_small  ... cast_1  cast_2  cast_3 cast_4 cast_5  \\\n",
              "0          키즈      노래율동         NaN  ...    NaN     NaN     NaN    NaN    NaN   \n",
              "1          키즈      노래율동         NaN  ...    NaN     NaN     NaN    NaN    NaN   \n",
              "2          키즈      노래율동         NaN  ...    NaN     NaN     NaN    NaN    NaN   \n",
              "\n",
              "  cast_6 cast_7 views payment search  \n",
              "0    NaN    NaN    23     NaN    NaN  \n",
              "1    NaN    NaN    23     NaN    NaN  \n",
              "2    NaN    NaN    23     NaN    NaN  \n",
              "\n",
              "[3 rows x 23 columns]"
            ],
            "text/html": [
              "\n",
              "  <div id=\"df-4a913d19-36b4-4666-a68f-b5df0056c01c\">\n",
              "    <div class=\"colab-df-container\">\n",
              "      <div>\n",
              "<style scoped>\n",
              "    .dataframe tbody tr th:only-of-type {\n",
              "        vertical-align: middle;\n",
              "    }\n",
              "\n",
              "    .dataframe tbody tr th {\n",
              "        vertical-align: top;\n",
              "    }\n",
              "\n",
              "    .dataframe thead th {\n",
              "        text-align: right;\n",
              "    }\n",
              "</style>\n",
              "<table border=\"1\" class=\"dataframe\">\n",
              "  <thead>\n",
              "    <tr style=\"text-align: right;\">\n",
              "      <th></th>\n",
              "      <th>profile_id</th>\n",
              "      <th>log_time</th>\n",
              "      <th>album_id</th>\n",
              "      <th>sex</th>\n",
              "      <th>age</th>\n",
              "      <th>title</th>\n",
              "      <th>sub_title</th>\n",
              "      <th>genre_large</th>\n",
              "      <th>genre_mid</th>\n",
              "      <th>genre_small</th>\n",
              "      <th>...</th>\n",
              "      <th>cast_1</th>\n",
              "      <th>cast_2</th>\n",
              "      <th>cast_3</th>\n",
              "      <th>cast_4</th>\n",
              "      <th>cast_5</th>\n",
              "      <th>cast_6</th>\n",
              "      <th>cast_7</th>\n",
              "      <th>views</th>\n",
              "      <th>payment</th>\n",
              "      <th>search</th>\n",
              "    </tr>\n",
              "  </thead>\n",
              "  <tbody>\n",
              "    <tr>\n",
              "      <th>0</th>\n",
              "      <td>3</td>\n",
              "      <td>20220301115719</td>\n",
              "      <td>15</td>\n",
              "      <td>F</td>\n",
              "      <td>5</td>\n",
              "      <td>거미</td>\n",
              "      <td>핑크퐁 3D율동동요</td>\n",
              "      <td>키즈</td>\n",
              "      <td>노래율동</td>\n",
              "      <td>NaN</td>\n",
              "      <td>...</td>\n",
              "      <td>NaN</td>\n",
              "      <td>NaN</td>\n",
              "      <td>NaN</td>\n",
              "      <td>NaN</td>\n",
              "      <td>NaN</td>\n",
              "      <td>NaN</td>\n",
              "      <td>NaN</td>\n",
              "      <td>23</td>\n",
              "      <td>NaN</td>\n",
              "      <td>NaN</td>\n",
              "    </tr>\n",
              "    <tr>\n",
              "      <th>1</th>\n",
              "      <td>3</td>\n",
              "      <td>20220301115809</td>\n",
              "      <td>16</td>\n",
              "      <td>F</td>\n",
              "      <td>5</td>\n",
              "      <td>상어 가족</td>\n",
              "      <td>노래율동</td>\n",
              "      <td>키즈</td>\n",
              "      <td>노래율동</td>\n",
              "      <td>NaN</td>\n",
              "      <td>...</td>\n",
              "      <td>NaN</td>\n",
              "      <td>NaN</td>\n",
              "      <td>NaN</td>\n",
              "      <td>NaN</td>\n",
              "      <td>NaN</td>\n",
              "      <td>NaN</td>\n",
              "      <td>NaN</td>\n",
              "      <td>23</td>\n",
              "      <td>NaN</td>\n",
              "      <td>NaN</td>\n",
              "    </tr>\n",
              "    <tr>\n",
              "      <th>2</th>\n",
              "      <td>3</td>\n",
              "      <td>20220301115809</td>\n",
              "      <td>16</td>\n",
              "      <td>F</td>\n",
              "      <td>5</td>\n",
              "      <td>상어 가족</td>\n",
              "      <td>핑크퐁 3D율동동요</td>\n",
              "      <td>키즈</td>\n",
              "      <td>노래율동</td>\n",
              "      <td>NaN</td>\n",
              "      <td>...</td>\n",
              "      <td>NaN</td>\n",
              "      <td>NaN</td>\n",
              "      <td>NaN</td>\n",
              "      <td>NaN</td>\n",
              "      <td>NaN</td>\n",
              "      <td>NaN</td>\n",
              "      <td>NaN</td>\n",
              "      <td>23</td>\n",
              "      <td>NaN</td>\n",
              "      <td>NaN</td>\n",
              "    </tr>\n",
              "  </tbody>\n",
              "</table>\n",
              "<p>3 rows × 23 columns</p>\n",
              "</div>\n",
              "      <button class=\"colab-df-convert\" onclick=\"convertToInteractive('df-4a913d19-36b4-4666-a68f-b5df0056c01c')\"\n",
              "              title=\"Convert this dataframe to an interactive table.\"\n",
              "              style=\"display:none;\">\n",
              "        \n",
              "  <svg xmlns=\"http://www.w3.org/2000/svg\" height=\"24px\"viewBox=\"0 0 24 24\"\n",
              "       width=\"24px\">\n",
              "    <path d=\"M0 0h24v24H0V0z\" fill=\"none\"/>\n",
              "    <path d=\"M18.56 5.44l.94 2.06.94-2.06 2.06-.94-2.06-.94-.94-2.06-.94 2.06-2.06.94zm-11 1L8.5 8.5l.94-2.06 2.06-.94-2.06-.94L8.5 2.5l-.94 2.06-2.06.94zm10 10l.94 2.06.94-2.06 2.06-.94-2.06-.94-.94-2.06-.94 2.06-2.06.94z\"/><path d=\"M17.41 7.96l-1.37-1.37c-.4-.4-.92-.59-1.43-.59-.52 0-1.04.2-1.43.59L10.3 9.45l-7.72 7.72c-.78.78-.78 2.05 0 2.83L4 21.41c.39.39.9.59 1.41.59.51 0 1.02-.2 1.41-.59l7.78-7.78 2.81-2.81c.8-.78.8-2.07 0-2.86zM5.41 20L4 18.59l7.72-7.72 1.47 1.35L5.41 20z\"/>\n",
              "  </svg>\n",
              "      </button>\n",
              "      \n",
              "  <style>\n",
              "    .colab-df-container {\n",
              "      display:flex;\n",
              "      flex-wrap:wrap;\n",
              "      gap: 12px;\n",
              "    }\n",
              "\n",
              "    .colab-df-convert {\n",
              "      background-color: #E8F0FE;\n",
              "      border: none;\n",
              "      border-radius: 50%;\n",
              "      cursor: pointer;\n",
              "      display: none;\n",
              "      fill: #1967D2;\n",
              "      height: 32px;\n",
              "      padding: 0 0 0 0;\n",
              "      width: 32px;\n",
              "    }\n",
              "\n",
              "    .colab-df-convert:hover {\n",
              "      background-color: #E2EBFA;\n",
              "      box-shadow: 0px 1px 2px rgba(60, 64, 67, 0.3), 0px 1px 3px 1px rgba(60, 64, 67, 0.15);\n",
              "      fill: #174EA6;\n",
              "    }\n",
              "\n",
              "    [theme=dark] .colab-df-convert {\n",
              "      background-color: #3B4455;\n",
              "      fill: #D2E3FC;\n",
              "    }\n",
              "\n",
              "    [theme=dark] .colab-df-convert:hover {\n",
              "      background-color: #434B5C;\n",
              "      box-shadow: 0px 1px 3px 1px rgba(0, 0, 0, 0.15);\n",
              "      filter: drop-shadow(0px 1px 2px rgba(0, 0, 0, 0.3));\n",
              "      fill: #FFFFFF;\n",
              "    }\n",
              "  </style>\n",
              "\n",
              "      <script>\n",
              "        const buttonEl =\n",
              "          document.querySelector('#df-4a913d19-36b4-4666-a68f-b5df0056c01c button.colab-df-convert');\n",
              "        buttonEl.style.display =\n",
              "          google.colab.kernel.accessAllowed ? 'block' : 'none';\n",
              "\n",
              "        async function convertToInteractive(key) {\n",
              "          const element = document.querySelector('#df-4a913d19-36b4-4666-a68f-b5df0056c01c');\n",
              "          const dataTable =\n",
              "            await google.colab.kernel.invokeFunction('convertToInteractive',\n",
              "                                                     [key], {});\n",
              "          if (!dataTable) return;\n",
              "\n",
              "          const docLinkHtml = 'Like what you see? Visit the ' +\n",
              "            '<a target=\"_blank\" href=https://colab.research.google.com/notebooks/data_table.ipynb>data table notebook</a>'\n",
              "            + ' to learn more about interactive tables.';\n",
              "          element.innerHTML = '';\n",
              "          dataTable['output_type'] = 'display_data';\n",
              "          await google.colab.output.renderOutput(dataTable, element);\n",
              "          const docLink = document.createElement('div');\n",
              "          docLink.innerHTML = docLinkHtml;\n",
              "          element.appendChild(docLink);\n",
              "        }\n",
              "      </script>\n",
              "    </div>\n",
              "  </div>\n",
              "  "
            ]
          },
          "metadata": {},
          "execution_count": 9
        }
      ],
      "source": [
        "df = pd.merge(df,buy_df[['profile_id','album_id','payment']].drop_duplicates(), 'left', on = ['profile_id','album_id'])\n",
        "df = pd.merge(df, search[['profile_id','album_id','search']], 'left', on=['profile_id','album_id'])\n",
        "df.head(3)"
      ]
    },
    {
      "cell_type": "code",
      "source": [
        "me = pd.merge(metap_df, meta_df[['album_id','title','genre_mid']] ,\"left\", on = \"album_id\").drop_duplicates()\n",
        "me"
      ],
      "metadata": {
        "colab": {
          "base_uri": "https://localhost:8080/",
          "height": 424
        },
        "id": "xID7WqktaY0q",
        "outputId": "d91a0037-4f00-45cc-f674-e5f43e224e0b"
      },
      "execution_count": 10,
      "outputs": [
        {
          "output_type": "execute_result",
          "data": {
            "text/plain": [
              "        album_id keyword_type keyword_name  keyword_value     title genre_mid\n",
              "0            749     05010101          시리즈              0  어둠이 무서워요      TV만화\n",
              "1            749     05010302          EBS              0  어둠이 무서워요      TV만화\n",
              "2            749     05010401           3세              0  어둠이 무서워요      TV만화\n",
              "3            749     05010402           4세              0  어둠이 무서워요      TV만화\n",
              "4            749     05010407           1세              0  어둠이 무서워요      TV만화\n",
              "...          ...          ...          ...            ...       ...       ...\n",
              "832351     11629     05040104          신나는              0    손가락 하나      노래율동\n",
              "832352     11629     0504010b      따라하고 싶은              0    손가락 하나      노래율동\n",
              "832353     11629     05070e01           인체              0    손가락 하나      노래율동\n",
              "832354     11629     05080401      캐릭터 친구들              0    손가락 하나      노래율동\n",
              "832355     11629     0508042c           타요              5    손가락 하나      노래율동\n",
              "\n",
              "[767948 rows x 6 columns]"
            ],
            "text/html": [
              "\n",
              "  <div id=\"df-0a570416-7c6f-45ac-aaff-6185e360b828\">\n",
              "    <div class=\"colab-df-container\">\n",
              "      <div>\n",
              "<style scoped>\n",
              "    .dataframe tbody tr th:only-of-type {\n",
              "        vertical-align: middle;\n",
              "    }\n",
              "\n",
              "    .dataframe tbody tr th {\n",
              "        vertical-align: top;\n",
              "    }\n",
              "\n",
              "    .dataframe thead th {\n",
              "        text-align: right;\n",
              "    }\n",
              "</style>\n",
              "<table border=\"1\" class=\"dataframe\">\n",
              "  <thead>\n",
              "    <tr style=\"text-align: right;\">\n",
              "      <th></th>\n",
              "      <th>album_id</th>\n",
              "      <th>keyword_type</th>\n",
              "      <th>keyword_name</th>\n",
              "      <th>keyword_value</th>\n",
              "      <th>title</th>\n",
              "      <th>genre_mid</th>\n",
              "    </tr>\n",
              "  </thead>\n",
              "  <tbody>\n",
              "    <tr>\n",
              "      <th>0</th>\n",
              "      <td>749</td>\n",
              "      <td>05010101</td>\n",
              "      <td>시리즈</td>\n",
              "      <td>0</td>\n",
              "      <td>어둠이 무서워요</td>\n",
              "      <td>TV만화</td>\n",
              "    </tr>\n",
              "    <tr>\n",
              "      <th>1</th>\n",
              "      <td>749</td>\n",
              "      <td>05010302</td>\n",
              "      <td>EBS</td>\n",
              "      <td>0</td>\n",
              "      <td>어둠이 무서워요</td>\n",
              "      <td>TV만화</td>\n",
              "    </tr>\n",
              "    <tr>\n",
              "      <th>2</th>\n",
              "      <td>749</td>\n",
              "      <td>05010401</td>\n",
              "      <td>3세</td>\n",
              "      <td>0</td>\n",
              "      <td>어둠이 무서워요</td>\n",
              "      <td>TV만화</td>\n",
              "    </tr>\n",
              "    <tr>\n",
              "      <th>3</th>\n",
              "      <td>749</td>\n",
              "      <td>05010402</td>\n",
              "      <td>4세</td>\n",
              "      <td>0</td>\n",
              "      <td>어둠이 무서워요</td>\n",
              "      <td>TV만화</td>\n",
              "    </tr>\n",
              "    <tr>\n",
              "      <th>4</th>\n",
              "      <td>749</td>\n",
              "      <td>05010407</td>\n",
              "      <td>1세</td>\n",
              "      <td>0</td>\n",
              "      <td>어둠이 무서워요</td>\n",
              "      <td>TV만화</td>\n",
              "    </tr>\n",
              "    <tr>\n",
              "      <th>...</th>\n",
              "      <td>...</td>\n",
              "      <td>...</td>\n",
              "      <td>...</td>\n",
              "      <td>...</td>\n",
              "      <td>...</td>\n",
              "      <td>...</td>\n",
              "    </tr>\n",
              "    <tr>\n",
              "      <th>832351</th>\n",
              "      <td>11629</td>\n",
              "      <td>05040104</td>\n",
              "      <td>신나는</td>\n",
              "      <td>0</td>\n",
              "      <td>손가락 하나</td>\n",
              "      <td>노래율동</td>\n",
              "    </tr>\n",
              "    <tr>\n",
              "      <th>832352</th>\n",
              "      <td>11629</td>\n",
              "      <td>0504010b</td>\n",
              "      <td>따라하고 싶은</td>\n",
              "      <td>0</td>\n",
              "      <td>손가락 하나</td>\n",
              "      <td>노래율동</td>\n",
              "    </tr>\n",
              "    <tr>\n",
              "      <th>832353</th>\n",
              "      <td>11629</td>\n",
              "      <td>05070e01</td>\n",
              "      <td>인체</td>\n",
              "      <td>0</td>\n",
              "      <td>손가락 하나</td>\n",
              "      <td>노래율동</td>\n",
              "    </tr>\n",
              "    <tr>\n",
              "      <th>832354</th>\n",
              "      <td>11629</td>\n",
              "      <td>05080401</td>\n",
              "      <td>캐릭터 친구들</td>\n",
              "      <td>0</td>\n",
              "      <td>손가락 하나</td>\n",
              "      <td>노래율동</td>\n",
              "    </tr>\n",
              "    <tr>\n",
              "      <th>832355</th>\n",
              "      <td>11629</td>\n",
              "      <td>0508042c</td>\n",
              "      <td>타요</td>\n",
              "      <td>5</td>\n",
              "      <td>손가락 하나</td>\n",
              "      <td>노래율동</td>\n",
              "    </tr>\n",
              "  </tbody>\n",
              "</table>\n",
              "<p>767948 rows × 6 columns</p>\n",
              "</div>\n",
              "      <button class=\"colab-df-convert\" onclick=\"convertToInteractive('df-0a570416-7c6f-45ac-aaff-6185e360b828')\"\n",
              "              title=\"Convert this dataframe to an interactive table.\"\n",
              "              style=\"display:none;\">\n",
              "        \n",
              "  <svg xmlns=\"http://www.w3.org/2000/svg\" height=\"24px\"viewBox=\"0 0 24 24\"\n",
              "       width=\"24px\">\n",
              "    <path d=\"M0 0h24v24H0V0z\" fill=\"none\"/>\n",
              "    <path d=\"M18.56 5.44l.94 2.06.94-2.06 2.06-.94-2.06-.94-.94-2.06-.94 2.06-2.06.94zm-11 1L8.5 8.5l.94-2.06 2.06-.94-2.06-.94L8.5 2.5l-.94 2.06-2.06.94zm10 10l.94 2.06.94-2.06 2.06-.94-2.06-.94-.94-2.06-.94 2.06-2.06.94z\"/><path d=\"M17.41 7.96l-1.37-1.37c-.4-.4-.92-.59-1.43-.59-.52 0-1.04.2-1.43.59L10.3 9.45l-7.72 7.72c-.78.78-.78 2.05 0 2.83L4 21.41c.39.39.9.59 1.41.59.51 0 1.02-.2 1.41-.59l7.78-7.78 2.81-2.81c.8-.78.8-2.07 0-2.86zM5.41 20L4 18.59l7.72-7.72 1.47 1.35L5.41 20z\"/>\n",
              "  </svg>\n",
              "      </button>\n",
              "      \n",
              "  <style>\n",
              "    .colab-df-container {\n",
              "      display:flex;\n",
              "      flex-wrap:wrap;\n",
              "      gap: 12px;\n",
              "    }\n",
              "\n",
              "    .colab-df-convert {\n",
              "      background-color: #E8F0FE;\n",
              "      border: none;\n",
              "      border-radius: 50%;\n",
              "      cursor: pointer;\n",
              "      display: none;\n",
              "      fill: #1967D2;\n",
              "      height: 32px;\n",
              "      padding: 0 0 0 0;\n",
              "      width: 32px;\n",
              "    }\n",
              "\n",
              "    .colab-df-convert:hover {\n",
              "      background-color: #E2EBFA;\n",
              "      box-shadow: 0px 1px 2px rgba(60, 64, 67, 0.3), 0px 1px 3px 1px rgba(60, 64, 67, 0.15);\n",
              "      fill: #174EA6;\n",
              "    }\n",
              "\n",
              "    [theme=dark] .colab-df-convert {\n",
              "      background-color: #3B4455;\n",
              "      fill: #D2E3FC;\n",
              "    }\n",
              "\n",
              "    [theme=dark] .colab-df-convert:hover {\n",
              "      background-color: #434B5C;\n",
              "      box-shadow: 0px 1px 3px 1px rgba(0, 0, 0, 0.15);\n",
              "      filter: drop-shadow(0px 1px 2px rgba(0, 0, 0, 0.3));\n",
              "      fill: #FFFFFF;\n",
              "    }\n",
              "  </style>\n",
              "\n",
              "      <script>\n",
              "        const buttonEl =\n",
              "          document.querySelector('#df-0a570416-7c6f-45ac-aaff-6185e360b828 button.colab-df-convert');\n",
              "        buttonEl.style.display =\n",
              "          google.colab.kernel.accessAllowed ? 'block' : 'none';\n",
              "\n",
              "        async function convertToInteractive(key) {\n",
              "          const element = document.querySelector('#df-0a570416-7c6f-45ac-aaff-6185e360b828');\n",
              "          const dataTable =\n",
              "            await google.colab.kernel.invokeFunction('convertToInteractive',\n",
              "                                                     [key], {});\n",
              "          if (!dataTable) return;\n",
              "\n",
              "          const docLinkHtml = 'Like what you see? Visit the ' +\n",
              "            '<a target=\"_blank\" href=https://colab.research.google.com/notebooks/data_table.ipynb>data table notebook</a>'\n",
              "            + ' to learn more about interactive tables.';\n",
              "          element.innerHTML = '';\n",
              "          dataTable['output_type'] = 'display_data';\n",
              "          await google.colab.output.renderOutput(dataTable, element);\n",
              "          const docLink = document.createElement('div');\n",
              "          docLink.innerHTML = docLinkHtml;\n",
              "          element.appendChild(docLink);\n",
              "        }\n",
              "      </script>\n",
              "    </div>\n",
              "  </div>\n",
              "  "
            ]
          },
          "metadata": {},
          "execution_count": 10
        }
      ]
    },
    {
      "cell_type": "code",
      "source": [
        "import scipy.stats as stats\n",
        "\n",
        "cross = np.array(pd.crosstab(me['keyword_name'],me['genre_mid']))\n",
        "X = stats.chi2_contingency(cross,correction= False)\n",
        "X2 = X[0]\n",
        "p = X[1]\n",
        "n = np.sum(cross)\n",
        "mindim = min(cross.shape)-1\n",
        "V = np.sqrt((X2/n)/mindim)\n",
        "V"
      ],
      "metadata": {
        "colab": {
          "base_uri": "https://localhost:8080/"
        },
        "id": "Ft9LG3gamFoW",
        "outputId": "68c2e0c6-423c-4c85-c8c6-e8a1b26580fd"
      },
      "execution_count": 11,
      "outputs": [
        {
          "output_type": "execute_result",
          "data": {
            "text/plain": [
              "0.311367385290803"
            ]
          },
          "metadata": {},
          "execution_count": 11
        }
      ]
    },
    {
      "cell_type": "markdown",
      "source": [
        "크래머 v 계수가 어느정도 상관성을 띈다.  \n",
        "그러므로 가장 빈도가 높은 장르 5개에 대한 키워드 빈도가 다른지 한번 보자\n",
        "\n"
      ],
      "metadata": {
        "id": "_Rns8HRxB-NT"
      }
    },
    {
      "cell_type": "code",
      "source": [
        "me['genre_mid'].value_counts()[:5]"
      ],
      "metadata": {
        "colab": {
          "base_uri": "https://localhost:8080/"
        },
        "id": "wcoWpeTDCI_E",
        "outputId": "ddc8e108-a030-40e1-eedd-71efd5fa1543"
      },
      "execution_count": 91,
      "outputs": [
        {
          "output_type": "execute_result",
          "data": {
            "text/plain": [
              "TV만화    232481\n",
              "놀이교실    156211\n",
              "노래율동    135862\n",
              "외국어      85331\n",
              "애니       38160\n",
              "Name: genre_mid, dtype: int64"
            ]
          },
          "metadata": {},
          "execution_count": 91
        }
      ]
    },
    {
      "cell_type": "code",
      "source": [
        "for i in me['genre_mid'].value_counts()[:5].index:\n",
        "  print(me[me['genre_mid']==i]['keyword_name'].value_counts()[:5])"
      ],
      "metadata": {
        "colab": {
          "base_uri": "https://localhost:8080/"
        },
        "id": "xBm7YnAqDaSl",
        "outputId": "6513d423-57a6-4593-b43b-afb63c0cb840"
      },
      "execution_count": 90,
      "outputs": [
        {
          "output_type": "stream",
          "name": "stdout",
          "text": [
            "시리즈       9222\n",
            "사회정서      8839\n",
            "엔터        8561\n",
            "스토리 애니    8290\n",
            "언어1       7911\n",
            "Name: keyword_name, dtype: int64\n",
            "시리즈       10333\n",
            "사회정서       8795\n",
            "언어1        8713\n",
            "엔터         7870\n",
            "어린이 예능     6328\n",
            "Name: keyword_name, dtype: int64\n",
            "음악      6550\n",
            "시리즈     5308\n",
            "엔터      5159\n",
            "노래      4958\n",
            "음악예술    4626\n",
            "Name: keyword_name, dtype: int64\n",
            "동물        2562\n",
            "영어유치원     2523\n",
            "언어지능 1    1770\n",
            "시간        1452\n",
            "신체운동지능    1350\n",
            "Name: keyword_name, dtype: int64\n",
            "엔터        2057\n",
            "시리즈       2041\n",
            "사회정서      1940\n",
            "스토리 애니    1874\n",
            "언어1       1694\n",
            "Name: keyword_name, dtype: int64\n"
          ]
        }
      ]
    },
    {
      "cell_type": "code",
      "source": [
        "# 고객 연령 분포\n",
        "plt.bar(df[['profile_id','age']].drop_duplicates()['age'].value_counts().index, df[['profile_id','age']].drop_duplicates()['age'].value_counts().values)"
      ],
      "metadata": {
        "colab": {
          "base_uri": "https://localhost:8080/",
          "height": 283
        },
        "id": "lsiZT8oWMJS6",
        "outputId": "e5415a01-39cf-4b14-c92b-35aef4e034a0"
      },
      "execution_count": 124,
      "outputs": [
        {
          "output_type": "execute_result",
          "data": {
            "text/plain": [
              "<BarContainer object of 13 artists>"
            ]
          },
          "metadata": {},
          "execution_count": 124
        },
        {
          "output_type": "display_data",
          "data": {
            "text/plain": [
              "<Figure size 432x288 with 1 Axes>"
            ],
            "image/png": "[encoded data removed]"
          },
          "metadata": {
            "needs_background": "light"
          }
        }
      ]
    },
    {
      "cell_type": "code",
      "source": [
        "d = df[['profile_id','age','views']]\n",
        "d = d[d['views']==1]"
      ],
      "metadata": {
        "id": "wlXKZUxILx8P"
      },
      "execution_count": 131,
      "outputs": []
    },
    {
      "cell_type": "code",
      "source": [
        "# view 1짜리 연령 분포\n",
        "plt.bar(d['age'].value_counts().index, d['age'].value_counts().values)\n"
      ],
      "metadata": {
        "colab": {
          "base_uri": "https://localhost:8080/",
          "height": 283
        },
        "id": "beqiiKURL5cP",
        "outputId": "aa44fdfd-4e55-4bb7-b9b8-7e9431d441ee"
      },
      "execution_count": 132,
      "outputs": [
        {
          "output_type": "execute_result",
          "data": {
            "text/plain": [
              "<BarContainer object of 13 artists>"
            ]
          },
          "metadata": {},
          "execution_count": 132
        },
        {
          "output_type": "display_data",
          "data": {
            "text/plain": [
              "<Figure size 432x288 with 1 Axes>"
            ],
            "image/png": "[encoded data removed]"
          },
          "metadata": {
            "needs_background": "light"
          }
        }
      ]
    },
    {
      "cell_type": "code",
      "source": [
        "# 연령 별 view 1짜리 사람의 포션 파악 -> 이탈이 높은 연령대\n",
        "d_values = d['age'].value_counts().sort_index() / df[['profile_id','age']].drop_duplicates()['age'].value_counts().sort_index() * 100\n",
        "plt.bar(d_values.index, d_values.values)\n"
      ],
      "metadata": {
        "colab": {
          "base_uri": "https://localhost:8080/",
          "height": 285
        },
        "id": "tuuOV9WiPyNd",
        "outputId": "58ce6c10-7a86-4b9b-d887-341eb2d44102"
      },
      "execution_count": 142,
      "outputs": [
        {
          "output_type": "execute_result",
          "data": {
            "text/plain": [
              "<BarContainer object of 13 artists>"
            ]
          },
          "metadata": {},
          "execution_count": 142
        },
        {
          "output_type": "display_data",
          "data": {
            "text/plain": [
              "<Figure size 432x288 with 1 Axes>"
            ],
            "image/png": "[encoded data removed]"
          },
          "metadata": {
            "needs_background": "light"
          }
        }
      ]
    },
    {
      "cell_type": "markdown",
      "source": [
        "view가 1인 경우:  \n",
        "  해당 고객은 임베딩에서 제외,  \n",
        "  해당 고객이 봤던 아이템 서칭  \n",
        "  해당 아이템과 가장 유사한 아이템 체킹해서 추천  "
      ],
      "metadata": {
        "id": "MrezRC1qPjQ4"
      }
    },
    {
      "cell_type": "code",
      "execution_count": 11,
      "metadata": {
        "id": "GoMfVHkJrZFK"
      },
      "outputs": [],
      "source": [
        "df['payment'] = df['payment'].fillna(0)\n",
        "df['payment'] = df['payment'].map(lambda x: 0 if x == 0 else 1)"
      ]
    },
    {
      "cell_type": "code",
      "execution_count": 12,
      "metadata": {
        "colab": {
          "base_uri": "https://localhost:8080/"
        },
        "id": "BIc_yPgYoJVJ",
        "outputId": "e085be6d-450b-4684-e269-de069cdb49c8"
      },
      "outputs": [
        {
          "output_type": "execute_result",
          "data": {
            "text/plain": [
              "(899252, 5)"
            ]
          },
          "metadata": {},
          "execution_count": 12
        }
      ],
      "source": [
        "data = df[['profile_id','log_time','album_id','views']].drop_duplicates(subset=['profile_id', 'album_id', 'log_time']).sort_values(by = ['profile_id', 'log_time']).reset_index(drop = True)\n",
        "data['rating'] = 1\n",
        "data.shape"
      ]
    },
    {
      "cell_type": "code",
      "execution_count": 13,
      "metadata": {
        "id": "J6dPtYS1pIgD"
      },
      "outputs": [],
      "source": [
        "# 데이터 전처리 (중복제거) \n",
        "# 참고 : drop_duplicates의 subset을 무엇으로 구성하냐에 따라서 제거되는 항목들이 다름 \n",
        "# ex) 'profile_id', 'album_id' : 중복된 시청이력 모두 제거 / 'profile_id', 'album_id', 'log_time' : 같은 시간에 시청한 이력만 제거 \n",
        "# data = df[['profile_id','log_time','album_id']].drop_duplicates(subset=['profile_id', 'album_id', 'log_time']).sort_values(by = ['profile_id', 'log_time']).reset_index(drop = True)\n",
        "# data['rating'] = 1\n",
        "# data.shape"
      ]
    },
    {
      "cell_type": "code",
      "execution_count": 14,
      "metadata": {
        "id": "8rWXN_UntZr7"
      },
      "outputs": [],
      "source": [
        "d = data[['profile_id','views']].drop_duplicates()\n",
        "one_views_user = d[d['views']==1]['profile_id'].values"
      ]
    },
    {
      "cell_type": "code",
      "execution_count": 15,
      "metadata": {
        "id": "H6p_k2If5uky"
      },
      "outputs": [],
      "source": [
        "cfg.n_users = data.profile_id.max()+1#-len(one_views_user)\n",
        "cfg.n_items = data.album_id.max()+1"
      ]
    },
    {
      "cell_type": "code",
      "source": [
        "data_new = data.drop(data[data['views']==1].index).reset_index()"
      ],
      "metadata": {
        "id": "2bSmLVO6W58s"
      },
      "execution_count": 16,
      "outputs": []
    },
    {
      "cell_type": "code",
      "execution_count": 17,
      "metadata": {
        "colab": {
          "base_uri": "https://localhost:8080/"
        },
        "id": "k-loxhyJpIgD",
        "outputId": "e2cbf9b2-d5dc-481e-a1cb-5a5f6d2dc571"
      },
      "outputs": [
        {
          "output_type": "stream",
          "name": "stdout",
          "text": [
            "학습 데이터 크기: (719156, 6)\n",
            "검증 데이터 크기: (179789, 6)\n"
          ]
        }
      ],
      "source": [
        "# 학습 및 검증 데이터 분리\n",
        "train, valid = train_test_split(\n",
        "    data_new, test_size=cfg.test_size, random_state=cfg.seed,\n",
        ")\n",
        "print('학습 데이터 크기:', train.shape)\n",
        "print('검증 데이터 크기:', valid.shape)"
      ]
    },
    {
      "cell_type": "code",
      "execution_count": 18,
      "metadata": {
        "colab": {
          "base_uri": "https://localhost:8080/"
        },
        "id": "orTiuPRV6d2X",
        "outputId": "ccfb6d66-0250-4d1f-8746-e26bc875c9ac"
      },
      "outputs": [
        {
          "output_type": "execute_result",
          "data": {
            "text/plain": [
              "<33033x25917 sparse matrix of type '<class 'numpy.float64'>'\n",
              "\twith 0 stored elements in List of Lists format>"
            ]
          },
          "metadata": {},
          "execution_count": 18
        }
      ],
      "source": [
        "sparse.lil_matrix((cfg.n_users, cfg.n_items))"
      ]
    },
    {
      "cell_type": "code",
      "execution_count": 19,
      "metadata": {
        "colab": {
          "base_uri": "https://localhost:8080/",
          "height": 196,
          "referenced_widgets": [
            "2198358484d640a4aa97bebbb6499c18",
            "c0cc6f2d43594181849e103df24f7e85",
            "2ef19a7a5f744f2a98368ca34cd44456",
            "57cb59a64f5f4d6bb73378c10d384d34",
            "44ade86b05014bcd9d814129c032fa8d",
            "3e931eb3413f4aa9871d8fef4e4cc908",
            "46dfa730cbfe4b5f80e337f883c23055",
            "7881e3735cf4471abbd3e75efd2f4268",
            "37b1b305a3f248e29b3e26baff9b7ef9",
            "2cc4a7c6add940c894b284eef3efc17c",
            "1bd3ac7b625f4532b7428fee49b6a350"
          ]
        },
        "id": "ilrvAmwbpIgE",
        "outputId": "fa3ac116-7e35-461a-b8af-b228f40ac529"
      },
      "outputs": [
        {
          "output_type": "display_data",
          "data": {
            "text/plain": [
              "  0%|          | 0/719156 [00:00<?, ?it/s]"
            ],
            "application/vnd.jupyter.widget-view+json": {
              "version_major": 2,
              "version_minor": 0,
              "model_id": "2198358484d640a4aa97bebbb6499c18"
            }
          },
          "metadata": {}
        },
        {
          "output_type": "stream",
          "name": "stdout",
          "text": [
            "train 형태: \n",
            " [[0. 0. 0. ... 0. 0. 0.]\n",
            " [0. 0. 0. ... 0. 0. 0.]\n",
            " [0. 0. 0. ... 0. 0. 0.]\n",
            " ...\n",
            " [0. 0. 0. ... 0. 0. 0.]\n",
            " [0. 0. 0. ... 0. 0. 0.]\n",
            " [0. 0. 0. ... 0. 0. 0.]]\n"
          ]
        }
      ],
      "source": [
        "# Matrix 형태로 변환 \n",
        "train = train.to_numpy()\n",
        "matrix = sparse.lil_matrix((cfg.n_users, cfg.n_items))\n",
        "for (idx, p, _, i, r, view) in tqdm(train):\n",
        "    matrix[p, i] = r\n",
        "    \n",
        "train = sparse.csr_matrix(matrix)\n",
        "train = train.toarray()\n",
        "print(\"train 형태: \\n\", train)"
      ]
    },
    {
      "cell_type": "code",
      "execution_count": 20,
      "metadata": {
        "colab": {
          "base_uri": "https://localhost:8080/"
        },
        "id": "hbqEp8hHpIgE",
        "outputId": "5706f6f9-857a-4eef-f4b4-099804b0a998"
      },
      "outputs": [
        {
          "output_type": "stream",
          "name": "stdout",
          "text": [
            "user_id 3의 age 정보 : 5\n",
            "user_id 3의 age 정보 : 0\n",
            "user_id 3의 age 정보 : 23\n"
          ]
        }
      ],
      "source": [
        "# 유저 특징 정보 추출 \n",
        "df = df.set_index('profile_id')\n",
        "user_features = df[['age']].to_dict()\n",
        "# # 성별, view, continuous 추가\n",
        "df['sex'] = df['sex'].map(lambda x: 1 if x == 'M' else 0)\n",
        "user_features_sex = df[['sex']].to_dict()\n",
        "user_features_views = df[['views']].to_dict()\n",
        "print(\"user_id 3의 age 정보 :\", user_features['age'][3])\n",
        "print(\"user_id 3의 age 정보 :\", user_features_sex['sex'][3])\n",
        "print(\"user_id 3의 age 정보 :\", user_features_views['views'][3])"
      ]
    },
    {
      "cell_type": "code",
      "execution_count": 21,
      "metadata": {
        "colab": {
          "base_uri": "https://localhost:8080/"
        },
        "id": "34oqD1VUpIgF",
        "outputId": "750ce1ca-4e49-4d13-c0b7-992d47285a58"
      },
      "outputs": [
        {
          "output_type": "stream",
          "name": "stdout",
          "text": [
            "album_id 749의 genre_mid 정보 : 5\n",
            "album_id 749의 run_time 정보 : 539\n"
          ]
        }
      ],
      "source": [
        "# 아이템 특징 정보 추출 \n",
        "# meta_df = meta_df.set_index('album_id')\n",
        "\n",
        "# 범주형 데이터를 수치형 데이터로 변경 \n",
        "le = LabelEncoder()\n",
        "meta_df['genre_mid'] = le.fit_transform(meta_df['genre_mid'])\n",
        "# meta['run_time']= meta['run_time'].map(lambda x: np.log10(x)+1)\n",
        "item_features = meta_df[['genre_mid']].to_dict()\n",
        "item_features_run = meta_df[['run_time']].to_dict()\n",
        "print(\"album_id 749의 genre_mid 정보 :\", item_features['genre_mid'][749])\n",
        "print(\"album_id 749의 run_time 정보 :\", item_features_run['run_time'][749])"
      ]
    },
    {
      "cell_type": "code",
      "execution_count": 22,
      "metadata": {
        "colab": {
          "base_uri": "https://localhost:8080/",
          "height": 49,
          "referenced_widgets": [
            "e1840e113b9e442e8f852ae8bd7f9811",
            "cf92c8e737a14b9888cf52f40d7ac6b2",
            "8c3bd03d98ac4294bc1ab1e02ae30ab9",
            "936f9bb64149429eb5e70c7b514175c1",
            "9cd281f73dd74855b73dbdd62d168c55",
            "793625ca4cd44ed4ab73d87fae6ae589",
            "fcfd430581804af89fdbf7a10db20971",
            "3767115adf884acfbdcbfd870cdc2a8a",
            "401f250952d64d3885a6fb4748de1f0c",
            "03c7a3a5f8d84ec69b21b0fa9ac3295b",
            "eae956af87e54ce59dfe1739605e79ec"
          ]
        },
        "id": "60gM856o3yzw",
        "outputId": "9347f3b9-1718-47d4-bb01-4dc63afd5b97"
      },
      "outputs": [
        {
          "output_type": "display_data",
          "data": {
            "text/plain": [
              "  0%|          | 0/644 [00:00<?, ?it/s]"
            ],
            "application/vnd.jupyter.widget-view+json": {
              "version_major": 2,
              "version_minor": 0,
              "model_id": "e1840e113b9e442e8f852ae8bd7f9811"
            }
          },
          "metadata": {}
        }
      ],
      "source": [
        "# 검색 상호작용 딕셔너리 생성\n",
        "search = search[search['album_id']<cfg.n_items]\n",
        "search_dict = {}\n",
        "for i in tqdm(search['profile_id'].unique()):\n",
        "  search_dict[i] = list(search[search['profile_id']== i]['album_id'].values)"
      ]
    },
    {
      "cell_type": "code",
      "execution_count": 23,
      "metadata": {
        "colab": {
          "base_uri": "https://localhost:8080/",
          "height": 49,
          "referenced_widgets": [
            "0380cdaadb094c7c8659f841afe2e4a1",
            "77642866d8824a58b1629623c0b05e14",
            "4a1d4c63cda946b49aae105c7aa06e1c",
            "884bdb9a5d224bd48fe6390c6ba42ca1",
            "434e23e456ff446ead48a3ae4e30e1fc",
            "c9f21084ffc84b04a5cd8a6e8a6de8e0",
            "5b2886f3f2e744b1838658e411aa8c54",
            "0153eca55db2492abb47e6d1987e7b9e",
            "7d27e0ea92e147d5b4e20fbbded8f620",
            "8c3b29e48dd845078b5c071965a07036",
            "62df0171bca1488fb3d13e910a777f10"
          ]
        },
        "id": "qG8UkV2u6JeT",
        "outputId": "09658471-44dc-40e1-9749-0e92db9384a8"
      },
      "outputs": [
        {
          "output_type": "display_data",
          "data": {
            "text/plain": [
              "  0%|          | 0/17 [00:00<?, ?it/s]"
            ],
            "application/vnd.jupyter.widget-view+json": {
              "version_major": 2,
              "version_minor": 0,
              "model_id": "0380cdaadb094c7c8659f841afe2e4a1"
            }
          },
          "metadata": {}
        }
      ],
      "source": [
        "# 구매 상호작용 딕셔너리 생성\n",
        "buy = buy_df[['profile_id','album_id','payment']]\n",
        "buy_dict = {}\n",
        "for i in tqdm(buy['profile_id'].unique()):\n",
        "  buy_dict[i] = list(buy[buy['profile_id']== i]['album_id'].values)"
      ]
    },
    {
      "cell_type": "code",
      "execution_count": 24,
      "metadata": {
        "id": "4aSyvncgpIgF"
      },
      "outputs": [],
      "source": [
        "# 추출한 특징 정보의 속성을 저장 \n",
        "cfg.n_genres = meta_df['genre_mid'].nunique()\n",
        "cfg.n_sex = df['sex'].nunique()\n",
        "cfg.n_search = 2\n",
        "cfg.n_continuous_feats = 4 \n"
      ]
    },
    {
      "cell_type": "markdown",
      "metadata": {
        "id": "REzvMyWZYU1S"
      },
      "source": [
        "## NeuMF 구현\n",
        "\n",
        "\n",
        "### 모델 구현 \n",
        "- [Neural Collaborative Filtering(NCF)](https://arxiv.org/pdf/1708.05031.pdf) 논문의 NeuMF를 참고하여 side-information을 결합한 모델을 PyTorch로 구현\n",
        "    - continuous feature (age)와 categorical feature (genre_mid)를 같이 학습할 수 있도록 결합"
      ]
    },
    {
      "cell_type": "markdown",
      "metadata": {
        "id": "l246btDqpIgG"
      },
      "source": [
        "![](http://drive.google.com/uc?export=view&id=1tpajTLipLoFdvLICO-alAxeoKAE8-k61)"
      ]
    },
    {
      "cell_type": "code",
      "execution_count": null,
      "metadata": {
        "colab": {
          "base_uri": "https://localhost:8080/"
        },
        "id": "GEk4VKs4WuEH",
        "outputId": "ec5ef101-8358-470b-d7a6-ceb278e46dd8"
      },
      "outputs": [
        {
          "data": {
            "text/plain": [
              "Index(['log_time', 'album_id', 'sex', 'age', 'genre_mid', 'run_time', 'views'], dtype='object')"
            ]
          },
          "execution_count": 28,
          "metadata": {},
          "output_type": "execute_result"
        }
      ],
      "source": [
        "df.columns"
      ]
    },
    {
      "cell_type": "code",
      "execution_count": 25,
      "metadata": {
        "id": "hWOt2J5nYU1U"
      },
      "outputs": [],
      "source": [
        "class NeuMF(nn.Module):\n",
        "    \"\"\"Neural Matrix Factorization Model\n",
        "        참고 문헌 : https://arxiv.org/abs/1708.05031\n",
        "\n",
        "    예시 :\n",
        "        model = NeuMF(cfg) \n",
        "        output = model.forward(user_ids, item_ids, [feat0, feat1]) \n",
        "    \"\"\"\n",
        "    def __init__(self, cfg):\n",
        "        \"\"\" \n",
        "        Args:\n",
        "            cfg : config 파일로 네트워크 생성에 필요한 정보들을 담고 있음 \n",
        "        \"\"\"\n",
        "        super(NeuMF, self).__init__()\n",
        "        self.n_users = cfg.n_users\n",
        "        self.n_items = cfg.n_items\n",
        "        self.emb_dim = cfg.emb_dim\n",
        "        self.layer_dim = cfg.layer_dim\n",
        "        self.n_continuous_feats = cfg.n_continuous_feats\n",
        "        self.n_genres = cfg.n_genres\n",
        "        self.n_sex = cfg.n_sex\n",
        "        self.n_search = cfg.n_search\n",
        "        self.dropout = cfg.dropout\n",
        "        self.build_graph()\n",
        "\n",
        "    def build_graph(self):\n",
        "        \"\"\"Neural Matrix Factorization Model 생성\n",
        "            구현된 모습은 위의 그림을 참고 \n",
        "        \"\"\"\n",
        "        # mf용 유저임베딩 - 유저 임베딩 수 == 유저 cfg 수, 임베딩 차원 수 == 256 \n",
        "        self.user_embedding_mf = nn.Embedding(num_embeddings=self.n_users, embedding_dim=self.emb_dim)\n",
        "        self.item_embedding_mf = nn.Embedding(num_embeddings=self.n_items, embedding_dim=self.emb_dim)\n",
        "        \n",
        "        # mlp 용 유저 임베딩, 차원 수도 동일한 방법\n",
        "        self.user_embedding_mlp = nn.Embedding(num_embeddings=self.n_users, embedding_dim=self.emb_dim)\n",
        "        self.item_embedding_mlp = nn.Embedding(num_embeddings=self.n_items, embedding_dim=self.emb_dim)\n",
        "                \n",
        "        # mlp 용 특성 장르 임베딩도 설정\n",
        "        self.genre_embeddig = nn.Embedding(num_embeddings=self.n_genres, embedding_dim=self.n_genres//2)\n",
        "        # mlp 용 특성 성별 임베딩도 설정\n",
        "        self.sex_embeddig = nn.Embedding(num_embeddings=self.n_sex, embedding_dim=self.n_sex//2)\n",
        "        # mlp 용 특성 search 임베딩 설정\n",
        "        self.search_embedding = nn.Embedding(num_embeddings=self.n_search, embedding_dim=self.n_search//2)\n",
        "        \n",
        "        # mlp 레이어 - 시퀜셜 모델로 생성\n",
        "        self.mlp_layers = nn.Sequential(\n",
        "            # 첫번째 인자값은 input size, 두번째 인자값은 output size이다\n",
        "            nn.Linear(2*self.emb_dim + self.n_genres//2 + self.n_sex//2 + self.n_search//2 + self.n_continuous_feats, self.layer_dim), \n",
        "            nn.ReLU(), \n",
        "            nn.Dropout(p=self.dropout), \n",
        "            nn.Linear(self.layer_dim, self.layer_dim//2), \n",
        "            nn.ReLU(), \n",
        "            nn.Dropout(p=self.dropout)\n",
        "        )\n",
        "        \n",
        "        self.affine_output = nn.Linear(self.layer_dim//2 + self.emb_dim, 1)\n",
        "        self.apply(self._init_weights)\n",
        "        \n",
        "\n",
        "    def _init_weights(self, module):\n",
        "        if isinstance(module, nn.Embedding):\n",
        "            normal_(module.weight.data, mean=0.0, std=0.01)\n",
        "        elif isinstance(module, nn.Linear):\n",
        "            normal_(module.weight.data, 0, 0.01)\n",
        "            if module.bias is not None:\n",
        "                module.bias.data.fill_(0.0)\n",
        "    \n",
        "    def forward(self, user_indices, item_indices, feats):\n",
        "        \"\"\" \n",
        "        Args:\n",
        "            user_indices : 유저의 인덱스 정보 \n",
        "                ex) tensor([ 3100,  3100,  ..., 14195, 14195])\n",
        "            item_indices : 아이템의 인덱스 정보\n",
        "                ex) tensor([   50,    65,   ..., 14960, 11527])\n",
        "            feats : 특징 정보 \n",
        "        Returns: \n",
        "            output : 유저-아이템 쌍에 대한 추천 결과 \n",
        "                ex) tensor([  9.4966,  22.0261, ..., -19.3535, -23.0212])\n",
        "        \"\"\"\n",
        "        # 임베딩 진행\n",
        "        user_embedding_mf = self.user_embedding_mf(user_indices)\n",
        "        item_embedding_mf = self.item_embedding_mf(item_indices)\n",
        "        mf_output = torch.mul(user_embedding_mf, item_embedding_mf)\n",
        "        \n",
        "        user_embedding_mlp = self.user_embedding_mlp(user_indices)\n",
        "        item_embedding_mlp = self.item_embedding_mlp(item_indices)\n",
        "        genre_embedding_mlp = self.genre_embeddig(feats[3])\n",
        "\n",
        "        \n",
        "        #성별 임베딩 추가\n",
        "        sex_embedding_mlp = self.sex_embeddig(feats[2])\n",
        "\n",
        "        #검색여부 임베딩 추가\n",
        "        search_embedding_mlp = self.search_embedding(feats[5])\n",
        "        input_feature = torch.cat((user_embedding_mlp, item_embedding_mlp, genre_embedding_mlp, sex_embedding_mlp, search_embedding_mlp, feats[0].unsqueeze(1), feats[1].unsqueeze(1),feats[4].unsqueeze(1), feats[6].unsqueeze(1)), -1)\n",
        "        mlp_output = self.mlp_layers(input_feature)\n",
        "        \n",
        "        output = torch.cat([mlp_output, mf_output], dim=-1)\n",
        "        output = self.affine_output(output).squeeze(-1)\n",
        "        return output"
      ]
    },
    {
      "cell_type": "markdown",
      "metadata": {
        "id": "hE7ZtudJYU1V"
      },
      "source": [
        "### 학습 및 추론 코드 구현\n",
        "\n",
        "- 학습 : Negative sampling을 활용하여 Binary Classification 진행 \n",
        "    - history 에 있는 album_id는 positive label로 그렇지 않은 album_id는 nagative label로 활용  \n",
        "    - 단, 이때 모든 album_id를 negative label로 활용하는 것이 아닌 일부만 사용 (neg_ratio 값에 따라서 개수 조정)\n",
        "- 추론 : 일부 데이터에 대해 recall, ndcg, coverage 성능 확인"
      ]
    },
    {
      "cell_type": "markdown",
      "metadata": {
        "id": "RGTiX3PsYU1V"
      },
      "source": [
        "#### 학습 및 추론에 필요한 데이터 셋 생성 코드 구현"
      ]
    },
    {
      "cell_type": "code",
      "execution_count": 73,
      "metadata": {
        "id": "umvMsViZpIgI",
        "colab": {
          "base_uri": "https://localhost:8080/",
          "height": 137
        },
        "outputId": "b15df5d5-0dff-438b-fe01-bc36867c3971"
      },
      "outputs": [
        {
          "output_type": "error",
          "ename": "SyntaxError",
          "evalue": "ignored",
          "traceback": [
            "\u001b[0;36m  File \u001b[0;32m\"<ipython-input-73-7d43160ff797>\"\u001b[0;36m, line \u001b[0;32m26\u001b[0m\n\u001b[0;31m    if user_id in\u001b[0m\n\u001b[0m                  ^\u001b[0m\n\u001b[0;31mSyntaxError\u001b[0m\u001b[0;31m:\u001b[0m invalid syntax\n"
          ]
        }
      ],
      "source": [
        "def make_UIdataset(train, neg_ratio):\n",
        "    \"\"\" 유저별 학습에 필요한 딕셔너리 데이터 생성 \n",
        "    Args:\n",
        "        train : 유저-아이템의 상호작용을 담은 행렬 \n",
        "            ex) \n",
        "                array([[0., 0., 0., ..., 0., 0., 0.],\n",
        "                        [0., 0., 0., ..., 0., 0., 0.],\n",
        "                        [0., 0., 0., ..., 0., 0., 0.],\n",
        "                        ...,\n",
        "                        [0., 0., 0., ..., 0., 0., 0.],\n",
        "                        [0., 0., 0., ..., 0., 0., 0.],\n",
        "                        [0., 0., 0., ..., 0., 0., 0.]])\n",
        "        neg_ratio : negative sampling 활용할 비율 \n",
        "            ex) 3 (positive label 1개당 negative label 3개)\n",
        "    Returns: \n",
        "        UIdataset : 유저별 학습에 필요한 정보를 담은 딕셔너리 \n",
        "            ex) {'사용자 ID': [[positive 샘플, negative 샘플], ... , [1, 1, 1, ..., 0, 0]]}\n",
        "                >>> UIdataset[3]\n",
        "                    [array([   16,    17,    18, ...,  9586, 18991,  9442]),\n",
        "                    array([5, 5, 5, ..., 5, 5, 5]),\n",
        "                    array([4, 4, 4, ..., 5, 1, 1]),\n",
        "                    array([1., 1., 1., ..., 0., 0., 0.])]\n",
        "    \"\"\"\n",
        "    UIdataset = {}\n",
        "    for user_id, items_by_user in enumerate(train):\n",
        "        if user_id in \n",
        "        UIdataset[user_id] = []\n",
        "        # positive 샘플 계산 \n",
        "        # pos item은 0.5 이상인 것들의 index를 찾아 출력\n",
        "        pos_item_ids = np.where(items_by_user > 0.5)[0]\n",
        "        # pos 샘플 개수\n",
        "        num_pos_samples = len(pos_item_ids)\n",
        "\n",
        "        # negative 샘플 계산 (random negative sampling)\n",
        "        # neg 샘플 개수 \n",
        "        num_neg_samples = neg_ratio * num_pos_samples\n",
        "        neg_items = np.where(items_by_user < 0.5)[0]\n",
        "        # neg 샘플 중 랜덤 초이스\n",
        "        neg_item_ids = np.random.choice(neg_items, min(num_neg_samples, len(neg_items)), replace=False)\n",
        "        # pos, neg 샘플 짝지어서 UIdataset에 넣기\n",
        "        UIdataset[user_id].append(np.concatenate([pos_item_ids, neg_item_ids]))\n",
        "        \n",
        "        # feature 추출 \n",
        "        features_age = []\n",
        "        features_views = []\n",
        "        features_sex = []\n",
        "\n",
        "        # pos, neg 쌍을 하나씩 뽑고,\n",
        "        for item_id in np.concatenate([pos_item_ids, neg_item_ids]): \n",
        "            # user_features의 user에 따른 나이를 features에 넣기\n",
        "            features_age.append(user_features['age'][user_id])  # float\n",
        "            features_views.append(user_features_views['views'][user_id])  # float\n",
        "            features_sex.append(user_features_sex['sex'][user_id])  # long\n",
        "        #나이 정보 순서를 append해서 모든 쌍에 추가해주기\n",
        "        UIdataset[user_id].append(np.array(features_age))\n",
        "        UIdataset[user_id].append(np.array(features_views))\n",
        "        UIdataset[user_id].append(np.array(features_sex))\n",
        "\n",
        "        features_genre = []\n",
        "        features_run = []\n",
        "        features_search = []\n",
        "        features_payment = []\n",
        "        # pos와 neg 일렬 리스트로 변환\n",
        "        for item_id in np.concatenate([pos_item_ids, neg_item_ids]): \n",
        "            # item_features의 item에 따른 장르를 features에 넣기\n",
        "            features_genre.append(item_features['genre_mid'][item_id])  # long\n",
        "            features_run.append(item_features_run['run_time'][item_id]) # float\n",
        "\n",
        "            if user_id in search_dict.keys():\n",
        "              if item_id in search_dict[user_id]:\n",
        "                features_search.append(1)\n",
        "              else:\n",
        "                features_search.append(0)\n",
        "            else:\n",
        "              features_search.append(0)\n",
        "            if user_id in buy_dict.keys():\n",
        "              if item_id in buy_dict[user_id]:\n",
        "                features_payment.append(int(buy[(buy['profile_id']==user_id)&(buy['album_id']==item_id)]['payment'].values[0]))\n",
        "              else:\n",
        "                features_payment.append(0)\n",
        "            else: \n",
        "              features_payment.append(0)\n",
        "        #장르 정보를 append해서 모든 쌍에 추가해주기 -> 상호작용에 feature가 추가된것임\n",
        "        UIdataset[user_id].append(np.array(features_genre))\n",
        "        UIdataset[user_id].append(np.array(features_run))\n",
        "        UIdataset[user_id].append(np.array(features_search))\n",
        "        UIdataset[user_id].append(np.array(features_payment))\n",
        "\n",
        "        # label 저장  \n",
        "        pos_labels = np.ones(len(pos_item_ids))\n",
        "        neg_labels = np.zeros(len(neg_item_ids))\n",
        "        UIdataset[user_id].append(np.concatenate([pos_labels, neg_labels]))\n",
        "\n",
        "    return UIdataset"
      ]
    },
    {
      "cell_type": "code",
      "execution_count": 24,
      "metadata": {
        "id": "MjnyPZqYpIgI"
      },
      "outputs": [],
      "source": [
        "UIdataset = make_UIdataset(train, neg_ratio=cfg.neg_ratio)"
      ]
    },
    {
      "cell_type": "code",
      "execution_count": null,
      "metadata": {
        "colab": {
          "base_uri": "https://localhost:8080/"
        },
        "id": "nrpgaM0NC896",
        "outputId": "e80c91ae-097f-4610-f330-2cd9e6711b6a"
      },
      "outputs": [
        {
          "data": {
            "text/plain": [
              "[array([   16,    17,    18, ...,  7343,  8615, 22028]),\n",
              " array([5, 5, 5, ..., 5, 5, 5]),\n",
              " array([23, 23, 23, ..., 23, 23, 23]),\n",
              " array([0, 0, 0, ..., 0, 0, 0]),\n",
              " array([ 1,  1,  1, ..., 10,  5, 17]),\n",
              " array([ 660,  660,  660, ...,  731,  463, 1004]),\n",
              " array([0, 0, 0, ..., 0, 0, 0]),\n",
              " array([0, 0, 0, ..., 0, 0, 0]),\n",
              " array([1., 1., 1., ..., 0., 0., 0.])]"
            ]
          },
          "execution_count": 88,
          "metadata": {},
          "output_type": "execute_result"
        }
      ],
      "source": [
        "UIdataset[3]"
      ]
    },
    {
      "cell_type": "code",
      "execution_count": 25,
      "metadata": {
        "id": "tP1N8nYrpIgJ"
      },
      "outputs": [],
      "source": [
        "def make_batchdata(user_indices, batch_idx, batch_size):\n",
        "    \"\"\" 배치 데이터로 변환 \n",
        "    Args:\n",
        "        user_indices : 전체 유저의 인덱스 정보 \n",
        "            ex) array([ 3100,  1800, 30098, ...,  2177, 11749, 20962])\n",
        "        batch_idx : 배치 인덱스 (몇번째 배치인지)\n",
        "            ex) 0 \n",
        "        batch_size : 배치 크기 \n",
        "            ex) 256 \n",
        "    Returns \n",
        "        batch_user_ids : 배치내의 유저 인덱스 정보 \n",
        "            ex) [22194, 22194, 22194, 22194, 22194, ...]\n",
        "        batch_item_ids : 배치내의 아이템 인덱스 정보 \n",
        "            ex) [36, 407, 612, 801, 1404, ...]\n",
        "        batch_feat0 : 배치내의 유저-아이템 인덱스 정보에 해당하는 feature0 정보 \n",
        "            ex) [6, 6, 6, 6, 6, ...]\n",
        "        batch_feat1 : 배치내의 유저-아이템 인덱스 정보에 해당하는 feature1 정보 \n",
        "            ex) [4,  4,  4, 23,  4, ...]\n",
        "        batch_labels : 배치내의 유저-아이템 인덱스 정보에 해당하는 label 정보 \n",
        "            ex) [1.0, 1.0, 1.0, 1.0, 1.0, ...]\n",
        "    \"\"\"\n",
        "    batch_user_indices = user_indices[batch_idx*batch_size : (batch_idx+1)*batch_size]\n",
        "    batch_user_ids = []\n",
        "    batch_item_ids = []\n",
        "    batch_feat0 = []  # age\n",
        "    batch_feat1 = []  # views\n",
        "    batch_feat2 = []  # sex \n",
        "    batch_feat3 = []  # genre\n",
        "    batch_feat4 = []  # runtime\n",
        "    batch_feat5 = []  # runtime\n",
        "    batch_feat6 = []  # runtime\n",
        "    batch_labels = [] # label\n",
        "    for user_id in batch_user_indices:\n",
        "        item_ids = UIdataset[user_id][0]\n",
        "        feat0 = UIdataset[user_id][1]\n",
        "        feat1 = UIdataset[user_id][2]\n",
        "        feat2 = UIdataset[user_id][3]\n",
        "        feat3 = UIdataset[user_id][4]\n",
        "        feat4 = UIdataset[user_id][5]\n",
        "        feat5 = UIdataset[user_id][6]\n",
        "        feat6 = UIdataset[user_id][7]                \n",
        "        labels = UIdataset[user_id][8]\n",
        "        user_ids = np.full(len(item_ids), user_id)  # 모든 값을 user_id로 통일\n",
        "        batch_user_ids.extend(user_ids.tolist())\n",
        "        batch_item_ids.extend(item_ids.tolist())\n",
        "        batch_feat0.extend(feat0.tolist())\n",
        "        batch_feat1.extend(feat1.tolist())\n",
        "        batch_feat2.extend(feat2.tolist())\n",
        "        batch_feat3.extend(feat3.tolist())\n",
        "        batch_feat4.extend(feat4.tolist())      \n",
        "        batch_feat5.extend(feat5.tolist())   \n",
        "        batch_feat6.extend(feat6.tolist())   \n",
        "        batch_labels.extend(labels.tolist())\n",
        "    return batch_user_ids, batch_item_ids, batch_feat0, batch_feat1, batch_feat2, batch_feat3, batch_feat4,batch_feat5, batch_feat6, batch_labels\n",
        "\n",
        "def update_avg(curr_avg, val, idx):\n",
        "    \"\"\" 현재 epoch 까지의 평균 값을 계산 \n",
        "    \"\"\"\n",
        "    return (curr_avg * idx + val) / (idx + 1)"
      ]
    },
    {
      "cell_type": "markdown",
      "metadata": {
        "id": "WOTiWFV-pIgJ"
      },
      "source": [
        "#### 학습 및 검증 코드 생성"
      ]
    },
    {
      "cell_type": "code",
      "execution_count": 221,
      "metadata": {
        "id": "dS1EPRpeYU1W"
      },
      "outputs": [],
      "source": [
        "def train_epoch(cfg, model, optimizer, criterion): \n",
        "    model.train()\n",
        "    curr_loss_avg = 0.0\n",
        "\n",
        "    user_indices = np.arange(cfg.n_users)\n",
        "    user_indices = np.delete(user_indices, one_views_user)\n",
        "    np.random.RandomState(cfg.epoch).shuffle(user_indices)\n",
        "    \n",
        "\n",
        "    batch_num = int(len(user_indices) / cfg.batch_size) + 1\n",
        "    bar = tqdm(range(batch_num), leave=False)\n",
        "    for step, batch_idx in enumerate(bar):\n",
        "        user_ids, item_ids, feat0, feat1,feat2, feat3, feat4,feat5, feat6, labels = make_batchdata(user_indices, batch_idx, cfg.batch_size)\n",
        "        # 배치 사용자 단위로 학습\n",
        "        user_ids = torch.LongTensor(user_ids).to(cfg.device)\n",
        "        item_ids = torch.LongTensor(item_ids).to(cfg.device)\n",
        "        feat0 = torch.FloatTensor(feat0).to(cfg.device)\n",
        "        feat1 = torch.FloatTensor(feat1).to(cfg.device)\n",
        "        feat2 = torch.LongTensor(feat2).to(cfg.device)\n",
        "        feat3 = torch.LongTensor(feat3).to(cfg.device)\n",
        "        feat4 = torch.FloatTensor(feat4).to(cfg.device)\n",
        "        feat5 = torch.LongTensor(feat5).to(cfg.device)\n",
        "        feat6 = torch.FloatTensor(feat6).to(cfg.device)\n",
        "        labels = torch.FloatTensor(labels).to(cfg.device)\n",
        "        labels = labels.view(-1, 1)\n",
        "\n",
        "        # grad 초기화\n",
        "        optimizer.zero_grad()\n",
        "\n",
        "        # 모델 forward\n",
        "        output = model.forward(user_ids, item_ids, [feat0, feat1, feat2, feat3, feat4, feat5, feat6])\n",
        "        output = output.view(-1, 1)\n",
        "\n",
        "        loss = criterion(output, labels)\n",
        "\n",
        "        # 역전파\n",
        "        loss.backward()\n",
        "\n",
        "        # 최적화\n",
        "        optimizer.step()    \n",
        "        if torch.isnan(loss):\n",
        "            print('Loss NAN. Train finish.')\n",
        "            break\n",
        "        curr_loss_avg = update_avg(curr_loss_avg, loss, step)\n",
        "        \n",
        "        msg = f\"epoch: {cfg.epoch}, \"\n",
        "        msg += f\"loss: {curr_loss_avg.item():.5f}, \"\n",
        "        msg += f\"lr: {optimizer.param_groups[0]['lr']:.6f}\"\n",
        "        bar.set_description(msg)\n",
        "    rets = {'losses': np.around(curr_loss_avg.item(), 5)}\n",
        "    return rets"
      ]
    },
    {
      "cell_type": "code",
      "execution_count": 222,
      "metadata": {
        "id": "HS86whCspIgK"
      },
      "outputs": [],
      "source": [
        "def recallk(actual, predicted, k = 25):\n",
        "    \"\"\" label과 prediction 사이의 recall 평가 함수 \n",
        "    Args:\n",
        "        actual : 실제로 본 상품 리스트\n",
        "        pred : 예측한 상품 리스트\n",
        "        k : 상위 몇개의 데이터를 볼지 (ex : k=5 상위 5개의 상품만 봄)\n",
        "    Returns: \n",
        "        recall_k : recall@k \n",
        "    \"\"\" \n",
        "    set_actual = set(actual)\n",
        "    recall_k = len(set_actual & set(predicted[:k])) / min(k, len(set_actual))\n",
        "    return recall_k\n",
        "\n",
        "def unique(sequence):\n",
        "    # preserves order\n",
        "    seen = set()\n",
        "    return [x for x in sequence if not (x in seen or seen.add(x))]\n",
        "\n",
        "def ndcgk(actual, predicted, k = 25):\n",
        "    set_actual = set(actual)\n",
        "    idcg = sum([1.0 / np.log(i + 2) for i in range(min(k, len(set_actual)))])\n",
        "    dcg = 0.0\n",
        "    unique_predicted = unique(predicted[:k])\n",
        "    for i, r in enumerate(unique_predicted):\n",
        "        if r in set_actual:\n",
        "            dcg += 1.0 / np.log(i + 2)\n",
        "    ndcg_k = dcg / idcg\n",
        "    return ndcg_k\n",
        "\n",
        "def evaluation(gt, pred):\n",
        "    \"\"\" label과 prediction 사이의 recall, coverage, competition metric 평가 함수 \n",
        "    Args:\n",
        "        gt : 데이터 프레임 형태의 정답 데이터 \n",
        "        pred : 데이터 프레임 형태의 예측 데이터 \n",
        "    Returns: \n",
        "        rets : recall, ndcg, coverage, competition metric 결과 \n",
        "            ex) {'recall': 0.123024, 'ndcg': 056809, 'coverage': 0.017455, 'score': 0.106470}\n",
        "    \"\"\"    \n",
        "    gt = gt.groupby('profile_id')['album_id'].unique().to_frame().reset_index()\n",
        "    gt.columns = ['profile_id', 'actual_list']\n",
        "\n",
        "    evaluated_data = pd.merge(pred, gt, how = 'left', on = 'profile_id')\n",
        "\n",
        "    evaluated_data['Recall@25'] = evaluated_data.apply(lambda x: recallk(x.actual_list, x.predicted_list), axis=1)\n",
        "    evaluated_data['NDCG@25'] = evaluated_data.apply(lambda x: ndcgk(x.actual_list, x.predicted_list), axis=1)\n",
        "\n",
        "    recall = evaluated_data['Recall@25'].mean()\n",
        "    ndcg = evaluated_data['NDCG@25'] .mean()\n",
        "    coverage = (evaluated_data['predicted_list'].apply(lambda x: x[:cfg.top_k]).explode().nunique())/meta_df.index.nunique()\n",
        "\n",
        "    score = 0.75*recall + 0.25*ndcg\n",
        "    rets = {\"recall\" :recall, \n",
        "            \"ndcg\" :ndcg, \n",
        "            \"coverage\" :coverage, \n",
        "            \"score\" :score}\n",
        "    return rets"
      ]
    },
    {
      "cell_type": "code",
      "execution_count": null,
      "metadata": {
        "id": "0VtryMV2CO_y"
      },
      "outputs": [],
      "source": [
        "query_user_ids = df.reset_index()['profile_id'].unique()"
      ]
    },
    {
      "cell_type": "code",
      "execution_count": null,
      "metadata": {
        "id": "QvloQnZVCSki"
      },
      "outputs": [],
      "source": [
        "full_item_ids = np.array([c for c in range(cfg.n_items)])\n",
        "full_item_ids_feat3 = [item_features['genre_mid'][c] for c in full_item_ids]\n",
        "full_item_ids_feat4 = [item_features_run['run_time'][c] for c in full_item_ids]"
      ]
    },
    {
      "cell_type": "code",
      "source": [
        "f = np.zeros(10)\n",
        "np.put(f, [6,2,1,0], [1,2,6,7, 7])"
      ],
      "metadata": {
        "id": "Zl7FyZLrVb31"
      },
      "execution_count": null,
      "outputs": []
    },
    {
      "cell_type": "code",
      "source": [
        "buy_dict[1603]"
      ],
      "metadata": {
        "colab": {
          "base_uri": "https://localhost:8080/"
        },
        "id": "hVuhO0P_WO4w",
        "outputId": "0bfb128b-c0f0-4161-cadf-f48f7bba4634"
      },
      "execution_count": null,
      "outputs": [
        {
          "output_type": "execute_result",
          "data": {
            "text/plain": [
              "[1640]"
            ]
          },
          "metadata": {},
          "execution_count": 109
        }
      ]
    },
    {
      "cell_type": "code",
      "source": [
        "buy_dict[user_id][0]"
      ],
      "metadata": {
        "colab": {
          "base_uri": "https://localhost:8080/"
        },
        "id": "oqJh-Z2chyg1",
        "outputId": "5ed41dcb-e513-4699-e4a9-01f55b2b4f62"
      },
      "execution_count": null,
      "outputs": [
        {
          "output_type": "execute_result",
          "data": {
            "text/plain": [
              "3767"
            ]
          },
          "metadata": {},
          "execution_count": 149
        }
      ]
    },
    {
      "cell_type": "code",
      "source": [
        "buy[(buy['profile_id']==user_id)&(buy['album_id']==buy_dict[user_id])]"
      ],
      "metadata": {
        "id": "TveTq94NhzRt"
      },
      "execution_count": null,
      "outputs": []
    },
    {
      "cell_type": "code",
      "source": [
        "\n",
        "for user_id in data['profile_id'].unique():\n",
        "  print(user_id)\n",
        "  f = np.zeros(cfg.n_items)\n",
        "  if user_id in search_dict.keys():\n",
        "    print(len(f), search_dict[user_id])\n",
        "    np.put(f, search_dict[user_id], 1)\n",
        "  if user_id ==17128:\n",
        "    break"
      ],
      "metadata": {
        "id": "cn2D06KxVqLN"
      },
      "execution_count": null,
      "outputs": []
    },
    {
      "cell_type": "code",
      "source": [
        "one_views_dict = {}\n",
        "for user_i, _,album_i,_,_ in np.array(data[data['views']==1]):\n",
        "  one_views_dict[user_i] = album_i\n"
      ],
      "metadata": {
        "id": "KtP1Oeu1sz04"
      },
      "execution_count": 41,
      "outputs": []
    },
    {
      "cell_type": "code",
      "source": [
        "metap_df.head(3)"
      ],
      "metadata": {
        "colab": {
          "base_uri": "https://localhost:8080/",
          "height": 143
        },
        "id": "Q91_Z_XXwXxU",
        "outputId": "8fb56d91-ea19-4720-a786-3b6cf7dd66c5"
      },
      "execution_count": 255,
      "outputs": [
        {
          "output_type": "execute_result",
          "data": {
            "text/plain": [
              "   album_id keyword_type keyword_name  keyword_value  label\n",
              "0       749     05010101          시리즈              0      1\n",
              "1       749     05010302          EBS              0      1\n",
              "2       749     05010401           3세              0      1"
            ],
            "text/html": [
              "\n",
              "  <div id=\"df-25e6683e-078a-42fb-9473-46f5d47ec8a0\">\n",
              "    <div class=\"colab-df-container\">\n",
              "      <div>\n",
              "<style scoped>\n",
              "    .dataframe tbody tr th:only-of-type {\n",
              "        vertical-align: middle;\n",
              "    }\n",
              "\n",
              "    .dataframe tbody tr th {\n",
              "        vertical-align: top;\n",
              "    }\n",
              "\n",
              "    .dataframe thead th {\n",
              "        text-align: right;\n",
              "    }\n",
              "</style>\n",
              "<table border=\"1\" class=\"dataframe\">\n",
              "  <thead>\n",
              "    <tr style=\"text-align: right;\">\n",
              "      <th></th>\n",
              "      <th>album_id</th>\n",
              "      <th>keyword_type</th>\n",
              "      <th>keyword_name</th>\n",
              "      <th>keyword_value</th>\n",
              "      <th>label</th>\n",
              "    </tr>\n",
              "  </thead>\n",
              "  <tbody>\n",
              "    <tr>\n",
              "      <th>0</th>\n",
              "      <td>749</td>\n",
              "      <td>05010101</td>\n",
              "      <td>시리즈</td>\n",
              "      <td>0</td>\n",
              "      <td>1</td>\n",
              "    </tr>\n",
              "    <tr>\n",
              "      <th>1</th>\n",
              "      <td>749</td>\n",
              "      <td>05010302</td>\n",
              "      <td>EBS</td>\n",
              "      <td>0</td>\n",
              "      <td>1</td>\n",
              "    </tr>\n",
              "    <tr>\n",
              "      <th>2</th>\n",
              "      <td>749</td>\n",
              "      <td>05010401</td>\n",
              "      <td>3세</td>\n",
              "      <td>0</td>\n",
              "      <td>1</td>\n",
              "    </tr>\n",
              "  </tbody>\n",
              "</table>\n",
              "</div>\n",
              "      <button class=\"colab-df-convert\" onclick=\"convertToInteractive('df-25e6683e-078a-42fb-9473-46f5d47ec8a0')\"\n",
              "              title=\"Convert this dataframe to an interactive table.\"\n",
              "              style=\"display:none;\">\n",
              "        \n",
              "  <svg xmlns=\"http://www.w3.org/2000/svg\" height=\"24px\"viewBox=\"0 0 24 24\"\n",
              "       width=\"24px\">\n",
              "    <path d=\"M0 0h24v24H0V0z\" fill=\"none\"/>\n",
              "    <path d=\"M18.56 5.44l.94 2.06.94-2.06 2.06-.94-2.06-.94-.94-2.06-.94 2.06-2.06.94zm-11 1L8.5 8.5l.94-2.06 2.06-.94-2.06-.94L8.5 2.5l-.94 2.06-2.06.94zm10 10l.94 2.06.94-2.06 2.06-.94-2.06-.94-.94-2.06-.94 2.06-2.06.94z\"/><path d=\"M17.41 7.96l-1.37-1.37c-.4-.4-.92-.59-1.43-.59-.52 0-1.04.2-1.43.59L10.3 9.45l-7.72 7.72c-.78.78-.78 2.05 0 2.83L4 21.41c.39.39.9.59 1.41.59.51 0 1.02-.2 1.41-.59l7.78-7.78 2.81-2.81c.8-.78.8-2.07 0-2.86zM5.41 20L4 18.59l7.72-7.72 1.47 1.35L5.41 20z\"/>\n",
              "  </svg>\n",
              "      </button>\n",
              "      \n",
              "  <style>\n",
              "    .colab-df-container {\n",
              "      display:flex;\n",
              "      flex-wrap:wrap;\n",
              "      gap: 12px;\n",
              "    }\n",
              "\n",
              "    .colab-df-convert {\n",
              "      background-color: #E8F0FE;\n",
              "      border: none;\n",
              "      border-radius: 50%;\n",
              "      cursor: pointer;\n",
              "      display: none;\n",
              "      fill: #1967D2;\n",
              "      height: 32px;\n",
              "      padding: 0 0 0 0;\n",
              "      width: 32px;\n",
              "    }\n",
              "\n",
              "    .colab-df-convert:hover {\n",
              "      background-color: #E2EBFA;\n",
              "      box-shadow: 0px 1px 2px rgba(60, 64, 67, 0.3), 0px 1px 3px 1px rgba(60, 64, 67, 0.15);\n",
              "      fill: #174EA6;\n",
              "    }\n",
              "\n",
              "    [theme=dark] .colab-df-convert {\n",
              "      background-color: #3B4455;\n",
              "      fill: #D2E3FC;\n",
              "    }\n",
              "\n",
              "    [theme=dark] .colab-df-convert:hover {\n",
              "      background-color: #434B5C;\n",
              "      box-shadow: 0px 1px 3px 1px rgba(0, 0, 0, 0.15);\n",
              "      filter: drop-shadow(0px 1px 2px rgba(0, 0, 0, 0.3));\n",
              "      fill: #FFFFFF;\n",
              "    }\n",
              "  </style>\n",
              "\n",
              "      <script>\n",
              "        const buttonEl =\n",
              "          document.querySelector('#df-25e6683e-078a-42fb-9473-46f5d47ec8a0 button.colab-df-convert');\n",
              "        buttonEl.style.display =\n",
              "          google.colab.kernel.accessAllowed ? 'block' : 'none';\n",
              "\n",
              "        async function convertToInteractive(key) {\n",
              "          const element = document.querySelector('#df-25e6683e-078a-42fb-9473-46f5d47ec8a0');\n",
              "          const dataTable =\n",
              "            await google.colab.kernel.invokeFunction('convertToInteractive',\n",
              "                                                     [key], {});\n",
              "          if (!dataTable) return;\n",
              "\n",
              "          const docLinkHtml = 'Like what you see? Visit the ' +\n",
              "            '<a target=\"_blank\" href=https://colab.research.google.com/notebooks/data_table.ipynb>data table notebook</a>'\n",
              "            + ' to learn more about interactive tables.';\n",
              "          element.innerHTML = '';\n",
              "          dataTable['output_type'] = 'display_data';\n",
              "          await google.colab.output.renderOutput(dataTable, element);\n",
              "          const docLink = document.createElement('div');\n",
              "          docLink.innerHTML = docLinkHtml;\n",
              "          element.appendChild(docLink);\n",
              "        }\n",
              "      </script>\n",
              "    </div>\n",
              "  </div>\n",
              "  "
            ]
          },
          "metadata": {},
          "execution_count": 255
        }
      ]
    },
    {
      "cell_type": "code",
      "source": [
        "meta = pd.merge(metap_df[['album_id','keyword_type','keyword_value']].drop_duplicates(), meta_df.drop(columns = ['sub_title', 'genre_small','onair_date','genre_large','cast_2','cast_3','cast_4','cast_5','cast_6','cast_7']).drop_duplicates(), \"left\", on='album_id')\n",
        "meta.shape"
      ],
      "metadata": {
        "colab": {
          "base_uri": "https://localhost:8080/"
        },
        "id": "Z8pck7yLyRHb",
        "outputId": "da99e31c-2c50-43f6-c42f-a69ecf9751af"
      },
      "execution_count": 43,
      "outputs": [
        {
          "output_type": "execute_result",
          "data": {
            "text/plain": [
              "(767948, 8)"
            ]
          },
          "metadata": {},
          "execution_count": 43
        }
      ]
    },
    {
      "cell_type": "code",
      "source": [
        "meta[meta['keyword_value']==5]"
      ],
      "metadata": {
        "colab": {
          "base_uri": "https://localhost:8080/",
          "height": 424
        },
        "id": "ky9rMIKY_rmJ",
        "outputId": "de72de51-88f6-4b73-a151-8d7fd2df59dd"
      },
      "execution_count": 44,
      "outputs": [
        {
          "output_type": "execute_result",
          "data": {
            "text/plain": [
              "        album_id keyword_type  keyword_value                   title  \\\n",
              "7            749     05020201              5                어둠이 무서워요   \n",
              "11           749     0508042c              5                어둠이 무서워요   \n",
              "14           749     0508050a              5                어둠이 무서워요   \n",
              "28           750     05020201              5                  우리는 친구   \n",
              "34           750     0508042c              5                  우리는 친구   \n",
              "...          ...          ...            ...                     ...   \n",
              "767917     39874     05030702              5  로티프렌즈와 색칠놀이! - 베블리 ＆ 꽃   \n",
              "767928      4779     05020204              5              손가락을 빨게 돼요   \n",
              "767929      4779     05030604              5              손가락을 빨게 돼요   \n",
              "767938     11629     05020205              5                  손가락 하나   \n",
              "767947     11629     0508042c              5                  손가락 하나   \n",
              "\n",
              "        genre_mid country  run_time   cast_1  \n",
              "7               1      한국       660       타요  \n",
              "11              1      한국       660       타요  \n",
              "14              1      한국       660       타요  \n",
              "28              1      한국       660       타요  \n",
              "34              1      한국       660       타요  \n",
              "...           ...     ...       ...      ...  \n",
              "767917          5      한국       466      NaN  \n",
              "767928         23      한국       293      NaN  \n",
              "767929         23      한국       293      NaN  \n",
              "767938          4      한국        91  타요와 친구들  \n",
              "767947          4      한국        91  타요와 친구들  \n",
              "\n",
              "[104849 rows x 8 columns]"
            ],
            "text/html": [
              "\n",
              "  <div id=\"df-23858fe7-c532-4be3-887b-5546674bbf62\">\n",
              "    <div class=\"colab-df-container\">\n",
              "      <div>\n",
              "<style scoped>\n",
              "    .dataframe tbody tr th:only-of-type {\n",
              "        vertical-align: middle;\n",
              "    }\n",
              "\n",
              "    .dataframe tbody tr th {\n",
              "        vertical-align: top;\n",
              "    }\n",
              "\n",
              "    .dataframe thead th {\n",
              "        text-align: right;\n",
              "    }\n",
              "</style>\n",
              "<table border=\"1\" class=\"dataframe\">\n",
              "  <thead>\n",
              "    <tr style=\"text-align: right;\">\n",
              "      <th></th>\n",
              "      <th>album_id</th>\n",
              "      <th>keyword_type</th>\n",
              "      <th>keyword_value</th>\n",
              "      <th>title</th>\n",
              "      <th>genre_mid</th>\n",
              "      <th>country</th>\n",
              "      <th>run_time</th>\n",
              "      <th>cast_1</th>\n",
              "    </tr>\n",
              "  </thead>\n",
              "  <tbody>\n",
              "    <tr>\n",
              "      <th>7</th>\n",
              "      <td>749</td>\n",
              "      <td>05020201</td>\n",
              "      <td>5</td>\n",
              "      <td>어둠이 무서워요</td>\n",
              "      <td>1</td>\n",
              "      <td>한국</td>\n",
              "      <td>660</td>\n",
              "      <td>타요</td>\n",
              "    </tr>\n",
              "    <tr>\n",
              "      <th>11</th>\n",
              "      <td>749</td>\n",
              "      <td>0508042c</td>\n",
              "      <td>5</td>\n",
              "      <td>어둠이 무서워요</td>\n",
              "      <td>1</td>\n",
              "      <td>한국</td>\n",
              "      <td>660</td>\n",
              "      <td>타요</td>\n",
              "    </tr>\n",
              "    <tr>\n",
              "      <th>14</th>\n",
              "      <td>749</td>\n",
              "      <td>0508050a</td>\n",
              "      <td>5</td>\n",
              "      <td>어둠이 무서워요</td>\n",
              "      <td>1</td>\n",
              "      <td>한국</td>\n",
              "      <td>660</td>\n",
              "      <td>타요</td>\n",
              "    </tr>\n",
              "    <tr>\n",
              "      <th>28</th>\n",
              "      <td>750</td>\n",
              "      <td>05020201</td>\n",
              "      <td>5</td>\n",
              "      <td>우리는 친구</td>\n",
              "      <td>1</td>\n",
              "      <td>한국</td>\n",
              "      <td>660</td>\n",
              "      <td>타요</td>\n",
              "    </tr>\n",
              "    <tr>\n",
              "      <th>34</th>\n",
              "      <td>750</td>\n",
              "      <td>0508042c</td>\n",
              "      <td>5</td>\n",
              "      <td>우리는 친구</td>\n",
              "      <td>1</td>\n",
              "      <td>한국</td>\n",
              "      <td>660</td>\n",
              "      <td>타요</td>\n",
              "    </tr>\n",
              "    <tr>\n",
              "      <th>...</th>\n",
              "      <td>...</td>\n",
              "      <td>...</td>\n",
              "      <td>...</td>\n",
              "      <td>...</td>\n",
              "      <td>...</td>\n",
              "      <td>...</td>\n",
              "      <td>...</td>\n",
              "      <td>...</td>\n",
              "    </tr>\n",
              "    <tr>\n",
              "      <th>767917</th>\n",
              "      <td>39874</td>\n",
              "      <td>05030702</td>\n",
              "      <td>5</td>\n",
              "      <td>로티프렌즈와 색칠놀이! - 베블리 ＆ 꽃</td>\n",
              "      <td>5</td>\n",
              "      <td>한국</td>\n",
              "      <td>466</td>\n",
              "      <td>NaN</td>\n",
              "    </tr>\n",
              "    <tr>\n",
              "      <th>767928</th>\n",
              "      <td>4779</td>\n",
              "      <td>05020204</td>\n",
              "      <td>5</td>\n",
              "      <td>손가락을 빨게 돼요</td>\n",
              "      <td>23</td>\n",
              "      <td>한국</td>\n",
              "      <td>293</td>\n",
              "      <td>NaN</td>\n",
              "    </tr>\n",
              "    <tr>\n",
              "      <th>767929</th>\n",
              "      <td>4779</td>\n",
              "      <td>05030604</td>\n",
              "      <td>5</td>\n",
              "      <td>손가락을 빨게 돼요</td>\n",
              "      <td>23</td>\n",
              "      <td>한국</td>\n",
              "      <td>293</td>\n",
              "      <td>NaN</td>\n",
              "    </tr>\n",
              "    <tr>\n",
              "      <th>767938</th>\n",
              "      <td>11629</td>\n",
              "      <td>05020205</td>\n",
              "      <td>5</td>\n",
              "      <td>손가락 하나</td>\n",
              "      <td>4</td>\n",
              "      <td>한국</td>\n",
              "      <td>91</td>\n",
              "      <td>타요와 친구들</td>\n",
              "    </tr>\n",
              "    <tr>\n",
              "      <th>767947</th>\n",
              "      <td>11629</td>\n",
              "      <td>0508042c</td>\n",
              "      <td>5</td>\n",
              "      <td>손가락 하나</td>\n",
              "      <td>4</td>\n",
              "      <td>한국</td>\n",
              "      <td>91</td>\n",
              "      <td>타요와 친구들</td>\n",
              "    </tr>\n",
              "  </tbody>\n",
              "</table>\n",
              "<p>104849 rows × 8 columns</p>\n",
              "</div>\n",
              "      <button class=\"colab-df-convert\" onclick=\"convertToInteractive('df-23858fe7-c532-4be3-887b-5546674bbf62')\"\n",
              "              title=\"Convert this dataframe to an interactive table.\"\n",
              "              style=\"display:none;\">\n",
              "        \n",
              "  <svg xmlns=\"http://www.w3.org/2000/svg\" height=\"24px\"viewBox=\"0 0 24 24\"\n",
              "       width=\"24px\">\n",
              "    <path d=\"M0 0h24v24H0V0z\" fill=\"none\"/>\n",
              "    <path d=\"M18.56 5.44l.94 2.06.94-2.06 2.06-.94-2.06-.94-.94-2.06-.94 2.06-2.06.94zm-11 1L8.5 8.5l.94-2.06 2.06-.94-2.06-.94L8.5 2.5l-.94 2.06-2.06.94zm10 10l.94 2.06.94-2.06 2.06-.94-2.06-.94-.94-2.06-.94 2.06-2.06.94z\"/><path d=\"M17.41 7.96l-1.37-1.37c-.4-.4-.92-.59-1.43-.59-.52 0-1.04.2-1.43.59L10.3 9.45l-7.72 7.72c-.78.78-.78 2.05 0 2.83L4 21.41c.39.39.9.59 1.41.59.51 0 1.02-.2 1.41-.59l7.78-7.78 2.81-2.81c.8-.78.8-2.07 0-2.86zM5.41 20L4 18.59l7.72-7.72 1.47 1.35L5.41 20z\"/>\n",
              "  </svg>\n",
              "      </button>\n",
              "      \n",
              "  <style>\n",
              "    .colab-df-container {\n",
              "      display:flex;\n",
              "      flex-wrap:wrap;\n",
              "      gap: 12px;\n",
              "    }\n",
              "\n",
              "    .colab-df-convert {\n",
              "      background-color: #E8F0FE;\n",
              "      border: none;\n",
              "      border-radius: 50%;\n",
              "      cursor: pointer;\n",
              "      display: none;\n",
              "      fill: #1967D2;\n",
              "      height: 32px;\n",
              "      padding: 0 0 0 0;\n",
              "      width: 32px;\n",
              "    }\n",
              "\n",
              "    .colab-df-convert:hover {\n",
              "      background-color: #E2EBFA;\n",
              "      box-shadow: 0px 1px 2px rgba(60, 64, 67, 0.3), 0px 1px 3px 1px rgba(60, 64, 67, 0.15);\n",
              "      fill: #174EA6;\n",
              "    }\n",
              "\n",
              "    [theme=dark] .colab-df-convert {\n",
              "      background-color: #3B4455;\n",
              "      fill: #D2E3FC;\n",
              "    }\n",
              "\n",
              "    [theme=dark] .colab-df-convert:hover {\n",
              "      background-color: #434B5C;\n",
              "      box-shadow: 0px 1px 3px 1px rgba(0, 0, 0, 0.15);\n",
              "      filter: drop-shadow(0px 1px 2px rgba(0, 0, 0, 0.3));\n",
              "      fill: #FFFFFF;\n",
              "    }\n",
              "  </style>\n",
              "\n",
              "      <script>\n",
              "        const buttonEl =\n",
              "          document.querySelector('#df-23858fe7-c532-4be3-887b-5546674bbf62 button.colab-df-convert');\n",
              "        buttonEl.style.display =\n",
              "          google.colab.kernel.accessAllowed ? 'block' : 'none';\n",
              "\n",
              "        async function convertToInteractive(key) {\n",
              "          const element = document.querySelector('#df-23858fe7-c532-4be3-887b-5546674bbf62');\n",
              "          const dataTable =\n",
              "            await google.colab.kernel.invokeFunction('convertToInteractive',\n",
              "                                                     [key], {});\n",
              "          if (!dataTable) return;\n",
              "\n",
              "          const docLinkHtml = 'Like what you see? Visit the ' +\n",
              "            '<a target=\"_blank\" href=https://colab.research.google.com/notebooks/data_table.ipynb>data table notebook</a>'\n",
              "            + ' to learn more about interactive tables.';\n",
              "          element.innerHTML = '';\n",
              "          dataTable['output_type'] = 'display_data';\n",
              "          await google.colab.output.renderOutput(dataTable, element);\n",
              "          const docLink = document.createElement('div');\n",
              "          docLink.innerHTML = docLinkHtml;\n",
              "          element.appendChild(docLink);\n",
              "        }\n",
              "      </script>\n",
              "    </div>\n",
              "  </div>\n",
              "  "
            ]
          },
          "metadata": {},
          "execution_count": 44
        }
      ]
    },
    {
      "cell_type": "code",
      "source": [
        "metap_df[metap_df['keyword_value']==5].groupby('album_id')"
      ],
      "metadata": {
        "colab": {
          "base_uri": "https://localhost:8080/"
        },
        "id": "Fsrd3cwm_1ts",
        "outputId": "d75145ad-b64d-438f-ce30-aaaa0941dddc"
      },
      "execution_count": 40,
      "outputs": [
        {
          "output_type": "execute_result",
          "data": {
            "text/plain": [
              "38722"
            ]
          },
          "metadata": {},
          "execution_count": 40
        }
      ]
    },
    {
      "cell_type": "code",
      "source": [
        "5 in meta[meta['album_id']==0]['keyword_value'].values"
      ],
      "metadata": {
        "colab": {
          "base_uri": "https://localhost:8080/"
        },
        "id": "PmAr7L72BwPN",
        "outputId": "22789c10-f257-45e0-ed92-f315265ddc76"
      },
      "execution_count": 47,
      "outputs": [
        {
          "output_type": "execute_result",
          "data": {
            "text/plain": [
              "True"
            ]
          },
          "metadata": {},
          "execution_count": 47
        }
      ]
    },
    {
      "cell_type": "code",
      "source": [
        "lst = [] \n",
        "lst_example1  = [222,555,777]\n",
        "lst_example2  = [33,44,99]\n",
        "for i in range(10):\n",
        "  if i==1:\n",
        "    lst.append(lst_example1)\n",
        "  if i==2:\n",
        "    lst + lst_example2\n",
        "lst"
      ],
      "metadata": {
        "colab": {
          "base_uri": "https://localhost:8080/"
        },
        "id": "9VECgeGBPaR7",
        "outputId": "fae272ba-9f4a-447c-9b63-5a91e4b1b5cc"
      },
      "execution_count": 63,
      "outputs": [
        {
          "output_type": "execute_result",
          "data": {
            "text/plain": [
              "[[222, 555, 777]]"
            ]
          },
          "metadata": {},
          "execution_count": 63
        }
      ]
    },
    {
      "cell_type": "code",
      "source": [
        "keywords = []\n",
        "for i in tqdm(meta['album_id'].unique()):\n",
        "  m = meta[meta['album_id']==i]['keyword_value'].values\n",
        "\n",
        "  cnt = 0\n",
        "  key_val = 5\n",
        "  while cnt < 5: \n",
        "    if key_val in m:\n",
        "      if len(m5[m5['album_id']==i]['keyword_type'].value) >5:\n",
        "        keywords.extend(m5[m5['album_id']==i]['keyword_type'].values[:4])\n",
        "        cnt == 5\n",
        "      else:\n",
        "        keywords.extend(m5[m5['album_id']==i]['keyword_type'].values)\n",
        "        cnt += len(m5[m5['album_id']==i]['keyword_type'].values)\n",
        "        if 5- n > 0:\n",
        "          if 4 in m:\n",
        "            if len(m4[m4['album_id']==i]['keyword_type'].values) > n:\n",
        "              keyword"
      ],
      "metadata": {
        "id": "KTTcyH1mTncZ"
      },
      "execution_count": null,
      "outputs": []
    },
    {
      "cell_type": "code",
      "source": [
        "keywords = []\n",
        "m5 = meta[meta['keyword_value']==5]\n",
        "m4 = meta[meta['keyword_value']==4]\n",
        "m3 = meta[meta['keyword_value']==3]\n",
        "m2 = meta[meta['keyword_value']==2]\n",
        "m1 = meta[meta['keyword_value']==1]\n",
        "m0 = meta[meta['keyword_value']==0]\n",
        "for i in tqdm(meta['album_id'].unique()):\n",
        "  m = meta[meta['album_id']==i]['keyword_value'].values\n",
        "  if 5 in m:\n",
        "    if len(m5[m5['album_id']==i]['keyword_type'].value) >5:\n",
        "      keywords.append(m5[m5['album_id']==i]['keyword_type'].values[:4])\n",
        "    else:\n",
        "      keywords.append(m5[m5['album_id']==i]['keyword_type'].values)\n",
        "      n = len(m5[m5['album_id']==i]['keyword_type'].values)\n",
        "      if 5- n > 0:\n",
        "        if 4 in m:\n",
        "          if len(m4[m4['album_id']==i]['keyword_type'].values) > n:\n",
        "            keywords.append(m4[m4['album_id']==i]['keyword_type'].values[:n-1])\n",
        "        else:\n",
        "          keywords.append(m4[m4['album_id']==i]['keyword_type'].values)\n",
        "        if 0 in m:\n",
        "          if len(m4[m4['album_id']==i]['keyword_type'].values) > n:\n",
        "            keywords.append(m4[m4['album_id']==i]['keyword_type'].values[:n-1])\n",
        "          else:\n",
        "            keywords.append(m4[m4['album_id']==i]['keyword_type'].values)\n",
        "  if 4 in m:\n",
        "    keywords.append(m4[m4['album_id']==i]['keyword_type'].values)\n",
        "  elif 3 in m:\n",
        "    keywords.append(m3[m3['album_id']==i]['keyword_type'].values)\n",
        "  elif 2 in m:\n",
        "    keywords.append(m2[m2['album_id']==i]['keyword_type'].values)\n",
        "  elif 1 in m:\n",
        "    keywords.append(m1[m1['album_id']==i]['keyword_type'].values)    \n",
        "  elif 0 in m:\n",
        "    keywords.append(m0[m0['album_id']==i]['keyword_type'].values) \n",
        "meta_new = meta.drop(columns = ['keyword_type', 'keyword_value']).drop_duplicates()\n",
        "meta_new['keywords'] = keywords\n"
      ],
      "metadata": {
        "id": "Bg_2i5nNrkjP"
      },
      "execution_count": 54,
      "outputs": []
    },
    {
      "cell_type": "code",
      "source": [
        "meta[meta['keyword_value']==5].groupby('album_id')['keyword_type'].count().value_counts()"
      ],
      "metadata": {
        "colab": {
          "base_uri": "https://localhost:8080/"
        },
        "id": "esadwYV4QqfW",
        "outputId": "ab56a7e7-ed8e-4206-e9e2-6d9a0b6abfbd"
      },
      "execution_count": 66,
      "outputs": [
        {
          "output_type": "execute_result",
          "data": {
            "text/plain": [
              "2     12210\n",
              "1     11882\n",
              "3      6434\n",
              "4      3168\n",
              "5      2242\n",
              "6       826\n",
              "7       489\n",
              "8       389\n",
              "9       301\n",
              "10      192\n",
              "11      157\n",
              "12      112\n",
              "13       78\n",
              "14       54\n",
              "15       35\n",
              "16       23\n",
              "30       22\n",
              "17       15\n",
              "19       11\n",
              "18        9\n",
              "22        8\n",
              "24        7\n",
              "21        6\n",
              "20        6\n",
              "23        6\n",
              "31        6\n",
              "29        5\n",
              "56        5\n",
              "28        3\n",
              "25        3\n",
              "57        2\n",
              "38        2\n",
              "37        2\n",
              "41        2\n",
              "27        2\n",
              "55        1\n",
              "60        1\n",
              "33        1\n",
              "26        1\n",
              "45        1\n",
              "35        1\n",
              "39        1\n",
              "32        1\n",
              "Name: keyword_type, dtype: int64"
            ]
          },
          "metadata": {},
          "execution_count": 66
        }
      ]
    },
    {
      "cell_type": "code",
      "source": [
        "meta_new['keywords'].map(lambda x: len(x)).value_counts()"
      ],
      "metadata": {
        "colab": {
          "base_uri": "https://localhost:8080/"
        },
        "id": "cJFU3xpBNYIU",
        "outputId": "7280f875-956f-4f36-d11f-dcb44203dd81"
      },
      "execution_count": 60,
      "outputs": [
        {
          "output_type": "execute_result",
          "data": {
            "text/plain": [
              "2     12459\n",
              "1     11925\n",
              "3      6514\n",
              "4      3214\n",
              "5      2362\n",
              "6       858\n",
              "7       512\n",
              "8       406\n",
              "9       327\n",
              "10      215\n",
              "11      193\n",
              "12      152\n",
              "13      130\n",
              "14      112\n",
              "15       98\n",
              "16       89\n",
              "17       61\n",
              "18       54\n",
              "19       39\n",
              "20       28\n",
              "30       23\n",
              "22       15\n",
              "21       14\n",
              "24       10\n",
              "23        8\n",
              "56        7\n",
              "31        6\n",
              "29        5\n",
              "25        5\n",
              "27        3\n",
              "57        3\n",
              "37        3\n",
              "28        3\n",
              "26        2\n",
              "45        2\n",
              "33        2\n",
              "38        2\n",
              "32        2\n",
              "41        2\n",
              "35        2\n",
              "44        1\n",
              "40        1\n",
              "49        1\n",
              "59        1\n",
              "50        1\n",
              "60        1\n",
              "55        1\n",
              "39        1\n",
              "Name: keywords, dtype: int64"
            ]
          },
          "metadata": {},
          "execution_count": 60
        }
      ]
    },
    {
      "cell_type": "code",
      "source": [
        "meta.groupby('album_id')['keyword_name'].count().sort_values().value_counts().sort_index()"
      ],
      "metadata": {
        "colab": {
          "base_uri": "https://localhost:8080/"
        },
        "id": "-kHPSZCK3qmB",
        "outputId": "5cd69148-3283-4fee-e9e0-19796ea5dbdf"
      },
      "execution_count": 37,
      "outputs": [
        {
          "output_type": "execute_result",
          "data": {
            "text/plain": [
              "1      21\n",
              "2     229\n",
              "3      47\n",
              "4      26\n",
              "5     135\n",
              "     ... \n",
              "84      1\n",
              "87      1\n",
              "89      2\n",
              "91      1\n",
              "94      2\n",
              "Name: keyword_name, Length: 87, dtype: int64"
            ]
          },
          "metadata": {},
          "execution_count": 37
        }
      ]
    },
    {
      "cell_type": "markdown",
      "source": [
        "키워드 5개까지의 album_id는 제외하고 정리한다."
      ],
      "metadata": {
        "id": "9uaPwgPC4ebR"
      }
    },
    {
      "cell_type": "code",
      "source": [
        "meta_keyword_cnt = pd.DataFrame(meta.groupby('album_id')['keyword_name'].count()).reset_index()\n",
        "meta_under_five_idx = meta_keyword_cnt[meta_keyword_cnt['keyword_name']<=5]['keyword_name'].index"
      ],
      "metadata": {
        "id": "Q_pCsONc4ppr"
      },
      "execution_count": 28,
      "outputs": []
    },
    {
      "cell_type": "code",
      "source": [
        "meta_new"
      ],
      "metadata": {
        "colab": {
          "base_uri": "https://localhost:8080/",
          "height": 424
        },
        "id": "twBcfRe45vRl",
        "outputId": "2a071051-26d6-4243-e250-038d6d42b995"
      },
      "execution_count": 49,
      "outputs": [
        {
          "output_type": "execute_result",
          "data": {
            "text/plain": [
              "        album_id                        title  genre_mid country  run_time  \\\n",
              "0            749                     어둠이 무서워요          1      한국       660   \n",
              "21           750                       우리는 친구          1      한국       660   \n",
              "42          2131                     타요의 첫 운행          1      한국       660   \n",
              "65          2625                      길 잃은 타요          1      한국       660   \n",
              "85          2594                새내기 꼬마 버스의 하루          1      한국       660   \n",
              "...          ...                          ...        ...     ...       ...   \n",
              "760053     39872     로티프렌즈와 색칠놀이! - 캔디코 ＆ 동화책          5      한국       443   \n",
              "760060     39873  로티프렌즈와 색칠놀이! - 그리피 ＆ 사탕 바구니          5      한국       477   \n",
              "760067     39874       로티프렌즈와 색칠놀이! - 베블리 ＆ 꽃          5      한국       466   \n",
              "760074      4779                   손가락을 빨게 돼요         23      한국       293   \n",
              "760089     11629                       손가락 하나          4      한국        91   \n",
              "\n",
              "         cast_1                                           keywords  \n",
              "0            타요  [시리즈, EBS, 3세, 4세, 1세, 2세, TV 방영, 스토리 애니, 엔터, ...  \n",
              "21           타요  [시리즈, EBS, 3세, 4세, 1세, 2세, TV 방영, 스토리 애니, 엔터, ...  \n",
              "42           타요  [시리즈, EBS, 3세, 4세, 1세, 2세, TV 방영, 스토리 애니, 엔터, ...  \n",
              "65           타요  [시리즈, EBS, 3세, 4세, 1세, 2세, TV 방영, 스토리 애니, 엔터, ...  \n",
              "85           타요  [시리즈, EBS, 3세, 4세, 1세, 2세, TV 방영, 스토리 애니, 엔터, ...  \n",
              "...         ...                                                ...  \n",
              "760053      NaN   [시리즈, 2분 이상 10분 미만, 엔터, 미술, 그림그리기/색칠하기, 언어1, 운동]  \n",
              "760060      NaN   [시리즈, 2분 이상 10분 미만, 엔터, 미술, 그림그리기/색칠하기, 언어1, 운동]  \n",
              "760067      NaN   [시리즈, 2분 이상 10분 미만, 엔터, 미술, 그림그리기/색칠하기, 언어1, 운동]  \n",
              "760074      NaN  [단편, 책TV, 2분 이상 10분 미만, 4세, 5세, 6세, 7세, 엔터, 동화...  \n",
              "760089  타요와 친구들  [시리즈, 2분 미만, 엔터, 노래, 율동, 음악, 동요, 노래 따라하기, 신나는,...  \n",
              "\n",
              "[39875 rows x 7 columns]"
            ],
            "text/html": [
              "\n",
              "  <div id=\"df-47f22df7-d14a-48a0-a583-dc8f4535c1c3\">\n",
              "    <div class=\"colab-df-container\">\n",
              "      <div>\n",
              "<style scoped>\n",
              "    .dataframe tbody tr th:only-of-type {\n",
              "        vertical-align: middle;\n",
              "    }\n",
              "\n",
              "    .dataframe tbody tr th {\n",
              "        vertical-align: top;\n",
              "    }\n",
              "\n",
              "    .dataframe thead th {\n",
              "        text-align: right;\n",
              "    }\n",
              "</style>\n",
              "<table border=\"1\" class=\"dataframe\">\n",
              "  <thead>\n",
              "    <tr style=\"text-align: right;\">\n",
              "      <th></th>\n",
              "      <th>album_id</th>\n",
              "      <th>title</th>\n",
              "      <th>genre_mid</th>\n",
              "      <th>country</th>\n",
              "      <th>run_time</th>\n",
              "      <th>cast_1</th>\n",
              "      <th>keywords</th>\n",
              "    </tr>\n",
              "  </thead>\n",
              "  <tbody>\n",
              "    <tr>\n",
              "      <th>0</th>\n",
              "      <td>749</td>\n",
              "      <td>어둠이 무서워요</td>\n",
              "      <td>1</td>\n",
              "      <td>한국</td>\n",
              "      <td>660</td>\n",
              "      <td>타요</td>\n",
              "      <td>[시리즈, EBS, 3세, 4세, 1세, 2세, TV 방영, 스토리 애니, 엔터, ...</td>\n",
              "    </tr>\n",
              "    <tr>\n",
              "      <th>21</th>\n",
              "      <td>750</td>\n",
              "      <td>우리는 친구</td>\n",
              "      <td>1</td>\n",
              "      <td>한국</td>\n",
              "      <td>660</td>\n",
              "      <td>타요</td>\n",
              "      <td>[시리즈, EBS, 3세, 4세, 1세, 2세, TV 방영, 스토리 애니, 엔터, ...</td>\n",
              "    </tr>\n",
              "    <tr>\n",
              "      <th>42</th>\n",
              "      <td>2131</td>\n",
              "      <td>타요의 첫 운행</td>\n",
              "      <td>1</td>\n",
              "      <td>한국</td>\n",
              "      <td>660</td>\n",
              "      <td>타요</td>\n",
              "      <td>[시리즈, EBS, 3세, 4세, 1세, 2세, TV 방영, 스토리 애니, 엔터, ...</td>\n",
              "    </tr>\n",
              "    <tr>\n",
              "      <th>65</th>\n",
              "      <td>2625</td>\n",
              "      <td>길 잃은 타요</td>\n",
              "      <td>1</td>\n",
              "      <td>한국</td>\n",
              "      <td>660</td>\n",
              "      <td>타요</td>\n",
              "      <td>[시리즈, EBS, 3세, 4세, 1세, 2세, TV 방영, 스토리 애니, 엔터, ...</td>\n",
              "    </tr>\n",
              "    <tr>\n",
              "      <th>85</th>\n",
              "      <td>2594</td>\n",
              "      <td>새내기 꼬마 버스의 하루</td>\n",
              "      <td>1</td>\n",
              "      <td>한국</td>\n",
              "      <td>660</td>\n",
              "      <td>타요</td>\n",
              "      <td>[시리즈, EBS, 3세, 4세, 1세, 2세, TV 방영, 스토리 애니, 엔터, ...</td>\n",
              "    </tr>\n",
              "    <tr>\n",
              "      <th>...</th>\n",
              "      <td>...</td>\n",
              "      <td>...</td>\n",
              "      <td>...</td>\n",
              "      <td>...</td>\n",
              "      <td>...</td>\n",
              "      <td>...</td>\n",
              "      <td>...</td>\n",
              "    </tr>\n",
              "    <tr>\n",
              "      <th>760053</th>\n",
              "      <td>39872</td>\n",
              "      <td>로티프렌즈와 색칠놀이! - 캔디코 ＆ 동화책</td>\n",
              "      <td>5</td>\n",
              "      <td>한국</td>\n",
              "      <td>443</td>\n",
              "      <td>NaN</td>\n",
              "      <td>[시리즈, 2분 이상 10분 미만, 엔터, 미술, 그림그리기/색칠하기, 언어1, 운동]</td>\n",
              "    </tr>\n",
              "    <tr>\n",
              "      <th>760060</th>\n",
              "      <td>39873</td>\n",
              "      <td>로티프렌즈와 색칠놀이! - 그리피 ＆ 사탕 바구니</td>\n",
              "      <td>5</td>\n",
              "      <td>한국</td>\n",
              "      <td>477</td>\n",
              "      <td>NaN</td>\n",
              "      <td>[시리즈, 2분 이상 10분 미만, 엔터, 미술, 그림그리기/색칠하기, 언어1, 운동]</td>\n",
              "    </tr>\n",
              "    <tr>\n",
              "      <th>760067</th>\n",
              "      <td>39874</td>\n",
              "      <td>로티프렌즈와 색칠놀이! - 베블리 ＆ 꽃</td>\n",
              "      <td>5</td>\n",
              "      <td>한국</td>\n",
              "      <td>466</td>\n",
              "      <td>NaN</td>\n",
              "      <td>[시리즈, 2분 이상 10분 미만, 엔터, 미술, 그림그리기/색칠하기, 언어1, 운동]</td>\n",
              "    </tr>\n",
              "    <tr>\n",
              "      <th>760074</th>\n",
              "      <td>4779</td>\n",
              "      <td>손가락을 빨게 돼요</td>\n",
              "      <td>23</td>\n",
              "      <td>한국</td>\n",
              "      <td>293</td>\n",
              "      <td>NaN</td>\n",
              "      <td>[단편, 책TV, 2분 이상 10분 미만, 4세, 5세, 6세, 7세, 엔터, 동화...</td>\n",
              "    </tr>\n",
              "    <tr>\n",
              "      <th>760089</th>\n",
              "      <td>11629</td>\n",
              "      <td>손가락 하나</td>\n",
              "      <td>4</td>\n",
              "      <td>한국</td>\n",
              "      <td>91</td>\n",
              "      <td>타요와 친구들</td>\n",
              "      <td>[시리즈, 2분 미만, 엔터, 노래, 율동, 음악, 동요, 노래 따라하기, 신나는,...</td>\n",
              "    </tr>\n",
              "  </tbody>\n",
              "</table>\n",
              "<p>39875 rows × 7 columns</p>\n",
              "</div>\n",
              "      <button class=\"colab-df-convert\" onclick=\"convertToInteractive('df-47f22df7-d14a-48a0-a583-dc8f4535c1c3')\"\n",
              "              title=\"Convert this dataframe to an interactive table.\"\n",
              "              style=\"display:none;\">\n",
              "        \n",
              "  <svg xmlns=\"http://www.w3.org/2000/svg\" height=\"24px\"viewBox=\"0 0 24 24\"\n",
              "       width=\"24px\">\n",
              "    <path d=\"M0 0h24v24H0V0z\" fill=\"none\"/>\n",
              "    <path d=\"M18.56 5.44l.94 2.06.94-2.06 2.06-.94-2.06-.94-.94-2.06-.94 2.06-2.06.94zm-11 1L8.5 8.5l.94-2.06 2.06-.94-2.06-.94L8.5 2.5l-.94 2.06-2.06.94zm10 10l.94 2.06.94-2.06 2.06-.94-2.06-.94-.94-2.06-.94 2.06-2.06.94z\"/><path d=\"M17.41 7.96l-1.37-1.37c-.4-.4-.92-.59-1.43-.59-.52 0-1.04.2-1.43.59L10.3 9.45l-7.72 7.72c-.78.78-.78 2.05 0 2.83L4 21.41c.39.39.9.59 1.41.59.51 0 1.02-.2 1.41-.59l7.78-7.78 2.81-2.81c.8-.78.8-2.07 0-2.86zM5.41 20L4 18.59l7.72-7.72 1.47 1.35L5.41 20z\"/>\n",
              "  </svg>\n",
              "      </button>\n",
              "      \n",
              "  <style>\n",
              "    .colab-df-container {\n",
              "      display:flex;\n",
              "      flex-wrap:wrap;\n",
              "      gap: 12px;\n",
              "    }\n",
              "\n",
              "    .colab-df-convert {\n",
              "      background-color: #E8F0FE;\n",
              "      border: none;\n",
              "      border-radius: 50%;\n",
              "      cursor: pointer;\n",
              "      display: none;\n",
              "      fill: #1967D2;\n",
              "      height: 32px;\n",
              "      padding: 0 0 0 0;\n",
              "      width: 32px;\n",
              "    }\n",
              "\n",
              "    .colab-df-convert:hover {\n",
              "      background-color: #E2EBFA;\n",
              "      box-shadow: 0px 1px 2px rgba(60, 64, 67, 0.3), 0px 1px 3px 1px rgba(60, 64, 67, 0.15);\n",
              "      fill: #174EA6;\n",
              "    }\n",
              "\n",
              "    [theme=dark] .colab-df-convert {\n",
              "      background-color: #3B4455;\n",
              "      fill: #D2E3FC;\n",
              "    }\n",
              "\n",
              "    [theme=dark] .colab-df-convert:hover {\n",
              "      background-color: #434B5C;\n",
              "      box-shadow: 0px 1px 3px 1px rgba(0, 0, 0, 0.15);\n",
              "      filter: drop-shadow(0px 1px 2px rgba(0, 0, 0, 0.3));\n",
              "      fill: #FFFFFF;\n",
              "    }\n",
              "  </style>\n",
              "\n",
              "      <script>\n",
              "        const buttonEl =\n",
              "          document.querySelector('#df-47f22df7-d14a-48a0-a583-dc8f4535c1c3 button.colab-df-convert');\n",
              "        buttonEl.style.display =\n",
              "          google.colab.kernel.accessAllowed ? 'block' : 'none';\n",
              "\n",
              "        async function convertToInteractive(key) {\n",
              "          const element = document.querySelector('#df-47f22df7-d14a-48a0-a583-dc8f4535c1c3');\n",
              "          const dataTable =\n",
              "            await google.colab.kernel.invokeFunction('convertToInteractive',\n",
              "                                                     [key], {});\n",
              "          if (!dataTable) return;\n",
              "\n",
              "          const docLinkHtml = 'Like what you see? Visit the ' +\n",
              "            '<a target=\"_blank\" href=https://colab.research.google.com/notebooks/data_table.ipynb>data table notebook</a>'\n",
              "            + ' to learn more about interactive tables.';\n",
              "          element.innerHTML = '';\n",
              "          dataTable['output_type'] = 'display_data';\n",
              "          await google.colab.output.renderOutput(dataTable, element);\n",
              "          const docLink = document.createElement('div');\n",
              "          docLink.innerHTML = docLinkHtml;\n",
              "          element.appendChild(docLink);\n",
              "        }\n",
              "      </script>\n",
              "    </div>\n",
              "  </div>\n",
              "  "
            ]
          },
          "metadata": {},
          "execution_count": 49
        }
      ]
    },
    {
      "cell_type": "code",
      "source": [
        "' '.join(['시리즈','EBS','3세'])"
      ],
      "metadata": {
        "colab": {
          "base_uri": "https://localhost:8080/",
          "height": 35
        },
        "id": "e7sbjgWf7dJ8",
        "outputId": "9ce33b64-1d60-422e-f5a6-a17437ec3ced"
      },
      "execution_count": 50,
      "outputs": [
        {
          "output_type": "execute_result",
          "data": {
            "text/plain": [
              "'시리즈 EBS 3세'"
            ],
            "application/vnd.google.colaboratory.intrinsic+json": {
              "type": "string"
            }
          },
          "metadata": {},
          "execution_count": 50
        }
      ]
    },
    {
      "cell_type": "code",
      "source": [
        "meta_new['keywords'].map(lambda x: ' '.join(x))"
      ],
      "metadata": {
        "colab": {
          "base_uri": "https://localhost:8080/"
        },
        "id": "C-G4QamH11QV",
        "outputId": "f81c3764-2f0d-48cb-f4f1-8c02162e7ba9"
      },
      "execution_count": 54,
      "outputs": [
        {
          "output_type": "execute_result",
          "data": {
            "text/plain": [
              "0         시리즈 EBS 3세 4세 1세 2세 TV 방영 스토리 애니 엔터 친구 캐릭터 친구들...\n",
              "21        시리즈 EBS 3세 4세 1세 2세 TV 방영 스토리 애니 엔터 친구 도움 산만함 ...\n",
              "42        시리즈 EBS 3세 4세 1세 2세 TV 방영 스토리 애니 엔터 친구 격려 캐릭터 ...\n",
              "65        시리즈 EBS 3세 4세 1세 2세 TV 방영 스토리 애니 엔터 친구 미아방지 캐릭...\n",
              "85        시리즈 EBS 3세 4세 1세 2세 TV 방영 스토리 애니 엔터 친구 교통안전 캐릭...\n",
              "                                ...                        \n",
              "760053             시리즈 2분 이상 10분 미만 엔터 미술 그림그리기/색칠하기 언어1 운동\n",
              "760060             시리즈 2분 이상 10분 미만 엔터 미술 그림그리기/색칠하기 언어1 운동\n",
              "760067             시리즈 2분 이상 10분 미만 엔터 미술 그림그리기/색칠하기 언어1 운동\n",
              "760074    단편 책TV 2분 이상 10분 미만 4세 5세 6세 7세 엔터 동화 창작동화 감정그...\n",
              "760089    시리즈 2분 미만 엔터 노래 율동 음악 동요 노래 따라하기 신나는 따라하고 싶은 인...\n",
              "Name: keywords, Length: 39875, dtype: object"
            ]
          },
          "metadata": {},
          "execution_count": 54
        }
      ]
    },
    {
      "cell_type": "code",
      "source": [
        "from sklearn.feature_extraction.text import TfidfVectorizer, CountVectorizer\n",
        "from sklearn.metrics.pairwise import cosine_similarity\n",
        "\n",
        "## 단어 빈도에 따른 벡터화 - CountVectorizer도 활용 가능합니다.\n",
        "cnt = CountVectorizer(min_df=1, ngram_range = (1,1))\n",
        "df_cnt = cnt.fit_transform(meta_new['keywords'].map(lambda x: ' '.join(x)))\n",
        "a = pd.DataFrame(df_cnt.todense(), columns = cnt.get_feature_names())\n",
        "# pd.DataFrame(cosine_similarity(df_cnt, df_cnt))\n",
        "a\n",
        "# 단어 빈도에 따른 벡터화 - TfidfVectorizer\n",
        "# tfidf = TfidfVectorizer()\n",
        "# df_tfidf = tfidf.fit_transform(df['features'])\n",
        "# df_tfidf = pd.DataFrame(df_tfidf.todense(), columns = tfidf.get_feature_names())\n",
        "\n",
        "# Tfidf 후의 각 샘플(영화) 별 vector\n"
      ],
      "metadata": {
        "colab": {
          "base_uri": "https://localhost:8080/",
          "height": 424
        },
        "id": "QUxCd2C91cBS",
        "outputId": "92a167f9-a87d-4c10-84f2-166cf534177b"
      },
      "execution_count": 29,
      "outputs": [
        {
          "output_type": "execute_result",
          "data": {
            "text/plain": [
              "       10분  18분  1세  1차  2분  2세  2차  3세  4세  5세  ...  환경과  환상  환영하기  활동  황사  \\\n",
              "0        0    0   1   0   0   1   0   1   1   0  ...    0   0     0   0   0   \n",
              "1        0    0   1   0   0   1   0   1   1   0  ...    0   0     0   0   0   \n",
              "2        0    0   1   0   0   1   0   1   1   0  ...    0   0     0   0   0   \n",
              "3        0    0   1   0   0   1   0   1   1   0  ...    0   0     0   0   0   \n",
              "4        0    0   1   0   0   1   0   1   1   0  ...    0   0     0   0   0   \n",
              "...    ...  ...  ..  ..  ..  ..  ..  ..  ..  ..  ...  ...  ..   ...  ..  ..   \n",
              "39870    1    0   0   0   1   0   0   0   0   0  ...    0   0     0   0   0   \n",
              "39871    1    0   0   0   1   0   0   0   0   0  ...    0   0     0   0   0   \n",
              "39872    1    0   0   0   1   0   0   0   0   0  ...    0   0     0   0   0   \n",
              "39873    1    0   0   0   1   0   0   0   1   1  ...    0   0     0   0   0   \n",
              "39874    0    0   0   0   1   0   0   0   0   0  ...    0   0     0   0   0   \n",
              "\n",
              "       회화  효도  휴대폰  흥미진진한  희망  \n",
              "0       0   0    0      0   0  \n",
              "1       0   0    0      0   0  \n",
              "2       0   0    0      0   0  \n",
              "3       0   0    0      0   0  \n",
              "4       0   0    0      0   0  \n",
              "...    ..  ..  ...    ...  ..  \n",
              "39870   0   0    0      0   0  \n",
              "39871   0   0    0      0   0  \n",
              "39872   0   0    0      0   0  \n",
              "39873   0   0    0      0   0  \n",
              "39874   0   0    0      0   0  \n",
              "\n",
              "[39875 rows x 1102 columns]"
            ],
            "text/html": [
              "\n",
              "  <div id=\"df-e5b17eb3-3291-4c7b-959b-f938fbb2f717\">\n",
              "    <div class=\"colab-df-container\">\n",
              "      <div>\n",
              "<style scoped>\n",
              "    .dataframe tbody tr th:only-of-type {\n",
              "        vertical-align: middle;\n",
              "    }\n",
              "\n",
              "    .dataframe tbody tr th {\n",
              "        vertical-align: top;\n",
              "    }\n",
              "\n",
              "    .dataframe thead th {\n",
              "        text-align: right;\n",
              "    }\n",
              "</style>\n",
              "<table border=\"1\" class=\"dataframe\">\n",
              "  <thead>\n",
              "    <tr style=\"text-align: right;\">\n",
              "      <th></th>\n",
              "      <th>10분</th>\n",
              "      <th>18분</th>\n",
              "      <th>1세</th>\n",
              "      <th>1차</th>\n",
              "      <th>2분</th>\n",
              "      <th>2세</th>\n",
              "      <th>2차</th>\n",
              "      <th>3세</th>\n",
              "      <th>4세</th>\n",
              "      <th>5세</th>\n",
              "      <th>...</th>\n",
              "      <th>환경과</th>\n",
              "      <th>환상</th>\n",
              "      <th>환영하기</th>\n",
              "      <th>활동</th>\n",
              "      <th>황사</th>\n",
              "      <th>회화</th>\n",
              "      <th>효도</th>\n",
              "      <th>휴대폰</th>\n",
              "      <th>흥미진진한</th>\n",
              "      <th>희망</th>\n",
              "    </tr>\n",
              "  </thead>\n",
              "  <tbody>\n",
              "    <tr>\n",
              "      <th>0</th>\n",
              "      <td>0</td>\n",
              "      <td>0</td>\n",
              "      <td>1</td>\n",
              "      <td>0</td>\n",
              "      <td>0</td>\n",
              "      <td>1</td>\n",
              "      <td>0</td>\n",
              "      <td>1</td>\n",
              "      <td>1</td>\n",
              "      <td>0</td>\n",
              "      <td>...</td>\n",
              "      <td>0</td>\n",
              "      <td>0</td>\n",
              "      <td>0</td>\n",
              "      <td>0</td>\n",
              "      <td>0</td>\n",
              "      <td>0</td>\n",
              "      <td>0</td>\n",
              "      <td>0</td>\n",
              "      <td>0</td>\n",
              "      <td>0</td>\n",
              "    </tr>\n",
              "    <tr>\n",
              "      <th>1</th>\n",
              "      <td>0</td>\n",
              "      <td>0</td>\n",
              "      <td>1</td>\n",
              "      <td>0</td>\n",
              "      <td>0</td>\n",
              "      <td>1</td>\n",
              "      <td>0</td>\n",
              "      <td>1</td>\n",
              "      <td>1</td>\n",
              "      <td>0</td>\n",
              "      <td>...</td>\n",
              "      <td>0</td>\n",
              "      <td>0</td>\n",
              "      <td>0</td>\n",
              "      <td>0</td>\n",
              "      <td>0</td>\n",
              "      <td>0</td>\n",
              "      <td>0</td>\n",
              "      <td>0</td>\n",
              "      <td>0</td>\n",
              "      <td>0</td>\n",
              "    </tr>\n",
              "    <tr>\n",
              "      <th>2</th>\n",
              "      <td>0</td>\n",
              "      <td>0</td>\n",
              "      <td>1</td>\n",
              "      <td>0</td>\n",
              "      <td>0</td>\n",
              "      <td>1</td>\n",
              "      <td>0</td>\n",
              "      <td>1</td>\n",
              "      <td>1</td>\n",
              "      <td>0</td>\n",
              "      <td>...</td>\n",
              "      <td>0</td>\n",
              "      <td>0</td>\n",
              "      <td>0</td>\n",
              "      <td>0</td>\n",
              "      <td>0</td>\n",
              "      <td>0</td>\n",
              "      <td>0</td>\n",
              "      <td>0</td>\n",
              "      <td>0</td>\n",
              "      <td>0</td>\n",
              "    </tr>\n",
              "    <tr>\n",
              "      <th>3</th>\n",
              "      <td>0</td>\n",
              "      <td>0</td>\n",
              "      <td>1</td>\n",
              "      <td>0</td>\n",
              "      <td>0</td>\n",
              "      <td>1</td>\n",
              "      <td>0</td>\n",
              "      <td>1</td>\n",
              "      <td>1</td>\n",
              "      <td>0</td>\n",
              "      <td>...</td>\n",
              "      <td>0</td>\n",
              "      <td>0</td>\n",
              "      <td>0</td>\n",
              "      <td>0</td>\n",
              "      <td>0</td>\n",
              "      <td>0</td>\n",
              "      <td>0</td>\n",
              "      <td>0</td>\n",
              "      <td>0</td>\n",
              "      <td>0</td>\n",
              "    </tr>\n",
              "    <tr>\n",
              "      <th>4</th>\n",
              "      <td>0</td>\n",
              "      <td>0</td>\n",
              "      <td>1</td>\n",
              "      <td>0</td>\n",
              "      <td>0</td>\n",
              "      <td>1</td>\n",
              "      <td>0</td>\n",
              "      <td>1</td>\n",
              "      <td>1</td>\n",
              "      <td>0</td>\n",
              "      <td>...</td>\n",
              "      <td>0</td>\n",
              "      <td>0</td>\n",
              "      <td>0</td>\n",
              "      <td>0</td>\n",
              "      <td>0</td>\n",
              "      <td>0</td>\n",
              "      <td>0</td>\n",
              "      <td>0</td>\n",
              "      <td>0</td>\n",
              "      <td>0</td>\n",
              "    </tr>\n",
              "    <tr>\n",
              "      <th>...</th>\n",
              "      <td>...</td>\n",
              "      <td>...</td>\n",
              "      <td>...</td>\n",
              "      <td>...</td>\n",
              "      <td>...</td>\n",
              "      <td>...</td>\n",
              "      <td>...</td>\n",
              "      <td>...</td>\n",
              "      <td>...</td>\n",
              "      <td>...</td>\n",
              "      <td>...</td>\n",
              "      <td>...</td>\n",
              "      <td>...</td>\n",
              "      <td>...</td>\n",
              "      <td>...</td>\n",
              "      <td>...</td>\n",
              "      <td>...</td>\n",
              "      <td>...</td>\n",
              "      <td>...</td>\n",
              "      <td>...</td>\n",
              "      <td>...</td>\n",
              "    </tr>\n",
              "    <tr>\n",
              "      <th>39870</th>\n",
              "      <td>1</td>\n",
              "      <td>0</td>\n",
              "      <td>0</td>\n",
              "      <td>0</td>\n",
              "      <td>1</td>\n",
              "      <td>0</td>\n",
              "      <td>0</td>\n",
              "      <td>0</td>\n",
              "      <td>0</td>\n",
              "      <td>0</td>\n",
              "      <td>...</td>\n",
              "      <td>0</td>\n",
              "      <td>0</td>\n",
              "      <td>0</td>\n",
              "      <td>0</td>\n",
              "      <td>0</td>\n",
              "      <td>0</td>\n",
              "      <td>0</td>\n",
              "      <td>0</td>\n",
              "      <td>0</td>\n",
              "      <td>0</td>\n",
              "    </tr>\n",
              "    <tr>\n",
              "      <th>39871</th>\n",
              "      <td>1</td>\n",
              "      <td>0</td>\n",
              "      <td>0</td>\n",
              "      <td>0</td>\n",
              "      <td>1</td>\n",
              "      <td>0</td>\n",
              "      <td>0</td>\n",
              "      <td>0</td>\n",
              "      <td>0</td>\n",
              "      <td>0</td>\n",
              "      <td>...</td>\n",
              "      <td>0</td>\n",
              "      <td>0</td>\n",
              "      <td>0</td>\n",
              "      <td>0</td>\n",
              "      <td>0</td>\n",
              "      <td>0</td>\n",
              "      <td>0</td>\n",
              "      <td>0</td>\n",
              "      <td>0</td>\n",
              "      <td>0</td>\n",
              "    </tr>\n",
              "    <tr>\n",
              "      <th>39872</th>\n",
              "      <td>1</td>\n",
              "      <td>0</td>\n",
              "      <td>0</td>\n",
              "      <td>0</td>\n",
              "      <td>1</td>\n",
              "      <td>0</td>\n",
              "      <td>0</td>\n",
              "      <td>0</td>\n",
              "      <td>0</td>\n",
              "      <td>0</td>\n",
              "      <td>...</td>\n",
              "      <td>0</td>\n",
              "      <td>0</td>\n",
              "      <td>0</td>\n",
              "      <td>0</td>\n",
              "      <td>0</td>\n",
              "      <td>0</td>\n",
              "      <td>0</td>\n",
              "      <td>0</td>\n",
              "      <td>0</td>\n",
              "      <td>0</td>\n",
              "    </tr>\n",
              "    <tr>\n",
              "      <th>39873</th>\n",
              "      <td>1</td>\n",
              "      <td>0</td>\n",
              "      <td>0</td>\n",
              "      <td>0</td>\n",
              "      <td>1</td>\n",
              "      <td>0</td>\n",
              "      <td>0</td>\n",
              "      <td>0</td>\n",
              "      <td>1</td>\n",
              "      <td>1</td>\n",
              "      <td>...</td>\n",
              "      <td>0</td>\n",
              "      <td>0</td>\n",
              "      <td>0</td>\n",
              "      <td>0</td>\n",
              "      <td>0</td>\n",
              "      <td>0</td>\n",
              "      <td>0</td>\n",
              "      <td>0</td>\n",
              "      <td>0</td>\n",
              "      <td>0</td>\n",
              "    </tr>\n",
              "    <tr>\n",
              "      <th>39874</th>\n",
              "      <td>0</td>\n",
              "      <td>0</td>\n",
              "      <td>0</td>\n",
              "      <td>0</td>\n",
              "      <td>1</td>\n",
              "      <td>0</td>\n",
              "      <td>0</td>\n",
              "      <td>0</td>\n",
              "      <td>0</td>\n",
              "      <td>0</td>\n",
              "      <td>...</td>\n",
              "      <td>0</td>\n",
              "      <td>0</td>\n",
              "      <td>0</td>\n",
              "      <td>0</td>\n",
              "      <td>0</td>\n",
              "      <td>0</td>\n",
              "      <td>0</td>\n",
              "      <td>0</td>\n",
              "      <td>0</td>\n",
              "      <td>0</td>\n",
              "    </tr>\n",
              "  </tbody>\n",
              "</table>\n",
              "<p>39875 rows × 1102 columns</p>\n",
              "</div>\n",
              "      <button class=\"colab-df-convert\" onclick=\"convertToInteractive('df-e5b17eb3-3291-4c7b-959b-f938fbb2f717')\"\n",
              "              title=\"Convert this dataframe to an interactive table.\"\n",
              "              style=\"display:none;\">\n",
              "        \n",
              "  <svg xmlns=\"http://www.w3.org/2000/svg\" height=\"24px\"viewBox=\"0 0 24 24\"\n",
              "       width=\"24px\">\n",
              "    <path d=\"M0 0h24v24H0V0z\" fill=\"none\"/>\n",
              "    <path d=\"M18.56 5.44l.94 2.06.94-2.06 2.06-.94-2.06-.94-.94-2.06-.94 2.06-2.06.94zm-11 1L8.5 8.5l.94-2.06 2.06-.94-2.06-.94L8.5 2.5l-.94 2.06-2.06.94zm10 10l.94 2.06.94-2.06 2.06-.94-2.06-.94-.94-2.06-.94 2.06-2.06.94z\"/><path d=\"M17.41 7.96l-1.37-1.37c-.4-.4-.92-.59-1.43-.59-.52 0-1.04.2-1.43.59L10.3 9.45l-7.72 7.72c-.78.78-.78 2.05 0 2.83L4 21.41c.39.39.9.59 1.41.59.51 0 1.02-.2 1.41-.59l7.78-7.78 2.81-2.81c.8-.78.8-2.07 0-2.86zM5.41 20L4 18.59l7.72-7.72 1.47 1.35L5.41 20z\"/>\n",
              "  </svg>\n",
              "      </button>\n",
              "      \n",
              "  <style>\n",
              "    .colab-df-container {\n",
              "      display:flex;\n",
              "      flex-wrap:wrap;\n",
              "      gap: 12px;\n",
              "    }\n",
              "\n",
              "    .colab-df-convert {\n",
              "      background-color: #E8F0FE;\n",
              "      border: none;\n",
              "      border-radius: 50%;\n",
              "      cursor: pointer;\n",
              "      display: none;\n",
              "      fill: #1967D2;\n",
              "      height: 32px;\n",
              "      padding: 0 0 0 0;\n",
              "      width: 32px;\n",
              "    }\n",
              "\n",
              "    .colab-df-convert:hover {\n",
              "      background-color: #E2EBFA;\n",
              "      box-shadow: 0px 1px 2px rgba(60, 64, 67, 0.3), 0px 1px 3px 1px rgba(60, 64, 67, 0.15);\n",
              "      fill: #174EA6;\n",
              "    }\n",
              "\n",
              "    [theme=dark] .colab-df-convert {\n",
              "      background-color: #3B4455;\n",
              "      fill: #D2E3FC;\n",
              "    }\n",
              "\n",
              "    [theme=dark] .colab-df-convert:hover {\n",
              "      background-color: #434B5C;\n",
              "      box-shadow: 0px 1px 3px 1px rgba(0, 0, 0, 0.15);\n",
              "      filter: drop-shadow(0px 1px 2px rgba(0, 0, 0, 0.3));\n",
              "      fill: #FFFFFF;\n",
              "    }\n",
              "  </style>\n",
              "\n",
              "      <script>\n",
              "        const buttonEl =\n",
              "          document.querySelector('#df-e5b17eb3-3291-4c7b-959b-f938fbb2f717 button.colab-df-convert');\n",
              "        buttonEl.style.display =\n",
              "          google.colab.kernel.accessAllowed ? 'block' : 'none';\n",
              "\n",
              "        async function convertToInteractive(key) {\n",
              "          const element = document.querySelector('#df-e5b17eb3-3291-4c7b-959b-f938fbb2f717');\n",
              "          const dataTable =\n",
              "            await google.colab.kernel.invokeFunction('convertToInteractive',\n",
              "                                                     [key], {});\n",
              "          if (!dataTable) return;\n",
              "\n",
              "          const docLinkHtml = 'Like what you see? Visit the ' +\n",
              "            '<a target=\"_blank\" href=https://colab.research.google.com/notebooks/data_table.ipynb>data table notebook</a>'\n",
              "            + ' to learn more about interactive tables.';\n",
              "          element.innerHTML = '';\n",
              "          dataTable['output_type'] = 'display_data';\n",
              "          await google.colab.output.renderOutput(dataTable, element);\n",
              "          const docLink = document.createElement('div');\n",
              "          docLink.innerHTML = docLinkHtml;\n",
              "          element.appendChild(docLink);\n",
              "        }\n",
              "      </script>\n",
              "    </div>\n",
              "  </div>\n",
              "  "
            ]
          },
          "metadata": {},
          "execution_count": 29
        }
      ]
    },
    {
      "cell_type": "code",
      "source": [
        "meta = meta.drop(columns = 'keyword_name').drop_duplicates()\n",
        "meta['keyword'] = 0\n",
        "for i in meta['album_id'].unique():\n",
        "    meta['keyword'] = keywords[i]"
      ],
      "metadata": {
        "colab": {
          "base_uri": "https://localhost:8080/",
          "height": 363
        },
        "id": "nV7syTEcwMnd",
        "outputId": "67f1eca9-774f-402a-869c-d26316977dc1"
      },
      "execution_count": 52,
      "outputs": [
        {
          "output_type": "error",
          "ename": "ValueError",
          "evalue": "ignored",
          "traceback": [
            "\u001b[0;31m---------------------------------------------------------------------------\u001b[0m",
            "\u001b[0;31mValueError\u001b[0m                                Traceback (most recent call last)",
            "\u001b[0;32m<ipython-input-52-d2aed3d2fb0a>\u001b[0m in \u001b[0;36m<module>\u001b[0;34m\u001b[0m\n\u001b[1;32m      2\u001b[0m \u001b[0mmeta\u001b[0m\u001b[0;34m[\u001b[0m\u001b[0;34m'keyword'\u001b[0m\u001b[0;34m]\u001b[0m \u001b[0;34m=\u001b[0m \u001b[0;36m0\u001b[0m\u001b[0;34m\u001b[0m\u001b[0;34m\u001b[0m\u001b[0m\n\u001b[1;32m      3\u001b[0m \u001b[0;32mfor\u001b[0m \u001b[0mi\u001b[0m \u001b[0;32min\u001b[0m \u001b[0mmeta\u001b[0m\u001b[0;34m[\u001b[0m\u001b[0;34m'album_id'\u001b[0m\u001b[0;34m]\u001b[0m\u001b[0;34m.\u001b[0m\u001b[0munique\u001b[0m\u001b[0;34m(\u001b[0m\u001b[0;34m)\u001b[0m\u001b[0;34m:\u001b[0m\u001b[0;34m\u001b[0m\u001b[0;34m\u001b[0m\u001b[0m\n\u001b[0;32m----> 4\u001b[0;31m     \u001b[0mmeta\u001b[0m\u001b[0;34m[\u001b[0m\u001b[0;34m'keyword'\u001b[0m\u001b[0;34m]\u001b[0m \u001b[0;34m=\u001b[0m \u001b[0mkeywords\u001b[0m\u001b[0;34m[\u001b[0m\u001b[0mi\u001b[0m\u001b[0;34m]\u001b[0m\u001b[0;34m\u001b[0m\u001b[0;34m\u001b[0m\u001b[0m\n\u001b[0m",
            "\u001b[0;32m/usr/local/lib/python3.7/dist-packages/pandas/core/frame.py\u001b[0m in \u001b[0;36m__setitem__\u001b[0;34m(self, key, value)\u001b[0m\n\u001b[1;32m   3610\u001b[0m         \u001b[0;32melse\u001b[0m\u001b[0;34m:\u001b[0m\u001b[0;34m\u001b[0m\u001b[0;34m\u001b[0m\u001b[0m\n\u001b[1;32m   3611\u001b[0m             \u001b[0;31m# set column\u001b[0m\u001b[0;34m\u001b[0m\u001b[0;34m\u001b[0m\u001b[0;34m\u001b[0m\u001b[0m\n\u001b[0;32m-> 3612\u001b[0;31m             \u001b[0mself\u001b[0m\u001b[0;34m.\u001b[0m\u001b[0m_set_item\u001b[0m\u001b[0;34m(\u001b[0m\u001b[0mkey\u001b[0m\u001b[0;34m,\u001b[0m \u001b[0mvalue\u001b[0m\u001b[0;34m)\u001b[0m\u001b[0;34m\u001b[0m\u001b[0;34m\u001b[0m\u001b[0m\n\u001b[0m\u001b[1;32m   3613\u001b[0m \u001b[0;34m\u001b[0m\u001b[0m\n\u001b[1;32m   3614\u001b[0m     \u001b[0;32mdef\u001b[0m \u001b[0m_setitem_slice\u001b[0m\u001b[0;34m(\u001b[0m\u001b[0mself\u001b[0m\u001b[0;34m,\u001b[0m \u001b[0mkey\u001b[0m\u001b[0;34m:\u001b[0m \u001b[0mslice\u001b[0m\u001b[0;34m,\u001b[0m \u001b[0mvalue\u001b[0m\u001b[0;34m)\u001b[0m\u001b[0;34m:\u001b[0m\u001b[0;34m\u001b[0m\u001b[0;34m\u001b[0m\u001b[0m\n",
            "\u001b[0;32m/usr/local/lib/python3.7/dist-packages/pandas/core/frame.py\u001b[0m in \u001b[0;36m_set_item\u001b[0;34m(self, key, value)\u001b[0m\n\u001b[1;32m   3782\u001b[0m         \u001b[0mensure\u001b[0m \u001b[0mhomogeneity\u001b[0m\u001b[0;34m.\u001b[0m\u001b[0;34m\u001b[0m\u001b[0;34m\u001b[0m\u001b[0m\n\u001b[1;32m   3783\u001b[0m         \"\"\"\n\u001b[0;32m-> 3784\u001b[0;31m         \u001b[0mvalue\u001b[0m \u001b[0;34m=\u001b[0m \u001b[0mself\u001b[0m\u001b[0;34m.\u001b[0m\u001b[0m_sanitize_column\u001b[0m\u001b[0;34m(\u001b[0m\u001b[0mvalue\u001b[0m\u001b[0;34m)\u001b[0m\u001b[0;34m\u001b[0m\u001b[0;34m\u001b[0m\u001b[0m\n\u001b[0m\u001b[1;32m   3785\u001b[0m \u001b[0;34m\u001b[0m\u001b[0m\n\u001b[1;32m   3786\u001b[0m         if (\n",
            "\u001b[0;32m/usr/local/lib/python3.7/dist-packages/pandas/core/frame.py\u001b[0m in \u001b[0;36m_sanitize_column\u001b[0;34m(self, value)\u001b[0m\n\u001b[1;32m   4507\u001b[0m \u001b[0;34m\u001b[0m\u001b[0m\n\u001b[1;32m   4508\u001b[0m         \u001b[0;32mif\u001b[0m \u001b[0mis_list_like\u001b[0m\u001b[0;34m(\u001b[0m\u001b[0mvalue\u001b[0m\u001b[0;34m)\u001b[0m\u001b[0;34m:\u001b[0m\u001b[0;34m\u001b[0m\u001b[0;34m\u001b[0m\u001b[0m\n\u001b[0;32m-> 4509\u001b[0;31m             \u001b[0mcom\u001b[0m\u001b[0;34m.\u001b[0m\u001b[0mrequire_length_match\u001b[0m\u001b[0;34m(\u001b[0m\u001b[0mvalue\u001b[0m\u001b[0;34m,\u001b[0m \u001b[0mself\u001b[0m\u001b[0;34m.\u001b[0m\u001b[0mindex\u001b[0m\u001b[0;34m)\u001b[0m\u001b[0;34m\u001b[0m\u001b[0;34m\u001b[0m\u001b[0m\n\u001b[0m\u001b[1;32m   4510\u001b[0m         \u001b[0;32mreturn\u001b[0m \u001b[0msanitize_array\u001b[0m\u001b[0;34m(\u001b[0m\u001b[0mvalue\u001b[0m\u001b[0;34m,\u001b[0m \u001b[0mself\u001b[0m\u001b[0;34m.\u001b[0m\u001b[0mindex\u001b[0m\u001b[0;34m,\u001b[0m \u001b[0mcopy\u001b[0m\u001b[0;34m=\u001b[0m\u001b[0;32mTrue\u001b[0m\u001b[0;34m,\u001b[0m \u001b[0mallow_2d\u001b[0m\u001b[0;34m=\u001b[0m\u001b[0;32mTrue\u001b[0m\u001b[0;34m)\u001b[0m\u001b[0;34m\u001b[0m\u001b[0;34m\u001b[0m\u001b[0m\n\u001b[1;32m   4511\u001b[0m \u001b[0;34m\u001b[0m\u001b[0m\n",
            "\u001b[0;32m/usr/local/lib/python3.7/dist-packages/pandas/core/common.py\u001b[0m in \u001b[0;36mrequire_length_match\u001b[0;34m(data, index)\u001b[0m\n\u001b[1;32m    530\u001b[0m     \u001b[0;32mif\u001b[0m \u001b[0mlen\u001b[0m\u001b[0;34m(\u001b[0m\u001b[0mdata\u001b[0m\u001b[0;34m)\u001b[0m \u001b[0;34m!=\u001b[0m \u001b[0mlen\u001b[0m\u001b[0;34m(\u001b[0m\u001b[0mindex\u001b[0m\u001b[0;34m)\u001b[0m\u001b[0;34m:\u001b[0m\u001b[0;34m\u001b[0m\u001b[0;34m\u001b[0m\u001b[0m\n\u001b[1;32m    531\u001b[0m         raise ValueError(\n\u001b[0;32m--> 532\u001b[0;31m             \u001b[0;34m\"Length of values \"\u001b[0m\u001b[0;34m\u001b[0m\u001b[0;34m\u001b[0m\u001b[0m\n\u001b[0m\u001b[1;32m    533\u001b[0m             \u001b[0;34mf\"({len(data)}) \"\u001b[0m\u001b[0;34m\u001b[0m\u001b[0;34m\u001b[0m\u001b[0m\n\u001b[1;32m    534\u001b[0m             \u001b[0;34m\"does not match length of index \"\u001b[0m\u001b[0;34m\u001b[0m\u001b[0;34m\u001b[0m\u001b[0m\n",
            "\u001b[0;31mValueError\u001b[0m: Length of values (21) does not match length of index (39875)"
          ]
        }
      ]
    },
    {
      "cell_type": "code",
      "source": [
        "keywords"
      ],
      "metadata": {
        "id": "9s4Y3zimpab3"
      },
      "execution_count": null,
      "outputs": []
    },
    {
      "cell_type": "code",
      "source": [
        "one_views_dict"
      ],
      "metadata": {
        "id": "q_fCb66vpMHo"
      },
      "execution_count": null,
      "outputs": []
    },
    {
      "cell_type": "code",
      "source": [
        "item_lookup = df"
      ],
      "metadata": {
        "id": "Iu8J3EgUstAh"
      },
      "execution_count": null,
      "outputs": []
    },
    {
      "cell_type": "code",
      "execution_count": 28,
      "metadata": {
        "id": "FQgUJbTOYU1X"
      },
      "outputs": [],
      "source": [
        "def valid_epoch(cfg, model, data, mode='valid'):\n",
        "    pred_list = []\n",
        "    model.eval()\n",
        "    \n",
        "    query_user_ids = data['profile_id'].unique() # 추론할 모든 user array 집합\n",
        "    full_item_ids = np.array([c for c in range(cfg.n_items)]) # 추론할 모든 item array 집합 \n",
        "    # full_item_ids_feat1 = [item_features['genre_mid'][c] for c in full_item_ids]\n",
        "    full_item_ids_feat3 = [item_features['genre_mid'][c] for c in full_item_ids]\n",
        "    full_item_ids_feat4 = [item_features_run['run_time'][c] for c in full_item_ids]\n",
        "    for user_id in query_user_ids:\n",
        "        # 텐서에 연산 기록을 중지하고, 학습된 모델로 inference하는 과정\n",
        "        with torch.no_grad():\n",
        "            if user_id in one_views_user:\n",
        "              \n",
        "\n",
        "            user_ids = np.full(cfg.n_items, user_id)\n",
        "            \n",
        "            user_ids = torch.LongTensor(user_ids).to(cfg.device)\n",
        "            item_ids = torch.LongTensor(full_item_ids).to(cfg.device)\n",
        "            \n",
        "            feat0 = np.full(cfg.n_items, user_features['age'][user_id])\n",
        "            feat0 = torch.FloatTensor(feat0).to(cfg.device)\n",
        "            feat1 = np.full(cfg.n_items, user_features_views['views'][user_id])\n",
        "            feat1 = torch.FloatTensor(feat1).to(cfg.device)\n",
        "            feat2 = np.full(cfg.n_items, user_features_sex['sex'][user_id])\n",
        "            feat2 = torch.LongTensor(feat2).to(cfg.device)\n",
        "            feat3 = torch.LongTensor(full_item_ids_feat3).to(cfg.device)\n",
        "            feat4 = torch.FloatTensor(full_item_ids_feat4).to(cfg.device)\n",
        "            # detach로 validation set에 대한 그래프 history 차단 후 inference\n",
        "            feat5 = np.zeros(cfg.n_items)\n",
        "            if user_id in search_dict.keys():\n",
        "              np.put(feat5, search_dict[user_id], 1)\n",
        "            feat5 = torch.LongTensor(feat5).to(cfg.device)           \n",
        "            feat6 = np.zeros(cfg.n_items)\n",
        "            if user_id in buy_dict.keys():\n",
        "              np.put(feat6, buy_dict[user_id], buy[(buy['profile_id']==user_id)&(buy['album_id']==buy_dict[user_id][0])]['payment'].values[0])\n",
        "            feat6 = torch.FloatTensor(feat6).to(cfg.device)\n",
        "            eval_output = model.forward(user_ids, item_ids, [feat0, feat1, feat2, feat3, feat4, feat5, feat6]).detach().cpu().numpy()\n",
        "            pred_u_score = eval_output.reshape(-1)   \n",
        "        \n",
        "\n",
        "        pred_u_idx = np.argsort(pred_u_score)[::-1]         # 최종 스코어 높은 순서대로 인덱스 뽑기\n",
        "\n",
        "        pred_u = full_item_ids[pred_u_idx]                  # 전체 아이템 중에서 스코어가 높은 인덱스들 뽑아 리스트 가져오기\n",
        "\n",
        "        pred_list.append(list(pred_u[:cfg.top_k]))          # top_k개 만큼을 pred_list에 넣기\n",
        "\n",
        "    pred = pd.DataFrame()\n",
        "    pred['profile_id'] = query_user_ids\n",
        "    pred['predicted_list'] = pred_list\n",
        "    \n",
        "    # 모델 성능 확인 \n",
        "    if mode == 'valid':\n",
        "        rets = evaluation(data, pred)\n",
        "        return rets, pred\n",
        "    return pred"
      ]
    },
    {
      "cell_type": "markdown",
      "metadata": {
        "id": "CDrQisYVpIgM"
      },
      "source": [
        "## 모델 학습"
      ]
    },
    {
      "cell_type": "markdown",
      "metadata": {
        "id": "n-D5bJx7YU1X"
      },
      "source": [
        "### 하이퍼파라미터 설정 & 최적화 기법 설정"
      ]
    },
    {
      "cell_type": "code",
      "execution_count": 36,
      "metadata": {
        "id": "FIoMO8VmpIgM"
      },
      "outputs": [],
      "source": [
        "# 하이퍼 파라미터 설정 \n",
        "cfg.batch_size = 256\n",
        "cfg.emb_dim = 256\n",
        "cfg.layer_dim = 256\n",
        "cfg.dropout = 0.05\n",
        "cfg.epochs = 10\n",
        "cfg.learning_rate = 0.0025\n",
        "cfg.reg_lambda = 0\n",
        "cfg.check_epoch = 1"
      ]
    },
    {
      "cell_type": "code",
      "execution_count": 30,
      "metadata": {
        "id": "qM_eRn4TpIgM"
      },
      "outputs": [],
      "source": [
        "# model 생성 및 optimizer, loss 함수 설정 \n",
        "model2 = NeuMF(cfg).to(cfg.device)\n",
        "optimizer = torch.optim.Adam(model2.parameters(), lr=cfg.learning_rate, weight_decay=cfg.reg_lambda)\n",
        "criterion = torch.nn.BCEWithLogitsLoss(reduction='sum')"
      ]
    },
    {
      "cell_type": "markdown",
      "metadata": {
        "id": "Eze0e7vtYU1Y"
      },
      "source": [
        "### 학습 진행"
      ]
    },
    {
      "cell_type": "code",
      "execution_count": null,
      "metadata": {
        "id": "cvhj3hD7YU1Y",
        "scrolled": true
      },
      "outputs": [],
      "source": [
        "total_logs = defaultdict(list)\n",
        "best_scores  = 0\n",
        "for epoch in range(cfg.epochs+1):\n",
        "    cfg.epoch = epoch\n",
        "    train_results = train_epoch(cfg, model2, optimizer, criterion)\n",
        "    \n",
        "    # cfg.check_epoch 번의 epoch 마다 성능 확인 \n",
        "    if epoch % cfg.check_epoch == 0: \n",
        "        valid_results, _ = valid_epoch(cfg, model2, valid)\n",
        "\n",
        "        logs = {\n",
        "            'Train Loss': train_results['losses'],\n",
        "            f'Valid Recall@{cfg.top_k}': valid_results['recall'],\n",
        "            f'Valid NDCG@{cfg.top_k}': valid_results['ndcg'],\n",
        "            'Valid Coverage': valid_results['coverage'],\n",
        "            'Valid Score': valid_results['score'],\n",
        "            }\n",
        "\n",
        "        # 검증 성능 확인 \n",
        "        for key, value in logs.items():\n",
        "            total_logs[key].append(value)\n",
        "\n",
        "        if epoch == 0:\n",
        "            print(\"Epoch\", end=\",\")\n",
        "            print(\",\".join(logs.keys()))\n",
        "\n",
        "        print(f\"{epoch:02d}  \", end=\"\")\n",
        "        print(\"  \".join([f\"{v:0.6f}\" for v in logs.values()]))\n",
        "        \n",
        "        # 가장 성능이 좋은 가중치 파일을 저장 \n",
        "        if best_scores <= valid_results['score']: \n",
        "            best_scores = valid_results['score']\n",
        "            torch.save(model2.state_dict(), os.path.join('/content/drive/MyDrive/code/saved', 'model2(best_scores).pth'))"
      ]
    },
    {
      "cell_type": "code",
      "source": [
        "total_logs = defaultdict(list)\n",
        "best_scores  = 0\n",
        "for epoch in range(cfg.epochs+1):\n",
        "    cfg.epoch = epoch\n",
        "    train_results = train_epoch(cfg, model2, optimizer, criterion)\n",
        "    \n",
        "    # cfg.check_epoch 번의 epoch 마다 성능 확인 \n",
        "    if epoch % cfg.check_epoch == 0: \n",
        "        valid_results, _ = valid_epoch(cfg, model2, valid)\n",
        "\n",
        "        logs = {\n",
        "            'Train Loss': train_results['losses'],\n",
        "            f'Valid Recall@{cfg.top_k}': valid_results['recall'],\n",
        "            f'Valid NDCG@{cfg.top_k}': valid_results['ndcg'],\n",
        "            'Valid Coverage': valid_results['coverage'],\n",
        "            'Valid Score': valid_results['score'],\n",
        "            }\n",
        "\n",
        "        # 검증 성능 확인 \n",
        "        for key, value in logs.items():\n",
        "            total_logs[key].append(value)\n",
        "\n",
        "        if epoch == 0:\n",
        "            print(\"Epoch\", end=\",\")\n",
        "            print(\",\".join(logs.keys()))\n",
        "\n",
        "        print(f\"{epoch:02d}  \", end=\"\")\n",
        "        print(\"  \".join([f\"{v:0.6f}\" for v in logs.values()]))\n",
        "        \n",
        "        # 가장 성능이 좋은 가중치 파일을 저장 \n",
        "        if best_scores <= valid_results['score']: \n",
        "            best_scores = valid_results['score']\n",
        "            torch.save(model2.state_dict(), os.path.join('/content/drive/MyDrive/code/saved', 'model2(best_scores).pth'))"
      ],
      "metadata": {
        "id": "cEJNEMpkcPof"
      },
      "execution_count": null,
      "outputs": []
    },
    {
      "cell_type": "markdown",
      "metadata": {
        "id": "UNVpn37RYU1Z"
      },
      "source": [
        "### 학습 과정 시각화"
      ]
    },
    {
      "cell_type": "code",
      "execution_count": 37,
      "metadata": {
        "id": "BgMKJhFopIgO"
      },
      "outputs": [],
      "source": [
        "train_scores = pd.DataFrame({'Train loss': total_logs['Train Loss']})\n",
        "train_scores['Epoch'] = range(0, cfg.epochs+1, cfg.check_epoch)"
      ]
    },
    {
      "cell_type": "code",
      "execution_count": 38,
      "metadata": {
        "colab": {
          "base_uri": "https://localhost:8080/",
          "height": 465
        },
        "id": "pc38iyoQpIgO",
        "outputId": "c9c04c96-0c46-4def-8013-e8ff4fabbf11"
      },
      "outputs": [
        {
          "output_type": "display_data",
          "data": {
            "text/plain": [
              "<Figure size 640x480 with 1 Axes>"
            ],
            "image/png": "[encoded data removed]"
          },
          "metadata": {}
        },
        {
          "output_type": "execute_result",
          "data": {
            "text/plain": [
              "<ggplot: (8758663100657)>"
            ]
          },
          "metadata": {},
          "execution_count": 38
        }
      ],
      "source": [
        "(\n",
        "    ggplot(train_scores, aes(x='Epoch', y='Train loss'))+ geom_line(color='black') # line plot\n",
        "        + labs(x='Epoch', y='Train Loss')\n",
        "        + theme_light()\n",
        ")"
      ]
    },
    {
      "cell_type": "code",
      "execution_count": 39,
      "metadata": {
        "id": "Lt8WpRwqpIgO"
      },
      "outputs": [],
      "source": [
        "valid_scores = pd.DataFrame(np.hstack([(range(0, cfg.epochs+1, cfg.check_epoch), total_logs[score], [score for i in range(0, cfg.epochs+1, cfg.check_epoch)]) for score in ['Valid Recall@25', 'Valid NDCG@25', 'Valid Coverage', 'Valid Score']])).T\n",
        "valid_scores.columns = ['Epoch', 'Score', 'Metric']\n",
        "valid_scores['Epoch'] = valid_scores['Epoch'].astype(int)\n",
        "valid_scores['Score'] = valid_scores['Score'].astype(float)"
      ]
    },
    {
      "cell_type": "code",
      "execution_count": 40,
      "metadata": {
        "colab": {
          "base_uri": "https://localhost:8080/",
          "height": 465
        },
        "id": "xTh8QRBwpIgP",
        "outputId": "2a66b798-aa70-460c-d250-8a2f4e0934d6"
      },
      "outputs": [
        {
          "output_type": "display_data",
          "data": {
            "text/plain": [
              "<Figure size 640x480 with 1 Axes>"
            ],
            "image/png": "[encoded data removed]"
          },
          "metadata": {}
        },
        {
          "output_type": "execute_result",
          "data": {
            "text/plain": [
              "<ggplot: (8758671463925)>"
            ]
          },
          "metadata": {},
          "execution_count": 40
        }
      ],
      "source": [
        "(\n",
        "ggplot(valid_scores)  # here\n",
        "    + aes(\"Epoch\", \"Score\", color='Metric', group='Metric')\n",
        "    + geom_line()\n",
        "    + scale_y_continuous(breaks=[0.1*c for c in range(1, 10, 1)])\n",
        "    + theme_light()\n",
        "    + labs(x='Epoch', y='Valid Metric')\n",
        ")  "
      ]
    },
    {
      "cell_type": "markdown",
      "metadata": {
        "id": "NWl3yvtlpIgP"
      },
      "source": [
        "## 제출 \n",
        "### 모든 유저에 대해 추천 결과 생성"
      ]
    },
    {
      "cell_type": "code",
      "execution_count": 41,
      "metadata": {
        "colab": {
          "base_uri": "https://localhost:8080/"
        },
        "id": "-JgaNDg6pIgP",
        "outputId": "be2d1b1a-e979-4bf2-b1d4-c8d28ae1521c",
        "scrolled": true
      },
      "outputs": [
        {
          "output_type": "execute_result",
          "data": {
            "text/plain": [
              "<All keys matched successfully>"
            ]
          },
          "metadata": {},
          "execution_count": 41
        }
      ],
      "source": [
        "model2.load_state_dict(torch.load(os.path.join('/content/drive/MyDrive/code/saved', 'model2(best_scores).pth')))"
      ]
    },
    {
      "cell_type": "code",
      "execution_count": 42,
      "metadata": {
        "id": "cN7aSROUpIgQ"
      },
      "outputs": [],
      "source": [
        "submission_path = os.path.join('/content/drive/MyDrive/data', 'sample_submission.csv')\n",
        "submission = pd.read_csv(submission_path)\n",
        "submission = valid_epoch(cfg, model2, submission, mode='test')"
      ]
    },
    {
      "cell_type": "markdown",
      "metadata": {
        "id": "nEBDKg9opIgQ"
      },
      "source": [
        "### 저장"
      ]
    },
    {
      "cell_type": "code",
      "execution_count": 43,
      "metadata": {
        "id": "6N2Gv9J6pIgQ"
      },
      "outputs": [],
      "source": [
        "submission.to_csv(os.path.join('/content/drive/MyDrive/data', 'submission2_changed.csv'), index = False)"
      ]
    },
    {
      "cell_type": "code",
      "execution_count": null,
      "metadata": {
        "colab": {
          "base_uri": "https://localhost:8080/"
        },
        "id": "IW0zWp9XvEqI",
        "outputId": "49f43289-6604-4174-d035-2c89feb3fe9a"
      },
      "outputs": [
        {
          "data": {
            "text/plain": [
              "(179851, 4)"
            ]
          },
          "execution_count": 191,
          "metadata": {},
          "output_type": "execute_result"
        }
      ],
      "source": [
        "valid.shape"
      ]
    },
    {
      "cell_type": "code",
      "execution_count": null,
      "metadata": {
        "id": "gZgpZEZmvULd"
      },
      "outputs": [],
      "source": []
    },
    {
      "cell_type": "code",
      "execution_count": null,
      "metadata": {
        "colab": {
          "base_uri": "https://localhost:8080/"
        },
        "id": "_flkPMnvvUKJ",
        "outputId": "1e0bcc3d-9d49-4cbe-9045-ba1378d88cfc"
      },
      "outputs": [
        {
          "data": {
            "text/plain": [
              "Index(['log_time', 'album_id', 'sex', 'age', 'title', 'sub_title',\n",
              "       'genre_large', 'genre_mid', 'genre_small', 'country', 'run_time',\n",
              "       'onair_date', 'cast_1', 'cast_2', 'cast_3', 'cast_4', 'cast_5',\n",
              "       'cast_6', 'cast_7', 'views'],\n",
              "      dtype='object')"
            ]
          },
          "execution_count": 193,
          "metadata": {},
          "output_type": "execute_result"
        }
      ],
      "source": [
        "df.columns"
      ]
    },
    {
      "cell_type": "code",
      "execution_count": null,
      "metadata": {
        "id": "CUW1e7D6uWLM"
      },
      "outputs": [],
      "source": [
        "valid_df = pd.merge(valid, df[['profile_id','views']], \"left\", on = 'profile_id')\n",
        "valid_df.shape"
      ]
    },
    {
      "cell_type": "code",
      "execution_count": null,
      "metadata": {
        "id": "1UO3lk2kqZPs"
      },
      "outputs": [],
      "source": [
        "val_pred = valid_epoch(cfg, model, valid)"
      ]
    },
    {
      "cell_type": "code",
      "execution_count": null,
      "metadata": {
        "id": "NEghtperue6d"
      },
      "outputs": [],
      "source": [
        "from sklearn.metrics import classification_report, confusion_matrix\n",
        "\n",
        "classification_report(val_pred)"
      ]
    }
  ],
  "metadata": {
    "colab": {
      "provenance": [],
      "machine_shape": "hm",
      "authorship_tag": "ABX9TyN5gyf5Hqd9IsWSaywo0bKU",
      "include_colab_link": true
    },
    "gpuClass": "standard",
    "kernelspec": {
      "display_name": "Python 3",
      "name": "python3"
    },
    "language_info": {
      "name": "python"
    },
    "widgets": {
      "application/vnd.jupyter.widget-state+json": {
        "2198358484d640a4aa97bebbb6499c18": {
          "model_module": "@jupyter-widgets/controls",
          "model_name": "HBoxModel",
          "model_module_version": "1.5.0",
          "state": {
            "_dom_classes": [],
            "_model_module": "@jupyter-widgets/controls",
            "_model_module_version": "1.5.0",
            "_model_name": "HBoxModel",
            "_view_count": null,
            "_view_module": "@jupyter-widgets/controls",
            "_view_module_version": "1.5.0",
            "_view_name": "HBoxView",
            "box_style": "",
            "children": [
              "IPY_MODEL_c0cc6f2d43594181849e103df24f7e85",
              "IPY_MODEL_2ef19a7a5f744f2a98368ca34cd44456",
              "IPY_MODEL_57cb59a64f5f4d6bb73378c10d384d34"
            ],
            "layout": "IPY_MODEL_44ade86b05014bcd9d814129c032fa8d"
          }
        },
        "c0cc6f2d43594181849e103df24f7e85": {
          "model_module": "@jupyter-widgets/controls",
          "model_name": "HTMLModel",
          "model_module_version": "1.5.0",
          "state": {
            "_dom_classes": [],
            "_model_module": "@jupyter-widgets/controls",
            "_model_module_version": "1.5.0",
            "_model_name": "HTMLModel",
            "_view_count": null,
            "_view_module": "@jupyter-widgets/controls",
            "_view_module_version": "1.5.0",
            "_view_name": "HTMLView",
            "description": "",
            "description_tooltip": null,
            "layout": "IPY_MODEL_3e931eb3413f4aa9871d8fef4e4cc908",
            "placeholder": "​",
            "style": "IPY_MODEL_46dfa730cbfe4b5f80e337f883c23055",
            "value": "100%"
          }
        },
        "2ef19a7a5f744f2a98368ca34cd44456": {
          "model_module": "@jupyter-widgets/controls",
          "model_name": "FloatProgressModel",
          "model_module_version": "1.5.0",
          "state": {
            "_dom_classes": [],
            "_model_module": "@jupyter-widgets/controls",
            "_model_module_version": "1.5.0",
            "_model_name": "FloatProgressModel",
            "_view_count": null,
            "_view_module": "@jupyter-widgets/controls",
            "_view_module_version": "1.5.0",
            "_view_name": "ProgressView",
            "bar_style": "success",
            "description": "",
            "description_tooltip": null,
            "layout": "IPY_MODEL_7881e3735cf4471abbd3e75efd2f4268",
            "max": 719156,
            "min": 0,
            "orientation": "horizontal",
            "style": "IPY_MODEL_37b1b305a3f248e29b3e26baff9b7ef9",
            "value": 719156
          }
        },
        "57cb59a64f5f4d6bb73378c10d384d34": {
          "model_module": "@jupyter-widgets/controls",
          "model_name": "HTMLModel",
          "model_module_version": "1.5.0",
          "state": {
            "_dom_classes": [],
            "_model_module": "@jupyter-widgets/controls",
            "_model_module_version": "1.5.0",
            "_model_name": "HTMLModel",
            "_view_count": null,
            "_view_module": "@jupyter-widgets/controls",
            "_view_module_version": "1.5.0",
            "_view_name": "HTMLView",
            "description": "",
            "description_tooltip": null,
            "layout": "IPY_MODEL_2cc4a7c6add940c894b284eef3efc17c",
            "placeholder": "​",
            "style": "IPY_MODEL_1bd3ac7b625f4532b7428fee49b6a350",
            "value": " 719156/719156 [00:03&lt;00:00, 187916.55it/s]"
          }
        },
        "44ade86b05014bcd9d814129c032fa8d": {
          "model_module": "@jupyter-widgets/base",
          "model_name": "LayoutModel",
          "model_module_version": "1.2.0",
          "state": {
            "_model_module": "@jupyter-widgets/base",
            "_model_module_version": "1.2.0",
            "_model_name": "LayoutModel",
            "_view_count": null,
            "_view_module": "@jupyter-widgets/base",
            "_view_module_version": "1.2.0",
            "_view_name": "LayoutView",
            "align_content": null,
            "align_items": null,
            "align_self": null,
            "border": null,
            "bottom": null,
            "display": null,
            "flex": null,
            "flex_flow": null,
            "grid_area": null,
            "grid_auto_columns": null,
            "grid_auto_flow": null,
            "grid_auto_rows": null,
            "grid_column": null,
            "grid_gap": null,
            "grid_row": null,
            "grid_template_areas": null,
            "grid_template_columns": null,
            "grid_template_rows": null,
            "height": null,
            "justify_content": null,
            "justify_items": null,
            "left": null,
            "margin": null,
            "max_height": null,
            "max_width": null,
            "min_height": null,
            "min_width": null,
            "object_fit": null,
            "object_position": null,
            "order": null,
            "overflow": null,
            "overflow_x": null,
            "overflow_y": null,
            "padding": null,
            "right": null,
            "top": null,
            "visibility": null,
            "width": null
          }
        },
        "3e931eb3413f4aa9871d8fef4e4cc908": {
          "model_module": "@jupyter-widgets/base",
          "model_name": "LayoutModel",
          "model_module_version": "1.2.0",
          "state": {
            "_model_module": "@jupyter-widgets/base",
            "_model_module_version": "1.2.0",
            "_model_name": "LayoutModel",
            "_view_count": null,
            "_view_module": "@jupyter-widgets/base",
            "_view_module_version": "1.2.0",
            "_view_name": "LayoutView",
            "align_content": null,
            "align_items": null,
            "align_self": null,
            "border": null,
            "bottom": null,
            "display": null,
            "flex": null,
            "flex_flow": null,
            "grid_area": null,
            "grid_auto_columns": null,
            "grid_auto_flow": null,
            "grid_auto_rows": null,
            "grid_column": null,
            "grid_gap": null,
            "grid_row": null,
            "grid_template_areas": null,
            "grid_template_columns": null,
            "grid_template_rows": null,
            "height": null,
            "justify_content": null,
            "justify_items": null,
            "left": null,
            "margin": null,
            "max_height": null,
            "max_width": null,
            "min_height": null,
            "min_width": null,
            "object_fit": null,
            "object_position": null,
            "order": null,
            "overflow": null,
            "overflow_x": null,
            "overflow_y": null,
            "padding": null,
            "right": null,
            "top": null,
            "visibility": null,
            "width": null
          }
        },
        "46dfa730cbfe4b5f80e337f883c23055": {
          "model_module": "@jupyter-widgets/controls",
          "model_name": "DescriptionStyleModel",
          "model_module_version": "1.5.0",
          "state": {
            "_model_module": "@jupyter-widgets/controls",
            "_model_module_version": "1.5.0",
            "_model_name": "DescriptionStyleModel",
            "_view_count": null,
            "_view_module": "@jupyter-widgets/base",
            "_view_module_version": "1.2.0",
            "_view_name": "StyleView",
            "description_width": ""
          }
        },
        "7881e3735cf4471abbd3e75efd2f4268": {
          "model_module": "@jupyter-widgets/base",
          "model_name": "LayoutModel",
          "model_module_version": "1.2.0",
          "state": {
            "_model_module": "@jupyter-widgets/base",
            "_model_module_version": "1.2.0",
            "_model_name": "LayoutModel",
            "_view_count": null,
            "_view_module": "@jupyter-widgets/base",
            "_view_module_version": "1.2.0",
            "_view_name": "LayoutView",
            "align_content": null,
            "align_items": null,
            "align_self": null,
            "border": null,
            "bottom": null,
            "display": null,
            "flex": null,
            "flex_flow": null,
            "grid_area": null,
            "grid_auto_columns": null,
            "grid_auto_flow": null,
            "grid_auto_rows": null,
            "grid_column": null,
            "grid_gap": null,
            "grid_row": null,
            "grid_template_areas": null,
            "grid_template_columns": null,
            "grid_template_rows": null,
            "height": null,
            "justify_content": null,
            "justify_items": null,
            "left": null,
            "margin": null,
            "max_height": null,
            "max_width": null,
            "min_height": null,
            "min_width": null,
            "object_fit": null,
            "object_position": null,
            "order": null,
            "overflow": null,
            "overflow_x": null,
            "overflow_y": null,
            "padding": null,
            "right": null,
            "top": null,
            "visibility": null,
            "width": null
          }
        },
        "37b1b305a3f248e29b3e26baff9b7ef9": {
          "model_module": "@jupyter-widgets/controls",
          "model_name": "ProgressStyleModel",
          "model_module_version": "1.5.0",
          "state": {
            "_model_module": "@jupyter-widgets/controls",
            "_model_module_version": "1.5.0",
            "_model_name": "ProgressStyleModel",
            "_view_count": null,
            "_view_module": "@jupyter-widgets/base",
            "_view_module_version": "1.2.0",
            "_view_name": "StyleView",
            "bar_color": null,
            "description_width": ""
          }
        },
        "2cc4a7c6add940c894b284eef3efc17c": {
          "model_module": "@jupyter-widgets/base",
          "model_name": "LayoutModel",
          "model_module_version": "1.2.0",
          "state": {
            "_model_module": "@jupyter-widgets/base",
            "_model_module_version": "1.2.0",
            "_model_name": "LayoutModel",
            "_view_count": null,
            "_view_module": "@jupyter-widgets/base",
            "_view_module_version": "1.2.0",
            "_view_name": "LayoutView",
            "align_content": null,
            "align_items": null,
            "align_self": null,
            "border": null,
            "bottom": null,
            "display": null,
            "flex": null,
            "flex_flow": null,
            "grid_area": null,
            "grid_auto_columns": null,
            "grid_auto_flow": null,
            "grid_auto_rows": null,
            "grid_column": null,
            "grid_gap": null,
            "grid_row": null,
            "grid_template_areas": null,
            "grid_template_columns": null,
            "grid_template_rows": null,
            "height": null,
            "justify_content": null,
            "justify_items": null,
            "left": null,
            "margin": null,
            "max_height": null,
            "max_width": null,
            "min_height": null,
            "min_width": null,
            "object_fit": null,
            "object_position": null,
            "order": null,
            "overflow": null,
            "overflow_x": null,
            "overflow_y": null,
            "padding": null,
            "right": null,
            "top": null,
            "visibility": null,
            "width": null
          }
        },
        "1bd3ac7b625f4532b7428fee49b6a350": {
          "model_module": "@jupyter-widgets/controls",
          "model_name": "DescriptionStyleModel",
          "model_module_version": "1.5.0",
          "state": {
            "_model_module": "@jupyter-widgets/controls",
            "_model_module_version": "1.5.0",
            "_model_name": "DescriptionStyleModel",
            "_view_count": null,
            "_view_module": "@jupyter-widgets/base",
            "_view_module_version": "1.2.0",
            "_view_name": "StyleView",
            "description_width": ""
          }
        },
        "e1840e113b9e442e8f852ae8bd7f9811": {
          "model_module": "@jupyter-widgets/controls",
          "model_name": "HBoxModel",
          "model_module_version": "1.5.0",
          "state": {
            "_dom_classes": [],
            "_model_module": "@jupyter-widgets/controls",
            "_model_module_version": "1.5.0",
            "_model_name": "HBoxModel",
            "_view_count": null,
            "_view_module": "@jupyter-widgets/controls",
            "_view_module_version": "1.5.0",
            "_view_name": "HBoxView",
            "box_style": "",
            "children": [
              "IPY_MODEL_cf92c8e737a14b9888cf52f40d7ac6b2",
              "IPY_MODEL_8c3bd03d98ac4294bc1ab1e02ae30ab9",
              "IPY_MODEL_936f9bb64149429eb5e70c7b514175c1"
            ],
            "layout": "IPY_MODEL_9cd281f73dd74855b73dbdd62d168c55"
          }
        },
        "cf92c8e737a14b9888cf52f40d7ac6b2": {
          "model_module": "@jupyter-widgets/controls",
          "model_name": "HTMLModel",
          "model_module_version": "1.5.0",
          "state": {
            "_dom_classes": [],
            "_model_module": "@jupyter-widgets/controls",
            "_model_module_version": "1.5.0",
            "_model_name": "HTMLModel",
            "_view_count": null,
            "_view_module": "@jupyter-widgets/controls",
            "_view_module_version": "1.5.0",
            "_view_name": "HTMLView",
            "description": "",
            "description_tooltip": null,
            "layout": "IPY_MODEL_793625ca4cd44ed4ab73d87fae6ae589",
            "placeholder": "​",
            "style": "IPY_MODEL_fcfd430581804af89fdbf7a10db20971",
            "value": "100%"
          }
        },
        "8c3bd03d98ac4294bc1ab1e02ae30ab9": {
          "model_module": "@jupyter-widgets/controls",
          "model_name": "FloatProgressModel",
          "model_module_version": "1.5.0",
          "state": {
            "_dom_classes": [],
            "_model_module": "@jupyter-widgets/controls",
            "_model_module_version": "1.5.0",
            "_model_name": "FloatProgressModel",
            "_view_count": null,
            "_view_module": "@jupyter-widgets/controls",
            "_view_module_version": "1.5.0",
            "_view_name": "ProgressView",
            "bar_style": "success",
            "description": "",
            "description_tooltip": null,
            "layout": "IPY_MODEL_3767115adf884acfbdcbfd870cdc2a8a",
            "max": 644,
            "min": 0,
            "orientation": "horizontal",
            "style": "IPY_MODEL_401f250952d64d3885a6fb4748de1f0c",
            "value": 644
          }
        },
        "936f9bb64149429eb5e70c7b514175c1": {
          "model_module": "@jupyter-widgets/controls",
          "model_name": "HTMLModel",
          "model_module_version": "1.5.0",
          "state": {
            "_dom_classes": [],
            "_model_module": "@jupyter-widgets/controls",
            "_model_module_version": "1.5.0",
            "_model_name": "HTMLModel",
            "_view_count": null,
            "_view_module": "@jupyter-widgets/controls",
            "_view_module_version": "1.5.0",
            "_view_name": "HTMLView",
            "description": "",
            "description_tooltip": null,
            "layout": "IPY_MODEL_03c7a3a5f8d84ec69b21b0fa9ac3295b",
            "placeholder": "​",
            "style": "IPY_MODEL_eae956af87e54ce59dfe1739605e79ec",
            "value": " 644/644 [00:00&lt;00:00, 2499.76it/s]"
          }
        },
        "9cd281f73dd74855b73dbdd62d168c55": {
          "model_module": "@jupyter-widgets/base",
          "model_name": "LayoutModel",
          "model_module_version": "1.2.0",
          "state": {
            "_model_module": "@jupyter-widgets/base",
            "_model_module_version": "1.2.0",
            "_model_name": "LayoutModel",
            "_view_count": null,
            "_view_module": "@jupyter-widgets/base",
            "_view_module_version": "1.2.0",
            "_view_name": "LayoutView",
            "align_content": null,
            "align_items": null,
            "align_self": null,
            "border": null,
            "bottom": null,
            "display": null,
            "flex": null,
            "flex_flow": null,
            "grid_area": null,
            "grid_auto_columns": null,
            "grid_auto_flow": null,
            "grid_auto_rows": null,
            "grid_column": null,
            "grid_gap": null,
            "grid_row": null,
            "grid_template_areas": null,
            "grid_template_columns": null,
            "grid_template_rows": null,
            "height": null,
            "justify_content": null,
            "justify_items": null,
            "left": null,
            "margin": null,
            "max_height": null,
            "max_width": null,
            "min_height": null,
            "min_width": null,
            "object_fit": null,
            "object_position": null,
            "order": null,
            "overflow": null,
            "overflow_x": null,
            "overflow_y": null,
            "padding": null,
            "right": null,
            "top": null,
            "visibility": null,
            "width": null
          }
        },
        "793625ca4cd44ed4ab73d87fae6ae589": {
          "model_module": "@jupyter-widgets/base",
          "model_name": "LayoutModel",
          "model_module_version": "1.2.0",
          "state": {
            "_model_module": "@jupyter-widgets/base",
            "_model_module_version": "1.2.0",
            "_model_name": "LayoutModel",
            "_view_count": null,
            "_view_module": "@jupyter-widgets/base",
            "_view_module_version": "1.2.0",
            "_view_name": "LayoutView",
            "align_content": null,
            "align_items": null,
            "align_self": null,
            "border": null,
            "bottom": null,
            "display": null,
            "flex": null,
            "flex_flow": null,
            "grid_area": null,
            "grid_auto_columns": null,
            "grid_auto_flow": null,
            "grid_auto_rows": null,
            "grid_column": null,
            "grid_gap": null,
            "grid_row": null,
            "grid_template_areas": null,
            "grid_template_columns": null,
            "grid_template_rows": null,
            "height": null,
            "justify_content": null,
            "justify_items": null,
            "left": null,
            "margin": null,
            "max_height": null,
            "max_width": null,
            "min_height": null,
            "min_width": null,
            "object_fit": null,
            "object_position": null,
            "order": null,
            "overflow": null,
            "overflow_x": null,
            "overflow_y": null,
            "padding": null,
            "right": null,
            "top": null,
            "visibility": null,
            "width": null
          }
        },
        "fcfd430581804af89fdbf7a10db20971": {
          "model_module": "@jupyter-widgets/controls",
          "model_name": "DescriptionStyleModel",
          "model_module_version": "1.5.0",
          "state": {
            "_model_module": "@jupyter-widgets/controls",
            "_model_module_version": "1.5.0",
            "_model_name": "DescriptionStyleModel",
            "_view_count": null,
            "_view_module": "@jupyter-widgets/base",
            "_view_module_version": "1.2.0",
            "_view_name": "StyleView",
            "description_width": ""
          }
        },
        "3767115adf884acfbdcbfd870cdc2a8a": {
          "model_module": "@jupyter-widgets/base",
          "model_name": "LayoutModel",
          "model_module_version": "1.2.0",
          "state": {
            "_model_module": "@jupyter-widgets/base",
            "_model_module_version": "1.2.0",
            "_model_name": "LayoutModel",
            "_view_count": null,
            "_view_module": "@jupyter-widgets/base",
            "_view_module_version": "1.2.0",
            "_view_name": "LayoutView",
            "align_content": null,
            "align_items": null,
            "align_self": null,
            "border": null,
            "bottom": null,
            "display": null,
            "flex": null,
            "flex_flow": null,
            "grid_area": null,
            "grid_auto_columns": null,
            "grid_auto_flow": null,
            "grid_auto_rows": null,
            "grid_column": null,
            "grid_gap": null,
            "grid_row": null,
            "grid_template_areas": null,
            "grid_template_columns": null,
            "grid_template_rows": null,
            "height": null,
            "justify_content": null,
            "justify_items": null,
            "left": null,
            "margin": null,
            "max_height": null,
            "max_width": null,
            "min_height": null,
            "min_width": null,
            "object_fit": null,
            "object_position": null,
            "order": null,
            "overflow": null,
            "overflow_x": null,
            "overflow_y": null,
            "padding": null,
            "right": null,
            "top": null,
            "visibility": null,
            "width": null
          }
        },
        "401f250952d64d3885a6fb4748de1f0c": {
          "model_module": "@jupyter-widgets/controls",
          "model_name": "ProgressStyleModel",
          "model_module_version": "1.5.0",
          "state": {
            "_model_module": "@jupyter-widgets/controls",
            "_model_module_version": "1.5.0",
            "_model_name": "ProgressStyleModel",
            "_view_count": null,
            "_view_module": "@jupyter-widgets/base",
            "_view_module_version": "1.2.0",
            "_view_name": "StyleView",
            "bar_color": null,
            "description_width": ""
          }
        },
        "03c7a3a5f8d84ec69b21b0fa9ac3295b": {
          "model_module": "@jupyter-widgets/base",
          "model_name": "LayoutModel",
          "model_module_version": "1.2.0",
          "state": {
            "_model_module": "@jupyter-widgets/base",
            "_model_module_version": "1.2.0",
            "_model_name": "LayoutModel",
            "_view_count": null,
            "_view_module": "@jupyter-widgets/base",
            "_view_module_version": "1.2.0",
            "_view_name": "LayoutView",
            "align_content": null,
            "align_items": null,
            "align_self": null,
            "border": null,
            "bottom": null,
            "display": null,
            "flex": null,
            "flex_flow": null,
            "grid_area": null,
            "grid_auto_columns": null,
            "grid_auto_flow": null,
            "grid_auto_rows": null,
            "grid_column": null,
            "grid_gap": null,
            "grid_row": null,
            "grid_template_areas": null,
            "grid_template_columns": null,
            "grid_template_rows": null,
            "height": null,
            "justify_content": null,
            "justify_items": null,
            "left": null,
            "margin": null,
            "max_height": null,
            "max_width": null,
            "min_height": null,
            "min_width": null,
            "object_fit": null,
            "object_position": null,
            "order": null,
            "overflow": null,
            "overflow_x": null,
            "overflow_y": null,
            "padding": null,
            "right": null,
            "top": null,
            "visibility": null,
            "width": null
          }
        },
        "eae956af87e54ce59dfe1739605e79ec": {
          "model_module": "@jupyter-widgets/controls",
          "model_name": "DescriptionStyleModel",
          "model_module_version": "1.5.0",
          "state": {
            "_model_module": "@jupyter-widgets/controls",
            "_model_module_version": "1.5.0",
            "_model_name": "DescriptionStyleModel",
            "_view_count": null,
            "_view_module": "@jupyter-widgets/base",
            "_view_module_version": "1.2.0",
            "_view_name": "StyleView",
            "description_width": ""
          }
        },
        "0380cdaadb094c7c8659f841afe2e4a1": {
          "model_module": "@jupyter-widgets/controls",
          "model_name": "HBoxModel",
          "model_module_version": "1.5.0",
          "state": {
            "_dom_classes": [],
            "_model_module": "@jupyter-widgets/controls",
            "_model_module_version": "1.5.0",
            "_model_name": "HBoxModel",
            "_view_count": null,
            "_view_module": "@jupyter-widgets/controls",
            "_view_module_version": "1.5.0",
            "_view_name": "HBoxView",
            "box_style": "",
            "children": [
              "IPY_MODEL_77642866d8824a58b1629623c0b05e14",
              "IPY_MODEL_4a1d4c63cda946b49aae105c7aa06e1c",
              "IPY_MODEL_884bdb9a5d224bd48fe6390c6ba42ca1"
            ],
            "layout": "IPY_MODEL_434e23e456ff446ead48a3ae4e30e1fc"
          }
        },
        "77642866d8824a58b1629623c0b05e14": {
          "model_module": "@jupyter-widgets/controls",
          "model_name": "HTMLModel",
          "model_module_version": "1.5.0",
          "state": {
            "_dom_classes": [],
            "_model_module": "@jupyter-widgets/controls",
            "_model_module_version": "1.5.0",
            "_model_name": "HTMLModel",
            "_view_count": null,
            "_view_module": "@jupyter-widgets/controls",
            "_view_module_version": "1.5.0",
            "_view_name": "HTMLView",
            "description": "",
            "description_tooltip": null,
            "layout": "IPY_MODEL_c9f21084ffc84b04a5cd8a6e8a6de8e0",
            "placeholder": "​",
            "style": "IPY_MODEL_5b2886f3f2e744b1838658e411aa8c54",
            "value": "100%"
          }
        },
        "4a1d4c63cda946b49aae105c7aa06e1c": {
          "model_module": "@jupyter-widgets/controls",
          "model_name": "FloatProgressModel",
          "model_module_version": "1.5.0",
          "state": {
            "_dom_classes": [],
            "_model_module": "@jupyter-widgets/controls",
            "_model_module_version": "1.5.0",
            "_model_name": "FloatProgressModel",
            "_view_count": null,
            "_view_module": "@jupyter-widgets/controls",
            "_view_module_version": "1.5.0",
            "_view_name": "ProgressView",
            "bar_style": "success",
            "description": "",
            "description_tooltip": null,
            "layout": "IPY_MODEL_0153eca55db2492abb47e6d1987e7b9e",
            "max": 17,
            "min": 0,
            "orientation": "horizontal",
            "style": "IPY_MODEL_7d27e0ea92e147d5b4e20fbbded8f620",
            "value": 17
          }
        },
        "884bdb9a5d224bd48fe6390c6ba42ca1": {
          "model_module": "@jupyter-widgets/controls",
          "model_name": "HTMLModel",
          "model_module_version": "1.5.0",
          "state": {
            "_dom_classes": [],
            "_model_module": "@jupyter-widgets/controls",
            "_model_module_version": "1.5.0",
            "_model_name": "HTMLModel",
            "_view_count": null,
            "_view_module": "@jupyter-widgets/controls",
            "_view_module_version": "1.5.0",
            "_view_name": "HTMLView",
            "description": "",
            "description_tooltip": null,
            "layout": "IPY_MODEL_8c3b29e48dd845078b5c071965a07036",
            "placeholder": "​",
            "style": "IPY_MODEL_62df0171bca1488fb3d13e910a777f10",
            "value": " 17/17 [00:00&lt;00:00, 505.47it/s]"
          }
        },
        "434e23e456ff446ead48a3ae4e30e1fc": {
          "model_module": "@jupyter-widgets/base",
          "model_name": "LayoutModel",
          "model_module_version": "1.2.0",
          "state": {
            "_model_module": "@jupyter-widgets/base",
            "_model_module_version": "1.2.0",
            "_model_name": "LayoutModel",
            "_view_count": null,
            "_view_module": "@jupyter-widgets/base",
            "_view_module_version": "1.2.0",
            "_view_name": "LayoutView",
            "align_content": null,
            "align_items": null,
            "align_self": null,
            "border": null,
            "bottom": null,
            "display": null,
            "flex": null,
            "flex_flow": null,
            "grid_area": null,
            "grid_auto_columns": null,
            "grid_auto_flow": null,
            "grid_auto_rows": null,
            "grid_column": null,
            "grid_gap": null,
            "grid_row": null,
            "grid_template_areas": null,
            "grid_template_columns": null,
            "grid_template_rows": null,
            "height": null,
            "justify_content": null,
            "justify_items": null,
            "left": null,
            "margin": null,
            "max_height": null,
            "max_width": null,
            "min_height": null,
            "min_width": null,
            "object_fit": null,
            "object_position": null,
            "order": null,
            "overflow": null,
            "overflow_x": null,
            "overflow_y": null,
            "padding": null,
            "right": null,
            "top": null,
            "visibility": null,
            "width": null
          }
        },
        "c9f21084ffc84b04a5cd8a6e8a6de8e0": {
          "model_module": "@jupyter-widgets/base",
          "model_name": "LayoutModel",
          "model_module_version": "1.2.0",
          "state": {
            "_model_module": "@jupyter-widgets/base",
            "_model_module_version": "1.2.0",
            "_model_name": "LayoutModel",
            "_view_count": null,
            "_view_module": "@jupyter-widgets/base",
            "_view_module_version": "1.2.0",
            "_view_name": "LayoutView",
            "align_content": null,
            "align_items": null,
            "align_self": null,
            "border": null,
            "bottom": null,
            "display": null,
            "flex": null,
            "flex_flow": null,
            "grid_area": null,
            "grid_auto_columns": null,
            "grid_auto_flow": null,
            "grid_auto_rows": null,
            "grid_column": null,
            "grid_gap": null,
            "grid_row": null,
            "grid_template_areas": null,
            "grid_template_columns": null,
            "grid_template_rows": null,
            "height": null,
            "justify_content": null,
            "justify_items": null,
            "left": null,
            "margin": null,
            "max_height": null,
            "max_width": null,
            "min_height": null,
            "min_width": null,
            "object_fit": null,
            "object_position": null,
            "order": null,
            "overflow": null,
            "overflow_x": null,
            "overflow_y": null,
            "padding": null,
            "right": null,
            "top": null,
            "visibility": null,
            "width": null
          }
        },
        "5b2886f3f2e744b1838658e411aa8c54": {
          "model_module": "@jupyter-widgets/controls",
          "model_name": "DescriptionStyleModel",
          "model_module_version": "1.5.0",
          "state": {
            "_model_module": "@jupyter-widgets/controls",
            "_model_module_version": "1.5.0",
            "_model_name": "DescriptionStyleModel",
            "_view_count": null,
            "_view_module": "@jupyter-widgets/base",
            "_view_module_version": "1.2.0",
            "_view_name": "StyleView",
            "description_width": ""
          }
        },
        "0153eca55db2492abb47e6d1987e7b9e": {
          "model_module": "@jupyter-widgets/base",
          "model_name": "LayoutModel",
          "model_module_version": "1.2.0",
          "state": {
            "_model_module": "@jupyter-widgets/base",
            "_model_module_version": "1.2.0",
            "_model_name": "LayoutModel",
            "_view_count": null,
            "_view_module": "@jupyter-widgets/base",
            "_view_module_version": "1.2.0",
            "_view_name": "LayoutView",
            "align_content": null,
            "align_items": null,
            "align_self": null,
            "border": null,
            "bottom": null,
            "display": null,
            "flex": null,
            "flex_flow": null,
            "grid_area": null,
            "grid_auto_columns": null,
            "grid_auto_flow": null,
            "grid_auto_rows": null,
            "grid_column": null,
            "grid_gap": null,
            "grid_row": null,
            "grid_template_areas": null,
            "grid_template_columns": null,
            "grid_template_rows": null,
            "height": null,
            "justify_content": null,
            "justify_items": null,
            "left": null,
            "margin": null,
            "max_height": null,
            "max_width": null,
            "min_height": null,
            "min_width": null,
            "object_fit": null,
            "object_position": null,
            "order": null,
            "overflow": null,
            "overflow_x": null,
            "overflow_y": null,
            "padding": null,
            "right": null,
            "top": null,
            "visibility": null,
            "width": null
          }
        },
        "7d27e0ea92e147d5b4e20fbbded8f620": {
          "model_module": "@jupyter-widgets/controls",
          "model_name": "ProgressStyleModel",
          "model_module_version": "1.5.0",
          "state": {
            "_model_module": "@jupyter-widgets/controls",
            "_model_module_version": "1.5.0",
            "_model_name": "ProgressStyleModel",
            "_view_count": null,
            "_view_module": "@jupyter-widgets/base",
            "_view_module_version": "1.2.0",
            "_view_name": "StyleView",
            "bar_color": null,
            "description_width": ""
          }
        },
        "8c3b29e48dd845078b5c071965a07036": {
          "model_module": "@jupyter-widgets/base",
          "model_name": "LayoutModel",
          "model_module_version": "1.2.0",
          "state": {
            "_model_module": "@jupyter-widgets/base",
            "_model_module_version": "1.2.0",
            "_model_name": "LayoutModel",
            "_view_count": null,
            "_view_module": "@jupyter-widgets/base",
            "_view_module_version": "1.2.0",
            "_view_name": "LayoutView",
            "align_content": null,
            "align_items": null,
            "align_self": null,
            "border": null,
            "bottom": null,
            "display": null,
            "flex": null,
            "flex_flow": null,
            "grid_area": null,
            "grid_auto_columns": null,
            "grid_auto_flow": null,
            "grid_auto_rows": null,
            "grid_column": null,
            "grid_gap": null,
            "grid_row": null,
            "grid_template_areas": null,
            "grid_template_columns": null,
            "grid_template_rows": null,
            "height": null,
            "justify_content": null,
            "justify_items": null,
            "left": null,
            "margin": null,
            "max_height": null,
            "max_width": null,
            "min_height": null,
            "min_width": null,
            "object_fit": null,
            "object_position": null,
            "order": null,
            "overflow": null,
            "overflow_x": null,
            "overflow_y": null,
            "padding": null,
            "right": null,
            "top": null,
            "visibility": null,
            "width": null
          }
        },
        "62df0171bca1488fb3d13e910a777f10": {
          "model_module": "@jupyter-widgets/controls",
          "model_name": "DescriptionStyleModel",
          "model_module_version": "1.5.0",
          "state": {
            "_model_module": "@jupyter-widgets/controls",
            "_model_module_version": "1.5.0",
            "_model_name": "DescriptionStyleModel",
            "_view_count": null,
            "_view_module": "@jupyter-widgets/base",
            "_view_module_version": "1.2.0",
            "_view_name": "StyleView",
            "description_width": ""
          }
        }
      }
    },
    "accelerator": "GPU"
  },
  "nbformat": 4,
  "nbformat_minor": 0
}