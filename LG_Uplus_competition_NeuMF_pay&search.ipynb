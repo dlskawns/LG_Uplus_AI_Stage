{
  "cells": [
    {
      "cell_type": "markdown",
      "metadata": {
        "id": "view-in-github",
        "colab_type": "text"
      },
      "source": [
        "<a href=\"https://colab.research.google.com/github/dlskawns/LG_Uplus_AI_Stage/blob/main/LG_Uplus_competition_NeuMF_pay%26search.ipynb\" target=\"_parent\"><img src=\"https://colab.research.google.com/assets/colab-badge.svg\" alt=\"Open In Colab\"/></a>"
      ]
    },
    {
      "cell_type": "code",
      "execution_count": null,
      "metadata": {
        "colab": {
          "base_uri": "https://localhost:8080/"
        },
        "id": "5Cnh08QRbbjS",
        "outputId": "a823ec21-5867-42cf-9e18-09521181bbb6"
      },
      "outputs": [
        {
          "output_type": "stream",
          "name": "stdout",
          "text": [
            "Mounted at /content/drive\n"
          ]
        }
      ],
      "source": [
        "from google.colab import drive\n",
        "\n",
        "drive.mount('/content/drive')"
      ]
    },
    {
      "cell_type": "code",
      "execution_count": null,
      "metadata": {
        "id": "YksFDKhck8Ad"
      },
      "outputs": [],
      "source": [
        "!pip install -r \"/content/drive/MyDrive/code/requirements.txt\""
      ]
    },
    {
      "cell_type": "code",
      "execution_count": null,
      "metadata": {
        "id": "iHstgRfiYU1G"
      },
      "outputs": [],
      "source": [
        "# 패키지 로드\n",
        "import warnings\n",
        "warnings.filterwarnings('ignore')\n",
        "\n",
        "import numpy as np\n",
        "import pandas as pd\n",
        "from tqdm.notebook import tqdm\n",
        "from sklearn.model_selection import train_test_split\n",
        "from collections import defaultdict\n",
        "import os, random\n",
        "\n",
        "from scipy import sparse\n",
        "from sklearn.preprocessing import LabelEncoder\n",
        "import matplotlib.pyplot as plt\n",
        "%matplotlib inline\n",
        "\n",
        "import torch\n",
        "import torch.nn as nn\n",
        "from torch.nn.init import normal_\n",
        "from torch.utils.data import TensorDataset, DataLoader\n",
        "import torch.nn.functional as F\n",
        "\n",
        "import plotnine\n",
        "from plotnine import *"
      ]
    },
    {
      "cell_type": "code",
      "execution_count": null,
      "metadata": {
        "id": "baB7-MKBpIf_"
      },
      "outputs": [],
      "source": [
        "# 경로 설정\n",
        "data_path = '../data'\n",
        "saved_path = './saved'\n",
        "output_path = './submission'"
      ]
    },
    {
      "cell_type": "markdown",
      "metadata": {
        "id": "huw6BwpTYU1J"
      },
      "source": [
        "### 데이터 불러오기\n",
        "- history_data : 시청 시작 데이터\n",
        "- profile_data : 프로필 정보 \n",
        "- meta_data : 콘텐츠 일반 메타 정보"
      ]
    },
    {
      "cell_type": "markdown",
      "metadata": {
        "id": "cRnh1wEiYU1M"
      },
      "source": [
        "# 오리지날 학습 및 검증 데이터 생성 \n",
        "- train : 시청 이력의 80%를 사용 \n",
        "- valid : 시청 이력의 20%를 사용 "
      ]
    },
    {
      "cell_type": "code",
      "execution_count": null,
      "metadata": {
        "id": "b50RWotWxW6U"
      },
      "outputs": [],
      "source": [
        "history_df = pd.read_csv(os.path.join(data_path, '/content/drive/MyDrive/data/history_data.csv'), encoding='utf-8')\n",
        "profile_df = pd.read_csv(os.path.join(data_path, '/content/drive/MyDrive/data/profile_data.csv'), encoding='utf-8')\n",
        "meta_df = pd.read_csv(os.path.join(data_path, '/content/drive/MyDrive/data/meta_data.csv'), encoding='utf-8')\n",
        "buy_df = pd.read_csv(os.path.join(data_path, '/content/drive/MyDrive/data/buy_data.csv'), encoding='utf-8')\n",
        "watch_df = pd.read_csv(os.path.join(data_path, '/content/drive/MyDrive/data/watch_e_data.csv'), encoding='utf-8')\n",
        "search_df = pd.read_csv(os.path.join(data_path, '/content/drive/MyDrive/data/search_data.csv'), encoding='utf-8')\n",
        "metap_df = pd.read_csv(os.path.join(data_path, '/content/drive/MyDrive/data/meta_data_plus.csv'), encoding='utf-8')"
      ]
    },
    {
      "cell_type": "code",
      "source": [
        "buy_df.head(2)\n"
      ],
      "metadata": {
        "colab": {
          "base_uri": "https://localhost:8080/",
          "height": 112
        },
        "id": "NdvlERrhRRjI",
        "outputId": "1b667dc7-2e56-4563-bc0a-124d2ad132d0"
      },
      "execution_count": null,
      "outputs": [
        {
          "output_type": "execute_result",
          "data": {
            "text/plain": [
              "   profile_id           ss_id        log_time act_target_dtl  album_id  \\\n",
              "0         255  20220426153942  20220426154128        MKID004      3767   \n",
              "1        1603  20220309163919  20220309164043        MKID004      1640   \n",
              "\n",
              "   payment  \n",
              "0      500  \n",
              "1      300  "
            ],
            "text/html": [
              "\n",
              "  <div id=\"df-02ac9d79-fd5c-4a63-a155-80fa39560285\">\n",
              "    <div class=\"colab-df-container\">\n",
              "      <div>\n",
              "<style scoped>\n",
              "    .dataframe tbody tr th:only-of-type {\n",
              "        vertical-align: middle;\n",
              "    }\n",
              "\n",
              "    .dataframe tbody tr th {\n",
              "        vertical-align: top;\n",
              "    }\n",
              "\n",
              "    .dataframe thead th {\n",
              "        text-align: right;\n",
              "    }\n",
              "</style>\n",
              "<table border=\"1\" class=\"dataframe\">\n",
              "  <thead>\n",
              "    <tr style=\"text-align: right;\">\n",
              "      <th></th>\n",
              "      <th>profile_id</th>\n",
              "      <th>ss_id</th>\n",
              "      <th>log_time</th>\n",
              "      <th>act_target_dtl</th>\n",
              "      <th>album_id</th>\n",
              "      <th>payment</th>\n",
              "    </tr>\n",
              "  </thead>\n",
              "  <tbody>\n",
              "    <tr>\n",
              "      <th>0</th>\n",
              "      <td>255</td>\n",
              "      <td>20220426153942</td>\n",
              "      <td>20220426154128</td>\n",
              "      <td>MKID004</td>\n",
              "      <td>3767</td>\n",
              "      <td>500</td>\n",
              "    </tr>\n",
              "    <tr>\n",
              "      <th>1</th>\n",
              "      <td>1603</td>\n",
              "      <td>20220309163919</td>\n",
              "      <td>20220309164043</td>\n",
              "      <td>MKID004</td>\n",
              "      <td>1640</td>\n",
              "      <td>300</td>\n",
              "    </tr>\n",
              "  </tbody>\n",
              "</table>\n",
              "</div>\n",
              "      <button class=\"colab-df-convert\" onclick=\"convertToInteractive('df-02ac9d79-fd5c-4a63-a155-80fa39560285')\"\n",
              "              title=\"Convert this dataframe to an interactive table.\"\n",
              "              style=\"display:none;\">\n",
              "        \n",
              "  <svg xmlns=\"http://www.w3.org/2000/svg\" height=\"24px\"viewBox=\"0 0 24 24\"\n",
              "       width=\"24px\">\n",
              "    <path d=\"M0 0h24v24H0V0z\" fill=\"none\"/>\n",
              "    <path d=\"M18.56 5.44l.94 2.06.94-2.06 2.06-.94-2.06-.94-.94-2.06-.94 2.06-2.06.94zm-11 1L8.5 8.5l.94-2.06 2.06-.94-2.06-.94L8.5 2.5l-.94 2.06-2.06.94zm10 10l.94 2.06.94-2.06 2.06-.94-2.06-.94-.94-2.06-.94 2.06-2.06.94z\"/><path d=\"M17.41 7.96l-1.37-1.37c-.4-.4-.92-.59-1.43-.59-.52 0-1.04.2-1.43.59L10.3 9.45l-7.72 7.72c-.78.78-.78 2.05 0 2.83L4 21.41c.39.39.9.59 1.41.59.51 0 1.02-.2 1.41-.59l7.78-7.78 2.81-2.81c.8-.78.8-2.07 0-2.86zM5.41 20L4 18.59l7.72-7.72 1.47 1.35L5.41 20z\"/>\n",
              "  </svg>\n",
              "      </button>\n",
              "      \n",
              "  <style>\n",
              "    .colab-df-container {\n",
              "      display:flex;\n",
              "      flex-wrap:wrap;\n",
              "      gap: 12px;\n",
              "    }\n",
              "\n",
              "    .colab-df-convert {\n",
              "      background-color: #E8F0FE;\n",
              "      border: none;\n",
              "      border-radius: 50%;\n",
              "      cursor: pointer;\n",
              "      display: none;\n",
              "      fill: #1967D2;\n",
              "      height: 32px;\n",
              "      padding: 0 0 0 0;\n",
              "      width: 32px;\n",
              "    }\n",
              "\n",
              "    .colab-df-convert:hover {\n",
              "      background-color: #E2EBFA;\n",
              "      box-shadow: 0px 1px 2px rgba(60, 64, 67, 0.3), 0px 1px 3px 1px rgba(60, 64, 67, 0.15);\n",
              "      fill: #174EA6;\n",
              "    }\n",
              "\n",
              "    [theme=dark] .colab-df-convert {\n",
              "      background-color: #3B4455;\n",
              "      fill: #D2E3FC;\n",
              "    }\n",
              "\n",
              "    [theme=dark] .colab-df-convert:hover {\n",
              "      background-color: #434B5C;\n",
              "      box-shadow: 0px 1px 3px 1px rgba(0, 0, 0, 0.15);\n",
              "      filter: drop-shadow(0px 1px 2px rgba(0, 0, 0, 0.3));\n",
              "      fill: #FFFFFF;\n",
              "    }\n",
              "  </style>\n",
              "\n",
              "      <script>\n",
              "        const buttonEl =\n",
              "          document.querySelector('#df-02ac9d79-fd5c-4a63-a155-80fa39560285 button.colab-df-convert');\n",
              "        buttonEl.style.display =\n",
              "          google.colab.kernel.accessAllowed ? 'block' : 'none';\n",
              "\n",
              "        async function convertToInteractive(key) {\n",
              "          const element = document.querySelector('#df-02ac9d79-fd5c-4a63-a155-80fa39560285');\n",
              "          const dataTable =\n",
              "            await google.colab.kernel.invokeFunction('convertToInteractive',\n",
              "                                                     [key], {});\n",
              "          if (!dataTable) return;\n",
              "\n",
              "          const docLinkHtml = 'Like what you see? Visit the ' +\n",
              "            '<a target=\"_blank\" href=https://colab.research.google.com/notebooks/data_table.ipynb>data table notebook</a>'\n",
              "            + ' to learn more about interactive tables.';\n",
              "          element.innerHTML = '';\n",
              "          dataTable['output_type'] = 'display_data';\n",
              "          await google.colab.output.renderOutput(dataTable, element);\n",
              "          const docLink = document.createElement('div');\n",
              "          docLink.innerHTML = docLinkHtml;\n",
              "          element.appendChild(docLink);\n",
              "        }\n",
              "      </script>\n",
              "    </div>\n",
              "  </div>\n",
              "  "
            ]
          },
          "metadata": {},
          "execution_count": 5
        }
      ]
    },
    {
      "cell_type": "code",
      "source": [
        "print(search_df.shape)\n",
        "print(search_df.profile_id.nunique())\n",
        "len(search_df.drop_duplicates())"
      ],
      "metadata": {
        "colab": {
          "base_uri": "https://localhost:8080/"
        },
        "id": "jlPpTY1rs9nZ",
        "outputId": "7d839aad-e2bb-48da-8b9d-fc4258806f9b"
      },
      "execution_count": null,
      "outputs": [
        {
          "output_type": "stream",
          "name": "stdout",
          "text": [
            "(6474, 5)\n",
            "644\n"
          ]
        },
        {
          "output_type": "execute_result",
          "data": {
            "text/plain": [
              "5825"
            ]
          },
          "metadata": {},
          "execution_count": 12
        }
      ]
    },
    {
      "cell_type": "code",
      "source": [
        "profile_df.profile_id.nunique()"
      ],
      "metadata": {
        "colab": {
          "base_uri": "https://localhost:8080/"
        },
        "id": "mLuFXXrds9iO",
        "outputId": "bf0ab774-93f0-4af6-a126-bb84544c18e1"
      },
      "execution_count": null,
      "outputs": [
        {
          "output_type": "execute_result",
          "data": {
            "text/plain": [
              "8311"
            ]
          },
          "metadata": {},
          "execution_count": 13
        }
      ]
    },
    {
      "cell_type": "code",
      "source": [],
      "metadata": {
        "id": "9eFz1l23s9Gj"
      },
      "execution_count": null,
      "outputs": []
    },
    {
      "cell_type": "code",
      "source": [
        "metap_df.keyword"
      ],
      "metadata": {
        "id": "XcqA4Z4qSRdS"
      },
      "execution_count": null,
      "outputs": []
    },
    {
      "cell_type": "code",
      "execution_count": null,
      "metadata": {
        "id": "XGj24fDnFpoO"
      },
      "outputs": [],
      "source": [
        "# 하이퍼파라미터 \n",
        "class cfg: \n",
        "    gpu_idx = 0\n",
        "    device = torch.device(\"cuda:{}\".format(gpu_idx) if torch.cuda.is_available() else \"cpu\")\n",
        "    top_k = 25\n",
        "    seed = 42\n",
        "    neg_ratio = 100\n",
        "    test_size = 0.2"
      ]
    },
    {
      "cell_type": "code",
      "execution_count": null,
      "metadata": {
        "id": "_6OeItMmFpoP"
      },
      "outputs": [],
      "source": [
        "# 시드 고정 \n",
        "def seed_everything(random_seed):\n",
        "    torch.manual_seed(random_seed)\n",
        "    torch.cuda.manual_seed(random_seed)\n",
        "    torch.cuda.manual_seed_all(random_seed)\n",
        "    torch.backends.cudnn.deterministic = True\n",
        "    torch.backends.cudnn.benchmark = False\n",
        "    np.random.seed(random_seed)\n",
        "    random.seed(random_seed)\n",
        "    \n",
        "seed_everything(cfg.seed)"
      ]
    },
    {
      "cell_type": "code",
      "execution_count": null,
      "metadata": {
        "id": "qb4Zg1uMDx6R"
      },
      "outputs": [],
      "source": [
        "# 초기 데이터 처리\n",
        "h_df = history_df[['profile_id','log_time','album_id']]\n",
        "# meta = meta_df[['album_id','genre_mid','run_time']].drop_duplicates()\n",
        "df = pd.merge(h_df, profile_df[['profile_id','sex','age']], 'left', on = 'profile_id')\n",
        "df = pd.merge(df, meta_df, 'left', on = 'album_id')\n",
        "view_cnts = df.groupby('profile_id')['album_id'].count()\n",
        "df['views'] = df['profile_id'].map(lambda x: view_cnts[x])"
      ]
    },
    {
      "cell_type": "code",
      "source": [
        "df.shape"
      ],
      "metadata": {
        "colab": {
          "base_uri": "https://localhost:8080/"
        },
        "id": "YK0mHCNpvk0I",
        "outputId": "c9771c77-9975-4ad8-d4fd-de4c51eee809"
      },
      "execution_count": null,
      "outputs": [
        {
          "output_type": "execute_result",
          "data": {
            "text/plain": [
              "(1275380, 21)"
            ]
          },
          "metadata": {},
          "execution_count": 17
        }
      ]
    },
    {
      "cell_type": "code",
      "source": [
        "search_df.head(3)"
      ],
      "metadata": {
        "colab": {
          "base_uri": "https://localhost:8080/",
          "height": 143
        },
        "id": "EqDsVp0dyvii",
        "outputId": "343a9369-c372-4407-b336-494afbf5d143"
      },
      "execution_count": null,
      "outputs": [
        {
          "output_type": "execute_result",
          "data": {
            "text/plain": [
              "   profile_id           ss_id        log_time act_target_dtl  album_id\n",
              "0          59  20220303183951  20220303183914        MKID017      2141\n",
              "1          59  20220303183951  20220303183914        MKID017      2141\n",
              "2          59  20220303183951  20220303183914        MKID017      2141"
            ],
            "text/html": [
              "\n",
              "  <div id=\"df-fcccea90-d2ac-4bac-9aa1-9f25cc4c1d1b\">\n",
              "    <div class=\"colab-df-container\">\n",
              "      <div>\n",
              "<style scoped>\n",
              "    .dataframe tbody tr th:only-of-type {\n",
              "        vertical-align: middle;\n",
              "    }\n",
              "\n",
              "    .dataframe tbody tr th {\n",
              "        vertical-align: top;\n",
              "    }\n",
              "\n",
              "    .dataframe thead th {\n",
              "        text-align: right;\n",
              "    }\n",
              "</style>\n",
              "<table border=\"1\" class=\"dataframe\">\n",
              "  <thead>\n",
              "    <tr style=\"text-align: right;\">\n",
              "      <th></th>\n",
              "      <th>profile_id</th>\n",
              "      <th>ss_id</th>\n",
              "      <th>log_time</th>\n",
              "      <th>act_target_dtl</th>\n",
              "      <th>album_id</th>\n",
              "    </tr>\n",
              "  </thead>\n",
              "  <tbody>\n",
              "    <tr>\n",
              "      <th>0</th>\n",
              "      <td>59</td>\n",
              "      <td>20220303183951</td>\n",
              "      <td>20220303183914</td>\n",
              "      <td>MKID017</td>\n",
              "      <td>2141</td>\n",
              "    </tr>\n",
              "    <tr>\n",
              "      <th>1</th>\n",
              "      <td>59</td>\n",
              "      <td>20220303183951</td>\n",
              "      <td>20220303183914</td>\n",
              "      <td>MKID017</td>\n",
              "      <td>2141</td>\n",
              "    </tr>\n",
              "    <tr>\n",
              "      <th>2</th>\n",
              "      <td>59</td>\n",
              "      <td>20220303183951</td>\n",
              "      <td>20220303183914</td>\n",
              "      <td>MKID017</td>\n",
              "      <td>2141</td>\n",
              "    </tr>\n",
              "  </tbody>\n",
              "</table>\n",
              "</div>\n",
              "      <button class=\"colab-df-convert\" onclick=\"convertToInteractive('df-fcccea90-d2ac-4bac-9aa1-9f25cc4c1d1b')\"\n",
              "              title=\"Convert this dataframe to an interactive table.\"\n",
              "              style=\"display:none;\">\n",
              "        \n",
              "  <svg xmlns=\"http://www.w3.org/2000/svg\" height=\"24px\"viewBox=\"0 0 24 24\"\n",
              "       width=\"24px\">\n",
              "    <path d=\"M0 0h24v24H0V0z\" fill=\"none\"/>\n",
              "    <path d=\"M18.56 5.44l.94 2.06.94-2.06 2.06-.94-2.06-.94-.94-2.06-.94 2.06-2.06.94zm-11 1L8.5 8.5l.94-2.06 2.06-.94-2.06-.94L8.5 2.5l-.94 2.06-2.06.94zm10 10l.94 2.06.94-2.06 2.06-.94-2.06-.94-.94-2.06-.94 2.06-2.06.94z\"/><path d=\"M17.41 7.96l-1.37-1.37c-.4-.4-.92-.59-1.43-.59-.52 0-1.04.2-1.43.59L10.3 9.45l-7.72 7.72c-.78.78-.78 2.05 0 2.83L4 21.41c.39.39.9.59 1.41.59.51 0 1.02-.2 1.41-.59l7.78-7.78 2.81-2.81c.8-.78.8-2.07 0-2.86zM5.41 20L4 18.59l7.72-7.72 1.47 1.35L5.41 20z\"/>\n",
              "  </svg>\n",
              "      </button>\n",
              "      \n",
              "  <style>\n",
              "    .colab-df-container {\n",
              "      display:flex;\n",
              "      flex-wrap:wrap;\n",
              "      gap: 12px;\n",
              "    }\n",
              "\n",
              "    .colab-df-convert {\n",
              "      background-color: #E8F0FE;\n",
              "      border: none;\n",
              "      border-radius: 50%;\n",
              "      cursor: pointer;\n",
              "      display: none;\n",
              "      fill: #1967D2;\n",
              "      height: 32px;\n",
              "      padding: 0 0 0 0;\n",
              "      width: 32px;\n",
              "    }\n",
              "\n",
              "    .colab-df-convert:hover {\n",
              "      background-color: #E2EBFA;\n",
              "      box-shadow: 0px 1px 2px rgba(60, 64, 67, 0.3), 0px 1px 3px 1px rgba(60, 64, 67, 0.15);\n",
              "      fill: #174EA6;\n",
              "    }\n",
              "\n",
              "    [theme=dark] .colab-df-convert {\n",
              "      background-color: #3B4455;\n",
              "      fill: #D2E3FC;\n",
              "    }\n",
              "\n",
              "    [theme=dark] .colab-df-convert:hover {\n",
              "      background-color: #434B5C;\n",
              "      box-shadow: 0px 1px 3px 1px rgba(0, 0, 0, 0.15);\n",
              "      filter: drop-shadow(0px 1px 2px rgba(0, 0, 0, 0.3));\n",
              "      fill: #FFFFFF;\n",
              "    }\n",
              "  </style>\n",
              "\n",
              "      <script>\n",
              "        const buttonEl =\n",
              "          document.querySelector('#df-fcccea90-d2ac-4bac-9aa1-9f25cc4c1d1b button.colab-df-convert');\n",
              "        buttonEl.style.display =\n",
              "          google.colab.kernel.accessAllowed ? 'block' : 'none';\n",
              "\n",
              "        async function convertToInteractive(key) {\n",
              "          const element = document.querySelector('#df-fcccea90-d2ac-4bac-9aa1-9f25cc4c1d1b');\n",
              "          const dataTable =\n",
              "            await google.colab.kernel.invokeFunction('convertToInteractive',\n",
              "                                                     [key], {});\n",
              "          if (!dataTable) return;\n",
              "\n",
              "          const docLinkHtml = 'Like what you see? Visit the ' +\n",
              "            '<a target=\"_blank\" href=https://colab.research.google.com/notebooks/data_table.ipynb>data table notebook</a>'\n",
              "            + ' to learn more about interactive tables.';\n",
              "          element.innerHTML = '';\n",
              "          dataTable['output_type'] = 'display_data';\n",
              "          await google.colab.output.renderOutput(dataTable, element);\n",
              "          const docLink = document.createElement('div');\n",
              "          docLink.innerHTML = docLinkHtml;\n",
              "          element.appendChild(docLink);\n",
              "        }\n",
              "      </script>\n",
              "    </div>\n",
              "  </div>\n",
              "  "
            ]
          },
          "metadata": {},
          "execution_count": 20
        }
      ]
    },
    {
      "cell_type": "code",
      "source": [
        "search_df[search_df['profile_id']==14379]['album_id'].value_counts()"
      ],
      "metadata": {
        "colab": {
          "base_uri": "https://localhost:8080/"
        },
        "id": "ugMVDF-lzC5o",
        "outputId": "61fb5796-d906-4c5b-d7aa-5808b04b3cc5"
      },
      "execution_count": null,
      "outputs": [
        {
          "output_type": "execute_result",
          "data": {
            "text/plain": [
              "7225     17\n",
              "3838     12\n",
              "2403     10\n",
              "4185      8\n",
              "3819      7\n",
              "         ..\n",
              "15811     1\n",
              "10946     1\n",
              "7230      1\n",
              "12955     1\n",
              "13773     1\n",
              "Name: album_id, Length: 91, dtype: int64"
            ]
          },
          "metadata": {},
          "execution_count": 22
        }
      ]
    },
    {
      "cell_type": "code",
      "source": [
        "search = search_df[['profile_id','album_id']].drop_duplicates()\n",
        "search['search'] = 1"
      ],
      "metadata": {
        "id": "mRsbdxgFpzpw"
      },
      "execution_count": null,
      "outputs": []
    },
    {
      "cell_type": "code",
      "source": [
        "df = pd.merge(df,buy_df[['profile_id','album_id','payment']].drop_duplicates(), 'left', on = ['profile_id','album_id'])\n",
        "df = pd.merge(df, search[['profile_id','album_id','search']], 'left', on=['profile_id','album_id'])\n",
        "df.head(3)"
      ],
      "metadata": {
        "colab": {
          "base_uri": "https://localhost:8080/",
          "height": 173
        },
        "id": "H-_PRvQ0vnek",
        "outputId": "733f9180-7d3c-4ead-e133-e6a9ecd210b9"
      },
      "execution_count": null,
      "outputs": [
        {
          "output_type": "execute_result",
          "data": {
            "text/plain": [
              "   profile_id        log_time  album_id sex  age  title   sub_title  \\\n",
              "0           3  20220301115719        15   F    5     거미  핑크퐁 3D율동동요   \n",
              "1           3  20220301115809        16   F    5  상어 가족        노래율동   \n",
              "2           3  20220301115809        16   F    5  상어 가족  핑크퐁 3D율동동요   \n",
              "\n",
              "  genre_large genre_mid genre_small  ... cast_1  cast_2  cast_3 cast_4 cast_5  \\\n",
              "0          키즈      노래율동         NaN  ...    NaN     NaN     NaN    NaN    NaN   \n",
              "1          키즈      노래율동         NaN  ...    NaN     NaN     NaN    NaN    NaN   \n",
              "2          키즈      노래율동         NaN  ...    NaN     NaN     NaN    NaN    NaN   \n",
              "\n",
              "  cast_6 cast_7 views payment search  \n",
              "0    NaN    NaN    23     NaN    NaN  \n",
              "1    NaN    NaN    23     NaN    NaN  \n",
              "2    NaN    NaN    23     NaN    NaN  \n",
              "\n",
              "[3 rows x 23 columns]"
            ],
            "text/html": [
              "\n",
              "  <div id=\"df-5ca57cfc-9ca8-482d-b476-5d37601b3f5f\">\n",
              "    <div class=\"colab-df-container\">\n",
              "      <div>\n",
              "<style scoped>\n",
              "    .dataframe tbody tr th:only-of-type {\n",
              "        vertical-align: middle;\n",
              "    }\n",
              "\n",
              "    .dataframe tbody tr th {\n",
              "        vertical-align: top;\n",
              "    }\n",
              "\n",
              "    .dataframe thead th {\n",
              "        text-align: right;\n",
              "    }\n",
              "</style>\n",
              "<table border=\"1\" class=\"dataframe\">\n",
              "  <thead>\n",
              "    <tr style=\"text-align: right;\">\n",
              "      <th></th>\n",
              "      <th>profile_id</th>\n",
              "      <th>log_time</th>\n",
              "      <th>album_id</th>\n",
              "      <th>sex</th>\n",
              "      <th>age</th>\n",
              "      <th>title</th>\n",
              "      <th>sub_title</th>\n",
              "      <th>genre_large</th>\n",
              "      <th>genre_mid</th>\n",
              "      <th>genre_small</th>\n",
              "      <th>...</th>\n",
              "      <th>cast_1</th>\n",
              "      <th>cast_2</th>\n",
              "      <th>cast_3</th>\n",
              "      <th>cast_4</th>\n",
              "      <th>cast_5</th>\n",
              "      <th>cast_6</th>\n",
              "      <th>cast_7</th>\n",
              "      <th>views</th>\n",
              "      <th>payment</th>\n",
              "      <th>search</th>\n",
              "    </tr>\n",
              "  </thead>\n",
              "  <tbody>\n",
              "    <tr>\n",
              "      <th>0</th>\n",
              "      <td>3</td>\n",
              "      <td>20220301115719</td>\n",
              "      <td>15</td>\n",
              "      <td>F</td>\n",
              "      <td>5</td>\n",
              "      <td>거미</td>\n",
              "      <td>핑크퐁 3D율동동요</td>\n",
              "      <td>키즈</td>\n",
              "      <td>노래율동</td>\n",
              "      <td>NaN</td>\n",
              "      <td>...</td>\n",
              "      <td>NaN</td>\n",
              "      <td>NaN</td>\n",
              "      <td>NaN</td>\n",
              "      <td>NaN</td>\n",
              "      <td>NaN</td>\n",
              "      <td>NaN</td>\n",
              "      <td>NaN</td>\n",
              "      <td>23</td>\n",
              "      <td>NaN</td>\n",
              "      <td>NaN</td>\n",
              "    </tr>\n",
              "    <tr>\n",
              "      <th>1</th>\n",
              "      <td>3</td>\n",
              "      <td>20220301115809</td>\n",
              "      <td>16</td>\n",
              "      <td>F</td>\n",
              "      <td>5</td>\n",
              "      <td>상어 가족</td>\n",
              "      <td>노래율동</td>\n",
              "      <td>키즈</td>\n",
              "      <td>노래율동</td>\n",
              "      <td>NaN</td>\n",
              "      <td>...</td>\n",
              "      <td>NaN</td>\n",
              "      <td>NaN</td>\n",
              "      <td>NaN</td>\n",
              "      <td>NaN</td>\n",
              "      <td>NaN</td>\n",
              "      <td>NaN</td>\n",
              "      <td>NaN</td>\n",
              "      <td>23</td>\n",
              "      <td>NaN</td>\n",
              "      <td>NaN</td>\n",
              "    </tr>\n",
              "    <tr>\n",
              "      <th>2</th>\n",
              "      <td>3</td>\n",
              "      <td>20220301115809</td>\n",
              "      <td>16</td>\n",
              "      <td>F</td>\n",
              "      <td>5</td>\n",
              "      <td>상어 가족</td>\n",
              "      <td>핑크퐁 3D율동동요</td>\n",
              "      <td>키즈</td>\n",
              "      <td>노래율동</td>\n",
              "      <td>NaN</td>\n",
              "      <td>...</td>\n",
              "      <td>NaN</td>\n",
              "      <td>NaN</td>\n",
              "      <td>NaN</td>\n",
              "      <td>NaN</td>\n",
              "      <td>NaN</td>\n",
              "      <td>NaN</td>\n",
              "      <td>NaN</td>\n",
              "      <td>23</td>\n",
              "      <td>NaN</td>\n",
              "      <td>NaN</td>\n",
              "    </tr>\n",
              "  </tbody>\n",
              "</table>\n",
              "<p>3 rows × 23 columns</p>\n",
              "</div>\n",
              "      <button class=\"colab-df-convert\" onclick=\"convertToInteractive('df-5ca57cfc-9ca8-482d-b476-5d37601b3f5f')\"\n",
              "              title=\"Convert this dataframe to an interactive table.\"\n",
              "              style=\"display:none;\">\n",
              "        \n",
              "  <svg xmlns=\"http://www.w3.org/2000/svg\" height=\"24px\"viewBox=\"0 0 24 24\"\n",
              "       width=\"24px\">\n",
              "    <path d=\"M0 0h24v24H0V0z\" fill=\"none\"/>\n",
              "    <path d=\"M18.56 5.44l.94 2.06.94-2.06 2.06-.94-2.06-.94-.94-2.06-.94 2.06-2.06.94zm-11 1L8.5 8.5l.94-2.06 2.06-.94-2.06-.94L8.5 2.5l-.94 2.06-2.06.94zm10 10l.94 2.06.94-2.06 2.06-.94-2.06-.94-.94-2.06-.94 2.06-2.06.94z\"/><path d=\"M17.41 7.96l-1.37-1.37c-.4-.4-.92-.59-1.43-.59-.52 0-1.04.2-1.43.59L10.3 9.45l-7.72 7.72c-.78.78-.78 2.05 0 2.83L4 21.41c.39.39.9.59 1.41.59.51 0 1.02-.2 1.41-.59l7.78-7.78 2.81-2.81c.8-.78.8-2.07 0-2.86zM5.41 20L4 18.59l7.72-7.72 1.47 1.35L5.41 20z\"/>\n",
              "  </svg>\n",
              "      </button>\n",
              "      \n",
              "  <style>\n",
              "    .colab-df-container {\n",
              "      display:flex;\n",
              "      flex-wrap:wrap;\n",
              "      gap: 12px;\n",
              "    }\n",
              "\n",
              "    .colab-df-convert {\n",
              "      background-color: #E8F0FE;\n",
              "      border: none;\n",
              "      border-radius: 50%;\n",
              "      cursor: pointer;\n",
              "      display: none;\n",
              "      fill: #1967D2;\n",
              "      height: 32px;\n",
              "      padding: 0 0 0 0;\n",
              "      width: 32px;\n",
              "    }\n",
              "\n",
              "    .colab-df-convert:hover {\n",
              "      background-color: #E2EBFA;\n",
              "      box-shadow: 0px 1px 2px rgba(60, 64, 67, 0.3), 0px 1px 3px 1px rgba(60, 64, 67, 0.15);\n",
              "      fill: #174EA6;\n",
              "    }\n",
              "\n",
              "    [theme=dark] .colab-df-convert {\n",
              "      background-color: #3B4455;\n",
              "      fill: #D2E3FC;\n",
              "    }\n",
              "\n",
              "    [theme=dark] .colab-df-convert:hover {\n",
              "      background-color: #434B5C;\n",
              "      box-shadow: 0px 1px 3px 1px rgba(0, 0, 0, 0.15);\n",
              "      filter: drop-shadow(0px 1px 2px rgba(0, 0, 0, 0.3));\n",
              "      fill: #FFFFFF;\n",
              "    }\n",
              "  </style>\n",
              "\n",
              "      <script>\n",
              "        const buttonEl =\n",
              "          document.querySelector('#df-5ca57cfc-9ca8-482d-b476-5d37601b3f5f button.colab-df-convert');\n",
              "        buttonEl.style.display =\n",
              "          google.colab.kernel.accessAllowed ? 'block' : 'none';\n",
              "\n",
              "        async function convertToInteractive(key) {\n",
              "          const element = document.querySelector('#df-5ca57cfc-9ca8-482d-b476-5d37601b3f5f');\n",
              "          const dataTable =\n",
              "            await google.colab.kernel.invokeFunction('convertToInteractive',\n",
              "                                                     [key], {});\n",
              "          if (!dataTable) return;\n",
              "\n",
              "          const docLinkHtml = 'Like what you see? Visit the ' +\n",
              "            '<a target=\"_blank\" href=https://colab.research.google.com/notebooks/data_table.ipynb>data table notebook</a>'\n",
              "            + ' to learn more about interactive tables.';\n",
              "          element.innerHTML = '';\n",
              "          dataTable['output_type'] = 'display_data';\n",
              "          await google.colab.output.renderOutput(dataTable, element);\n",
              "          const docLink = document.createElement('div');\n",
              "          docLink.innerHTML = docLinkHtml;\n",
              "          element.appendChild(docLink);\n",
              "        }\n",
              "      </script>\n",
              "    </div>\n",
              "  </div>\n",
              "  "
            ]
          },
          "metadata": {},
          "execution_count": 26
        }
      ]
    },
    {
      "cell_type": "code",
      "source": [
        "df['payment']"
      ],
      "metadata": {
        "id": "gD_7dvZmuYQa"
      },
      "execution_count": null,
      "outputs": []
    },
    {
      "cell_type": "code",
      "source": [
        "df['payment'] = df['payment'].fillna(0)\n",
        "df['payment'] = df['payment'].map(lambda x: 0 if x == 0 else 1)"
      ],
      "metadata": {
        "id": "GoMfVHkJrZFK"
      },
      "execution_count": null,
      "outputs": []
    },
    {
      "cell_type": "code",
      "source": [
        "df['payment'].value_counts()"
      ],
      "metadata": {
        "colab": {
          "base_uri": "https://localhost:8080/"
        },
        "id": "xiP2qxhluI9b",
        "outputId": "003b6d51-abc7-4036-8825-e7be77ac9410"
      },
      "execution_count": null,
      "outputs": [
        {
          "output_type": "execute_result",
          "data": {
            "text/plain": [
              "0    1274577\n",
              "1        803\n",
              "Name: payment, dtype: int64"
            ]
          },
          "metadata": {},
          "execution_count": 30
        }
      ]
    },
    {
      "cell_type": "code",
      "source": [
        "data = df[['profile_id','log_time','album_id','views']].drop_duplicates(subset=['profile_id', 'album_id', 'log_time']).sort_values(by = ['profile_id', 'log_time']).reset_index(drop = True)\n",
        "data['rating'] = 1\n",
        "data.shape"
      ],
      "metadata": {
        "colab": {
          "base_uri": "https://localhost:8080/"
        },
        "id": "BIc_yPgYoJVJ",
        "outputId": "e4fcec2a-2c5c-4160-c394-8bb7d046f69d"
      },
      "execution_count": null,
      "outputs": [
        {
          "output_type": "execute_result",
          "data": {
            "text/plain": [
              "(899252, 5)"
            ]
          },
          "metadata": {},
          "execution_count": 33
        }
      ]
    },
    {
      "cell_type": "code",
      "execution_count": null,
      "metadata": {
        "colab": {
          "base_uri": "https://localhost:8080/"
        },
        "id": "J6dPtYS1pIgD",
        "outputId": "4fcb72b7-ff77-4d96-a15d-69e418333eb4"
      },
      "outputs": [
        {
          "output_type": "execute_result",
          "data": {
            "text/plain": [
              "(899252, 4)"
            ]
          },
          "metadata": {},
          "execution_count": 32
        }
      ],
      "source": [
        "# 데이터 전처리 (중복제거) \n",
        "# 참고 : drop_duplicates의 subset을 무엇으로 구성하냐에 따라서 제거되는 항목들이 다름 \n",
        "# ex) 'profile_id', 'album_id' : 중복된 시청이력 모두 제거 / 'profile_id', 'album_id', 'log_time' : 같은 시간에 시청한 이력만 제거 \n",
        "data = df[['profile_id','log_time','album_id']].drop_duplicates(subset=['profile_id', 'album_id', 'log_time']).sort_values(by = ['profile_id', 'log_time']).reset_index(drop = True)\n",
        "data['rating'] = 1\n",
        "data.shape"
      ]
    },
    {
      "cell_type": "code",
      "source": [],
      "metadata": {
        "id": "8rWXN_UntZr7"
      },
      "execution_count": null,
      "outputs": []
    },
    {
      "cell_type": "code",
      "execution_count": null,
      "metadata": {
        "id": "H6p_k2If5uky"
      },
      "outputs": [],
      "source": [
        "cfg.n_users = data.profile_id.max()+1\n",
        "cfg.n_items = data.album_id.max()+1"
      ]
    },
    {
      "cell_type": "code",
      "execution_count": null,
      "metadata": {
        "colab": {
          "base_uri": "https://localhost:8080/"
        },
        "id": "k-loxhyJpIgD",
        "outputId": "b23495b8-5f0c-41a8-d83c-a401a0b31307"
      },
      "outputs": [
        {
          "output_type": "stream",
          "name": "stdout",
          "text": [
            "학습 데이터 크기: (719401, 5)\n",
            "검증 데이터 크기: (179851, 5)\n"
          ]
        }
      ],
      "source": [
        "# 학습 및 검증 데이터 분리\n",
        "train, valid = train_test_split(\n",
        "    data, test_size=cfg.test_size, random_state=cfg.seed,\n",
        ")\n",
        "print('학습 데이터 크기:', train.shape)\n",
        "print('검증 데이터 크기:', valid.shape)"
      ]
    },
    {
      "cell_type": "code",
      "execution_count": null,
      "metadata": {
        "colab": {
          "base_uri": "https://localhost:8080/"
        },
        "id": "orTiuPRV6d2X",
        "outputId": "66922a6a-3c72-4d00-804d-bd0ce8f3e1e6"
      },
      "outputs": [
        {
          "output_type": "execute_result",
          "data": {
            "text/plain": [
              "<33033x25917 sparse matrix of type '<class 'numpy.float64'>'\n",
              "\twith 0 stored elements in List of Lists format>"
            ]
          },
          "metadata": {},
          "execution_count": 36
        }
      ],
      "source": [
        "sparse.lil_matrix((cfg.n_users, cfg.n_items))"
      ]
    },
    {
      "cell_type": "code",
      "execution_count": null,
      "metadata": {
        "colab": {
          "base_uri": "https://localhost:8080/",
          "height": 196,
          "referenced_widgets": [
            "b8b8222d512b4a09a2aed346fdf0dac4",
            "cc04e46f5f4f4abc984967fe1f64ea27",
            "0149743fcbd148c3906bb6db9346b929",
            "bb9e43a89a1f42019805ccce2b543cb2",
            "4d7d0f58f13c48c2ac9edee160a868c9",
            "617e18d15b20421590d719298ce97d99",
            "45b594d591de4aea80bdd6b4282f2bcc",
            "b10102f518e049fd983ce4cec459ec35",
            "d38d90b85ce5476a992042a91ca7cfa0",
            "420b0b8819a54d9baf7a84abdb757d76",
            "a4f2ad509e3b40ad8223cd3571739b4a"
          ]
        },
        "id": "ilrvAmwbpIgE",
        "outputId": "25bafa6b-f728-4e06-9ee4-cff4aa77329b"
      },
      "outputs": [
        {
          "output_type": "display_data",
          "data": {
            "text/plain": [
              "  0%|          | 0/719401 [00:00<?, ?it/s]"
            ],
            "application/vnd.jupyter.widget-view+json": {
              "version_major": 2,
              "version_minor": 0,
              "model_id": "b8b8222d512b4a09a2aed346fdf0dac4"
            }
          },
          "metadata": {}
        },
        {
          "output_type": "stream",
          "name": "stdout",
          "text": [
            "train 형태: \n",
            " [[0. 0. 0. ... 0. 0. 0.]\n",
            " [0. 0. 0. ... 0. 0. 0.]\n",
            " [0. 0. 0. ... 0. 0. 0.]\n",
            " ...\n",
            " [0. 0. 0. ... 0. 0. 0.]\n",
            " [0. 0. 0. ... 0. 0. 0.]\n",
            " [0. 0. 0. ... 0. 0. 0.]]\n"
          ]
        }
      ],
      "source": [
        "# Matrix 형태로 변환 \n",
        "train = train.to_numpy()\n",
        "matrix = sparse.lil_matrix((cfg.n_users, cfg.n_items))\n",
        "for (p, _, i, r, view) in tqdm(train):\n",
        "    matrix[p, i] = r\n",
        "    \n",
        "train = sparse.csr_matrix(matrix)\n",
        "train = train.toarray()\n",
        "print(\"train 형태: \\n\", train)"
      ]
    },
    {
      "cell_type": "code",
      "source": [
        "df.columns"
      ],
      "metadata": {
        "colab": {
          "base_uri": "https://localhost:8080/"
        },
        "id": "syVofFIth34V",
        "outputId": "10494f3b-1247-4e91-b85b-5903eff6ef3c"
      },
      "execution_count": null,
      "outputs": [
        {
          "output_type": "execute_result",
          "data": {
            "text/plain": [
              "Index(['profile_id', 'log_time', 'album_id', 'continuous_play', 'sex', 'age',\n",
              "       'title', 'sub_title', 'genre_large', 'genre_mid', 'genre_small',\n",
              "       'country', 'run_time', 'onair_date', 'cast_1', 'cast_2', 'cast_3',\n",
              "       'cast_4', 'cast_5', 'cast_6', 'cast_7', 'views'],\n",
              "      dtype='object')"
            ]
          },
          "metadata": {},
          "execution_count": 107
        }
      ]
    },
    {
      "cell_type": "code",
      "execution_count": null,
      "metadata": {
        "colab": {
          "base_uri": "https://localhost:8080/"
        },
        "id": "hbqEp8hHpIgE",
        "outputId": "e6eb98e0-8d1a-4e9c-d93a-d55d2f67021a"
      },
      "outputs": [
        {
          "output_type": "stream",
          "name": "stdout",
          "text": [
            "user_id 3의 age 정보 : 5\n",
            "user_id 3의 age 정보 : 0\n",
            "user_id 3의 age 정보 : 23\n"
          ]
        }
      ],
      "source": [
        "# 유저 특징 정보 추출 \n",
        "df = df.set_index('profile_id')\n",
        "user_features = df[['age']].to_dict()\n",
        "# # 성별, view, continuous 추가\n",
        "df['sex'] = df['sex'].map(lambda x: 1 if x == 'M' else 0)\n",
        "user_features_sex = df[['sex']].to_dict()\n",
        "user_features_views = df[['views']].to_dict()\n",
        "print(\"user_id 3의 age 정보 :\", user_features['age'][3])\n",
        "print(\"user_id 3의 age 정보 :\", user_features_sex['sex'][3])\n",
        "print(\"user_id 3의 age 정보 :\", user_features_views['views'][3])"
      ]
    },
    {
      "cell_type": "code",
      "execution_count": null,
      "metadata": {
        "colab": {
          "base_uri": "https://localhost:8080/"
        },
        "id": "LOu5y9llI79Z",
        "outputId": "8f70718c-6d63-4db3-82f0-6972b7d73563"
      },
      "outputs": [
        {
          "output_type": "execute_result",
          "data": {
            "text/plain": [
              "(1275380, 22)"
            ]
          },
          "metadata": {},
          "execution_count": 103
        }
      ],
      "source": [
        "df.shape"
      ]
    },
    {
      "cell_type": "code",
      "execution_count": null,
      "metadata": {
        "colab": {
          "base_uri": "https://localhost:8080/",
          "height": 143
        },
        "id": "ch5nXoNE928c",
        "outputId": "7c022292-c1ea-4905-a3c8-572056c2092d"
      },
      "outputs": [
        {
          "output_type": "execute_result",
          "data": {
            "text/plain": [
              "   album_id     title sub_title genre_large genre_mid genre_small country  \\\n",
              "0       749  어둠이 무서워요  꼬마버스 타요1          키즈      TV만화         NaN      한국   \n",
              "1       750    우리는 친구  꼬마버스 타요1          키즈      TV만화         NaN      한국   \n",
              "2      2131  타요의 첫 운행  꼬마버스 타요1          키즈      TV만화         NaN      한국   \n",
              "\n",
              "   run_time  onair_date cast_1 cast_2 cast_3 cast_4 cast_5 cast_6 cast_7  \n",
              "0       660         NaN     타요     로기     라니     가니     시투    NaN    NaN  \n",
              "1       660         NaN     타요     로기     라니     가니     시투    NaN    NaN  \n",
              "2       660         NaN     타요     로기     라니     가니     시투    NaN    NaN  "
            ],
            "text/html": [
              "\n",
              "  <div id=\"df-ce7ca1b3-77dd-4e2d-8fac-3d6b8ec53d3d\">\n",
              "    <div class=\"colab-df-container\">\n",
              "      <div>\n",
              "<style scoped>\n",
              "    .dataframe tbody tr th:only-of-type {\n",
              "        vertical-align: middle;\n",
              "    }\n",
              "\n",
              "    .dataframe tbody tr th {\n",
              "        vertical-align: top;\n",
              "    }\n",
              "\n",
              "    .dataframe thead th {\n",
              "        text-align: right;\n",
              "    }\n",
              "</style>\n",
              "<table border=\"1\" class=\"dataframe\">\n",
              "  <thead>\n",
              "    <tr style=\"text-align: right;\">\n",
              "      <th></th>\n",
              "      <th>album_id</th>\n",
              "      <th>title</th>\n",
              "      <th>sub_title</th>\n",
              "      <th>genre_large</th>\n",
              "      <th>genre_mid</th>\n",
              "      <th>genre_small</th>\n",
              "      <th>country</th>\n",
              "      <th>run_time</th>\n",
              "      <th>onair_date</th>\n",
              "      <th>cast_1</th>\n",
              "      <th>cast_2</th>\n",
              "      <th>cast_3</th>\n",
              "      <th>cast_4</th>\n",
              "      <th>cast_5</th>\n",
              "      <th>cast_6</th>\n",
              "      <th>cast_7</th>\n",
              "    </tr>\n",
              "  </thead>\n",
              "  <tbody>\n",
              "    <tr>\n",
              "      <th>0</th>\n",
              "      <td>749</td>\n",
              "      <td>어둠이 무서워요</td>\n",
              "      <td>꼬마버스 타요1</td>\n",
              "      <td>키즈</td>\n",
              "      <td>TV만화</td>\n",
              "      <td>NaN</td>\n",
              "      <td>한국</td>\n",
              "      <td>660</td>\n",
              "      <td>NaN</td>\n",
              "      <td>타요</td>\n",
              "      <td>로기</td>\n",
              "      <td>라니</td>\n",
              "      <td>가니</td>\n",
              "      <td>시투</td>\n",
              "      <td>NaN</td>\n",
              "      <td>NaN</td>\n",
              "    </tr>\n",
              "    <tr>\n",
              "      <th>1</th>\n",
              "      <td>750</td>\n",
              "      <td>우리는 친구</td>\n",
              "      <td>꼬마버스 타요1</td>\n",
              "      <td>키즈</td>\n",
              "      <td>TV만화</td>\n",
              "      <td>NaN</td>\n",
              "      <td>한국</td>\n",
              "      <td>660</td>\n",
              "      <td>NaN</td>\n",
              "      <td>타요</td>\n",
              "      <td>로기</td>\n",
              "      <td>라니</td>\n",
              "      <td>가니</td>\n",
              "      <td>시투</td>\n",
              "      <td>NaN</td>\n",
              "      <td>NaN</td>\n",
              "    </tr>\n",
              "    <tr>\n",
              "      <th>2</th>\n",
              "      <td>2131</td>\n",
              "      <td>타요의 첫 운행</td>\n",
              "      <td>꼬마버스 타요1</td>\n",
              "      <td>키즈</td>\n",
              "      <td>TV만화</td>\n",
              "      <td>NaN</td>\n",
              "      <td>한국</td>\n",
              "      <td>660</td>\n",
              "      <td>NaN</td>\n",
              "      <td>타요</td>\n",
              "      <td>로기</td>\n",
              "      <td>라니</td>\n",
              "      <td>가니</td>\n",
              "      <td>시투</td>\n",
              "      <td>NaN</td>\n",
              "      <td>NaN</td>\n",
              "    </tr>\n",
              "  </tbody>\n",
              "</table>\n",
              "</div>\n",
              "      <button class=\"colab-df-convert\" onclick=\"convertToInteractive('df-ce7ca1b3-77dd-4e2d-8fac-3d6b8ec53d3d')\"\n",
              "              title=\"Convert this dataframe to an interactive table.\"\n",
              "              style=\"display:none;\">\n",
              "        \n",
              "  <svg xmlns=\"http://www.w3.org/2000/svg\" height=\"24px\"viewBox=\"0 0 24 24\"\n",
              "       width=\"24px\">\n",
              "    <path d=\"M0 0h24v24H0V0z\" fill=\"none\"/>\n",
              "    <path d=\"M18.56 5.44l.94 2.06.94-2.06 2.06-.94-2.06-.94-.94-2.06-.94 2.06-2.06.94zm-11 1L8.5 8.5l.94-2.06 2.06-.94-2.06-.94L8.5 2.5l-.94 2.06-2.06.94zm10 10l.94 2.06.94-2.06 2.06-.94-2.06-.94-.94-2.06-.94 2.06-2.06.94z\"/><path d=\"M17.41 7.96l-1.37-1.37c-.4-.4-.92-.59-1.43-.59-.52 0-1.04.2-1.43.59L10.3 9.45l-7.72 7.72c-.78.78-.78 2.05 0 2.83L4 21.41c.39.39.9.59 1.41.59.51 0 1.02-.2 1.41-.59l7.78-7.78 2.81-2.81c.8-.78.8-2.07 0-2.86zM5.41 20L4 18.59l7.72-7.72 1.47 1.35L5.41 20z\"/>\n",
              "  </svg>\n",
              "      </button>\n",
              "      \n",
              "  <style>\n",
              "    .colab-df-container {\n",
              "      display:flex;\n",
              "      flex-wrap:wrap;\n",
              "      gap: 12px;\n",
              "    }\n",
              "\n",
              "    .colab-df-convert {\n",
              "      background-color: #E8F0FE;\n",
              "      border: none;\n",
              "      border-radius: 50%;\n",
              "      cursor: pointer;\n",
              "      display: none;\n",
              "      fill: #1967D2;\n",
              "      height: 32px;\n",
              "      padding: 0 0 0 0;\n",
              "      width: 32px;\n",
              "    }\n",
              "\n",
              "    .colab-df-convert:hover {\n",
              "      background-color: #E2EBFA;\n",
              "      box-shadow: 0px 1px 2px rgba(60, 64, 67, 0.3), 0px 1px 3px 1px rgba(60, 64, 67, 0.15);\n",
              "      fill: #174EA6;\n",
              "    }\n",
              "\n",
              "    [theme=dark] .colab-df-convert {\n",
              "      background-color: #3B4455;\n",
              "      fill: #D2E3FC;\n",
              "    }\n",
              "\n",
              "    [theme=dark] .colab-df-convert:hover {\n",
              "      background-color: #434B5C;\n",
              "      box-shadow: 0px 1px 3px 1px rgba(0, 0, 0, 0.15);\n",
              "      filter: drop-shadow(0px 1px 2px rgba(0, 0, 0, 0.3));\n",
              "      fill: #FFFFFF;\n",
              "    }\n",
              "  </style>\n",
              "\n",
              "      <script>\n",
              "        const buttonEl =\n",
              "          document.querySelector('#df-ce7ca1b3-77dd-4e2d-8fac-3d6b8ec53d3d button.colab-df-convert');\n",
              "        buttonEl.style.display =\n",
              "          google.colab.kernel.accessAllowed ? 'block' : 'none';\n",
              "\n",
              "        async function convertToInteractive(key) {\n",
              "          const element = document.querySelector('#df-ce7ca1b3-77dd-4e2d-8fac-3d6b8ec53d3d');\n",
              "          const dataTable =\n",
              "            await google.colab.kernel.invokeFunction('convertToInteractive',\n",
              "                                                     [key], {});\n",
              "          if (!dataTable) return;\n",
              "\n",
              "          const docLinkHtml = 'Like what you see? Visit the ' +\n",
              "            '<a target=\"_blank\" href=https://colab.research.google.com/notebooks/data_table.ipynb>data table notebook</a>'\n",
              "            + ' to learn more about interactive tables.';\n",
              "          element.innerHTML = '';\n",
              "          dataTable['output_type'] = 'display_data';\n",
              "          await google.colab.output.renderOutput(dataTable, element);\n",
              "          const docLink = document.createElement('div');\n",
              "          docLink.innerHTML = docLinkHtml;\n",
              "          element.appendChild(docLink);\n",
              "        }\n",
              "      </script>\n",
              "    </div>\n",
              "  </div>\n",
              "  "
            ]
          },
          "metadata": {},
          "execution_count": 24
        }
      ],
      "source": [
        "meta_df.head(3)"
      ]
    },
    {
      "cell_type": "code",
      "execution_count": null,
      "metadata": {
        "colab": {
          "base_uri": "https://localhost:8080/"
        },
        "id": "34oqD1VUpIgF",
        "outputId": "fec99910-a2d8-44e0-ef30-094b30306c3d"
      },
      "outputs": [
        {
          "output_type": "stream",
          "name": "stdout",
          "text": [
            "album_id 749의 genre_mid 정보 : 5\n",
            "album_id 749의 run_time 정보 : 539\n"
          ]
        }
      ],
      "source": [
        "# 아이템 특징 정보 추출 \n",
        "# meta_df = meta_df.set_index('album_id')\n",
        "\n",
        "# 범주형 데이터를 수치형 데이터로 변경 \n",
        "le = LabelEncoder()\n",
        "meta_df['genre_mid'] = le.fit_transform(meta_df['genre_mid'])\n",
        "# meta['run_time']= meta['run_time'].map(lambda x: np.log10(x)+1)\n",
        "item_features = meta_df[['genre_mid']].to_dict()\n",
        "item_features_run = meta_df[['run_time']].to_dict()\n",
        "print(\"album_id 749의 genre_mid 정보 :\", item_features['genre_mid'][749])\n",
        "print(\"album_id 749의 run_time 정보 :\", item_features_run['run_time'][749])"
      ]
    },
    {
      "cell_type": "code",
      "source": [
        "df.reset_index()['profile_id'].unique()"
      ],
      "metadata": {
        "colab": {
          "base_uri": "https://localhost:8080/"
        },
        "id": "g9FOR7M04MHi",
        "outputId": "8cc66790-e0b3-4e6f-ab2b-560202d0abb8"
      },
      "execution_count": null,
      "outputs": [
        {
          "output_type": "execute_result",
          "data": {
            "text/plain": [
              "array([    3,     5,     7, ..., 33026, 33027, 33032])"
            ]
          },
          "metadata": {},
          "execution_count": 54
        }
      ]
    },
    {
      "cell_type": "code",
      "source": [
        "search.head(5)"
      ],
      "metadata": {
        "colab": {
          "base_uri": "https://localhost:8080/",
          "height": 206
        },
        "id": "M3Fl_Zia5f4s",
        "outputId": "55553af3-0f62-4f65-870d-f18c50744f90"
      },
      "execution_count": null,
      "outputs": [
        {
          "output_type": "execute_result",
          "data": {
            "text/plain": [
              "   profile_id  album_id  search\n",
              "0          59      2141       1\n",
              "3          59       512       1\n",
              "5          59      2142       1\n",
              "7          59      2143       1\n",
              "8          59      2150       1"
            ],
            "text/html": [
              "\n",
              "  <div id=\"df-807e7041-0958-47b2-92da-c33494d22074\">\n",
              "    <div class=\"colab-df-container\">\n",
              "      <div>\n",
              "<style scoped>\n",
              "    .dataframe tbody tr th:only-of-type {\n",
              "        vertical-align: middle;\n",
              "    }\n",
              "\n",
              "    .dataframe tbody tr th {\n",
              "        vertical-align: top;\n",
              "    }\n",
              "\n",
              "    .dataframe thead th {\n",
              "        text-align: right;\n",
              "    }\n",
              "</style>\n",
              "<table border=\"1\" class=\"dataframe\">\n",
              "  <thead>\n",
              "    <tr style=\"text-align: right;\">\n",
              "      <th></th>\n",
              "      <th>profile_id</th>\n",
              "      <th>album_id</th>\n",
              "      <th>search</th>\n",
              "    </tr>\n",
              "  </thead>\n",
              "  <tbody>\n",
              "    <tr>\n",
              "      <th>0</th>\n",
              "      <td>59</td>\n",
              "      <td>2141</td>\n",
              "      <td>1</td>\n",
              "    </tr>\n",
              "    <tr>\n",
              "      <th>3</th>\n",
              "      <td>59</td>\n",
              "      <td>512</td>\n",
              "      <td>1</td>\n",
              "    </tr>\n",
              "    <tr>\n",
              "      <th>5</th>\n",
              "      <td>59</td>\n",
              "      <td>2142</td>\n",
              "      <td>1</td>\n",
              "    </tr>\n",
              "    <tr>\n",
              "      <th>7</th>\n",
              "      <td>59</td>\n",
              "      <td>2143</td>\n",
              "      <td>1</td>\n",
              "    </tr>\n",
              "    <tr>\n",
              "      <th>8</th>\n",
              "      <td>59</td>\n",
              "      <td>2150</td>\n",
              "      <td>1</td>\n",
              "    </tr>\n",
              "  </tbody>\n",
              "</table>\n",
              "</div>\n",
              "      <button class=\"colab-df-convert\" onclick=\"convertToInteractive('df-807e7041-0958-47b2-92da-c33494d22074')\"\n",
              "              title=\"Convert this dataframe to an interactive table.\"\n",
              "              style=\"display:none;\">\n",
              "        \n",
              "  <svg xmlns=\"http://www.w3.org/2000/svg\" height=\"24px\"viewBox=\"0 0 24 24\"\n",
              "       width=\"24px\">\n",
              "    <path d=\"M0 0h24v24H0V0z\" fill=\"none\"/>\n",
              "    <path d=\"M18.56 5.44l.94 2.06.94-2.06 2.06-.94-2.06-.94-.94-2.06-.94 2.06-2.06.94zm-11 1L8.5 8.5l.94-2.06 2.06-.94-2.06-.94L8.5 2.5l-.94 2.06-2.06.94zm10 10l.94 2.06.94-2.06 2.06-.94-2.06-.94-.94-2.06-.94 2.06-2.06.94z\"/><path d=\"M17.41 7.96l-1.37-1.37c-.4-.4-.92-.59-1.43-.59-.52 0-1.04.2-1.43.59L10.3 9.45l-7.72 7.72c-.78.78-.78 2.05 0 2.83L4 21.41c.39.39.9.59 1.41.59.51 0 1.02-.2 1.41-.59l7.78-7.78 2.81-2.81c.8-.78.8-2.07 0-2.86zM5.41 20L4 18.59l7.72-7.72 1.47 1.35L5.41 20z\"/>\n",
              "  </svg>\n",
              "      </button>\n",
              "      \n",
              "  <style>\n",
              "    .colab-df-container {\n",
              "      display:flex;\n",
              "      flex-wrap:wrap;\n",
              "      gap: 12px;\n",
              "    }\n",
              "\n",
              "    .colab-df-convert {\n",
              "      background-color: #E8F0FE;\n",
              "      border: none;\n",
              "      border-radius: 50%;\n",
              "      cursor: pointer;\n",
              "      display: none;\n",
              "      fill: #1967D2;\n",
              "      height: 32px;\n",
              "      padding: 0 0 0 0;\n",
              "      width: 32px;\n",
              "    }\n",
              "\n",
              "    .colab-df-convert:hover {\n",
              "      background-color: #E2EBFA;\n",
              "      box-shadow: 0px 1px 2px rgba(60, 64, 67, 0.3), 0px 1px 3px 1px rgba(60, 64, 67, 0.15);\n",
              "      fill: #174EA6;\n",
              "    }\n",
              "\n",
              "    [theme=dark] .colab-df-convert {\n",
              "      background-color: #3B4455;\n",
              "      fill: #D2E3FC;\n",
              "    }\n",
              "\n",
              "    [theme=dark] .colab-df-convert:hover {\n",
              "      background-color: #434B5C;\n",
              "      box-shadow: 0px 1px 3px 1px rgba(0, 0, 0, 0.15);\n",
              "      filter: drop-shadow(0px 1px 2px rgba(0, 0, 0, 0.3));\n",
              "      fill: #FFFFFF;\n",
              "    }\n",
              "  </style>\n",
              "\n",
              "      <script>\n",
              "        const buttonEl =\n",
              "          document.querySelector('#df-807e7041-0958-47b2-92da-c33494d22074 button.colab-df-convert');\n",
              "        buttonEl.style.display =\n",
              "          google.colab.kernel.accessAllowed ? 'block' : 'none';\n",
              "\n",
              "        async function convertToInteractive(key) {\n",
              "          const element = document.querySelector('#df-807e7041-0958-47b2-92da-c33494d22074');\n",
              "          const dataTable =\n",
              "            await google.colab.kernel.invokeFunction('convertToInteractive',\n",
              "                                                     [key], {});\n",
              "          if (!dataTable) return;\n",
              "\n",
              "          const docLinkHtml = 'Like what you see? Visit the ' +\n",
              "            '<a target=\"_blank\" href=https://colab.research.google.com/notebooks/data_table.ipynb>data table notebook</a>'\n",
              "            + ' to learn more about interactive tables.';\n",
              "          element.innerHTML = '';\n",
              "          dataTable['output_type'] = 'display_data';\n",
              "          await google.colab.output.renderOutput(dataTable, element);\n",
              "          const docLink = document.createElement('div');\n",
              "          docLink.innerHTML = docLinkHtml;\n",
              "          element.appendChild(docLink);\n",
              "        }\n",
              "      </script>\n",
              "    </div>\n",
              "  </div>\n",
              "  "
            ]
          },
          "metadata": {},
          "execution_count": 57
        }
      ]
    },
    {
      "cell_type": "code",
      "source": [
        "# 검색 상호작용 딕셔너리 생성\n",
        "search_dict = {}\n",
        "for i in tqdm(search['profile_id'].unique()):\n",
        "  search_dict[i] = list(search[search['profile_id']== i]['album_id'].values)"
      ],
      "metadata": {
        "colab": {
          "base_uri": "https://localhost:8080/",
          "height": 49,
          "referenced_widgets": [
            "24034242e4ee4b5cbe59dc6285bf39b8",
            "fc1bc83c4c344c4aaa09d87d285bed48",
            "f49cf83d19974a36b8feeb739856386f",
            "bb7cd1f38a4f44b2a229800161955a9c",
            "41794e13bf384ad2bbac304342701736",
            "12fe113f627840dc877fefb6e3eb73d3",
            "64618bc8dfea4936b1842abe389cb47c",
            "bb7f4808babf4f71baf161780ad46347",
            "8a2cb1633b064b3d84780c9d1fb571a9",
            "6b40e98e78ce42f19c41ea0c6be3df14",
            "ebfbb03887ca44b29848e84e3db6a87b"
          ]
        },
        "id": "60gM856o3yzw",
        "outputId": "af1f61e5-e57f-4cad-dd7e-20fcc4c13f8a"
      },
      "execution_count": null,
      "outputs": [
        {
          "output_type": "display_data",
          "data": {
            "text/plain": [
              "  0%|          | 0/644 [00:00<?, ?it/s]"
            ],
            "application/vnd.jupyter.widget-view+json": {
              "version_major": 2,
              "version_minor": 0,
              "model_id": "24034242e4ee4b5cbe59dc6285bf39b8"
            }
          },
          "metadata": {}
        }
      ]
    },
    {
      "cell_type": "code",
      "source": [
        "buy = buy_df[['profile_id','album_id','payment']]\n",
        "buy['payment'].value_counts()"
      ],
      "metadata": {
        "colab": {
          "base_uri": "https://localhost:8080/"
        },
        "id": "EXnNXoUE6QW-",
        "outputId": "b78ed39f-55ae-4d68-976a-0ae3a68ee8c8"
      },
      "execution_count": null,
      "outputs": [
        {
          "output_type": "execute_result",
          "data": {
            "text/plain": [
              "500     63\n",
              "300     52\n",
              "1200    16\n",
              "700      6\n",
              "1400     4\n",
              "2500     4\n",
              "6300     2\n",
              "1500     2\n",
              "4200     1\n",
              "Name: payment, dtype: int64"
            ]
          },
          "metadata": {},
          "execution_count": 60
        }
      ]
    },
    {
      "cell_type": "code",
      "source": [
        "# 구매 상호작용 딕셔너리 생성\n",
        "buy_dict = {}\n",
        "for i in tqdm(buy['profile_id'].unique()):\n",
        "  buy_dict[i] = list(buy[buy['profile_id']== i]['album_id'].values)"
      ],
      "metadata": {
        "colab": {
          "base_uri": "https://localhost:8080/",
          "height": 49,
          "referenced_widgets": [
            "da8f294bd99148898a6c4dbad8d31f6d",
            "64afb93ab2b64612a22c1535620065ad",
            "2cdb4878f31e4859bfd57efe74a6ee32",
            "161c2f3c59de41ac911cff543b152c14",
            "7886685d4b0742319c55926d8d2b8b49",
            "c048c1b70358429c888ffbf395ab6d88",
            "2871983d4d974a2280688d99ea9173a7",
            "973785409e7440b789877346f272a9a8",
            "143da443302b49e3a9d20653360625df",
            "7893a80d3c1949ac853a8d4c7be6c5c2",
            "935fd5c6539a4760bab5e853bae58293"
          ]
        },
        "id": "qG8UkV2u6JeT",
        "outputId": "6e98db0b-4ccd-4146-9b6e-184b300c6b8e"
      },
      "execution_count": null,
      "outputs": [
        {
          "output_type": "display_data",
          "data": {
            "text/plain": [
              "  0%|          | 0/17 [00:00<?, ?it/s]"
            ],
            "application/vnd.jupyter.widget-view+json": {
              "version_major": 2,
              "version_minor": 0,
              "model_id": "da8f294bd99148898a6c4dbad8d31f6d"
            }
          },
          "metadata": {}
        }
      ]
    },
    {
      "cell_type": "code",
      "source": [
        "# 상호작용 특징 정보 추출\n",
        "\n",
        "ui = df[]\n",
        "\n",
        "# ui_features_pay = df[['payment']].to_dict()\n",
        "# ui_features_sear = df[['sear']].to_dict()\n"
      ],
      "metadata": {
        "id": "BTLgrC8n1YT5"
      },
      "execution_count": null,
      "outputs": []
    },
    {
      "cell_type": "code",
      "execution_count": null,
      "metadata": {
        "id": "4aSyvncgpIgF"
      },
      "outputs": [],
      "source": [
        "# 추출한 특징 정보의 속성을 저장 \n",
        "cfg.n_genres = meta_df['genre_mid'].nunique()\n",
        "cfg.n_sex = df['sex'].nunique()\n",
        "cfg.n_search = 2\n",
        "cfg.n_continuous_feats = 4 "
      ]
    },
    {
      "cell_type": "markdown",
      "metadata": {
        "id": "REzvMyWZYU1S"
      },
      "source": [
        "## NeuMF 구현\n",
        "\n",
        "\n",
        "### 모델 구현 \n",
        "- [Neural Collaborative Filtering(NCF)](https://arxiv.org/pdf/1708.05031.pdf) 논문의 NeuMF를 참고하여 side-information을 결합한 모델을 PyTorch로 구현\n",
        "    - continuous feature (age)와 categorical feature (genre_mid)를 같이 학습할 수 있도록 결합"
      ]
    },
    {
      "cell_type": "markdown",
      "metadata": {
        "id": "l246btDqpIgG"
      },
      "source": [
        "![](http://drive.google.com/uc?export=view&id=1tpajTLipLoFdvLICO-alAxeoKAE8-k61)"
      ]
    },
    {
      "cell_type": "code",
      "execution_count": null,
      "metadata": {
        "colab": {
          "base_uri": "https://localhost:8080/"
        },
        "id": "GEk4VKs4WuEH",
        "outputId": "ec5ef101-8358-470b-d7a6-ceb278e46dd8"
      },
      "outputs": [
        {
          "output_type": "execute_result",
          "data": {
            "text/plain": [
              "Index(['log_time', 'album_id', 'sex', 'age', 'genre_mid', 'run_time', 'views'], dtype='object')"
            ]
          },
          "metadata": {},
          "execution_count": 28
        }
      ],
      "source": [
        "df.columns"
      ]
    },
    {
      "cell_type": "code",
      "execution_count": null,
      "metadata": {
        "id": "hWOt2J5nYU1U"
      },
      "outputs": [],
      "source": [
        "class NeuMF(nn.Module):\n",
        "    \"\"\"Neural Matrix Factorization Model\n",
        "        참고 문헌 : https://arxiv.org/abs/1708.05031\n",
        "\n",
        "    예시 :\n",
        "        model = NeuMF(cfg) \n",
        "        output = model.forward(user_ids, item_ids, [feat0, feat1]) \n",
        "    \"\"\"\n",
        "    def __init__(self, cfg):\n",
        "        \"\"\" \n",
        "        Args:\n",
        "            cfg : config 파일로 네트워크 생성에 필요한 정보들을 담고 있음 \n",
        "        \"\"\"\n",
        "        super(NeuMF, self).__init__()\n",
        "        self.n_users = cfg.n_users\n",
        "        self.n_items = cfg.n_items\n",
        "        self.emb_dim = cfg.emb_dim\n",
        "        self.layer_dim = cfg.layer_dim\n",
        "        self.n_continuous_feats = cfg.n_continuous_feats\n",
        "        self.n_genres = cfg.n_genres\n",
        "        self.n_sex = cfg.n_sex\n",
        "        self.n_search = cfg.n_search\n",
        "        self.dropout = cfg.dropout\n",
        "        self.build_graph()\n",
        "\n",
        "    def build_graph(self):\n",
        "        \"\"\"Neural Matrix Factorization Model 생성\n",
        "            구현된 모습은 위의 그림을 참고 \n",
        "        \"\"\"\n",
        "        # mf용 유저임베딩 - 유저 임베딩 수 == 유저 cfg 수, 임베딩 차원 수 == 256 \n",
        "        self.user_embedding_mf = nn.Embedding(num_embeddings=self.n_users, embedding_dim=self.emb_dim)\n",
        "        self.item_embedding_mf = nn.Embedding(num_embeddings=self.n_items, embedding_dim=self.emb_dim)\n",
        "        \n",
        "        # mlp 용 유저 임베딩, 차원 수도 동일한 방법\n",
        "        self.user_embedding_mlp = nn.Embedding(num_embeddings=self.n_users, embedding_dim=self.emb_dim)\n",
        "        self.item_embedding_mlp = nn.Embedding(num_embeddings=self.n_items, embedding_dim=self.emb_dim)\n",
        "                \n",
        "        # mlp 용 특성 장르 임베딩도 설정\n",
        "        self.genre_embeddig = nn.Embedding(num_embeddings=self.n_genres, embedding_dim=self.n_genres//2)\n",
        "        # mlp 용 특성 성별 임베딩도 설정\n",
        "        self.sex_embeddig = nn.Embedding(num_embeddings=self.n_sex, embedding_dim=self.n_sex//2)\n",
        "        # mlp 용 특성 search 임베딩 설정\n",
        "        self.search_embedding = nn.Embedding(num_embeddings=self.n_search, embedding_dim=self.n_search//2)\n",
        "        \n",
        "        # mlp 레이어 - 시퀜셜 모델로 생성\n",
        "        self.mlp_layers = nn.Sequential(\n",
        "            # 첫번째 인자값은 input size, 두번째 인자값은 output size이다\n",
        "            nn.Linear(2*self.emb_dim + self.n_genres//2 + self.n_sex//2 + self.n_search//2 + self.n_continuous_feats, self.layer_dim), \n",
        "            nn.ReLU(), \n",
        "            nn.Dropout(p=self.dropout), \n",
        "            nn.Linear(self.layer_dim, self.layer_dim//2), \n",
        "            nn.ReLU(), \n",
        "            nn.Dropout(p=self.dropout)\n",
        "        )\n",
        "        \n",
        "        self.affine_output = nn.Linear(self.layer_dim//2 + self.emb_dim, 1)\n",
        "        self.apply(self._init_weights)\n",
        "        \n",
        "\n",
        "    def _init_weights(self, module):\n",
        "        if isinstance(module, nn.Embedding):\n",
        "            normal_(module.weight.data, mean=0.0, std=0.01)\n",
        "        elif isinstance(module, nn.Linear):\n",
        "            normal_(module.weight.data, 0, 0.01)\n",
        "            if module.bias is not None:\n",
        "                module.bias.data.fill_(0.0)\n",
        "    \n",
        "    def forward(self, user_indices, item_indices, feats):\n",
        "        \"\"\" \n",
        "        Args:\n",
        "            user_indices : 유저의 인덱스 정보 \n",
        "                ex) tensor([ 3100,  3100,  ..., 14195, 14195])\n",
        "            item_indices : 아이템의 인덱스 정보\n",
        "                ex) tensor([   50,    65,   ..., 14960, 11527])\n",
        "            feats : 특징 정보 \n",
        "        Returns: \n",
        "            output : 유저-아이템 쌍에 대한 추천 결과 \n",
        "                ex) tensor([  9.4966,  22.0261, ..., -19.3535, -23.0212])\n",
        "        \"\"\"\n",
        "        # 임베딩 진행\n",
        "        user_embedding_mf = self.user_embedding_mf(user_indices)\n",
        "        item_embedding_mf = self.item_embedding_mf(item_indices)\n",
        "        mf_output = torch.mul(user_embedding_mf, item_embedding_mf)\n",
        "        \n",
        "        user_embedding_mlp = self.user_embedding_mlp(user_indices)\n",
        "        item_embedding_mlp = self.item_embedding_mlp(item_indices)\n",
        "        genre_embedding_mlp = self.genre_embeddig(feats[3])\n",
        "\n",
        "        \n",
        "        #성별 임베딩 추가\n",
        "        sex_embedding_mlp = self.sex_embeddig(feats[2])\n",
        "\n",
        "        #검색여부 임베딩 추가\n",
        "        search_embedding_mlp = self.search_embedding(feats[5])\n",
        "        input_feature = torch.cat((user_embedding_mlp, item_embedding_mlp, genre_embedding_mlp, sex_embedding_mlp, search_embedding_mlp, feats[0].unsqueeze(1), feats[1].unsqueeze(1),feats[4].unsqueeze(1), feats[6].unsqueeze(1)), -1)\n",
        "        mlp_output = self.mlp_layers(input_feature)\n",
        "        \n",
        "        output = torch.cat([mlp_output, mf_output], dim=-1)\n",
        "        output = self.affine_output(output).squeeze(-1)\n",
        "        return output"
      ]
    },
    {
      "cell_type": "markdown",
      "metadata": {
        "id": "hE7ZtudJYU1V"
      },
      "source": [
        "### 학습 및 추론 코드 구현\n",
        "\n",
        "- 학습 : Negative sampling을 활용하여 Binary Classification 진행 \n",
        "    - history 에 있는 album_id는 positive label로 그렇지 않은 album_id는 nagative label로 활용  \n",
        "    - 단, 이때 모든 album_id를 negative label로 활용하는 것이 아닌 일부만 사용 (neg_ratio 값에 따라서 개수 조정)\n",
        "- 추론 : 일부 데이터에 대해 recall, ndcg, coverage 성능 확인"
      ]
    },
    {
      "cell_type": "markdown",
      "metadata": {
        "id": "RGTiX3PsYU1V"
      },
      "source": [
        "#### 학습 및 추론에 필요한 데이터 셋 생성 코드 구현"
      ]
    },
    {
      "cell_type": "code",
      "source": [
        "item_features['genre_mid']"
      ],
      "metadata": {
        "id": "7VH8C2vpBvQN"
      },
      "execution_count": null,
      "outputs": []
    },
    {
      "cell_type": "code",
      "execution_count": null,
      "metadata": {
        "id": "umvMsViZpIgI"
      },
      "outputs": [],
      "source": [
        "def make_UIdataset(train, neg_ratio):\n",
        "    \"\"\" 유저별 학습에 필요한 딕셔너리 데이터 생성 \n",
        "    Args:\n",
        "        train : 유저-아이템의 상호작용을 담은 행렬 \n",
        "            ex) \n",
        "                array([[0., 0., 0., ..., 0., 0., 0.],\n",
        "                        [0., 0., 0., ..., 0., 0., 0.],\n",
        "                        [0., 0., 0., ..., 0., 0., 0.],\n",
        "                        ...,\n",
        "                        [0., 0., 0., ..., 0., 0., 0.],\n",
        "                        [0., 0., 0., ..., 0., 0., 0.],\n",
        "                        [0., 0., 0., ..., 0., 0., 0.]])\n",
        "        neg_ratio : negative sampling 활용할 비율 \n",
        "            ex) 3 (positive label 1개당 negative label 3개)\n",
        "    Returns: \n",
        "        UIdataset : 유저별 학습에 필요한 정보를 담은 딕셔너리 \n",
        "            ex) {'사용자 ID': [[positive 샘플, negative 샘플], ... , [1, 1, 1, ..., 0, 0]]}\n",
        "                >>> UIdataset[3]\n",
        "                    [array([   16,    17,    18, ...,  9586, 18991,  9442]),\n",
        "                    array([5, 5, 5, ..., 5, 5, 5]),\n",
        "                    array([4, 4, 4, ..., 5, 1, 1]),\n",
        "                    array([1., 1., 1., ..., 0., 0., 0.])]\n",
        "    \"\"\"\n",
        "    UIdataset = {}\n",
        "    for user_id, items_by_user in enumerate(train):\n",
        "        UIdataset[user_id] = []\n",
        "        # positive 샘플 계산 \n",
        "        # pos item은 0.5 이상인 것들의 index를 찾아 출력\n",
        "        pos_item_ids = np.where(items_by_user > 0.5)[0]\n",
        "        # pos 샘플 개수\n",
        "        num_pos_samples = len(pos_item_ids)\n",
        "\n",
        "        # negative 샘플 계산 (random negative sampling)\n",
        "        # neg 샘플 개수 \n",
        "        num_neg_samples = neg_ratio * num_pos_samples\n",
        "        neg_items = np.where(items_by_user < 0.5)[0]\n",
        "        # neg 샘플 중 랜덤 초이스\n",
        "        neg_item_ids = np.random.choice(neg_items, min(num_neg_samples, len(neg_items)), replace=False)\n",
        "        # pos, neg 샘플 짝지어서 UIdataset에 넣기\n",
        "        UIdataset[user_id].append(np.concatenate([pos_item_ids, neg_item_ids]))\n",
        "        \n",
        "        # feature 추출 \n",
        "        features_age = []\n",
        "        features_views = []\n",
        "        features_sex = []\n",
        "\n",
        "        # pos, neg 쌍을 하나씩 뽑고,\n",
        "        for item_id in np.concatenate([pos_item_ids, neg_item_ids]): \n",
        "            # user_features의 user에 따른 나이를 features에 넣기\n",
        "            features_age.append(user_features['age'][user_id])  # float\n",
        "            features_views.append(user_features_views['views'][user_id])  # float\n",
        "            features_sex.append(user_features_sex['sex'][user_id])  # long\n",
        "        #나이 정보 순서를 append해서 모든 쌍에 추가해주기\n",
        "        UIdataset[user_id].append(np.array(features_age))\n",
        "        UIdataset[user_id].append(np.array(features_views))\n",
        "        UIdataset[user_id].append(np.array(features_sex))\n",
        "\n",
        "        features_genre = []\n",
        "        features_run = []\n",
        "        features_search = []\n",
        "        features_payment = []\n",
        "        # pos와 neg 일렬 리스트로 변환\n",
        "        for item_id in np.concatenate([pos_item_ids, neg_item_ids]): \n",
        "            # item_features의 item에 따른 장르를 features에 넣기\n",
        "            features_genre.append(item_features['genre_mid'][item_id])  # long\n",
        "            features_run.append(item_features_run['run_time'][item_id]) # float\n",
        "            if user_id in search_dict:\n",
        "              if item_id in search_dict[user_id]:\n",
        "                features_search.append(1)\n",
        "              else:\n",
        "                features_search.append(0)\n",
        "            else:\n",
        "              features_search.append(0)\n",
        "            if user_id in buy_dict:\n",
        "              if item_id in buy_dict[user_id]:\n",
        "                features_payment.append(int(buy[(buy['profile_id']==user_id)&(buy['album_id']==item_id)]['album_id'].unique()[0]))\n",
        "              else:\n",
        "                features_payment.append(0)\n",
        "            else: \n",
        "              features_payment.append(0)\n",
        "        #장르 정보를 append해서 모든 쌍에 추가해주기 -> 상호작용에 feature가 추가된것임\n",
        "        UIdataset[user_id].append(np.array(features_genre))\n",
        "        UIdataset[user_id].append(np.array(features_run))\n",
        "        UIdataset[user_id].append(np.array(features_search))\n",
        "        UIdataset[user_id].append(np.array(features_payment))\n",
        "\n",
        "        # label 저장  \n",
        "        pos_labels = np.ones(len(pos_item_ids))\n",
        "        neg_labels = np.zeros(len(neg_item_ids))\n",
        "        UIdataset[user_id].append(np.concatenate([pos_labels, neg_labels]))\n",
        "\n",
        "    return UIdataset"
      ]
    },
    {
      "cell_type": "code",
      "execution_count": null,
      "metadata": {
        "id": "MjnyPZqYpIgI"
      },
      "outputs": [],
      "source": [
        "UIdataset = make_UIdataset(train, neg_ratio=cfg.neg_ratio)"
      ]
    },
    {
      "cell_type": "code",
      "source": [
        "UIdataset[3]"
      ],
      "metadata": {
        "colab": {
          "base_uri": "https://localhost:8080/"
        },
        "id": "nrpgaM0NC896",
        "outputId": "e80c91ae-097f-4610-f330-2cd9e6711b6a"
      },
      "execution_count": null,
      "outputs": [
        {
          "output_type": "execute_result",
          "data": {
            "text/plain": [
              "[array([   16,    17,    18, ...,  7343,  8615, 22028]),\n",
              " array([5, 5, 5, ..., 5, 5, 5]),\n",
              " array([23, 23, 23, ..., 23, 23, 23]),\n",
              " array([0, 0, 0, ..., 0, 0, 0]),\n",
              " array([ 1,  1,  1, ..., 10,  5, 17]),\n",
              " array([ 660,  660,  660, ...,  731,  463, 1004]),\n",
              " array([0, 0, 0, ..., 0, 0, 0]),\n",
              " array([0, 0, 0, ..., 0, 0, 0]),\n",
              " array([1., 1., 1., ..., 0., 0., 0.])]"
            ]
          },
          "metadata": {},
          "execution_count": 88
        }
      ]
    },
    {
      "cell_type": "code",
      "execution_count": null,
      "metadata": {
        "id": "tP1N8nYrpIgJ"
      },
      "outputs": [],
      "source": [
        "def make_batchdata(user_indices, batch_idx, batch_size):\n",
        "    \"\"\" 배치 데이터로 변환 \n",
        "    Args:\n",
        "        user_indices : 전체 유저의 인덱스 정보 \n",
        "            ex) array([ 3100,  1800, 30098, ...,  2177, 11749, 20962])\n",
        "        batch_idx : 배치 인덱스 (몇번째 배치인지)\n",
        "            ex) 0 \n",
        "        batch_size : 배치 크기 \n",
        "            ex) 256 \n",
        "    Returns \n",
        "        batch_user_ids : 배치내의 유저 인덱스 정보 \n",
        "            ex) [22194, 22194, 22194, 22194, 22194, ...]\n",
        "        batch_item_ids : 배치내의 아이템 인덱스 정보 \n",
        "            ex) [36, 407, 612, 801, 1404, ...]\n",
        "        batch_feat0 : 배치내의 유저-아이템 인덱스 정보에 해당하는 feature0 정보 \n",
        "            ex) [6, 6, 6, 6, 6, ...]\n",
        "        batch_feat1 : 배치내의 유저-아이템 인덱스 정보에 해당하는 feature1 정보 \n",
        "            ex) [4,  4,  4, 23,  4, ...]\n",
        "        batch_labels : 배치내의 유저-아이템 인덱스 정보에 해당하는 label 정보 \n",
        "            ex) [1.0, 1.0, 1.0, 1.0, 1.0, ...]\n",
        "    \"\"\"\n",
        "    batch_user_indices = user_indices[batch_idx*batch_size : (batch_idx+1)*batch_size]\n",
        "    batch_user_ids = []\n",
        "    batch_item_ids = []\n",
        "    batch_feat0 = []  # age\n",
        "    batch_feat1 = []  # views\n",
        "    batch_feat2 = []  # sex \n",
        "    batch_feat3 = []  # genre\n",
        "    batch_feat4 = []  # runtime\n",
        "    batch_feat5 = []  # runtime\n",
        "    batch_feat6 = []  # runtime\n",
        "    batch_labels = [] # label\n",
        "    for user_id in batch_user_indices:\n",
        "        item_ids = UIdataset[user_id][0]\n",
        "        feat0 = UIdataset[user_id][1]\n",
        "        feat1 = UIdataset[user_id][2]\n",
        "        feat2 = UIdataset[user_id][3]\n",
        "        feat3 = UIdataset[user_id][4]\n",
        "        feat4 = UIdataset[user_id][5]\n",
        "        feat5 = UIdataset[user_id][6]\n",
        "        feat6 = UIdataset[user_id][7]                \n",
        "        labels = UIdataset[user_id][8]\n",
        "        user_ids = np.full(len(item_ids), user_id)  # 모든 값을 user_id로 통일\n",
        "        batch_user_ids.extend(user_ids.tolist())\n",
        "        batch_item_ids.extend(item_ids.tolist())\n",
        "        batch_feat0.extend(feat0.tolist())\n",
        "        batch_feat1.extend(feat1.tolist())\n",
        "        batch_feat2.extend(feat2.tolist())\n",
        "        batch_feat3.extend(feat3.tolist())\n",
        "        batch_feat4.extend(feat4.tolist())      \n",
        "        batch_feat5.extend(feat5.tolist())   \n",
        "        batch_feat6.extend(feat6.tolist())   \n",
        "        batch_labels.extend(labels.tolist())\n",
        "    return batch_user_ids, batch_item_ids, batch_feat0, batch_feat1, batch_feat2, batch_feat3, batch_feat4,batch_feat5, batch_feat6, batch_labels\n",
        "\n",
        "def update_avg(curr_avg, val, idx):\n",
        "    \"\"\" 현재 epoch 까지의 평균 값을 계산 \n",
        "    \"\"\"\n",
        "    return (curr_avg * idx + val) / (idx + 1)"
      ]
    },
    {
      "cell_type": "markdown",
      "metadata": {
        "id": "WOTiWFV-pIgJ"
      },
      "source": [
        "#### 학습 및 검증 코드 생성"
      ]
    },
    {
      "cell_type": "code",
      "execution_count": null,
      "metadata": {
        "id": "dS1EPRpeYU1W"
      },
      "outputs": [],
      "source": [
        "def train_epoch(cfg, model, optimizer, criterion): \n",
        "    model.train()\n",
        "    curr_loss_avg = 0.0\n",
        "\n",
        "    user_indices = np.arange(cfg.n_users)\n",
        "    np.random.RandomState(cfg.epoch).shuffle(user_indices)\n",
        "    \n",
        "    batch_num = int(len(user_indices) / cfg.batch_size) + 1\n",
        "    bar = tqdm(range(batch_num), leave=False)\n",
        "    for step, batch_idx in enumerate(bar):\n",
        "        user_ids, item_ids, feat0, feat1,feat2, feat3, feat4,feat5, feat6, labels = make_batchdata(user_indices, batch_idx, cfg.batch_size)\n",
        "        # 배치 사용자 단위로 학습\n",
        "        user_ids = torch.LongTensor(user_ids).to(cfg.device)\n",
        "        item_ids = torch.LongTensor(item_ids).to(cfg.device)\n",
        "        feat0 = torch.FloatTensor(feat0).to(cfg.device)\n",
        "        feat1 = torch.FloatTensor(feat1).to(cfg.device)\n",
        "        feat2 = torch.LongTensor(feat2).to(cfg.device)\n",
        "        feat3 = torch.LongTensor(feat3).to(cfg.device)\n",
        "        feat4 = torch.FloatTensor(feat4).to(cfg.device)\n",
        "        feat5 = torch.LongTensor(feat5).to(cfg.device)\n",
        "        feat6 = torch.FloatTensor(feat6).to(cfg.device)\n",
        "        labels = torch.FloatTensor(labels).to(cfg.device)\n",
        "        labels = labels.view(-1, 1)\n",
        "\n",
        "        # grad 초기화\n",
        "        optimizer.zero_grad()\n",
        "\n",
        "        # 모델 forward\n",
        "        output = model.forward(user_ids, item_ids, [feat0, feat1, feat2, feat3, feat4, feat5, feat6])\n",
        "        output = output.view(-1, 1)\n",
        "\n",
        "        loss = criterion(output, labels)\n",
        "\n",
        "        # 역전파\n",
        "        loss.backward()\n",
        "\n",
        "        # 최적화\n",
        "        optimizer.step()    \n",
        "        if torch.isnan(loss):\n",
        "            print('Loss NAN. Train finish.')\n",
        "            break\n",
        "        curr_loss_avg = update_avg(curr_loss_avg, loss, step)\n",
        "        \n",
        "        msg = f\"epoch: {cfg.epoch}, \"\n",
        "        msg += f\"loss: {curr_loss_avg.item():.5f}, \"\n",
        "        msg += f\"lr: {optimizer.param_groups[0]['lr']:.6f}\"\n",
        "        bar.set_description(msg)\n",
        "    rets = {'losses': np.around(curr_loss_avg.item(), 5)}\n",
        "    return rets"
      ]
    },
    {
      "cell_type": "code",
      "execution_count": null,
      "metadata": {
        "id": "HS86whCspIgK"
      },
      "outputs": [],
      "source": [
        "def recallk(actual, predicted, k = 25):\n",
        "    \"\"\" label과 prediction 사이의 recall 평가 함수 \n",
        "    Args:\n",
        "        actual : 실제로 본 상품 리스트\n",
        "        pred : 예측한 상품 리스트\n",
        "        k : 상위 몇개의 데이터를 볼지 (ex : k=5 상위 5개의 상품만 봄)\n",
        "    Returns: \n",
        "        recall_k : recall@k \n",
        "    \"\"\" \n",
        "    set_actual = set(actual)\n",
        "    recall_k = len(set_actual & set(predicted[:k])) / min(k, len(set_actual))\n",
        "    return recall_k\n",
        "\n",
        "def unique(sequence):\n",
        "    # preserves order\n",
        "    seen = set()\n",
        "    return [x for x in sequence if not (x in seen or seen.add(x))]\n",
        "\n",
        "def ndcgk(actual, predicted, k = 25):\n",
        "    set_actual = set(actual)\n",
        "    idcg = sum([1.0 / np.log(i + 2) for i in range(min(k, len(set_actual)))])\n",
        "    dcg = 0.0\n",
        "    unique_predicted = unique(predicted[:k])\n",
        "    for i, r in enumerate(unique_predicted):\n",
        "        if r in set_actual:\n",
        "            dcg += 1.0 / np.log(i + 2)\n",
        "    ndcg_k = dcg / idcg\n",
        "    return ndcg_k\n",
        "\n",
        "def evaluation(gt, pred):\n",
        "    \"\"\" label과 prediction 사이의 recall, coverage, competition metric 평가 함수 \n",
        "    Args:\n",
        "        gt : 데이터 프레임 형태의 정답 데이터 \n",
        "        pred : 데이터 프레임 형태의 예측 데이터 \n",
        "    Returns: \n",
        "        rets : recall, ndcg, coverage, competition metric 결과 \n",
        "            ex) {'recall': 0.123024, 'ndcg': 056809, 'coverage': 0.017455, 'score': 0.106470}\n",
        "    \"\"\"    \n",
        "    gt = gt.groupby('profile_id')['album_id'].unique().to_frame().reset_index()\n",
        "    gt.columns = ['profile_id', 'actual_list']\n",
        "\n",
        "    evaluated_data = pd.merge(pred, gt, how = 'left', on = 'profile_id')\n",
        "\n",
        "    evaluated_data['Recall@25'] = evaluated_data.apply(lambda x: recallk(x.actual_list, x.predicted_list), axis=1)\n",
        "    evaluated_data['NDCG@25'] = evaluated_data.apply(lambda x: ndcgk(x.actual_list, x.predicted_list), axis=1)\n",
        "\n",
        "    recall = evaluated_data['Recall@25'].mean()\n",
        "    ndcg = evaluated_data['NDCG@25'] .mean()\n",
        "    coverage = (evaluated_data['predicted_list'].apply(lambda x: x[:cfg.top_k]).explode().nunique())/meta_df.index.nunique()\n",
        "\n",
        "    score = 0.75*recall + 0.25*ndcg\n",
        "    rets = {\"recall\" :recall, \n",
        "            \"ndcg\" :ndcg, \n",
        "            \"coverage\" :coverage, \n",
        "            \"score\" :score}\n",
        "    return rets"
      ]
    },
    {
      "cell_type": "code",
      "execution_count": null,
      "metadata": {
        "id": "0VtryMV2CO_y"
      },
      "outputs": [],
      "source": [
        "query_user_ids = df.reset_index()['profile_id'].unique()"
      ]
    },
    {
      "cell_type": "code",
      "execution_count": null,
      "metadata": {
        "id": "QvloQnZVCSki"
      },
      "outputs": [],
      "source": [
        "full_item_ids = np.array([c for c in range(cfg.n_items)])\n",
        "full_item_ids_feat3 = [item_features['genre_mid'][c] for c in full_item_ids]\n",
        "full_item_ids_feat4 = [item_features_run['run_time'][c] for c in full_item_ids]"
      ]
    },
    {
      "cell_type": "code",
      "execution_count": null,
      "metadata": {
        "id": "FQgUJbTOYU1X"
      },
      "outputs": [],
      "source": [
        "def valid_epoch(cfg, model, data, mode='valid'):\n",
        "    pred_list = []\n",
        "    model.eval()\n",
        "    \n",
        "    query_user_ids = data['profile_id'].unique() # 추론할 모든 user array 집합\n",
        "    full_item_ids = np.array([c for c in range(cfg.n_items)]) # 추론할 모든 item array 집합 \n",
        "    # full_item_ids_feat1 = [item_features['genre_mid'][c] for c in full_item_ids]\n",
        "    full_item_ids_feat3 = [item_features['genre_mid'][c] for c in full_item_ids]\n",
        "    full_item_ids_feat4 = [item_features_run['run_time'][c] for c in full_item_ids]\n",
        "    for user_id in query_user_ids:\n",
        "        # 텐서에 연산 기록을 중지하고, 학습된 모델로 inference하는 과정\n",
        "        with torch.no_grad():\n",
        "            user_ids = np.full(cfg.n_items, user_id)\n",
        "            \n",
        "            user_ids = torch.LongTensor(user_ids).to(cfg.device)\n",
        "            item_ids = torch.LongTensor(full_item_ids).to(cfg.device)\n",
        "            \n",
        "            feat0 = np.full(cfg.n_items, user_features['age'][user_id])\n",
        "            feat0 = torch.FloatTensor(feat0).to(cfg.device)\n",
        "            feat1 = np.full(cfg.n_items, user_features_views['views'][user_id])\n",
        "            feat1 = torch.FloatTensor(feat1).to(cfg.device)\n",
        "            feat2 = np.full(cfg.n_items, user_features_sex['sex'][user_id])\n",
        "            feat2 = torch.LongTensor(feat2).to(cfg.device)\n",
        "            feat3 = torch.LongTensor(full_item_ids_feat3).to(cfg.device)\n",
        "            feat4 = torch.FloatTensor(full_item_ids_feat4).to(cfg.device)\n",
        "            # detach로 validation set에 대한 그래프 history 차단 후 inference\n",
        "            feat5_lst = []\n",
        "            feat6_lst = []  \n",
        "            for iid in full_item_ids:            \n",
        "              if user_id in search_dict:\n",
        "                if iid in search_dict[user_id]:\n",
        "                  feat5_lst.append(1)\n",
        "                else:\n",
        "                  feat5_lst.append(0)\n",
        "              else:\n",
        "                feat5_lst = np.zeros(cfg.n_items)\n",
        "              \n",
        "              if user_id in buy_dict:\n",
        "                if iid in buy_dict[user_id]:\n",
        "                  feat6_lst.append(int(buy[(buy['profile_id']==user_id)&(buy['album_id']==iid)]['album_id'].unique()[0]))\n",
        "                else:\n",
        "                  feat6_lst.append(0)\n",
        "              else:\n",
        "                feat6_lst = np.zeros(cfg.n_items)\n",
        "            feat5 = torch.LongTensor(feat5).to(cfg.device)\n",
        "            feat6 - torch.FloatTensor(feat6).to(cfg.device)\n",
        "            eval_output = model.forward(user_ids, item_ids, [feat0, feat1, feat2, feat3, feat4, feat5, feat6]).detach().cpu().numpy()\n",
        "            pred_u_score = eval_output.reshape(-1)   \n",
        "        \n",
        "\n",
        "        pred_u_idx = np.argsort(pred_u_score)[::-1]         # 최종 스코어 높은 순서대로 인덱스 뽑기\n",
        "        pred_u = full_item_ids[pred_u_idx]                  # 전체 아이템 중에서 스코어가 높은 인덱스들 뽑아 리스트 가져오기\n",
        "        pred_list.append(list(pred_u[:cfg.top_k]))          # top_k개 만큼을 pred_list에 넣기\n",
        "        \n",
        "    pred = pd.DataFrame()\n",
        "    pred['profile_id'] = query_user_ids\n",
        "    pred['predicted_list'] = pred_list\n",
        "    \n",
        "    # 모델 성능 확인 \n",
        "    if mode == 'valid':\n",
        "        rets = evaluation(data, pred)\n",
        "        return rets, pred\n",
        "    return pred"
      ]
    },
    {
      "cell_type": "markdown",
      "metadata": {
        "id": "CDrQisYVpIgM"
      },
      "source": [
        "## 모델 학습"
      ]
    },
    {
      "cell_type": "markdown",
      "metadata": {
        "id": "n-D5bJx7YU1X"
      },
      "source": [
        "### 하이퍼파라미터 설정 & 최적화 기법 설정"
      ]
    },
    {
      "cell_type": "code",
      "execution_count": null,
      "metadata": {
        "id": "FIoMO8VmpIgM"
      },
      "outputs": [],
      "source": [
        "# 하이퍼 파라미터 설정 \n",
        "cfg.batch_size = 256\n",
        "cfg.emb_dim = 256\n",
        "cfg.layer_dim = 256\n",
        "cfg.dropout = 0.05\n",
        "cfg.epochs = 10\n",
        "cfg.learning_rate = 0.0025\n",
        "cfg.reg_lambda = 0\n",
        "cfg.check_epoch = 1"
      ]
    },
    {
      "cell_type": "code",
      "execution_count": null,
      "metadata": {
        "id": "qM_eRn4TpIgM"
      },
      "outputs": [],
      "source": [
        "# model 생성 및 optimizer, loss 함수 설정 \n",
        "model1 = NeuMF(cfg).to(cfg.device)\n",
        "optimizer = torch.optim.Adam(model1.parameters(), lr=cfg.learning_rate, weight_decay=cfg.reg_lambda)\n",
        "criterion = torch.nn.BCEWithLogitsLoss(reduction='sum')"
      ]
    },
    {
      "cell_type": "markdown",
      "metadata": {
        "id": "Eze0e7vtYU1Y"
      },
      "source": [
        "### 학습 진행"
      ]
    },
    {
      "cell_type": "code",
      "execution_count": null,
      "metadata": {
        "id": "cvhj3hD7YU1Y",
        "scrolled": true
      },
      "outputs": [],
      "source": [
        "total_logs = defaultdict(list)\n",
        "best_scores  = 0\n",
        "for epoch in range(cfg.epochs+1):\n",
        "    cfg.epoch = epoch\n",
        "    train_results = train_epoch(cfg, model1, optimizer, criterion)\n",
        "    \n",
        "    # cfg.check_epoch 번의 epoch 마다 성능 확인 \n",
        "    if epoch % cfg.check_epoch == 0: \n",
        "        valid_results, _ = valid_epoch(cfg, model1, valid)\n",
        "\n",
        "        logs = {\n",
        "            'Train Loss': train_results['losses'],\n",
        "            f'Valid Recall@{cfg.top_k}': valid_results['recall'],\n",
        "            f'Valid NDCG@{cfg.top_k}': valid_results['ndcg'],\n",
        "            'Valid Coverage': valid_results['coverage'],\n",
        "            'Valid Score': valid_results['score'],\n",
        "            }\n",
        "\n",
        "        # 검증 성능 확인 \n",
        "        for key, value in logs.items():\n",
        "            total_logs[key].append(value)\n",
        "\n",
        "        if epoch == 0:\n",
        "            print(\"Epoch\", end=\",\")\n",
        "            print(\",\".join(logs.keys()))\n",
        "\n",
        "        print(f\"{epoch:02d}  \", end=\"\")\n",
        "        print(\"  \".join([f\"{v:0.6f}\" for v in logs.values()]))\n",
        "        \n",
        "        # 가장 성능이 좋은 가중치 파일을 저장 \n",
        "        if best_scores <= valid_results['score']: \n",
        "            best_scores = valid_results['score']\n",
        "            torch.save(model1.state_dict(), os.path.join('/content/drive/MyDrive/code/saved', 'model1(best_scores).pth'))"
      ]
    },
    {
      "cell_type": "markdown",
      "metadata": {
        "id": "UNVpn37RYU1Z"
      },
      "source": [
        "### 학습 과정 시각화"
      ]
    },
    {
      "cell_type": "code",
      "execution_count": null,
      "metadata": {
        "id": "BgMKJhFopIgO"
      },
      "outputs": [],
      "source": [
        "train_scores = pd.DataFrame({'Train loss': total_logs['Train Loss']})\n",
        "train_scores['Epoch'] = range(0, cfg.epochs+1, cfg.check_epoch)"
      ]
    },
    {
      "cell_type": "code",
      "execution_count": null,
      "metadata": {
        "colab": {
          "base_uri": "https://localhost:8080/",
          "height": 465
        },
        "id": "pc38iyoQpIgO",
        "outputId": "1d004953-e99d-4e5c-f1c2-deeb48fee911"
      },
      "outputs": [
        {
          "output_type": "display_data",
          "data": {
            "text/plain": [
              "<Figure size 640x480 with 1 Axes>"
            ],
            "image/png": "[encoded data removed]"
          },
          "metadata": {}
        },
        {
          "output_type": "execute_result",
          "data": {
            "text/plain": [
              "<ggplot: (8785218158029)>"
            ]
          },
          "metadata": {},
          "execution_count": 73
        }
      ],
      "source": [
        "(\n",
        "    ggplot(train_scores, aes(x='Epoch', y='Train loss'))+ geom_line(color='black') # line plot\n",
        "        + labs(x='Epoch', y='Train Loss')\n",
        "        + theme_light()\n",
        ")"
      ]
    },
    {
      "cell_type": "code",
      "execution_count": null,
      "metadata": {
        "id": "Lt8WpRwqpIgO"
      },
      "outputs": [],
      "source": [
        "valid_scores = pd.DataFrame(np.hstack([(range(0, cfg.epochs+1, cfg.check_epoch), total_logs[score], [score for i in range(0, cfg.epochs+1, cfg.check_epoch)]) for score in ['Valid Recall@25', 'Valid NDCG@25', 'Valid Coverage', 'Valid Score']])).T\n",
        "valid_scores.columns = ['Epoch', 'Score', 'Metric']\n",
        "valid_scores['Epoch'] = valid_scores['Epoch'].astype(int)\n",
        "valid_scores['Score'] = valid_scores['Score'].astype(float)"
      ]
    },
    {
      "cell_type": "code",
      "execution_count": null,
      "metadata": {
        "colab": {
          "base_uri": "https://localhost:8080/",
          "height": 465
        },
        "id": "xTh8QRBwpIgP",
        "outputId": "76ce797a-65c7-4964-9fac-ebe94c451b60"
      },
      "outputs": [
        {
          "output_type": "display_data",
          "data": {
            "text/plain": [
              "<Figure size 640x480 with 1 Axes>"
            ],
            "image/png": "[encoded data removed]"
          },
          "metadata": {}
        },
        {
          "output_type": "execute_result",
          "data": {
            "text/plain": [
              "<ggplot: (8785690054369)>"
            ]
          },
          "metadata": {},
          "execution_count": 75
        }
      ],
      "source": [
        "(\n",
        "ggplot(valid_scores)  # here\n",
        "    + aes(\"Epoch\", \"Score\", color='Metric', group='Metric')\n",
        "    + geom_line()\n",
        "    + scale_y_continuous(breaks=[0.1*c for c in range(1, 10, 1)])\n",
        "    + theme_light()\n",
        "    + labs(x='Epoch', y='Valid Metric')\n",
        ")  "
      ]
    },
    {
      "cell_type": "markdown",
      "metadata": {
        "id": "NWl3yvtlpIgP"
      },
      "source": [
        "## 제출 \n",
        "### 모든 유저에 대해 추천 결과 생성"
      ]
    },
    {
      "cell_type": "code",
      "execution_count": null,
      "metadata": {
        "id": "-JgaNDg6pIgP",
        "scrolled": true,
        "colab": {
          "base_uri": "https://localhost:8080/"
        },
        "outputId": "8a0966e7-642b-4589-972c-b734227e9ffa"
      },
      "outputs": [
        {
          "output_type": "execute_result",
          "data": {
            "text/plain": [
              "<All keys matched successfully>"
            ]
          },
          "metadata": {},
          "execution_count": 76
        }
      ],
      "source": [
        "model.load_state_dict(torch.load(os.path.join('/content/drive/MyDrive/code/saved', 'model(best_scores).pth')))"
      ]
    },
    {
      "cell_type": "code",
      "execution_count": null,
      "metadata": {
        "id": "cN7aSROUpIgQ"
      },
      "outputs": [],
      "source": [
        "submission_path = os.path.join('/content/drive/MyDrive/data', 'sample_submission.csv')\n",
        "submission = pd.read_csv(submission_path)\n",
        "submission = valid_epoch(cfg, model, submission, mode='test')"
      ]
    },
    {
      "cell_type": "markdown",
      "metadata": {
        "id": "nEBDKg9opIgQ"
      },
      "source": [
        "### 저장"
      ]
    },
    {
      "cell_type": "code",
      "execution_count": null,
      "metadata": {
        "id": "6N2Gv9J6pIgQ"
      },
      "outputs": [],
      "source": [
        "submission.to_csv(os.path.join('/content', 'submission1.csv'), index = False)"
      ]
    },
    {
      "cell_type": "code",
      "source": [
        "valid.shape"
      ],
      "metadata": {
        "colab": {
          "base_uri": "https://localhost:8080/"
        },
        "id": "IW0zWp9XvEqI",
        "outputId": "49f43289-6604-4174-d035-2c89feb3fe9a"
      },
      "execution_count": null,
      "outputs": [
        {
          "output_type": "execute_result",
          "data": {
            "text/plain": [
              "(179851, 4)"
            ]
          },
          "metadata": {},
          "execution_count": 191
        }
      ]
    },
    {
      "cell_type": "code",
      "source": [],
      "metadata": {
        "id": "gZgpZEZmvULd"
      },
      "execution_count": null,
      "outputs": []
    },
    {
      "cell_type": "code",
      "source": [
        "df.columns"
      ],
      "metadata": {
        "colab": {
          "base_uri": "https://localhost:8080/"
        },
        "id": "_flkPMnvvUKJ",
        "outputId": "1e0bcc3d-9d49-4cbe-9045-ba1378d88cfc"
      },
      "execution_count": null,
      "outputs": [
        {
          "output_type": "execute_result",
          "data": {
            "text/plain": [
              "Index(['log_time', 'album_id', 'sex', 'age', 'title', 'sub_title',\n",
              "       'genre_large', 'genre_mid', 'genre_small', 'country', 'run_time',\n",
              "       'onair_date', 'cast_1', 'cast_2', 'cast_3', 'cast_4', 'cast_5',\n",
              "       'cast_6', 'cast_7', 'views'],\n",
              "      dtype='object')"
            ]
          },
          "metadata": {},
          "execution_count": 193
        }
      ]
    },
    {
      "cell_type": "code",
      "source": [
        "valid_df = pd.merge(valid, df[['profile_id','views']], \"left\", on = 'profile_id')\n",
        "valid_df.shape"
      ],
      "metadata": {
        "id": "CUW1e7D6uWLM"
      },
      "execution_count": null,
      "outputs": []
    },
    {
      "cell_type": "code",
      "execution_count": null,
      "metadata": {
        "id": "1UO3lk2kqZPs"
      },
      "outputs": [],
      "source": [
        "val_pred = valid_epoch(cfg, model, valid)"
      ]
    },
    {
      "cell_type": "code",
      "source": [
        "from sklearn.metrics import classification_report, confusion_matrix\n",
        "\n",
        "classification_report(val_pred)"
      ],
      "metadata": {
        "id": "NEghtperue6d"
      },
      "execution_count": null,
      "outputs": []
    }
  ],
  "metadata": {
    "accelerator": "GPU",
    "colab": {
      "machine_shape": "hm",
      "provenance": [],
      "authorship_tag": "ABX9TyPq7/HMFndlG8DYOisVdMr1",
      "include_colab_link": true
    },
    "gpuClass": "standard",
    "kernelspec": {
      "display_name": "Python 3",
      "name": "python3"
    },
    "language_info": {
      "name": "python"
    },
    "widgets": {
      "application/vnd.jupyter.widget-state+json": {
        "b8b8222d512b4a09a2aed346fdf0dac4": {
          "model_module": "@jupyter-widgets/controls",
          "model_name": "HBoxModel",
          "model_module_version": "1.5.0",
          "state": {
            "_dom_classes": [],
            "_model_module": "@jupyter-widgets/controls",
            "_model_module_version": "1.5.0",
            "_model_name": "HBoxModel",
            "_view_count": null,
            "_view_module": "@jupyter-widgets/controls",
            "_view_module_version": "1.5.0",
            "_view_name": "HBoxView",
            "box_style": "",
            "children": [
              "IPY_MODEL_cc04e46f5f4f4abc984967fe1f64ea27",
              "IPY_MODEL_0149743fcbd148c3906bb6db9346b929",
              "IPY_MODEL_bb9e43a89a1f42019805ccce2b543cb2"
            ],
            "layout": "IPY_MODEL_4d7d0f58f13c48c2ac9edee160a868c9"
          }
        },
        "cc04e46f5f4f4abc984967fe1f64ea27": {
          "model_module": "@jupyter-widgets/controls",
          "model_name": "HTMLModel",
          "model_module_version": "1.5.0",
          "state": {
            "_dom_classes": [],
            "_model_module": "@jupyter-widgets/controls",
            "_model_module_version": "1.5.0",
            "_model_name": "HTMLModel",
            "_view_count": null,
            "_view_module": "@jupyter-widgets/controls",
            "_view_module_version": "1.5.0",
            "_view_name": "HTMLView",
            "description": "",
            "description_tooltip": null,
            "layout": "IPY_MODEL_617e18d15b20421590d719298ce97d99",
            "placeholder": "​",
            "style": "IPY_MODEL_45b594d591de4aea80bdd6b4282f2bcc",
            "value": "100%"
          }
        },
        "0149743fcbd148c3906bb6db9346b929": {
          "model_module": "@jupyter-widgets/controls",
          "model_name": "FloatProgressModel",
          "model_module_version": "1.5.0",
          "state": {
            "_dom_classes": [],
            "_model_module": "@jupyter-widgets/controls",
            "_model_module_version": "1.5.0",
            "_model_name": "FloatProgressModel",
            "_view_count": null,
            "_view_module": "@jupyter-widgets/controls",
            "_view_module_version": "1.5.0",
            "_view_name": "ProgressView",
            "bar_style": "success",
            "description": "",
            "description_tooltip": null,
            "layout": "IPY_MODEL_b10102f518e049fd983ce4cec459ec35",
            "max": 719401,
            "min": 0,
            "orientation": "horizontal",
            "style": "IPY_MODEL_d38d90b85ce5476a992042a91ca7cfa0",
            "value": 719401
          }
        },
        "bb9e43a89a1f42019805ccce2b543cb2": {
          "model_module": "@jupyter-widgets/controls",
          "model_name": "HTMLModel",
          "model_module_version": "1.5.0",
          "state": {
            "_dom_classes": [],
            "_model_module": "@jupyter-widgets/controls",
            "_model_module_version": "1.5.0",
            "_model_name": "HTMLModel",
            "_view_count": null,
            "_view_module": "@jupyter-widgets/controls",
            "_view_module_version": "1.5.0",
            "_view_name": "HTMLView",
            "description": "",
            "description_tooltip": null,
            "layout": "IPY_MODEL_420b0b8819a54d9baf7a84abdb757d76",
            "placeholder": "​",
            "style": "IPY_MODEL_a4f2ad509e3b40ad8223cd3571739b4a",
            "value": " 719401/719401 [00:04&lt;00:00, 174243.98it/s]"
          }
        },
        "4d7d0f58f13c48c2ac9edee160a868c9": {
          "model_module": "@jupyter-widgets/base",
          "model_name": "LayoutModel",
          "model_module_version": "1.2.0",
          "state": {
            "_model_module": "@jupyter-widgets/base",
            "_model_module_version": "1.2.0",
            "_model_name": "LayoutModel",
            "_view_count": null,
            "_view_module": "@jupyter-widgets/base",
            "_view_module_version": "1.2.0",
            "_view_name": "LayoutView",
            "align_content": null,
            "align_items": null,
            "align_self": null,
            "border": null,
            "bottom": null,
            "display": null,
            "flex": null,
            "flex_flow": null,
            "grid_area": null,
            "grid_auto_columns": null,
            "grid_auto_flow": null,
            "grid_auto_rows": null,
            "grid_column": null,
            "grid_gap": null,
            "grid_row": null,
            "grid_template_areas": null,
            "grid_template_columns": null,
            "grid_template_rows": null,
            "height": null,
            "justify_content": null,
            "justify_items": null,
            "left": null,
            "margin": null,
            "max_height": null,
            "max_width": null,
            "min_height": null,
            "min_width": null,
            "object_fit": null,
            "object_position": null,
            "order": null,
            "overflow": null,
            "overflow_x": null,
            "overflow_y": null,
            "padding": null,
            "right": null,
            "top": null,
            "visibility": null,
            "width": null
          }
        },
        "617e18d15b20421590d719298ce97d99": {
          "model_module": "@jupyter-widgets/base",
          "model_name": "LayoutModel",
          "model_module_version": "1.2.0",
          "state": {
            "_model_module": "@jupyter-widgets/base",
            "_model_module_version": "1.2.0",
            "_model_name": "LayoutModel",
            "_view_count": null,
            "_view_module": "@jupyter-widgets/base",
            "_view_module_version": "1.2.0",
            "_view_name": "LayoutView",
            "align_content": null,
            "align_items": null,
            "align_self": null,
            "border": null,
            "bottom": null,
            "display": null,
            "flex": null,
            "flex_flow": null,
            "grid_area": null,
            "grid_auto_columns": null,
            "grid_auto_flow": null,
            "grid_auto_rows": null,
            "grid_column": null,
            "grid_gap": null,
            "grid_row": null,
            "grid_template_areas": null,
            "grid_template_columns": null,
            "grid_template_rows": null,
            "height": null,
            "justify_content": null,
            "justify_items": null,
            "left": null,
            "margin": null,
            "max_height": null,
            "max_width": null,
            "min_height": null,
            "min_width": null,
            "object_fit": null,
            "object_position": null,
            "order": null,
            "overflow": null,
            "overflow_x": null,
            "overflow_y": null,
            "padding": null,
            "right": null,
            "top": null,
            "visibility": null,
            "width": null
          }
        },
        "45b594d591de4aea80bdd6b4282f2bcc": {
          "model_module": "@jupyter-widgets/controls",
          "model_name": "DescriptionStyleModel",
          "model_module_version": "1.5.0",
          "state": {
            "_model_module": "@jupyter-widgets/controls",
            "_model_module_version": "1.5.0",
            "_model_name": "DescriptionStyleModel",
            "_view_count": null,
            "_view_module": "@jupyter-widgets/base",
            "_view_module_version": "1.2.0",
            "_view_name": "StyleView",
            "description_width": ""
          }
        },
        "b10102f518e049fd983ce4cec459ec35": {
          "model_module": "@jupyter-widgets/base",
          "model_name": "LayoutModel",
          "model_module_version": "1.2.0",
          "state": {
            "_model_module": "@jupyter-widgets/base",
            "_model_module_version": "1.2.0",
            "_model_name": "LayoutModel",
            "_view_count": null,
            "_view_module": "@jupyter-widgets/base",
            "_view_module_version": "1.2.0",
            "_view_name": "LayoutView",
            "align_content": null,
            "align_items": null,
            "align_self": null,
            "border": null,
            "bottom": null,
            "display": null,
            "flex": null,
            "flex_flow": null,
            "grid_area": null,
            "grid_auto_columns": null,
            "grid_auto_flow": null,
            "grid_auto_rows": null,
            "grid_column": null,
            "grid_gap": null,
            "grid_row": null,
            "grid_template_areas": null,
            "grid_template_columns": null,
            "grid_template_rows": null,
            "height": null,
            "justify_content": null,
            "justify_items": null,
            "left": null,
            "margin": null,
            "max_height": null,
            "max_width": null,
            "min_height": null,
            "min_width": null,
            "object_fit": null,
            "object_position": null,
            "order": null,
            "overflow": null,
            "overflow_x": null,
            "overflow_y": null,
            "padding": null,
            "right": null,
            "top": null,
            "visibility": null,
            "width": null
          }
        },
        "d38d90b85ce5476a992042a91ca7cfa0": {
          "model_module": "@jupyter-widgets/controls",
          "model_name": "ProgressStyleModel",
          "model_module_version": "1.5.0",
          "state": {
            "_model_module": "@jupyter-widgets/controls",
            "_model_module_version": "1.5.0",
            "_model_name": "ProgressStyleModel",
            "_view_count": null,
            "_view_module": "@jupyter-widgets/base",
            "_view_module_version": "1.2.0",
            "_view_name": "StyleView",
            "bar_color": null,
            "description_width": ""
          }
        },
        "420b0b8819a54d9baf7a84abdb757d76": {
          "model_module": "@jupyter-widgets/base",
          "model_name": "LayoutModel",
          "model_module_version": "1.2.0",
          "state": {
            "_model_module": "@jupyter-widgets/base",
            "_model_module_version": "1.2.0",
            "_model_name": "LayoutModel",
            "_view_count": null,
            "_view_module": "@jupyter-widgets/base",
            "_view_module_version": "1.2.0",
            "_view_name": "LayoutView",
            "align_content": null,
            "align_items": null,
            "align_self": null,
            "border": null,
            "bottom": null,
            "display": null,
            "flex": null,
            "flex_flow": null,
            "grid_area": null,
            "grid_auto_columns": null,
            "grid_auto_flow": null,
            "grid_auto_rows": null,
            "grid_column": null,
            "grid_gap": null,
            "grid_row": null,
            "grid_template_areas": null,
            "grid_template_columns": null,
            "grid_template_rows": null,
            "height": null,
            "justify_content": null,
            "justify_items": null,
            "left": null,
            "margin": null,
            "max_height": null,
            "max_width": null,
            "min_height": null,
            "min_width": null,
            "object_fit": null,
            "object_position": null,
            "order": null,
            "overflow": null,
            "overflow_x": null,
            "overflow_y": null,
            "padding": null,
            "right": null,
            "top": null,
            "visibility": null,
            "width": null
          }
        },
        "a4f2ad509e3b40ad8223cd3571739b4a": {
          "model_module": "@jupyter-widgets/controls",
          "model_name": "DescriptionStyleModel",
          "model_module_version": "1.5.0",
          "state": {
            "_model_module": "@jupyter-widgets/controls",
            "_model_module_version": "1.5.0",
            "_model_name": "DescriptionStyleModel",
            "_view_count": null,
            "_view_module": "@jupyter-widgets/base",
            "_view_module_version": "1.2.0",
            "_view_name": "StyleView",
            "description_width": ""
          }
        },
        "24034242e4ee4b5cbe59dc6285bf39b8": {
          "model_module": "@jupyter-widgets/controls",
          "model_name": "HBoxModel",
          "model_module_version": "1.5.0",
          "state": {
            "_dom_classes": [],
            "_model_module": "@jupyter-widgets/controls",
            "_model_module_version": "1.5.0",
            "_model_name": "HBoxModel",
            "_view_count": null,
            "_view_module": "@jupyter-widgets/controls",
            "_view_module_version": "1.5.0",
            "_view_name": "HBoxView",
            "box_style": "",
            "children": [
              "IPY_MODEL_fc1bc83c4c344c4aaa09d87d285bed48",
              "IPY_MODEL_f49cf83d19974a36b8feeb739856386f",
              "IPY_MODEL_bb7cd1f38a4f44b2a229800161955a9c"
            ],
            "layout": "IPY_MODEL_41794e13bf384ad2bbac304342701736"
          }
        },
        "fc1bc83c4c344c4aaa09d87d285bed48": {
          "model_module": "@jupyter-widgets/controls",
          "model_name": "HTMLModel",
          "model_module_version": "1.5.0",
          "state": {
            "_dom_classes": [],
            "_model_module": "@jupyter-widgets/controls",
            "_model_module_version": "1.5.0",
            "_model_name": "HTMLModel",
            "_view_count": null,
            "_view_module": "@jupyter-widgets/controls",
            "_view_module_version": "1.5.0",
            "_view_name": "HTMLView",
            "description": "",
            "description_tooltip": null,
            "layout": "IPY_MODEL_12fe113f627840dc877fefb6e3eb73d3",
            "placeholder": "​",
            "style": "IPY_MODEL_64618bc8dfea4936b1842abe389cb47c",
            "value": "100%"
          }
        },
        "f49cf83d19974a36b8feeb739856386f": {
          "model_module": "@jupyter-widgets/controls",
          "model_name": "FloatProgressModel",
          "model_module_version": "1.5.0",
          "state": {
            "_dom_classes": [],
            "_model_module": "@jupyter-widgets/controls",
            "_model_module_version": "1.5.0",
            "_model_name": "FloatProgressModel",
            "_view_count": null,
            "_view_module": "@jupyter-widgets/controls",
            "_view_module_version": "1.5.0",
            "_view_name": "ProgressView",
            "bar_style": "success",
            "description": "",
            "description_tooltip": null,
            "layout": "IPY_MODEL_bb7f4808babf4f71baf161780ad46347",
            "max": 644,
            "min": 0,
            "orientation": "horizontal",
            "style": "IPY_MODEL_8a2cb1633b064b3d84780c9d1fb571a9",
            "value": 644
          }
        },
        "bb7cd1f38a4f44b2a229800161955a9c": {
          "model_module": "@jupyter-widgets/controls",
          "model_name": "HTMLModel",
          "model_module_version": "1.5.0",
          "state": {
            "_dom_classes": [],
            "_model_module": "@jupyter-widgets/controls",
            "_model_module_version": "1.5.0",
            "_model_name": "HTMLModel",
            "_view_count": null,
            "_view_module": "@jupyter-widgets/controls",
            "_view_module_version": "1.5.0",
            "_view_name": "HTMLView",
            "description": "",
            "description_tooltip": null,
            "layout": "IPY_MODEL_6b40e98e78ce42f19c41ea0c6be3df14",
            "placeholder": "​",
            "style": "IPY_MODEL_ebfbb03887ca44b29848e84e3db6a87b",
            "value": " 644/644 [00:00&lt;00:00, 2348.59it/s]"
          }
        },
        "41794e13bf384ad2bbac304342701736": {
          "model_module": "@jupyter-widgets/base",
          "model_name": "LayoutModel",
          "model_module_version": "1.2.0",
          "state": {
            "_model_module": "@jupyter-widgets/base",
            "_model_module_version": "1.2.0",
            "_model_name": "LayoutModel",
            "_view_count": null,
            "_view_module": "@jupyter-widgets/base",
            "_view_module_version": "1.2.0",
            "_view_name": "LayoutView",
            "align_content": null,
            "align_items": null,
            "align_self": null,
            "border": null,
            "bottom": null,
            "display": null,
            "flex": null,
            "flex_flow": null,
            "grid_area": null,
            "grid_auto_columns": null,
            "grid_auto_flow": null,
            "grid_auto_rows": null,
            "grid_column": null,
            "grid_gap": null,
            "grid_row": null,
            "grid_template_areas": null,
            "grid_template_columns": null,
            "grid_template_rows": null,
            "height": null,
            "justify_content": null,
            "justify_items": null,
            "left": null,
            "margin": null,
            "max_height": null,
            "max_width": null,
            "min_height": null,
            "min_width": null,
            "object_fit": null,
            "object_position": null,
            "order": null,
            "overflow": null,
            "overflow_x": null,
            "overflow_y": null,
            "padding": null,
            "right": null,
            "top": null,
            "visibility": null,
            "width": null
          }
        },
        "12fe113f627840dc877fefb6e3eb73d3": {
          "model_module": "@jupyter-widgets/base",
          "model_name": "LayoutModel",
          "model_module_version": "1.2.0",
          "state": {
            "_model_module": "@jupyter-widgets/base",
            "_model_module_version": "1.2.0",
            "_model_name": "LayoutModel",
            "_view_count": null,
            "_view_module": "@jupyter-widgets/base",
            "_view_module_version": "1.2.0",
            "_view_name": "LayoutView",
            "align_content": null,
            "align_items": null,
            "align_self": null,
            "border": null,
            "bottom": null,
            "display": null,
            "flex": null,
            "flex_flow": null,
            "grid_area": null,
            "grid_auto_columns": null,
            "grid_auto_flow": null,
            "grid_auto_rows": null,
            "grid_column": null,
            "grid_gap": null,
            "grid_row": null,
            "grid_template_areas": null,
            "grid_template_columns": null,
            "grid_template_rows": null,
            "height": null,
            "justify_content": null,
            "justify_items": null,
            "left": null,
            "margin": null,
            "max_height": null,
            "max_width": null,
            "min_height": null,
            "min_width": null,
            "object_fit": null,
            "object_position": null,
            "order": null,
            "overflow": null,
            "overflow_x": null,
            "overflow_y": null,
            "padding": null,
            "right": null,
            "top": null,
            "visibility": null,
            "width": null
          }
        },
        "64618bc8dfea4936b1842abe389cb47c": {
          "model_module": "@jupyter-widgets/controls",
          "model_name": "DescriptionStyleModel",
          "model_module_version": "1.5.0",
          "state": {
            "_model_module": "@jupyter-widgets/controls",
            "_model_module_version": "1.5.0",
            "_model_name": "DescriptionStyleModel",
            "_view_count": null,
            "_view_module": "@jupyter-widgets/base",
            "_view_module_version": "1.2.0",
            "_view_name": "StyleView",
            "description_width": ""
          }
        },
        "bb7f4808babf4f71baf161780ad46347": {
          "model_module": "@jupyter-widgets/base",
          "model_name": "LayoutModel",
          "model_module_version": "1.2.0",
          "state": {
            "_model_module": "@jupyter-widgets/base",
            "_model_module_version": "1.2.0",
            "_model_name": "LayoutModel",
            "_view_count": null,
            "_view_module": "@jupyter-widgets/base",
            "_view_module_version": "1.2.0",
            "_view_name": "LayoutView",
            "align_content": null,
            "align_items": null,
            "align_self": null,
            "border": null,
            "bottom": null,
            "display": null,
            "flex": null,
            "flex_flow": null,
            "grid_area": null,
            "grid_auto_columns": null,
            "grid_auto_flow": null,
            "grid_auto_rows": null,
            "grid_column": null,
            "grid_gap": null,
            "grid_row": null,
            "grid_template_areas": null,
            "grid_template_columns": null,
            "grid_template_rows": null,
            "height": null,
            "justify_content": null,
            "justify_items": null,
            "left": null,
            "margin": null,
            "max_height": null,
            "max_width": null,
            "min_height": null,
            "min_width": null,
            "object_fit": null,
            "object_position": null,
            "order": null,
            "overflow": null,
            "overflow_x": null,
            "overflow_y": null,
            "padding": null,
            "right": null,
            "top": null,
            "visibility": null,
            "width": null
          }
        },
        "8a2cb1633b064b3d84780c9d1fb571a9": {
          "model_module": "@jupyter-widgets/controls",
          "model_name": "ProgressStyleModel",
          "model_module_version": "1.5.0",
          "state": {
            "_model_module": "@jupyter-widgets/controls",
            "_model_module_version": "1.5.0",
            "_model_name": "ProgressStyleModel",
            "_view_count": null,
            "_view_module": "@jupyter-widgets/base",
            "_view_module_version": "1.2.0",
            "_view_name": "StyleView",
            "bar_color": null,
            "description_width": ""
          }
        },
        "6b40e98e78ce42f19c41ea0c6be3df14": {
          "model_module": "@jupyter-widgets/base",
          "model_name": "LayoutModel",
          "model_module_version": "1.2.0",
          "state": {
            "_model_module": "@jupyter-widgets/base",
            "_model_module_version": "1.2.0",
            "_model_name": "LayoutModel",
            "_view_count": null,
            "_view_module": "@jupyter-widgets/base",
            "_view_module_version": "1.2.0",
            "_view_name": "LayoutView",
            "align_content": null,
            "align_items": null,
            "align_self": null,
            "border": null,
            "bottom": null,
            "display": null,
            "flex": null,
            "flex_flow": null,
            "grid_area": null,
            "grid_auto_columns": null,
            "grid_auto_flow": null,
            "grid_auto_rows": null,
            "grid_column": null,
            "grid_gap": null,
            "grid_row": null,
            "grid_template_areas": null,
            "grid_template_columns": null,
            "grid_template_rows": null,
            "height": null,
            "justify_content": null,
            "justify_items": null,
            "left": null,
            "margin": null,
            "max_height": null,
            "max_width": null,
            "min_height": null,
            "min_width": null,
            "object_fit": null,
            "object_position": null,
            "order": null,
            "overflow": null,
            "overflow_x": null,
            "overflow_y": null,
            "padding": null,
            "right": null,
            "top": null,
            "visibility": null,
            "width": null
          }
        },
        "ebfbb03887ca44b29848e84e3db6a87b": {
          "model_module": "@jupyter-widgets/controls",
          "model_name": "DescriptionStyleModel",
          "model_module_version": "1.5.0",
          "state": {
            "_model_module": "@jupyter-widgets/controls",
            "_model_module_version": "1.5.0",
            "_model_name": "DescriptionStyleModel",
            "_view_count": null,
            "_view_module": "@jupyter-widgets/base",
            "_view_module_version": "1.2.0",
            "_view_name": "StyleView",
            "description_width": ""
          }
        },
        "da8f294bd99148898a6c4dbad8d31f6d": {
          "model_module": "@jupyter-widgets/controls",
          "model_name": "HBoxModel",
          "model_module_version": "1.5.0",
          "state": {
            "_dom_classes": [],
            "_model_module": "@jupyter-widgets/controls",
            "_model_module_version": "1.5.0",
            "_model_name": "HBoxModel",
            "_view_count": null,
            "_view_module": "@jupyter-widgets/controls",
            "_view_module_version": "1.5.0",
            "_view_name": "HBoxView",
            "box_style": "",
            "children": [
              "IPY_MODEL_64afb93ab2b64612a22c1535620065ad",
              "IPY_MODEL_2cdb4878f31e4859bfd57efe74a6ee32",
              "IPY_MODEL_161c2f3c59de41ac911cff543b152c14"
            ],
            "layout": "IPY_MODEL_7886685d4b0742319c55926d8d2b8b49"
          }
        },
        "64afb93ab2b64612a22c1535620065ad": {
          "model_module": "@jupyter-widgets/controls",
          "model_name": "HTMLModel",
          "model_module_version": "1.5.0",
          "state": {
            "_dom_classes": [],
            "_model_module": "@jupyter-widgets/controls",
            "_model_module_version": "1.5.0",
            "_model_name": "HTMLModel",
            "_view_count": null,
            "_view_module": "@jupyter-widgets/controls",
            "_view_module_version": "1.5.0",
            "_view_name": "HTMLView",
            "description": "",
            "description_tooltip": null,
            "layout": "IPY_MODEL_c048c1b70358429c888ffbf395ab6d88",
            "placeholder": "​",
            "style": "IPY_MODEL_2871983d4d974a2280688d99ea9173a7",
            "value": "100%"
          }
        },
        "2cdb4878f31e4859bfd57efe74a6ee32": {
          "model_module": "@jupyter-widgets/controls",
          "model_name": "FloatProgressModel",
          "model_module_version": "1.5.0",
          "state": {
            "_dom_classes": [],
            "_model_module": "@jupyter-widgets/controls",
            "_model_module_version": "1.5.0",
            "_model_name": "FloatProgressModel",
            "_view_count": null,
            "_view_module": "@jupyter-widgets/controls",
            "_view_module_version": "1.5.0",
            "_view_name": "ProgressView",
            "bar_style": "success",
            "description": "",
            "description_tooltip": null,
            "layout": "IPY_MODEL_973785409e7440b789877346f272a9a8",
            "max": 17,
            "min": 0,
            "orientation": "horizontal",
            "style": "IPY_MODEL_143da443302b49e3a9d20653360625df",
            "value": 17
          }
        },
        "161c2f3c59de41ac911cff543b152c14": {
          "model_module": "@jupyter-widgets/controls",
          "model_name": "HTMLModel",
          "model_module_version": "1.5.0",
          "state": {
            "_dom_classes": [],
            "_model_module": "@jupyter-widgets/controls",
            "_model_module_version": "1.5.0",
            "_model_name": "HTMLModel",
            "_view_count": null,
            "_view_module": "@jupyter-widgets/controls",
            "_view_module_version": "1.5.0",
            "_view_name": "HTMLView",
            "description": "",
            "description_tooltip": null,
            "layout": "IPY_MODEL_7893a80d3c1949ac853a8d4c7be6c5c2",
            "placeholder": "​",
            "style": "IPY_MODEL_935fd5c6539a4760bab5e853bae58293",
            "value": " 17/17 [00:00&lt;00:00, 287.28it/s]"
          }
        },
        "7886685d4b0742319c55926d8d2b8b49": {
          "model_module": "@jupyter-widgets/base",
          "model_name": "LayoutModel",
          "model_module_version": "1.2.0",
          "state": {
            "_model_module": "@jupyter-widgets/base",
            "_model_module_version": "1.2.0",
            "_model_name": "LayoutModel",
            "_view_count": null,
            "_view_module": "@jupyter-widgets/base",
            "_view_module_version": "1.2.0",
            "_view_name": "LayoutView",
            "align_content": null,
            "align_items": null,
            "align_self": null,
            "border": null,
            "bottom": null,
            "display": null,
            "flex": null,
            "flex_flow": null,
            "grid_area": null,
            "grid_auto_columns": null,
            "grid_auto_flow": null,
            "grid_auto_rows": null,
            "grid_column": null,
            "grid_gap": null,
            "grid_row": null,
            "grid_template_areas": null,
            "grid_template_columns": null,
            "grid_template_rows": null,
            "height": null,
            "justify_content": null,
            "justify_items": null,
            "left": null,
            "margin": null,
            "max_height": null,
            "max_width": null,
            "min_height": null,
            "min_width": null,
            "object_fit": null,
            "object_position": null,
            "order": null,
            "overflow": null,
            "overflow_x": null,
            "overflow_y": null,
            "padding": null,
            "right": null,
            "top": null,
            "visibility": null,
            "width": null
          }
        },
        "c048c1b70358429c888ffbf395ab6d88": {
          "model_module": "@jupyter-widgets/base",
          "model_name": "LayoutModel",
          "model_module_version": "1.2.0",
          "state": {
            "_model_module": "@jupyter-widgets/base",
            "_model_module_version": "1.2.0",
            "_model_name": "LayoutModel",
            "_view_count": null,
            "_view_module": "@jupyter-widgets/base",
            "_view_module_version": "1.2.0",
            "_view_name": "LayoutView",
            "align_content": null,
            "align_items": null,
            "align_self": null,
            "border": null,
            "bottom": null,
            "display": null,
            "flex": null,
            "flex_flow": null,
            "grid_area": null,
            "grid_auto_columns": null,
            "grid_auto_flow": null,
            "grid_auto_rows": null,
            "grid_column": null,
            "grid_gap": null,
            "grid_row": null,
            "grid_template_areas": null,
            "grid_template_columns": null,
            "grid_template_rows": null,
            "height": null,
            "justify_content": null,
            "justify_items": null,
            "left": null,
            "margin": null,
            "max_height": null,
            "max_width": null,
            "min_height": null,
            "min_width": null,
            "object_fit": null,
            "object_position": null,
            "order": null,
            "overflow": null,
            "overflow_x": null,
            "overflow_y": null,
            "padding": null,
            "right": null,
            "top": null,
            "visibility": null,
            "width": null
          }
        },
        "2871983d4d974a2280688d99ea9173a7": {
          "model_module": "@jupyter-widgets/controls",
          "model_name": "DescriptionStyleModel",
          "model_module_version": "1.5.0",
          "state": {
            "_model_module": "@jupyter-widgets/controls",
            "_model_module_version": "1.5.0",
            "_model_name": "DescriptionStyleModel",
            "_view_count": null,
            "_view_module": "@jupyter-widgets/base",
            "_view_module_version": "1.2.0",
            "_view_name": "StyleView",
            "description_width": ""
          }
        },
        "973785409e7440b789877346f272a9a8": {
          "model_module": "@jupyter-widgets/base",
          "model_name": "LayoutModel",
          "model_module_version": "1.2.0",
          "state": {
            "_model_module": "@jupyter-widgets/base",
            "_model_module_version": "1.2.0",
            "_model_name": "LayoutModel",
            "_view_count": null,
            "_view_module": "@jupyter-widgets/base",
            "_view_module_version": "1.2.0",
            "_view_name": "LayoutView",
            "align_content": null,
            "align_items": null,
            "align_self": null,
            "border": null,
            "bottom": null,
            "display": null,
            "flex": null,
            "flex_flow": null,
            "grid_area": null,
            "grid_auto_columns": null,
            "grid_auto_flow": null,
            "grid_auto_rows": null,
            "grid_column": null,
            "grid_gap": null,
            "grid_row": null,
            "grid_template_areas": null,
            "grid_template_columns": null,
            "grid_template_rows": null,
            "height": null,
            "justify_content": null,
            "justify_items": null,
            "left": null,
            "margin": null,
            "max_height": null,
            "max_width": null,
            "min_height": null,
            "min_width": null,
            "object_fit": null,
            "object_position": null,
            "order": null,
            "overflow": null,
            "overflow_x": null,
            "overflow_y": null,
            "padding": null,
            "right": null,
            "top": null,
            "visibility": null,
            "width": null
          }
        },
        "143da443302b49e3a9d20653360625df": {
          "model_module": "@jupyter-widgets/controls",
          "model_name": "ProgressStyleModel",
          "model_module_version": "1.5.0",
          "state": {
            "_model_module": "@jupyter-widgets/controls",
            "_model_module_version": "1.5.0",
            "_model_name": "ProgressStyleModel",
            "_view_count": null,
            "_view_module": "@jupyter-widgets/base",
            "_view_module_version": "1.2.0",
            "_view_name": "StyleView",
            "bar_color": null,
            "description_width": ""
          }
        },
        "7893a80d3c1949ac853a8d4c7be6c5c2": {
          "model_module": "@jupyter-widgets/base",
          "model_name": "LayoutModel",
          "model_module_version": "1.2.0",
          "state": {
            "_model_module": "@jupyter-widgets/base",
            "_model_module_version": "1.2.0",
            "_model_name": "LayoutModel",
            "_view_count": null,
            "_view_module": "@jupyter-widgets/base",
            "_view_module_version": "1.2.0",
            "_view_name": "LayoutView",
            "align_content": null,
            "align_items": null,
            "align_self": null,
            "border": null,
            "bottom": null,
            "display": null,
            "flex": null,
            "flex_flow": null,
            "grid_area": null,
            "grid_auto_columns": null,
            "grid_auto_flow": null,
            "grid_auto_rows": null,
            "grid_column": null,
            "grid_gap": null,
            "grid_row": null,
            "grid_template_areas": null,
            "grid_template_columns": null,
            "grid_template_rows": null,
            "height": null,
            "justify_content": null,
            "justify_items": null,
            "left": null,
            "margin": null,
            "max_height": null,
            "max_width": null,
            "min_height": null,
            "min_width": null,
            "object_fit": null,
            "object_position": null,
            "order": null,
            "overflow": null,
            "overflow_x": null,
            "overflow_y": null,
            "padding": null,
            "right": null,
            "top": null,
            "visibility": null,
            "width": null
          }
        },
        "935fd5c6539a4760bab5e853bae58293": {
          "model_module": "@jupyter-widgets/controls",
          "model_name": "DescriptionStyleModel",
          "model_module_version": "1.5.0",
          "state": {
            "_model_module": "@jupyter-widgets/controls",
            "_model_module_version": "1.5.0",
            "_model_name": "DescriptionStyleModel",
            "_view_count": null,
            "_view_module": "@jupyter-widgets/base",
            "_view_module_version": "1.2.0",
            "_view_name": "StyleView",
            "description_width": ""
          }
        }
      }
    }
  },
  "nbformat": 4,
  "nbformat_minor": 0
}